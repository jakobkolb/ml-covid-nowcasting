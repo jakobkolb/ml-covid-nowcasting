{
 "cells": [
  {
   "cell_type": "code",
   "execution_count": 41,
   "metadata": {
    "collapsed": true,
    "pycharm": {
     "name": "#%%\n"
    }
   },
   "outputs": [
    {
     "name": "stdout",
     "output_type": "stream",
     "text": [
      "293292 records from 7276 users present. \n",
      "63515 of which are complete.\n"
     ]
    }
   ],
   "source": [
    "from load_data import loading_and_pre_processing_pipeline\n",
    "import pandas as pd\n",
    "\n",
    "feature_data = loading_and_pre_processing_pipeline()\n",
    "feature_data['test_week_start'] = feature_data['test_week_start'].apply(pd.to_datetime)\n",
    "cleaned_feature_data = feature_data.dropna(axis=0)\n",
    "\n",
    "print(f'{len(feature_data)} records from {len(set(cleaned_feature_data[\"user_id\"].values))} users present. ')\n",
    "print(f'{len(cleaned_feature_data)} of which are complete.')"
   ]
  },
  {
   "cell_type": "code",
   "execution_count": 48,
   "outputs": [
    {
     "name": "stdout",
     "output_type": "stream",
     "text": [
      "DatetimeIndex(['2021-01-04', '2021-01-11', '2021-01-18', '2021-01-25',\n",
      "               '2021-02-01', '2021-02-08', '2021-02-15', '2021-02-22',\n",
      "               '2021-03-01', '2021-03-08', '2021-03-15', '2021-03-22',\n",
      "               '2021-03-29', '2021-04-05', '2021-04-12', '2021-04-19',\n",
      "               '2021-04-26', '2021-05-03', '2021-05-10', '2021-05-17',\n",
      "               '2021-05-24', '2021-05-31', '2021-06-07', '2021-06-14',\n",
      "               '2021-06-21', '2021-06-28', '2021-07-05', '2021-07-12',\n",
      "               '2021-07-19', '2021-07-26', '2021-08-02', '2021-08-09',\n",
      "               '2021-08-16', '2021-08-23', '2021-08-30', '2021-09-06',\n",
      "               '2021-09-13', '2021-09-20', '2021-09-27', '2021-10-04',\n",
      "               '2021-10-11', '2021-10-18', '2021-10-25', '2021-11-01',\n",
      "               '2021-11-08', '2021-11-15', '2021-11-22', '2021-11-29',\n",
      "               '2021-12-06', '2021-12-13', '2021-12-20', '2021-12-27',\n",
      "               '2022-01-03', '2022-01-10', '2022-01-17', '2022-01-24',\n",
      "               '2022-01-31', '2022-02-07', '2022-02-14', '2022-02-21',\n",
      "               '2022-02-28', '2022-03-07', '2022-03-14', '2022-03-21',\n",
      "               '2022-03-28', '2022-04-04', '2022-04-11', '2022-04-18',\n",
      "               '2022-04-25'],\n",
      "              dtype='datetime64[ns]', name='test_week_start', freq=None)\n"
     ]
    }
   ],
   "source": [
    "import ramda as R\n",
    "from datetime import datetime\n",
    "import requests\n",
    "\n",
    "url = 'https://www.rki.de/DE/Content/InfAZ/N/Neuartiges_Coronavirus/Daten/VOC_VOI_Tabelle.xlsx?__blob=publicationFile'\n",
    "omicron_column = 'Omikron_BA.1+BA.1.1+BA.1.1.1+BA.1.1.2+BA.1.1.3+BA.1.1.4+BA.1.1.5+BA.1.1.6+BA.1.1.7+BA.1.1.8+BA.1.1.9+BA.1.1.10+BA.1.1.11+BA.1.1.12+BA.1.1.13+BA.1.1.14+BA.1.1.15+BA.1.1.16+BA.1.1.17+BA.1.1.18+BA.1.2+BA.1.3+BA.1.4+BA.1.5+BA.1.6+BA.1.7+BA.1.8+BA.1.9+BA.1.10+BA.1.12+BA.1.13+BA.1.13.1+BA.1.14+BA.1.14.1+BA.1.14.2+BA.1.15+BA.1.15.1+BA.1.15.2+BA.1.16+BA.1.16.1+BA.1.16.2+BA.1.17+BA.1.17.1+BA.1.17.2+BA.1.18+BA.1.19+BA.1.20+BA.1.21+BA.1.21.1+BA.1.22_Anteil (%)'\n",
    "delta_column = 'Delta_AY.1+AY.2+AY.3+AY.3.1+AY.3.2+AY.3.3+AY.3.4+AY.4+AY.4.1+AY.4.2+AY.4.2.1+AY.4.2.2+AY.4.2.3+AY.4.2.4+AY.4.2.5+AY.4.3+AY.4.4+AY.4.5+AY.4.6+AY.4.7+AY.4.8+AY.4.9+AY.4.10+AY.4.11+AY.4.12+AY.4.13+AY.4.14+AY.4.15+AY.4.16+AY.4.17+AY.5+AY.5.1+AY.5.2+AY.5.3+AY.5.4+AY.5.5+AY.5.6+AY.5.7+AY.6+AY.7+AY.7.1+AY.7.2+AY.8+AY.9+AY.9.2+AY.9.2.1+AY.9.2.2+AY.10+AY.11+AY.13+AY.14+AY.15+AY.16+AY.16.1+AY.17+AY.18+AY.19+AY.20+AY.20.1+AY.21+AY.22+AY.23+AY.23.1+AY.23.2+AY.24+AY.24.1+AY.25+AY.25.1+AY.25.1.1+AY.25.1.2+AY.25.2+AY.25.3+AY.26+AY.26.1+AY.27+AY.28+AY.29+AY.29.1+AY.29.2+AY.30+AY.31+AY.32+AY.33+AY.33.1+AY.33.2+AY.34+AY.34.1+AY.34.1.1+AY.34.2+AY.35+AY.36+AY.36.1+AY.37+AY.38+AY.39+AY.39.1+AY.39.1.1+AY.39.1.2+AY.39.1.3+AY.39.1.4+AY.39.2+AY.39.3+AY.40+AY.41+AY.42+AY.42.1+AY.43+AY.43.1+AY.43.2+AY.43.3+AY.43.4+AY.43.5+AY.43.6+AY.43.7+AY.43.8+AY.43.9+AY.44+AY.45+AY.46+AY.46.1+AY.46.2+AY.46.3+AY.46.4+AY.46.5+AY.46.6+AY.46.6.1+AY.47+AY.48+AY.49+AY.50+AY.51+AY.52+AY.53+AY.54+AY.55+AY.56+AY.57+AY.58+AY.59+AY.60+AY.61+AY.62+AY.63+AY.64+AY.65+AY.66+AY.67+AY.68+AY.69+AY.70+AY.71+AY.72+AY.73+AY.74+AY.75+AY.75.2+AY.75.3+AY.76+AY.77+AY.78+AY.79+AY.80+AY.81+AY.82+AY.83+AY.84+AY.85+AY.86+AY.87+AY.88+AY.90+AY.91+AY.91.1+AY.92+AY.93+AY.94+AY.95+AY.98+AY.98.1+AY.99+AY.99.1+AY.99.2+AY.100+AY.101+AY.102+AY.102.1+AY.102.2+AY.103+AY.103.1+AY.103.2+AY.104+AY.105+AY.106+AY.107+AY.108+AY.109+AY.110+AY.111+AY.112+AY.112.1+AY.112.2+AY.112.3+AY.113+AY.114+AY.116+AY.116.1+AY.117+AY.118+AY.119+AY.119.1+AY.119.2+AY.120+AY.120.1+AY.120.2+AY.120.2.1+AY.121+AY.121.1+AY.122+AY.122.1+AY.122.2+AY.122.3+AY.122.4+AY.122.5+AY.122.6+AY.123+AY.123.1+AY.124+AY.124.1+AY.124.1.1+AY.125+AY.125.1+AY.126+AY.127+AY.127.1+AY.127.2+AY.127.3+AY.128+AY.129+AY.131+AY.132+AY.133+AY.134+B.1.617.2_Anteil (%)'\n",
    "\n",
    "\n",
    "def add_variant_data(feature_data: pd.DataFrame) -> pd.DataFrame:\n",
    "    r = requests.get(url)\n",
    "    with open('tmp.xlsx', 'wb') as file:\n",
    "        file.write(r.content)\n",
    "\n",
    "    variant_data = pd.read_excel('tmp.xlsx', sheet_name='VOC', skipfooter=1)\n",
    "\n",
    "    # parse calendar week to date\n",
    "    variant_data['test_week_start'] = variant_data['KW'].apply(\n",
    "        R.pipe(R.replace('K', ''), lambda d: datetime.strptime(d + '-1', \"%Y-W%W-%w\").date()))\n",
    "\n",
    "    variant_data['test_week_start'] = variant_data['test_week_start'].apply(pd.to_datetime)\n",
    "\n",
    "    print(variant_data[['test_week_start', omicron_column, delta_column]].rename(\n",
    "    columns={omicron_column: 'omicron_share', delta_column: 'delta_share'}).set_index('test_week_start').index)\n",
    "\n",
    "    # upsample variant data to daily values, using linear interpolation\n",
    "    upsampled_variant_data = variant_data[['test_week_start', omicron_column, delta_column]].rename(\n",
    "    columns={omicron_column: 'omicron_share', delta_column: 'delta_share'}).set_index('test_week_start').resample(\n",
    "    'D').interpolate(method='linear').reset_index()\n",
    "\n",
    "    # merge omicron share on other data\n",
    "    return upsampled_variant_data.merge(feature_data, on='test_week_start', how='outer')\n",
    "\n",
    "\n",
    "full_feature_data = add_variant_data(feature_data)"
   ],
   "metadata": {
    "collapsed": false,
    "pycharm": {
     "name": "#%%\n"
    }
   }
  },
  {
   "cell_type": "code",
   "execution_count": 50,
   "outputs": [
    {
     "name": "stdout",
     "output_type": "stream",
     "text": [
      "<class 'pandas.core.frame.DataFrame'>\n",
      "Int64Index: 293524 entries, 0 to 293523\n",
      "Data columns (total 23 columns):\n",
      " #   Column                   Non-Null Count   Dtype         \n",
      "---  ------                   --------------   -----         \n",
      " 0   test_week_start          293524 non-null  datetime64[ns]\n",
      " 1   omicron_share            283447 non-null  float64       \n",
      " 2   delta_share              283447 non-null  float64       \n",
      " 3   user_id                  293292 non-null  float64       \n",
      " 4   rhr_metric               253700 non-null  float64       \n",
      " 5   steps_metric             263091 non-null  float64       \n",
      " 6   sleep_duration_metric    165149 non-null  float64       \n",
      " 7   vaccination_status       224944 non-null  float64       \n",
      " 8   days_since_last_dose     220021 non-null  float64       \n",
      " 9   chills                   286368 non-null  object        \n",
      " 10  body_pain                286368 non-null  object        \n",
      " 11  loss_of_taste_and_smell  286368 non-null  object        \n",
      " 12  fatigue                  285289 non-null  object        \n",
      " 13  cough                    286368 non-null  object        \n",
      " 14  cold                     286368 non-null  object        \n",
      " 15  diarrhea                 286368 non-null  object        \n",
      " 16  sore_throat              286368 non-null  object        \n",
      " 17  asymptomatic             286368 non-null  object        \n",
      " 18  test_result              162682 non-null  object        \n",
      " 19  fittness                 270702 non-null  float64       \n",
      " 20  sex                      271247 non-null  float64       \n",
      " 21  age                      271246 non-null  float64       \n",
      " 22  date                     293292 non-null  datetime64[ns]\n",
      "dtypes: datetime64[ns](2), float64(11), object(10)\n",
      "memory usage: 53.7+ MB\n"
     ]
    }
   ],
   "source": [
    "full_feature_data.info()"
   ],
   "metadata": {
    "collapsed": false,
    "pycharm": {
     "name": "#%%\n"
    }
   }
  },
  {
   "cell_type": "code",
   "execution_count": 43,
   "outputs": [
    {
     "data": {
      "text/plain": "    test_week_start  omicron_share  delta_share\n0        2021-01-04            0.0     0.000000\n1        2021-01-05            0.0     0.028571\n2        2021-01-06            0.0     0.057143\n3        2021-01-07            0.0     0.085714\n4        2021-01-08            0.0     0.114286\n..              ...            ...          ...\n472      2022-04-21            1.6     0.000000\n473      2022-04-22            1.6     0.000000\n474      2022-04-23            1.6     0.000000\n475      2022-04-24            1.6     0.000000\n476      2022-04-25            1.6     0.000000\n\n[477 rows x 3 columns]",
      "text/html": "<div>\n<style scoped>\n    .dataframe tbody tr th:only-of-type {\n        vertical-align: middle;\n    }\n\n    .dataframe tbody tr th {\n        vertical-align: top;\n    }\n\n    .dataframe thead th {\n        text-align: right;\n    }\n</style>\n<table border=\"1\" class=\"dataframe\">\n  <thead>\n    <tr style=\"text-align: right;\">\n      <th></th>\n      <th>test_week_start</th>\n      <th>omicron_share</th>\n      <th>delta_share</th>\n    </tr>\n  </thead>\n  <tbody>\n    <tr>\n      <th>0</th>\n      <td>2021-01-04</td>\n      <td>0.0</td>\n      <td>0.000000</td>\n    </tr>\n    <tr>\n      <th>1</th>\n      <td>2021-01-05</td>\n      <td>0.0</td>\n      <td>0.028571</td>\n    </tr>\n    <tr>\n      <th>2</th>\n      <td>2021-01-06</td>\n      <td>0.0</td>\n      <td>0.057143</td>\n    </tr>\n    <tr>\n      <th>3</th>\n      <td>2021-01-07</td>\n      <td>0.0</td>\n      <td>0.085714</td>\n    </tr>\n    <tr>\n      <th>4</th>\n      <td>2021-01-08</td>\n      <td>0.0</td>\n      <td>0.114286</td>\n    </tr>\n    <tr>\n      <th>...</th>\n      <td>...</td>\n      <td>...</td>\n      <td>...</td>\n    </tr>\n    <tr>\n      <th>472</th>\n      <td>2022-04-21</td>\n      <td>1.6</td>\n      <td>0.000000</td>\n    </tr>\n    <tr>\n      <th>473</th>\n      <td>2022-04-22</td>\n      <td>1.6</td>\n      <td>0.000000</td>\n    </tr>\n    <tr>\n      <th>474</th>\n      <td>2022-04-23</td>\n      <td>1.6</td>\n      <td>0.000000</td>\n    </tr>\n    <tr>\n      <th>475</th>\n      <td>2022-04-24</td>\n      <td>1.6</td>\n      <td>0.000000</td>\n    </tr>\n    <tr>\n      <th>476</th>\n      <td>2022-04-25</td>\n      <td>1.6</td>\n      <td>0.000000</td>\n    </tr>\n  </tbody>\n</table>\n<p>477 rows × 3 columns</p>\n</div>"
     },
     "execution_count": 43,
     "metadata": {},
     "output_type": "execute_result"
    }
   ],
   "source": [
    "r = requests.get(url)\n",
    "with open('tmp.xlsx', 'wb') as file:\n",
    "    file.write(r.content)\n",
    "\n",
    "variant_data = pd.read_excel('tmp.xlsx', sheet_name='VOC', skipfooter=1)\n",
    "\n",
    "# parse calendar week to date\n",
    "variant_data['test_week_start'] = variant_data['KW'].apply(\n",
    "    R.pipe(R.replace('K', ''), lambda d: datetime.strptime(d + '-1', \"%Y-W%W-%w\").date(), pd.to_datetime))\n",
    "\n",
    "upsampled_variant_data = variant_data[['test_week_start', omicron_column, delta_column]].rename(\n",
    "    columns={omicron_column: 'omicron_share', delta_column: 'delta_share'}).set_index('test_week_start').resample(\n",
    "    'D').interpolate(method='linear').reset_index()\n",
    "upsampled_variant_data"
   ],
   "metadata": {
    "collapsed": false,
    "pycharm": {
     "name": "#%%\n"
    }
   }
  },
  {
   "cell_type": "code",
   "execution_count": 44,
   "outputs": [
    {
     "data": {
      "text/plain": "       test_week_start  omicron_share  delta_share   user_id  rhr_metric  \\\n0           2021-01-04            0.0          0.0   26348.0    0.812354   \n1           2021-01-04            0.0          0.0   32077.0   -0.936512   \n2           2021-01-04            0.0          0.0   54279.0    1.362409   \n3           2021-01-04            0.0          0.0   68648.0   -0.329008   \n4           2021-01-04            0.0          0.0   69408.0    0.269898   \n...                ...            ...          ...       ...         ...   \n293519      2022-05-09            NaN          NaN  418359.0    1.093366   \n293520      2022-05-09            NaN          NaN  499978.0    2.591983   \n293521      2022-05-09            NaN          NaN  897860.0    0.000000   \n293522      2022-05-09            NaN          NaN  936606.0    0.298248   \n293523      2022-05-09            NaN          NaN  941626.0    1.600558   \n\n        steps_metric  sleep_duration_metric  vaccination_status  \\\n0          -0.592758                    NaN                 0.0   \n1          -0.344384               1.377666                 0.0   \n2                NaN                    NaN                 0.0   \n3          -0.220081               0.531772                 0.0   \n4          -0.871581                    NaN                 0.0   \n...              ...                    ...                 ...   \n293519      0.558457                    NaN                 3.0   \n293520      0.773239              -0.962384                 NaN   \n293521      0.273662              -0.543618                 NaN   \n293522     -0.337632                    NaN                 3.0   \n293523      0.830809              -0.260905                 3.0   \n\n        days_since_last_dose chills  ...  cough   cold diarrhea sore_throat  \\\n0                        NaN   None  ...   None   None     None        None   \n1                        NaN   None  ...   None   None     None        None   \n2                        NaN   None  ...   None   None     None        None   \n3                        NaN   None  ...   None   None     None        None   \n4                        NaN   None  ...   None   None     None        None   \n...                      ...    ...  ...    ...    ...      ...         ...   \n293519                 159.0  False  ...  False  False    False       False   \n293520                   NaN  False  ...  False  False    False       False   \n293521                   NaN  False  ...   True   True    False        True   \n293522                 189.0  False  ...  False  False    False       False   \n293523                  97.0  False  ...  False  False    False       False   \n\n       asymptomatic test_result fittness    sex    age       date  \n0              None       False    380.0  773.0  814.0 2021-01-04  \n1              None        None    380.0  773.0  815.0 2021-01-04  \n2              None       False      NaN    NaN    NaN 2021-01-04  \n3              None       False    380.0  773.0  816.0 2021-01-04  \n4              None       False      NaN    NaN    NaN 2021-01-04  \n...             ...         ...      ...    ...    ...        ...  \n293519         True       False    376.0  774.0  814.0 2022-05-09  \n293520         True       False      NaN    NaN    NaN 2022-05-09  \n293521        False        None    378.0  774.0  812.0 2022-05-09  \n293522         True        None    382.0  773.0  810.0 2022-05-09  \n293523        False       False    496.0  774.0  815.0 2022-05-09  \n\n[293524 rows x 23 columns]",
      "text/html": "<div>\n<style scoped>\n    .dataframe tbody tr th:only-of-type {\n        vertical-align: middle;\n    }\n\n    .dataframe tbody tr th {\n        vertical-align: top;\n    }\n\n    .dataframe thead th {\n        text-align: right;\n    }\n</style>\n<table border=\"1\" class=\"dataframe\">\n  <thead>\n    <tr style=\"text-align: right;\">\n      <th></th>\n      <th>test_week_start</th>\n      <th>omicron_share</th>\n      <th>delta_share</th>\n      <th>user_id</th>\n      <th>rhr_metric</th>\n      <th>steps_metric</th>\n      <th>sleep_duration_metric</th>\n      <th>vaccination_status</th>\n      <th>days_since_last_dose</th>\n      <th>chills</th>\n      <th>...</th>\n      <th>cough</th>\n      <th>cold</th>\n      <th>diarrhea</th>\n      <th>sore_throat</th>\n      <th>asymptomatic</th>\n      <th>test_result</th>\n      <th>fittness</th>\n      <th>sex</th>\n      <th>age</th>\n      <th>date</th>\n    </tr>\n  </thead>\n  <tbody>\n    <tr>\n      <th>0</th>\n      <td>2021-01-04</td>\n      <td>0.0</td>\n      <td>0.0</td>\n      <td>26348.0</td>\n      <td>0.812354</td>\n      <td>-0.592758</td>\n      <td>NaN</td>\n      <td>0.0</td>\n      <td>NaN</td>\n      <td>None</td>\n      <td>...</td>\n      <td>None</td>\n      <td>None</td>\n      <td>None</td>\n      <td>None</td>\n      <td>None</td>\n      <td>False</td>\n      <td>380.0</td>\n      <td>773.0</td>\n      <td>814.0</td>\n      <td>2021-01-04</td>\n    </tr>\n    <tr>\n      <th>1</th>\n      <td>2021-01-04</td>\n      <td>0.0</td>\n      <td>0.0</td>\n      <td>32077.0</td>\n      <td>-0.936512</td>\n      <td>-0.344384</td>\n      <td>1.377666</td>\n      <td>0.0</td>\n      <td>NaN</td>\n      <td>None</td>\n      <td>...</td>\n      <td>None</td>\n      <td>None</td>\n      <td>None</td>\n      <td>None</td>\n      <td>None</td>\n      <td>None</td>\n      <td>380.0</td>\n      <td>773.0</td>\n      <td>815.0</td>\n      <td>2021-01-04</td>\n    </tr>\n    <tr>\n      <th>2</th>\n      <td>2021-01-04</td>\n      <td>0.0</td>\n      <td>0.0</td>\n      <td>54279.0</td>\n      <td>1.362409</td>\n      <td>NaN</td>\n      <td>NaN</td>\n      <td>0.0</td>\n      <td>NaN</td>\n      <td>None</td>\n      <td>...</td>\n      <td>None</td>\n      <td>None</td>\n      <td>None</td>\n      <td>None</td>\n      <td>None</td>\n      <td>False</td>\n      <td>NaN</td>\n      <td>NaN</td>\n      <td>NaN</td>\n      <td>2021-01-04</td>\n    </tr>\n    <tr>\n      <th>3</th>\n      <td>2021-01-04</td>\n      <td>0.0</td>\n      <td>0.0</td>\n      <td>68648.0</td>\n      <td>-0.329008</td>\n      <td>-0.220081</td>\n      <td>0.531772</td>\n      <td>0.0</td>\n      <td>NaN</td>\n      <td>None</td>\n      <td>...</td>\n      <td>None</td>\n      <td>None</td>\n      <td>None</td>\n      <td>None</td>\n      <td>None</td>\n      <td>False</td>\n      <td>380.0</td>\n      <td>773.0</td>\n      <td>816.0</td>\n      <td>2021-01-04</td>\n    </tr>\n    <tr>\n      <th>4</th>\n      <td>2021-01-04</td>\n      <td>0.0</td>\n      <td>0.0</td>\n      <td>69408.0</td>\n      <td>0.269898</td>\n      <td>-0.871581</td>\n      <td>NaN</td>\n      <td>0.0</td>\n      <td>NaN</td>\n      <td>None</td>\n      <td>...</td>\n      <td>None</td>\n      <td>None</td>\n      <td>None</td>\n      <td>None</td>\n      <td>None</td>\n      <td>False</td>\n      <td>NaN</td>\n      <td>NaN</td>\n      <td>NaN</td>\n      <td>2021-01-04</td>\n    </tr>\n    <tr>\n      <th>...</th>\n      <td>...</td>\n      <td>...</td>\n      <td>...</td>\n      <td>...</td>\n      <td>...</td>\n      <td>...</td>\n      <td>...</td>\n      <td>...</td>\n      <td>...</td>\n      <td>...</td>\n      <td>...</td>\n      <td>...</td>\n      <td>...</td>\n      <td>...</td>\n      <td>...</td>\n      <td>...</td>\n      <td>...</td>\n      <td>...</td>\n      <td>...</td>\n      <td>...</td>\n      <td>...</td>\n    </tr>\n    <tr>\n      <th>293519</th>\n      <td>2022-05-09</td>\n      <td>NaN</td>\n      <td>NaN</td>\n      <td>418359.0</td>\n      <td>1.093366</td>\n      <td>0.558457</td>\n      <td>NaN</td>\n      <td>3.0</td>\n      <td>159.0</td>\n      <td>False</td>\n      <td>...</td>\n      <td>False</td>\n      <td>False</td>\n      <td>False</td>\n      <td>False</td>\n      <td>True</td>\n      <td>False</td>\n      <td>376.0</td>\n      <td>774.0</td>\n      <td>814.0</td>\n      <td>2022-05-09</td>\n    </tr>\n    <tr>\n      <th>293520</th>\n      <td>2022-05-09</td>\n      <td>NaN</td>\n      <td>NaN</td>\n      <td>499978.0</td>\n      <td>2.591983</td>\n      <td>0.773239</td>\n      <td>-0.962384</td>\n      <td>NaN</td>\n      <td>NaN</td>\n      <td>False</td>\n      <td>...</td>\n      <td>False</td>\n      <td>False</td>\n      <td>False</td>\n      <td>False</td>\n      <td>True</td>\n      <td>False</td>\n      <td>NaN</td>\n      <td>NaN</td>\n      <td>NaN</td>\n      <td>2022-05-09</td>\n    </tr>\n    <tr>\n      <th>293521</th>\n      <td>2022-05-09</td>\n      <td>NaN</td>\n      <td>NaN</td>\n      <td>897860.0</td>\n      <td>0.000000</td>\n      <td>0.273662</td>\n      <td>-0.543618</td>\n      <td>NaN</td>\n      <td>NaN</td>\n      <td>False</td>\n      <td>...</td>\n      <td>True</td>\n      <td>True</td>\n      <td>False</td>\n      <td>True</td>\n      <td>False</td>\n      <td>None</td>\n      <td>378.0</td>\n      <td>774.0</td>\n      <td>812.0</td>\n      <td>2022-05-09</td>\n    </tr>\n    <tr>\n      <th>293522</th>\n      <td>2022-05-09</td>\n      <td>NaN</td>\n      <td>NaN</td>\n      <td>936606.0</td>\n      <td>0.298248</td>\n      <td>-0.337632</td>\n      <td>NaN</td>\n      <td>3.0</td>\n      <td>189.0</td>\n      <td>False</td>\n      <td>...</td>\n      <td>False</td>\n      <td>False</td>\n      <td>False</td>\n      <td>False</td>\n      <td>True</td>\n      <td>None</td>\n      <td>382.0</td>\n      <td>773.0</td>\n      <td>810.0</td>\n      <td>2022-05-09</td>\n    </tr>\n    <tr>\n      <th>293523</th>\n      <td>2022-05-09</td>\n      <td>NaN</td>\n      <td>NaN</td>\n      <td>941626.0</td>\n      <td>1.600558</td>\n      <td>0.830809</td>\n      <td>-0.260905</td>\n      <td>3.0</td>\n      <td>97.0</td>\n      <td>False</td>\n      <td>...</td>\n      <td>False</td>\n      <td>False</td>\n      <td>False</td>\n      <td>False</td>\n      <td>False</td>\n      <td>False</td>\n      <td>496.0</td>\n      <td>774.0</td>\n      <td>815.0</td>\n      <td>2022-05-09</td>\n    </tr>\n  </tbody>\n</table>\n<p>293524 rows × 23 columns</p>\n</div>"
     },
     "execution_count": 44,
     "metadata": {},
     "output_type": "execute_result"
    }
   ],
   "source": [
    "upsampled_variant_data.merge(feature_data, on='test_week_start', how='outer')"
   ],
   "metadata": {
    "collapsed": false,
    "pycharm": {
     "name": "#%%\n"
    }
   }
  },
  {
   "cell_type": "code",
   "execution_count": null,
   "outputs": [],
   "source": [],
   "metadata": {
    "collapsed": false,
    "pycharm": {
     "name": "#%%\n"
    }
   }
  }
 ],
 "metadata": {
  "kernelspec": {
   "display_name": "Python 3",
   "language": "python",
   "name": "python3"
  },
  "language_info": {
   "codemirror_mode": {
    "name": "ipython",
    "version": 2
   },
   "file_extension": ".py",
   "mimetype": "text/x-python",
   "name": "python",
   "nbconvert_exporter": "python",
   "pygments_lexer": "ipython2",
   "version": "2.7.6"
  }
 },
 "nbformat": 4,
 "nbformat_minor": 0
}