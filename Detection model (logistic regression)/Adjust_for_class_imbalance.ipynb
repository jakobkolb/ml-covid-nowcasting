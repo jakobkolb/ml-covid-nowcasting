{
 "cells": [
  {
   "cell_type": "code",
   "execution_count": 1,
   "outputs": [
    {
     "name": "stdout",
     "output_type": "stream",
     "text": [
      "288087 records from 7236 users present. \n",
      "62313 of which are complete.\n"
     ]
    }
   ],
   "source": [
    "from lib import loading_and_pre_processing_pipeline\n",
    "\n",
    "feature_data = loading_and_pre_processing_pipeline()\n",
    "cleaned_feature_data = feature_data.dropna(axis=0)\n",
    "\n",
    "print(f'{len(feature_data)} records from {len(set(cleaned_feature_data[\"user_id\"].values))} users present. ')\n",
    "print(f'{len(cleaned_feature_data)} of which are complete.')"
   ],
   "metadata": {
    "collapsed": false,
    "pycharm": {
     "name": "#%%\n"
    }
   }
  },
  {
   "cell_type": "code",
   "execution_count": 2,
   "outputs": [
    {
     "name": "stdout",
     "output_type": "stream",
     "text": [
      "<class 'pandas.core.frame.DataFrame'>\n",
      "RangeIndex: 288087 entries, 0 to 288086\n",
      "Data columns (total 21 columns):\n",
      " #   Column                   Non-Null Count   Dtype         \n",
      "---  ------                   --------------   -----         \n",
      " 0   user_id                  288087 non-null  int64         \n",
      " 1   test_week_start          288087 non-null  object        \n",
      " 2   rhr_metric               248815 non-null  float64       \n",
      " 3   steps_metric             258233 non-null  float64       \n",
      " 4   sleep_duration_metric    162098 non-null  float64       \n",
      " 5   vaccination_status       220797 non-null  float64       \n",
      " 6   days_since_last_dose     215895 non-null  float64       \n",
      " 7   chills                   281190 non-null  object        \n",
      " 8   body_pain                281190 non-null  object        \n",
      " 9   loss_of_taste_and_smell  281190 non-null  object        \n",
      " 10  fatigue                  280131 non-null  object        \n",
      " 11  cough                    281190 non-null  object        \n",
      " 12  cold                     281190 non-null  object        \n",
      " 13  diarrhea                 281190 non-null  object        \n",
      " 14  sore_throat              281190 non-null  object        \n",
      " 15  asymptomatic             281190 non-null  object        \n",
      " 16  test_result              160056 non-null  object        \n",
      " 17  fittness                 265899 non-null  float64       \n",
      " 18  sex                      266439 non-null  float64       \n",
      " 19  age                      266438 non-null  float64       \n",
      " 20  date                     288087 non-null  datetime64[ns]\n",
      "dtypes: datetime64[ns](1), float64(8), int64(1), object(11)\n",
      "memory usage: 46.2+ MB\n"
     ]
    }
   ],
   "source": [
    "feature_data.info()"
   ],
   "metadata": {
    "collapsed": false,
    "pycharm": {
     "name": "#%%\n"
    }
   }
  },
  {
   "cell_type": "code",
   "execution_count": 12,
   "outputs": [
    {
     "data": {
      "text/plain": "test_result\nFalse          152903\nTrue             7153\ndtype: int64"
     },
     "execution_count": 12,
     "metadata": {},
     "output_type": "execute_result"
    }
   ],
   "source": [
    "df = feature_data.dropna(axis=0, subset=['test_result']).drop(columns=['test_result', 'user_id', 'test_week_start', 'date'])\n",
    "y = feature_data.dropna(axis=0, subset=['test_result'])[['test_result']].astype(bool)\n",
    "\n",
    "classes_count = y.value_counts()\n",
    "classes_count"
   ],
   "metadata": {
    "collapsed": false,
    "pycharm": {
     "name": "#%%\n"
    }
   }
  },
  {
   "cell_type": "code",
   "execution_count": 13,
   "outputs": [
    {
     "data": {
      "text/plain": "        rhr_metric  steps_metric  sleep_duration_metric  vaccination_status  \\\n2              NaN     -0.034250              -2.518027                 2.0   \n16        1.204198      0.221307               0.493535                 NaN   \n34        2.664284     -0.044351               0.325328                 NaN   \n36        0.532857     -0.163233              -0.544589                 NaN   \n37        0.532857      2.377660              -0.795024                 NaN   \n...            ...           ...                    ...                 ...   \n288076         NaN           NaN                    NaN                 3.0   \n288080         NaN           NaN                    NaN                 3.0   \n288081         NaN           NaN                    NaN                 3.0   \n288083         NaN           NaN                    NaN                 3.0   \n288085         NaN           NaN                    NaN                 3.0   \n\n        days_since_last_dose chills body_pain loss_of_taste_and_smell fatigue  \\\n2                      170.0  False      True                   False   False   \n16                       NaN  False     False                   False   False   \n34                       NaN  False     False                   False   False   \n36                       NaN  False     False                   False   False   \n37                       NaN  False     False                   False   False   \n...                      ...    ...       ...                     ...     ...   \n288076                 207.0  False     False                   False   False   \n288080                 145.0  False     False                   False   False   \n288081                 146.0  False     False                   False    True   \n288083                 176.0  False     False                   False   False   \n288085                 146.0  False     False                   False    True   \n\n        cough   cold diarrhea sore_throat asymptomatic  fittness    sex    age  \n2       False  False     True       False        False     377.0  773.0  813.0  \n16      False  False    False       False         True       NaN    NaN    NaN  \n34      False  False    False       False         True     375.0  774.0  812.0  \n36      False  False    False       False         True     375.0  774.0  812.0  \n37      False  False    False       False         True     375.0  774.0  812.0  \n...       ...    ...      ...         ...          ...       ...    ...    ...  \n288076  False  False    False       False         True     379.0  774.0  813.0  \n288080  False  False    False       False         True     378.0  774.0  814.0  \n288081  False  False    False       False        False     381.0  773.0  818.0  \n288083  False  False    False       False         True     378.0  774.0  813.0  \n288085  False  False    False       False        False     377.0  773.0  816.0  \n\n[160056 rows x 17 columns]",
      "text/html": "<div>\n<style scoped>\n    .dataframe tbody tr th:only-of-type {\n        vertical-align: middle;\n    }\n\n    .dataframe tbody tr th {\n        vertical-align: top;\n    }\n\n    .dataframe thead th {\n        text-align: right;\n    }\n</style>\n<table border=\"1\" class=\"dataframe\">\n  <thead>\n    <tr style=\"text-align: right;\">\n      <th></th>\n      <th>rhr_metric</th>\n      <th>steps_metric</th>\n      <th>sleep_duration_metric</th>\n      <th>vaccination_status</th>\n      <th>days_since_last_dose</th>\n      <th>chills</th>\n      <th>body_pain</th>\n      <th>loss_of_taste_and_smell</th>\n      <th>fatigue</th>\n      <th>cough</th>\n      <th>cold</th>\n      <th>diarrhea</th>\n      <th>sore_throat</th>\n      <th>asymptomatic</th>\n      <th>fittness</th>\n      <th>sex</th>\n      <th>age</th>\n    </tr>\n  </thead>\n  <tbody>\n    <tr>\n      <th>2</th>\n      <td>NaN</td>\n      <td>-0.034250</td>\n      <td>-2.518027</td>\n      <td>2.0</td>\n      <td>170.0</td>\n      <td>False</td>\n      <td>True</td>\n      <td>False</td>\n      <td>False</td>\n      <td>False</td>\n      <td>False</td>\n      <td>True</td>\n      <td>False</td>\n      <td>False</td>\n      <td>377.0</td>\n      <td>773.0</td>\n      <td>813.0</td>\n    </tr>\n    <tr>\n      <th>16</th>\n      <td>1.204198</td>\n      <td>0.221307</td>\n      <td>0.493535</td>\n      <td>NaN</td>\n      <td>NaN</td>\n      <td>False</td>\n      <td>False</td>\n      <td>False</td>\n      <td>False</td>\n      <td>False</td>\n      <td>False</td>\n      <td>False</td>\n      <td>False</td>\n      <td>True</td>\n      <td>NaN</td>\n      <td>NaN</td>\n      <td>NaN</td>\n    </tr>\n    <tr>\n      <th>34</th>\n      <td>2.664284</td>\n      <td>-0.044351</td>\n      <td>0.325328</td>\n      <td>NaN</td>\n      <td>NaN</td>\n      <td>False</td>\n      <td>False</td>\n      <td>False</td>\n      <td>False</td>\n      <td>False</td>\n      <td>False</td>\n      <td>False</td>\n      <td>False</td>\n      <td>True</td>\n      <td>375.0</td>\n      <td>774.0</td>\n      <td>812.0</td>\n    </tr>\n    <tr>\n      <th>36</th>\n      <td>0.532857</td>\n      <td>-0.163233</td>\n      <td>-0.544589</td>\n      <td>NaN</td>\n      <td>NaN</td>\n      <td>False</td>\n      <td>False</td>\n      <td>False</td>\n      <td>False</td>\n      <td>False</td>\n      <td>False</td>\n      <td>False</td>\n      <td>False</td>\n      <td>True</td>\n      <td>375.0</td>\n      <td>774.0</td>\n      <td>812.0</td>\n    </tr>\n    <tr>\n      <th>37</th>\n      <td>0.532857</td>\n      <td>2.377660</td>\n      <td>-0.795024</td>\n      <td>NaN</td>\n      <td>NaN</td>\n      <td>False</td>\n      <td>False</td>\n      <td>False</td>\n      <td>False</td>\n      <td>False</td>\n      <td>False</td>\n      <td>False</td>\n      <td>False</td>\n      <td>True</td>\n      <td>375.0</td>\n      <td>774.0</td>\n      <td>812.0</td>\n    </tr>\n    <tr>\n      <th>...</th>\n      <td>...</td>\n      <td>...</td>\n      <td>...</td>\n      <td>...</td>\n      <td>...</td>\n      <td>...</td>\n      <td>...</td>\n      <td>...</td>\n      <td>...</td>\n      <td>...</td>\n      <td>...</td>\n      <td>...</td>\n      <td>...</td>\n      <td>...</td>\n      <td>...</td>\n      <td>...</td>\n      <td>...</td>\n    </tr>\n    <tr>\n      <th>288076</th>\n      <td>NaN</td>\n      <td>NaN</td>\n      <td>NaN</td>\n      <td>3.0</td>\n      <td>207.0</td>\n      <td>False</td>\n      <td>False</td>\n      <td>False</td>\n      <td>False</td>\n      <td>False</td>\n      <td>False</td>\n      <td>False</td>\n      <td>False</td>\n      <td>True</td>\n      <td>379.0</td>\n      <td>774.0</td>\n      <td>813.0</td>\n    </tr>\n    <tr>\n      <th>288080</th>\n      <td>NaN</td>\n      <td>NaN</td>\n      <td>NaN</td>\n      <td>3.0</td>\n      <td>145.0</td>\n      <td>False</td>\n      <td>False</td>\n      <td>False</td>\n      <td>False</td>\n      <td>False</td>\n      <td>False</td>\n      <td>False</td>\n      <td>False</td>\n      <td>True</td>\n      <td>378.0</td>\n      <td>774.0</td>\n      <td>814.0</td>\n    </tr>\n    <tr>\n      <th>288081</th>\n      <td>NaN</td>\n      <td>NaN</td>\n      <td>NaN</td>\n      <td>3.0</td>\n      <td>146.0</td>\n      <td>False</td>\n      <td>False</td>\n      <td>False</td>\n      <td>True</td>\n      <td>False</td>\n      <td>False</td>\n      <td>False</td>\n      <td>False</td>\n      <td>False</td>\n      <td>381.0</td>\n      <td>773.0</td>\n      <td>818.0</td>\n    </tr>\n    <tr>\n      <th>288083</th>\n      <td>NaN</td>\n      <td>NaN</td>\n      <td>NaN</td>\n      <td>3.0</td>\n      <td>176.0</td>\n      <td>False</td>\n      <td>False</td>\n      <td>False</td>\n      <td>False</td>\n      <td>False</td>\n      <td>False</td>\n      <td>False</td>\n      <td>False</td>\n      <td>True</td>\n      <td>378.0</td>\n      <td>774.0</td>\n      <td>813.0</td>\n    </tr>\n    <tr>\n      <th>288085</th>\n      <td>NaN</td>\n      <td>NaN</td>\n      <td>NaN</td>\n      <td>3.0</td>\n      <td>146.0</td>\n      <td>False</td>\n      <td>False</td>\n      <td>False</td>\n      <td>True</td>\n      <td>False</td>\n      <td>False</td>\n      <td>False</td>\n      <td>False</td>\n      <td>False</td>\n      <td>377.0</td>\n      <td>773.0</td>\n      <td>816.0</td>\n    </tr>\n  </tbody>\n</table>\n<p>160056 rows × 17 columns</p>\n</div>"
     },
     "execution_count": 13,
     "metadata": {},
     "output_type": "execute_result"
    }
   ],
   "source": [
    "df"
   ],
   "metadata": {
    "collapsed": false,
    "pycharm": {
     "name": "#%%\n"
    }
   }
  },
  {
   "cell_type": "markdown",
   "source": [
    "As expected, the dataset is heavily imbalanced with a much higher number of negative than positive test results.\n",
    "The problems with this are illustrated below:"
   ],
   "metadata": {
    "collapsed": false,
    "pycharm": {
     "name": "#%% md\n"
    }
   }
  },
  {
   "cell_type": "code",
   "execution_count": 14,
   "outputs": [
    {
     "name": "stdout",
     "output_type": "stream",
     "text": [
      "Accuracy score of a dummy classifier: 0.955\n"
     ]
    },
    {
     "data": {
      "text/plain": "                  Accuracy  Balanced accuracy\nDummy classifier  0.955309                0.5",
      "text/html": "<div>\n<style scoped>\n    .dataframe tbody tr th:only-of-type {\n        vertical-align: middle;\n    }\n\n    .dataframe tbody tr th {\n        vertical-align: top;\n    }\n\n    .dataframe thead th {\n        text-align: right;\n    }\n</style>\n<table border=\"1\" class=\"dataframe\">\n  <thead>\n    <tr style=\"text-align: right;\">\n      <th></th>\n      <th>Accuracy</th>\n      <th>Balanced accuracy</th>\n    </tr>\n  </thead>\n  <tbody>\n    <tr>\n      <th>Dummy classifier</th>\n      <td>0.955309</td>\n      <td>0.5</td>\n    </tr>\n  </tbody>\n</table>\n</div>"
     },
     "execution_count": 14,
     "metadata": {},
     "output_type": "execute_result"
    }
   ],
   "source": [
    "from sklearn.model_selection import cross_validate\n",
    "from sklearn.dummy import DummyClassifier\n",
    "import pandas as pd\n",
    "\n",
    "dummy_clf = DummyClassifier(strategy=\"most_frequent\")\n",
    "scoring = [\"accuracy\", \"balanced_accuracy\"]\n",
    "\n",
    "index = []\n",
    "scores = {\"Accuracy\": [], \"Balanced accuracy\": []}\n",
    "\n",
    "# Score a dummy classifier as baseline\n",
    "index += [\"Dummy classifier\"]\n",
    "cv_result = cross_validate(dummy_clf, df, y, scoring=scoring)\n",
    "scores[\"Accuracy\"].append(cv_result[\"test_accuracy\"].mean())\n",
    "scores[\"Balanced accuracy\"].append(cv_result[\"test_balanced_accuracy\"].mean())\n",
    "print(f\"Accuracy score of a dummy classifier: {cv_result['test_accuracy'].mean():.3f}\")\n",
    "\n",
    "pd.DataFrame(scores, index=index)"
   ],
   "metadata": {
    "collapsed": false,
    "pycharm": {
     "name": "#%%\n"
    }
   }
  },
  {
   "cell_type": "markdown",
   "source": [
    "This shows that a dummy classifier that classifies all records as the majority class has very high accuracy, simply because it classifies most of the cases correctly. If one corrects for the class imbalance, the accuracy is still 0.5 (random)."
   ],
   "metadata": {
    "collapsed": false,
    "pycharm": {
     "name": "#%% md\n"
    }
   }
  },
  {
   "cell_type": "code",
   "execution_count": 15,
   "outputs": [],
   "source": [
    "from sklearn.impute import SimpleImputer\n",
    "from sklearn.preprocessing import StandardScaler, OrdinalEncoder\n",
    "from sklearn.pipeline import make_pipeline\n",
    "from sklearn.compose import make_column_transformer\n",
    "from sklearn.compose import make_column_selector as selector\n",
    "from sklearn.linear_model import LogisticRegression\n",
    "\n",
    "num_pipe = make_pipeline(\n",
    "    StandardScaler(), SimpleImputer(strategy=\"mean\", add_indicator=True)\n",
    ")\n",
    "cat_pipe = make_pipeline(\n",
    "    SimpleImputer(strategy=\"constant\", fill_value=False),\n",
    "    OrdinalEncoder(),\n",
    ")\n",
    "preprocessor_linear = make_column_transformer(\n",
    "    [num_pipe, selector(dtype_include=\"number\")],\n",
    "    [cat_pipe, selector(dtype_include=\"object\")],\n",
    "    n_jobs=2,\n",
    ")\n",
    "lr_clf = make_pipeline(preprocessor_linear, LogisticRegression(max_iter=1000))"
   ],
   "metadata": {
    "collapsed": false,
    "pycharm": {
     "name": "#%%\n"
    }
   }
  },
  {
   "cell_type": "code",
   "execution_count": 19,
   "outputs": [
    {
     "name": "stderr",
     "output_type": "stream",
     "text": [
      "/home/kolb/.cache/pypoetry/virtualenvs/ml-nowcasting-jKKypzXv-py3.8/lib/python3.8/site-packages/sklearn/utils/validation.py:993: DataConversionWarning: A column-vector y was passed when a 1d array was expected. Please change the shape of y to (n_samples, ), for example using ravel().\n",
      "  y = column_or_1d(y, warn=True)\n",
      "/home/kolb/.cache/pypoetry/virtualenvs/ml-nowcasting-jKKypzXv-py3.8/lib/python3.8/site-packages/sklearn/utils/validation.py:993: DataConversionWarning: A column-vector y was passed when a 1d array was expected. Please change the shape of y to (n_samples, ), for example using ravel().\n",
      "  y = column_or_1d(y, warn=True)\n",
      "/home/kolb/.cache/pypoetry/virtualenvs/ml-nowcasting-jKKypzXv-py3.8/lib/python3.8/site-packages/sklearn/utils/validation.py:993: DataConversionWarning: A column-vector y was passed when a 1d array was expected. Please change the shape of y to (n_samples, ), for example using ravel().\n",
      "  y = column_or_1d(y, warn=True)\n",
      "/home/kolb/.cache/pypoetry/virtualenvs/ml-nowcasting-jKKypzXv-py3.8/lib/python3.8/site-packages/sklearn/utils/validation.py:993: DataConversionWarning: A column-vector y was passed when a 1d array was expected. Please change the shape of y to (n_samples, ), for example using ravel().\n",
      "  y = column_or_1d(y, warn=True)\n",
      "/home/kolb/.cache/pypoetry/virtualenvs/ml-nowcasting-jKKypzXv-py3.8/lib/python3.8/site-packages/sklearn/utils/validation.py:993: DataConversionWarning: A column-vector y was passed when a 1d array was expected. Please change the shape of y to (n_samples, ), for example using ravel().\n",
      "  y = column_or_1d(y, warn=True)\n"
     ]
    },
    {
     "data": {
      "text/plain": "                     Accuracy  Balanced accuracy\nDummy classifier     0.955309           0.500000\nLogistic regression  0.965737           0.675035",
      "text/html": "<div>\n<style scoped>\n    .dataframe tbody tr th:only-of-type {\n        vertical-align: middle;\n    }\n\n    .dataframe tbody tr th {\n        vertical-align: top;\n    }\n\n    .dataframe thead th {\n        text-align: right;\n    }\n</style>\n<table border=\"1\" class=\"dataframe\">\n  <thead>\n    <tr style=\"text-align: right;\">\n      <th></th>\n      <th>Accuracy</th>\n      <th>Balanced accuracy</th>\n    </tr>\n  </thead>\n  <tbody>\n    <tr>\n      <th>Dummy classifier</th>\n      <td>0.955309</td>\n      <td>0.500000</td>\n    </tr>\n    <tr>\n      <th>Logistic regression</th>\n      <td>0.965737</td>\n      <td>0.675035</td>\n    </tr>\n  </tbody>\n</table>\n</div>"
     },
     "execution_count": 19,
     "metadata": {},
     "output_type": "execute_result"
    }
   ],
   "source": [
    "# Train and score logistic regression\n",
    "index += [\"Logistic regression\"]\n",
    "cv_result = cross_validate(lr_clf, df, y, scoring=scoring)\n",
    "scores[\"Accuracy\"].append(cv_result[\"test_accuracy\"].mean())\n",
    "scores[\"Balanced accuracy\"].append(cv_result[\"test_balanced_accuracy\"].mean())\n",
    "\n",
    "pd.DataFrame(scores, index=index)"
   ],
   "metadata": {
    "collapsed": false,
    "pycharm": {
     "name": "#%%\n"
    }
   }
  },
  {
   "cell_type": "markdown",
   "source": [
    "So the accuracy of the logistic regression is essentially the same as a dummy baseline, if it is not corrected for the imbalance of classes in the dataset. Correcting for imbalance, the accuracy is better than chance, but still not very high. There are two things to improve the performance of the model:\n",
    "* First, subsampling the majority class during training to get a balanced training set and\n",
    "* Second, adjusting the loss function of the classifier to weigh cases of the minority class higher."
   ],
   "metadata": {
    "collapsed": false,
    "pycharm": {
     "name": "#%% md\n"
    }
   }
  },
  {
   "cell_type": "code",
   "execution_count": 20,
   "outputs": [
    {
     "name": "stderr",
     "output_type": "stream",
     "text": [
      "/home/kolb/.cache/pypoetry/virtualenvs/ml-nowcasting-jKKypzXv-py3.8/lib/python3.8/site-packages/sklearn/utils/validation.py:993: DataConversionWarning: A column-vector y was passed when a 1d array was expected. Please change the shape of y to (n_samples, ), for example using ravel().\n",
      "  y = column_or_1d(y, warn=True)\n",
      "/home/kolb/.cache/pypoetry/virtualenvs/ml-nowcasting-jKKypzXv-py3.8/lib/python3.8/site-packages/sklearn/utils/validation.py:993: DataConversionWarning: A column-vector y was passed when a 1d array was expected. Please change the shape of y to (n_samples, ), for example using ravel().\n",
      "  y = column_or_1d(y, warn=True)\n",
      "/home/kolb/.cache/pypoetry/virtualenvs/ml-nowcasting-jKKypzXv-py3.8/lib/python3.8/site-packages/sklearn/utils/validation.py:993: DataConversionWarning: A column-vector y was passed when a 1d array was expected. Please change the shape of y to (n_samples, ), for example using ravel().\n",
      "  y = column_or_1d(y, warn=True)\n",
      "/home/kolb/.cache/pypoetry/virtualenvs/ml-nowcasting-jKKypzXv-py3.8/lib/python3.8/site-packages/sklearn/utils/validation.py:993: DataConversionWarning: A column-vector y was passed when a 1d array was expected. Please change the shape of y to (n_samples, ), for example using ravel().\n",
      "  y = column_or_1d(y, warn=True)\n",
      "/home/kolb/.cache/pypoetry/virtualenvs/ml-nowcasting-jKKypzXv-py3.8/lib/python3.8/site-packages/sklearn/utils/validation.py:993: DataConversionWarning: A column-vector y was passed when a 1d array was expected. Please change the shape of y to (n_samples, ), for example using ravel().\n",
      "  y = column_or_1d(y, warn=True)\n"
     ]
    },
    {
     "data": {
      "text/plain": "                                                 Accuracy  Balanced accuracy\nDummy classifier                                 0.955309           0.500000\nLogistic regression                              0.965737           0.675035\nLogistic regression with balanced class weights  0.840375           0.858352",
      "text/html": "<div>\n<style scoped>\n    .dataframe tbody tr th:only-of-type {\n        vertical-align: middle;\n    }\n\n    .dataframe tbody tr th {\n        vertical-align: top;\n    }\n\n    .dataframe thead th {\n        text-align: right;\n    }\n</style>\n<table border=\"1\" class=\"dataframe\">\n  <thead>\n    <tr style=\"text-align: right;\">\n      <th></th>\n      <th>Accuracy</th>\n      <th>Balanced accuracy</th>\n    </tr>\n  </thead>\n  <tbody>\n    <tr>\n      <th>Dummy classifier</th>\n      <td>0.955309</td>\n      <td>0.500000</td>\n    </tr>\n    <tr>\n      <th>Logistic regression</th>\n      <td>0.965737</td>\n      <td>0.675035</td>\n    </tr>\n    <tr>\n      <th>Logistic regression with balanced class weights</th>\n      <td>0.840375</td>\n      <td>0.858352</td>\n    </tr>\n  </tbody>\n</table>\n</div>"
     },
     "execution_count": 20,
     "metadata": {},
     "output_type": "execute_result"
    }
   ],
   "source": [
    "lr_clf.set_params(logisticregression__class_weight=\"balanced\")\n",
    "\n",
    "index += [\"Logistic regression with balanced class weights\"]\n",
    "cv_result = cross_validate(lr_clf, df, y, scoring=scoring)\n",
    "scores[\"Accuracy\"].append(cv_result[\"test_accuracy\"].mean())\n",
    "scores[\"Balanced accuracy\"].append(cv_result[\"test_balanced_accuracy\"].mean())\n",
    "\n",
    "pd.DataFrame(scores, index=index)"
   ],
   "metadata": {
    "collapsed": false,
    "pycharm": {
     "name": "#%%\n"
    }
   }
  },
  {
   "cell_type": "code",
   "execution_count": 21,
   "outputs": [],
   "source": [
    "from imblearn.pipeline import make_pipeline as make_pipeline_with_sampler\n",
    "from imblearn.under_sampling import RandomUnderSampler\n",
    "\n",
    "lr_clf = make_pipeline_with_sampler(\n",
    "    preprocessor_linear,\n",
    "    RandomUnderSampler(random_state=42),\n",
    "    LogisticRegression(max_iter=1000),\n",
    ")"
   ],
   "metadata": {
    "collapsed": false,
    "pycharm": {
     "name": "#%%\n"
    }
   }
  },
  {
   "cell_type": "code",
   "execution_count": 22,
   "outputs": [
    {
     "name": "stderr",
     "output_type": "stream",
     "text": [
      "/home/kolb/.cache/pypoetry/virtualenvs/ml-nowcasting-jKKypzXv-py3.8/lib/python3.8/site-packages/sklearn/utils/validation.py:993: DataConversionWarning: A column-vector y was passed when a 1d array was expected. Please change the shape of y to (n_samples, ), for example using ravel().\n",
      "  y = column_or_1d(y, warn=True)\n",
      "/home/kolb/.cache/pypoetry/virtualenvs/ml-nowcasting-jKKypzXv-py3.8/lib/python3.8/site-packages/sklearn/utils/validation.py:993: DataConversionWarning: A column-vector y was passed when a 1d array was expected. Please change the shape of y to (n_samples, ), for example using ravel().\n",
      "  y = column_or_1d(y, warn=True)\n",
      "/home/kolb/.cache/pypoetry/virtualenvs/ml-nowcasting-jKKypzXv-py3.8/lib/python3.8/site-packages/sklearn/utils/validation.py:993: DataConversionWarning: A column-vector y was passed when a 1d array was expected. Please change the shape of y to (n_samples, ), for example using ravel().\n",
      "  y = column_or_1d(y, warn=True)\n",
      "/home/kolb/.cache/pypoetry/virtualenvs/ml-nowcasting-jKKypzXv-py3.8/lib/python3.8/site-packages/sklearn/utils/validation.py:993: DataConversionWarning: A column-vector y was passed when a 1d array was expected. Please change the shape of y to (n_samples, ), for example using ravel().\n",
      "  y = column_or_1d(y, warn=True)\n",
      "/home/kolb/.cache/pypoetry/virtualenvs/ml-nowcasting-jKKypzXv-py3.8/lib/python3.8/site-packages/sklearn/utils/validation.py:993: DataConversionWarning: A column-vector y was passed when a 1d array was expected. Please change the shape of y to (n_samples, ), for example using ravel().\n",
      "  y = column_or_1d(y, warn=True)\n"
     ]
    },
    {
     "data": {
      "text/plain": "                                                 Accuracy  Balanced accuracy\nDummy classifier                                 0.955309           0.500000\nLogistic regression                              0.965737           0.675035\nLogistic regression with balanced class weights  0.840375           0.858352\nUnder-sampling + Logistic regression             0.838906           0.859516",
      "text/html": "<div>\n<style scoped>\n    .dataframe tbody tr th:only-of-type {\n        vertical-align: middle;\n    }\n\n    .dataframe tbody tr th {\n        vertical-align: top;\n    }\n\n    .dataframe thead th {\n        text-align: right;\n    }\n</style>\n<table border=\"1\" class=\"dataframe\">\n  <thead>\n    <tr style=\"text-align: right;\">\n      <th></th>\n      <th>Accuracy</th>\n      <th>Balanced accuracy</th>\n    </tr>\n  </thead>\n  <tbody>\n    <tr>\n      <th>Dummy classifier</th>\n      <td>0.955309</td>\n      <td>0.500000</td>\n    </tr>\n    <tr>\n      <th>Logistic regression</th>\n      <td>0.965737</td>\n      <td>0.675035</td>\n    </tr>\n    <tr>\n      <th>Logistic regression with balanced class weights</th>\n      <td>0.840375</td>\n      <td>0.858352</td>\n    </tr>\n    <tr>\n      <th>Under-sampling + Logistic regression</th>\n      <td>0.838906</td>\n      <td>0.859516</td>\n    </tr>\n  </tbody>\n</table>\n</div>"
     },
     "execution_count": 22,
     "metadata": {},
     "output_type": "execute_result"
    }
   ],
   "source": [
    "index += [\"Under-sampling + Logistic regression\"]\n",
    "cv_result = cross_validate(lr_clf, df, y, scoring=scoring)\n",
    "scores[\"Accuracy\"].append(cv_result[\"test_accuracy\"].mean())\n",
    "scores[\"Balanced accuracy\"].append(cv_result[\"test_balanced_accuracy\"].mean())\n",
    "\n",
    "pd.DataFrame(scores, index=index)"
   ],
   "metadata": {
    "collapsed": false,
    "pycharm": {
     "name": "#%%\n"
    }
   }
  },
  {
   "cell_type": "markdown",
   "source": [
    "The performance of both options is comparable and substantially better than the naive regression approach in terms of balanced accuracy."
   ],
   "metadata": {
    "collapsed": false,
    "pycharm": {
     "name": "#%% md\n"
    }
   }
  }
 ],
 "metadata": {
  "kernelspec": {
   "display_name": "Python 3",
   "language": "python",
   "name": "python3"
  },
  "language_info": {
   "codemirror_mode": {
    "name": "ipython",
    "version": 2
   },
   "file_extension": ".py",
   "mimetype": "text/x-python",
   "name": "python",
   "nbconvert_exporter": "python",
   "pygments_lexer": "ipython2",
   "version": "2.7.6"
  }
 },
 "nbformat": 4,
 "nbformat_minor": 0
}