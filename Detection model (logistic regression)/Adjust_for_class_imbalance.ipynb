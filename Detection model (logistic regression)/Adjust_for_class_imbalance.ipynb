{
 "cells": [
  {
   "cell_type": "code",
   "execution_count": 1,
   "outputs": [
    {
     "name": "stdout",
     "output_type": "stream",
     "text": [
      "cached\n"
     ]
    },
    {
     "name": "stderr",
     "output_type": "stream",
     "text": [
      "/home/kolb/code/rki/ml-nowcasting/Detection model (logistic regression)/load_data.py:161: FutureWarning: The frame.append method is deprecated and will be removed from pandas in a future version. Use pandas.concat instead.\n",
      "  variant_data = variant_data.append({'test_week_start': pd.to_datetime(datetime.now().date()), delta_column: 0, omicronba1_column: 1, omicronba2_column: 99}, ignore_index=True)\n"
     ]
    },
    {
     "name": "stdout",
     "output_type": "stream",
     "text": [
      "293550 records from 7276 users present. \n",
      "63516 of which are complete.\n"
     ]
    }
   ],
   "source": [
    "from load_data import loading_and_pre_processing_pipeline\n",
    "\n",
    "feature_data = loading_and_pre_processing_pipeline()\n",
    "cleaned_feature_data = feature_data.dropna(axis=0)\n",
    "\n",
    "print(f'{len(feature_data)} records from {len(set(cleaned_feature_data[\"user_id\"].values))} users present. ')\n",
    "print(f'{len(cleaned_feature_data)} of which are complete.')"
   ],
   "metadata": {
    "collapsed": false,
    "pycharm": {
     "name": "#%%\n"
    }
   }
  },
  {
   "cell_type": "code",
   "execution_count": 2,
   "outputs": [
    {
     "name": "stdout",
     "output_type": "stream",
     "text": [
      "<class 'pandas.core.frame.DataFrame'>\n",
      "Int64Index: 293550 entries, 0 to 293549\n",
      "Data columns (total 24 columns):\n",
      " #   Column                   Non-Null Count   Dtype         \n",
      "---  ------                   --------------   -----         \n",
      " 0   test_week_start          293550 non-null  datetime64[ns]\n",
      " 1   omicronba1_share         290159 non-null  float64       \n",
      " 2   omicronba2_share         290159 non-null  float64       \n",
      " 3   delta_share              290159 non-null  float64       \n",
      " 4   user_id                  293310 non-null  float64       \n",
      " 5   rhr_metric               253716 non-null  float64       \n",
      " 6   steps_metric             263105 non-null  float64       \n",
      " 7   sleep_duration_metric    165160 non-null  float64       \n",
      " 8   vaccination_status       224961 non-null  float64       \n",
      " 9   days_since_last_dose     220038 non-null  float64       \n",
      " 10  chills                   286384 non-null  object        \n",
      " 11  body_pain                286384 non-null  object        \n",
      " 12  loss_of_taste_and_smell  286384 non-null  object        \n",
      " 13  fatigue                  285305 non-null  object        \n",
      " 14  cough                    286384 non-null  object        \n",
      " 15  cold                     286384 non-null  object        \n",
      " 16  diarrhea                 286384 non-null  object        \n",
      " 17  sore_throat              286384 non-null  object        \n",
      " 18  asymptomatic             286384 non-null  object        \n",
      " 19  test_result              162690 non-null  object        \n",
      " 20  fittness                 270719 non-null  float64       \n",
      " 21  sex                      271264 non-null  float64       \n",
      " 22  age                      271263 non-null  float64       \n",
      " 23  date                     293310 non-null  datetime64[ns]\n",
      "dtypes: datetime64[ns](2), float64(12), object(10)\n",
      "memory usage: 56.0+ MB\n"
     ]
    }
   ],
   "source": [
    "feature_data.info()"
   ],
   "metadata": {
    "collapsed": false,
    "pycharm": {
     "name": "#%%\n"
    }
   }
  },
  {
   "cell_type": "code",
   "execution_count": 3,
   "outputs": [
    {
     "data": {
      "text/plain": "test_result\nFalse          155371\nTrue             7319\ndtype: int64"
     },
     "execution_count": 3,
     "metadata": {},
     "output_type": "execute_result"
    }
   ],
   "source": [
    "df = feature_data.dropna(axis=0, subset=['test_result']).drop(columns=['test_result', 'user_id', 'test_week_start', 'date'])\n",
    "y = feature_data.dropna(axis=0, subset=['test_result'])[['test_result']].astype(bool)\n",
    "\n",
    "classes_count = y.value_counts()\n",
    "classes_count"
   ],
   "metadata": {
    "collapsed": false,
    "pycharm": {
     "name": "#%%\n"
    }
   }
  },
  {
   "cell_type": "code",
   "execution_count": 4,
   "outputs": [
    {
     "data": {
      "text/plain": "        omicronba1_share  omicronba2_share  delta_share  rhr_metric  \\\n0                    0.0               0.0          0.0    0.812354   \n2                    0.0               0.0          0.0    1.362409   \n3                    0.0               0.0          0.0   -0.329008   \n4                    0.0               0.0          0.0    0.269898   \n5                    0.0               0.0          0.0    0.851576   \n...                  ...               ...          ...         ...   \n293545               NaN               NaN          NaN    1.131692   \n293546               NaN               NaN          NaN         NaN   \n293547               NaN               NaN          NaN         NaN   \n293548               NaN               NaN          NaN         NaN   \n293549               NaN               NaN          NaN         NaN   \n\n        steps_metric  sleep_duration_metric  vaccination_status  \\\n0          -0.592758                    NaN                 0.0   \n2                NaN                    NaN                 0.0   \n3          -0.220081               0.531772                 0.0   \n4          -0.871581                    NaN                 0.0   \n5          -0.088174                    NaN                 0.0   \n...              ...                    ...                 ...   \n293545      0.275162                    NaN                 0.0   \n293546           NaN                    NaN                 0.0   \n293547           NaN                    NaN                 0.0   \n293548           NaN                    NaN                 0.0   \n293549           NaN                    NaN                 0.0   \n\n        days_since_last_dose chills body_pain loss_of_taste_and_smell fatigue  \\\n0                        NaN   None      None                    None    None   \n2                        NaN   None      None                    None    None   \n3                        NaN   None      None                    None    None   \n4                        NaN   None      None                    None    None   \n5                        NaN   None      None                    None    None   \n...                      ...    ...       ...                     ...     ...   \n293545                   NaN   None      None                    None    None   \n293546                   NaN   None      None                    None    None   \n293547                   NaN   None      None                    None    None   \n293548                   NaN   None      None                    None    None   \n293549                   NaN   None      None                    None    None   \n\n       cough  cold diarrhea sore_throat asymptomatic  fittness    sex    age  \n0       None  None     None        None         None     380.0  773.0  814.0  \n2       None  None     None        None         None       NaN    NaN    NaN  \n3       None  None     None        None         None     380.0  773.0  816.0  \n4       None  None     None        None         None       NaN    NaN    NaN  \n5       None  None     None        None         None     379.0  774.0  816.0  \n...      ...   ...      ...         ...          ...       ...    ...    ...  \n293545  None  None     None        None         None     379.0  774.0  817.0  \n293546  None  None     None        None         None     496.0  774.0  816.0  \n293547  None  None     None        None         None     496.0  774.0  816.0  \n293548  None  None     None        None         None     380.0  774.0  813.0  \n293549  None  None     None        None         None     376.0  774.0  815.0  \n\n[162690 rows x 20 columns]",
      "text/html": "<div>\n<style scoped>\n    .dataframe tbody tr th:only-of-type {\n        vertical-align: middle;\n    }\n\n    .dataframe tbody tr th {\n        vertical-align: top;\n    }\n\n    .dataframe thead th {\n        text-align: right;\n    }\n</style>\n<table border=\"1\" class=\"dataframe\">\n  <thead>\n    <tr style=\"text-align: right;\">\n      <th></th>\n      <th>omicronba1_share</th>\n      <th>omicronba2_share</th>\n      <th>delta_share</th>\n      <th>rhr_metric</th>\n      <th>steps_metric</th>\n      <th>sleep_duration_metric</th>\n      <th>vaccination_status</th>\n      <th>days_since_last_dose</th>\n      <th>chills</th>\n      <th>body_pain</th>\n      <th>loss_of_taste_and_smell</th>\n      <th>fatigue</th>\n      <th>cough</th>\n      <th>cold</th>\n      <th>diarrhea</th>\n      <th>sore_throat</th>\n      <th>asymptomatic</th>\n      <th>fittness</th>\n      <th>sex</th>\n      <th>age</th>\n    </tr>\n  </thead>\n  <tbody>\n    <tr>\n      <th>0</th>\n      <td>0.0</td>\n      <td>0.0</td>\n      <td>0.0</td>\n      <td>0.812354</td>\n      <td>-0.592758</td>\n      <td>NaN</td>\n      <td>0.0</td>\n      <td>NaN</td>\n      <td>None</td>\n      <td>None</td>\n      <td>None</td>\n      <td>None</td>\n      <td>None</td>\n      <td>None</td>\n      <td>None</td>\n      <td>None</td>\n      <td>None</td>\n      <td>380.0</td>\n      <td>773.0</td>\n      <td>814.0</td>\n    </tr>\n    <tr>\n      <th>2</th>\n      <td>0.0</td>\n      <td>0.0</td>\n      <td>0.0</td>\n      <td>1.362409</td>\n      <td>NaN</td>\n      <td>NaN</td>\n      <td>0.0</td>\n      <td>NaN</td>\n      <td>None</td>\n      <td>None</td>\n      <td>None</td>\n      <td>None</td>\n      <td>None</td>\n      <td>None</td>\n      <td>None</td>\n      <td>None</td>\n      <td>None</td>\n      <td>NaN</td>\n      <td>NaN</td>\n      <td>NaN</td>\n    </tr>\n    <tr>\n      <th>3</th>\n      <td>0.0</td>\n      <td>0.0</td>\n      <td>0.0</td>\n      <td>-0.329008</td>\n      <td>-0.220081</td>\n      <td>0.531772</td>\n      <td>0.0</td>\n      <td>NaN</td>\n      <td>None</td>\n      <td>None</td>\n      <td>None</td>\n      <td>None</td>\n      <td>None</td>\n      <td>None</td>\n      <td>None</td>\n      <td>None</td>\n      <td>None</td>\n      <td>380.0</td>\n      <td>773.0</td>\n      <td>816.0</td>\n    </tr>\n    <tr>\n      <th>4</th>\n      <td>0.0</td>\n      <td>0.0</td>\n      <td>0.0</td>\n      <td>0.269898</td>\n      <td>-0.871581</td>\n      <td>NaN</td>\n      <td>0.0</td>\n      <td>NaN</td>\n      <td>None</td>\n      <td>None</td>\n      <td>None</td>\n      <td>None</td>\n      <td>None</td>\n      <td>None</td>\n      <td>None</td>\n      <td>None</td>\n      <td>None</td>\n      <td>NaN</td>\n      <td>NaN</td>\n      <td>NaN</td>\n    </tr>\n    <tr>\n      <th>5</th>\n      <td>0.0</td>\n      <td>0.0</td>\n      <td>0.0</td>\n      <td>0.851576</td>\n      <td>-0.088174</td>\n      <td>NaN</td>\n      <td>0.0</td>\n      <td>NaN</td>\n      <td>None</td>\n      <td>None</td>\n      <td>None</td>\n      <td>None</td>\n      <td>None</td>\n      <td>None</td>\n      <td>None</td>\n      <td>None</td>\n      <td>None</td>\n      <td>379.0</td>\n      <td>774.0</td>\n      <td>816.0</td>\n    </tr>\n    <tr>\n      <th>...</th>\n      <td>...</td>\n      <td>...</td>\n      <td>...</td>\n      <td>...</td>\n      <td>...</td>\n      <td>...</td>\n      <td>...</td>\n      <td>...</td>\n      <td>...</td>\n      <td>...</td>\n      <td>...</td>\n      <td>...</td>\n      <td>...</td>\n      <td>...</td>\n      <td>...</td>\n      <td>...</td>\n      <td>...</td>\n      <td>...</td>\n      <td>...</td>\n      <td>...</td>\n    </tr>\n    <tr>\n      <th>293545</th>\n      <td>NaN</td>\n      <td>NaN</td>\n      <td>NaN</td>\n      <td>1.131692</td>\n      <td>0.275162</td>\n      <td>NaN</td>\n      <td>0.0</td>\n      <td>NaN</td>\n      <td>None</td>\n      <td>None</td>\n      <td>None</td>\n      <td>None</td>\n      <td>None</td>\n      <td>None</td>\n      <td>None</td>\n      <td>None</td>\n      <td>None</td>\n      <td>379.0</td>\n      <td>774.0</td>\n      <td>817.0</td>\n    </tr>\n    <tr>\n      <th>293546</th>\n      <td>NaN</td>\n      <td>NaN</td>\n      <td>NaN</td>\n      <td>NaN</td>\n      <td>NaN</td>\n      <td>NaN</td>\n      <td>0.0</td>\n      <td>NaN</td>\n      <td>None</td>\n      <td>None</td>\n      <td>None</td>\n      <td>None</td>\n      <td>None</td>\n      <td>None</td>\n      <td>None</td>\n      <td>None</td>\n      <td>None</td>\n      <td>496.0</td>\n      <td>774.0</td>\n      <td>816.0</td>\n    </tr>\n    <tr>\n      <th>293547</th>\n      <td>NaN</td>\n      <td>NaN</td>\n      <td>NaN</td>\n      <td>NaN</td>\n      <td>NaN</td>\n      <td>NaN</td>\n      <td>0.0</td>\n      <td>NaN</td>\n      <td>None</td>\n      <td>None</td>\n      <td>None</td>\n      <td>None</td>\n      <td>None</td>\n      <td>None</td>\n      <td>None</td>\n      <td>None</td>\n      <td>None</td>\n      <td>496.0</td>\n      <td>774.0</td>\n      <td>816.0</td>\n    </tr>\n    <tr>\n      <th>293548</th>\n      <td>NaN</td>\n      <td>NaN</td>\n      <td>NaN</td>\n      <td>NaN</td>\n      <td>NaN</td>\n      <td>NaN</td>\n      <td>0.0</td>\n      <td>NaN</td>\n      <td>None</td>\n      <td>None</td>\n      <td>None</td>\n      <td>None</td>\n      <td>None</td>\n      <td>None</td>\n      <td>None</td>\n      <td>None</td>\n      <td>None</td>\n      <td>380.0</td>\n      <td>774.0</td>\n      <td>813.0</td>\n    </tr>\n    <tr>\n      <th>293549</th>\n      <td>NaN</td>\n      <td>NaN</td>\n      <td>NaN</td>\n      <td>NaN</td>\n      <td>NaN</td>\n      <td>NaN</td>\n      <td>0.0</td>\n      <td>NaN</td>\n      <td>None</td>\n      <td>None</td>\n      <td>None</td>\n      <td>None</td>\n      <td>None</td>\n      <td>None</td>\n      <td>None</td>\n      <td>None</td>\n      <td>None</td>\n      <td>376.0</td>\n      <td>774.0</td>\n      <td>815.0</td>\n    </tr>\n  </tbody>\n</table>\n<p>162690 rows × 20 columns</p>\n</div>"
     },
     "execution_count": 4,
     "metadata": {},
     "output_type": "execute_result"
    }
   ],
   "source": [
    "df"
   ],
   "metadata": {
    "collapsed": false,
    "pycharm": {
     "name": "#%%\n"
    }
   }
  },
  {
   "cell_type": "markdown",
   "source": [
    "As expected, the dataset is heavily imbalanced with a much higher number of negative than positive test results.\n",
    "The problems with this are illustrated below:"
   ],
   "metadata": {
    "collapsed": false,
    "pycharm": {
     "name": "#%% md\n"
    }
   }
  },
  {
   "cell_type": "code",
   "execution_count": 5,
   "outputs": [
    {
     "name": "stdout",
     "output_type": "stream",
     "text": [
      "Accuracy score of a dummy classifier: 0.955\n"
     ]
    },
    {
     "data": {
      "text/plain": "                  Accuracy  Balanced accuracy\nDummy classifier  0.955013                0.5",
      "text/html": "<div>\n<style scoped>\n    .dataframe tbody tr th:only-of-type {\n        vertical-align: middle;\n    }\n\n    .dataframe tbody tr th {\n        vertical-align: top;\n    }\n\n    .dataframe thead th {\n        text-align: right;\n    }\n</style>\n<table border=\"1\" class=\"dataframe\">\n  <thead>\n    <tr style=\"text-align: right;\">\n      <th></th>\n      <th>Accuracy</th>\n      <th>Balanced accuracy</th>\n    </tr>\n  </thead>\n  <tbody>\n    <tr>\n      <th>Dummy classifier</th>\n      <td>0.955013</td>\n      <td>0.5</td>\n    </tr>\n  </tbody>\n</table>\n</div>"
     },
     "execution_count": 5,
     "metadata": {},
     "output_type": "execute_result"
    }
   ],
   "source": [
    "from sklearn.model_selection import cross_validate\n",
    "from sklearn.dummy import DummyClassifier\n",
    "import pandas as pd\n",
    "\n",
    "dummy_clf = DummyClassifier(strategy=\"most_frequent\")\n",
    "scoring = [\"accuracy\", \"balanced_accuracy\"]\n",
    "\n",
    "index = []\n",
    "scores = {\"Accuracy\": [], \"Balanced accuracy\": []}\n",
    "\n",
    "# Score a dummy classifier as baseline\n",
    "index += [\"Dummy classifier\"]\n",
    "cv_result = cross_validate(dummy_clf, df, y, scoring=scoring)\n",
    "scores[\"Accuracy\"].append(cv_result[\"test_accuracy\"].mean())\n",
    "scores[\"Balanced accuracy\"].append(cv_result[\"test_balanced_accuracy\"].mean())\n",
    "print(f\"Accuracy score of a dummy classifier: {cv_result['test_accuracy'].mean():.3f}\")\n",
    "\n",
    "pd.DataFrame(scores, index=index)"
   ],
   "metadata": {
    "collapsed": false,
    "pycharm": {
     "name": "#%%\n"
    }
   }
  },
  {
   "cell_type": "markdown",
   "source": [
    "This shows that a dummy classifier that classifies all records as the majority class has very high accuracy, simply because it classifies most of the cases correctly. If one corrects for the class imbalance, the accuracy is still 0.5 (random)."
   ],
   "metadata": {
    "collapsed": false,
    "pycharm": {
     "name": "#%% md\n"
    }
   }
  },
  {
   "cell_type": "code",
   "execution_count": 6,
   "outputs": [],
   "source": [
    "from sklearn.impute import SimpleImputer\n",
    "from sklearn.preprocessing import StandardScaler, OrdinalEncoder\n",
    "from sklearn.pipeline import make_pipeline\n",
    "from sklearn.compose import make_column_transformer\n",
    "from sklearn.compose import make_column_selector as selector\n",
    "from sklearn.linear_model import LogisticRegression\n",
    "\n",
    "num_pipe = make_pipeline(\n",
    "    StandardScaler(), SimpleImputer(strategy=\"mean\", add_indicator=True)\n",
    ")\n",
    "cat_pipe = make_pipeline(\n",
    "    SimpleImputer(strategy=\"constant\", fill_value=False),\n",
    "    OrdinalEncoder(),\n",
    ")\n",
    "preprocessor_linear = make_column_transformer(\n",
    "    [num_pipe, selector(dtype_include=\"number\")],\n",
    "    [cat_pipe, selector(dtype_include=\"object\")],\n",
    "    n_jobs=2,\n",
    ")\n",
    "lr_clf = make_pipeline(preprocessor_linear, LogisticRegression(max_iter=1000))"
   ],
   "metadata": {
    "collapsed": false,
    "pycharm": {
     "name": "#%%\n"
    }
   }
  },
  {
   "cell_type": "code",
   "execution_count": 7,
   "outputs": [
    {
     "name": "stderr",
     "output_type": "stream",
     "text": [
      "/home/kolb/.cache/pypoetry/virtualenvs/ml-nowcasting-jKKypzXv-py3.8/lib/python3.8/site-packages/sklearn/utils/validation.py:993: DataConversionWarning: A column-vector y was passed when a 1d array was expected. Please change the shape of y to (n_samples, ), for example using ravel().\n",
      "  y = column_or_1d(y, warn=True)\n",
      "/home/kolb/.cache/pypoetry/virtualenvs/ml-nowcasting-jKKypzXv-py3.8/lib/python3.8/site-packages/sklearn/utils/validation.py:993: DataConversionWarning: A column-vector y was passed when a 1d array was expected. Please change the shape of y to (n_samples, ), for example using ravel().\n",
      "  y = column_or_1d(y, warn=True)\n",
      "/home/kolb/.cache/pypoetry/virtualenvs/ml-nowcasting-jKKypzXv-py3.8/lib/python3.8/site-packages/sklearn/utils/validation.py:993: DataConversionWarning: A column-vector y was passed when a 1d array was expected. Please change the shape of y to (n_samples, ), for example using ravel().\n",
      "  y = column_or_1d(y, warn=True)\n",
      "/home/kolb/.cache/pypoetry/virtualenvs/ml-nowcasting-jKKypzXv-py3.8/lib/python3.8/site-packages/sklearn/utils/validation.py:993: DataConversionWarning: A column-vector y was passed when a 1d array was expected. Please change the shape of y to (n_samples, ), for example using ravel().\n",
      "  y = column_or_1d(y, warn=True)\n",
      "/home/kolb/.cache/pypoetry/virtualenvs/ml-nowcasting-jKKypzXv-py3.8/lib/python3.8/site-packages/sklearn/utils/validation.py:993: DataConversionWarning: A column-vector y was passed when a 1d array was expected. Please change the shape of y to (n_samples, ), for example using ravel().\n",
      "  y = column_or_1d(y, warn=True)\n"
     ]
    },
    {
     "data": {
      "text/plain": "                     Accuracy  Balanced accuracy\nDummy classifier     0.955013           0.500000\nLogistic regression  0.958854           0.679055",
      "text/html": "<div>\n<style scoped>\n    .dataframe tbody tr th:only-of-type {\n        vertical-align: middle;\n    }\n\n    .dataframe tbody tr th {\n        vertical-align: top;\n    }\n\n    .dataframe thead th {\n        text-align: right;\n    }\n</style>\n<table border=\"1\" class=\"dataframe\">\n  <thead>\n    <tr style=\"text-align: right;\">\n      <th></th>\n      <th>Accuracy</th>\n      <th>Balanced accuracy</th>\n    </tr>\n  </thead>\n  <tbody>\n    <tr>\n      <th>Dummy classifier</th>\n      <td>0.955013</td>\n      <td>0.500000</td>\n    </tr>\n    <tr>\n      <th>Logistic regression</th>\n      <td>0.958854</td>\n      <td>0.679055</td>\n    </tr>\n  </tbody>\n</table>\n</div>"
     },
     "execution_count": 7,
     "metadata": {},
     "output_type": "execute_result"
    }
   ],
   "source": [
    "# Train and score logistic regression\n",
    "index += [\"Logistic regression\"]\n",
    "cv_result = cross_validate(lr_clf, df, y, scoring=scoring)\n",
    "scores[\"Accuracy\"].append(cv_result[\"test_accuracy\"].mean())\n",
    "scores[\"Balanced accuracy\"].append(cv_result[\"test_balanced_accuracy\"].mean())\n",
    "\n",
    "pd.DataFrame(scores, index=index)"
   ],
   "metadata": {
    "collapsed": false,
    "pycharm": {
     "name": "#%%\n"
    }
   }
  },
  {
   "cell_type": "markdown",
   "source": [
    "So the accuracy of the logistic regression is essentially the same as a dummy baseline, if it is not corrected for the imbalance of classes in the dataset. Correcting for imbalance, the accuracy is better than chance, but still not very high. There are two things to improve the performance of the model:\n",
    "* First, subsampling the majority class during training to get a balanced training set and\n",
    "* Second, adjusting the loss function of the classifier to weigh cases of the minority class higher."
   ],
   "metadata": {
    "collapsed": false,
    "pycharm": {
     "name": "#%% md\n"
    }
   }
  },
  {
   "cell_type": "code",
   "execution_count": 8,
   "outputs": [
    {
     "name": "stderr",
     "output_type": "stream",
     "text": [
      "/home/kolb/.cache/pypoetry/virtualenvs/ml-nowcasting-jKKypzXv-py3.8/lib/python3.8/site-packages/sklearn/utils/validation.py:993: DataConversionWarning: A column-vector y was passed when a 1d array was expected. Please change the shape of y to (n_samples, ), for example using ravel().\n",
      "  y = column_or_1d(y, warn=True)\n",
      "/home/kolb/.cache/pypoetry/virtualenvs/ml-nowcasting-jKKypzXv-py3.8/lib/python3.8/site-packages/sklearn/utils/validation.py:993: DataConversionWarning: A column-vector y was passed when a 1d array was expected. Please change the shape of y to (n_samples, ), for example using ravel().\n",
      "  y = column_or_1d(y, warn=True)\n",
      "/home/kolb/.cache/pypoetry/virtualenvs/ml-nowcasting-jKKypzXv-py3.8/lib/python3.8/site-packages/sklearn/utils/validation.py:993: DataConversionWarning: A column-vector y was passed when a 1d array was expected. Please change the shape of y to (n_samples, ), for example using ravel().\n",
      "  y = column_or_1d(y, warn=True)\n",
      "/home/kolb/.cache/pypoetry/virtualenvs/ml-nowcasting-jKKypzXv-py3.8/lib/python3.8/site-packages/sklearn/utils/validation.py:993: DataConversionWarning: A column-vector y was passed when a 1d array was expected. Please change the shape of y to (n_samples, ), for example using ravel().\n",
      "  y = column_or_1d(y, warn=True)\n",
      "/home/kolb/.cache/pypoetry/virtualenvs/ml-nowcasting-jKKypzXv-py3.8/lib/python3.8/site-packages/sklearn/utils/validation.py:993: DataConversionWarning: A column-vector y was passed when a 1d array was expected. Please change the shape of y to (n_samples, ), for example using ravel().\n",
      "  y = column_or_1d(y, warn=True)\n"
     ]
    },
    {
     "data": {
      "text/plain": "                                                 Accuracy  Balanced accuracy\nDummy classifier                                 0.955013           0.500000\nLogistic regression                              0.958854           0.679055\nLogistic regression with balanced class weights  0.789993           0.786117",
      "text/html": "<div>\n<style scoped>\n    .dataframe tbody tr th:only-of-type {\n        vertical-align: middle;\n    }\n\n    .dataframe tbody tr th {\n        vertical-align: top;\n    }\n\n    .dataframe thead th {\n        text-align: right;\n    }\n</style>\n<table border=\"1\" class=\"dataframe\">\n  <thead>\n    <tr style=\"text-align: right;\">\n      <th></th>\n      <th>Accuracy</th>\n      <th>Balanced accuracy</th>\n    </tr>\n  </thead>\n  <tbody>\n    <tr>\n      <th>Dummy classifier</th>\n      <td>0.955013</td>\n      <td>0.500000</td>\n    </tr>\n    <tr>\n      <th>Logistic regression</th>\n      <td>0.958854</td>\n      <td>0.679055</td>\n    </tr>\n    <tr>\n      <th>Logistic regression with balanced class weights</th>\n      <td>0.789993</td>\n      <td>0.786117</td>\n    </tr>\n  </tbody>\n</table>\n</div>"
     },
     "execution_count": 8,
     "metadata": {},
     "output_type": "execute_result"
    }
   ],
   "source": [
    "lr_clf.set_params(logisticregression__class_weight=\"balanced\")\n",
    "\n",
    "index += [\"Logistic regression with balanced class weights\"]\n",
    "cv_result = cross_validate(lr_clf, df, y, scoring=scoring)\n",
    "scores[\"Accuracy\"].append(cv_result[\"test_accuracy\"].mean())\n",
    "scores[\"Balanced accuracy\"].append(cv_result[\"test_balanced_accuracy\"].mean())\n",
    "\n",
    "pd.DataFrame(scores, index=index)"
   ],
   "metadata": {
    "collapsed": false,
    "pycharm": {
     "name": "#%%\n"
    }
   }
  },
  {
   "cell_type": "code",
   "execution_count": 9,
   "outputs": [],
   "source": [
    "from imblearn.pipeline import make_pipeline as make_pipeline_with_sampler\n",
    "from imblearn.under_sampling import RandomUnderSampler\n",
    "\n",
    "lr_clf = make_pipeline_with_sampler(\n",
    "    preprocessor_linear,\n",
    "    RandomUnderSampler(random_state=42),\n",
    "    LogisticRegression(max_iter=1000),\n",
    ")"
   ],
   "metadata": {
    "collapsed": false,
    "pycharm": {
     "name": "#%%\n"
    }
   }
  },
  {
   "cell_type": "code",
   "execution_count": 10,
   "outputs": [
    {
     "name": "stderr",
     "output_type": "stream",
     "text": [
      "/home/kolb/.cache/pypoetry/virtualenvs/ml-nowcasting-jKKypzXv-py3.8/lib/python3.8/site-packages/sklearn/utils/validation.py:993: DataConversionWarning: A column-vector y was passed when a 1d array was expected. Please change the shape of y to (n_samples, ), for example using ravel().\n",
      "  y = column_or_1d(y, warn=True)\n",
      "/home/kolb/.cache/pypoetry/virtualenvs/ml-nowcasting-jKKypzXv-py3.8/lib/python3.8/site-packages/sklearn/utils/validation.py:993: DataConversionWarning: A column-vector y was passed when a 1d array was expected. Please change the shape of y to (n_samples, ), for example using ravel().\n",
      "  y = column_or_1d(y, warn=True)\n",
      "/home/kolb/.cache/pypoetry/virtualenvs/ml-nowcasting-jKKypzXv-py3.8/lib/python3.8/site-packages/sklearn/utils/validation.py:993: DataConversionWarning: A column-vector y was passed when a 1d array was expected. Please change the shape of y to (n_samples, ), for example using ravel().\n",
      "  y = column_or_1d(y, warn=True)\n",
      "/home/kolb/.cache/pypoetry/virtualenvs/ml-nowcasting-jKKypzXv-py3.8/lib/python3.8/site-packages/sklearn/utils/validation.py:993: DataConversionWarning: A column-vector y was passed when a 1d array was expected. Please change the shape of y to (n_samples, ), for example using ravel().\n",
      "  y = column_or_1d(y, warn=True)\n",
      "/home/kolb/.cache/pypoetry/virtualenvs/ml-nowcasting-jKKypzXv-py3.8/lib/python3.8/site-packages/sklearn/utils/validation.py:993: DataConversionWarning: A column-vector y was passed when a 1d array was expected. Please change the shape of y to (n_samples, ), for example using ravel().\n",
      "  y = column_or_1d(y, warn=True)\n"
     ]
    },
    {
     "data": {
      "text/plain": "                                                 Accuracy  Balanced accuracy\nDummy classifier                                 0.955013           0.500000\nLogistic regression                              0.958854           0.679055\nLogistic regression with balanced class weights  0.789993           0.786117\nUnder-sampling + Logistic regression             0.789919           0.796565",
      "text/html": "<div>\n<style scoped>\n    .dataframe tbody tr th:only-of-type {\n        vertical-align: middle;\n    }\n\n    .dataframe tbody tr th {\n        vertical-align: top;\n    }\n\n    .dataframe thead th {\n        text-align: right;\n    }\n</style>\n<table border=\"1\" class=\"dataframe\">\n  <thead>\n    <tr style=\"text-align: right;\">\n      <th></th>\n      <th>Accuracy</th>\n      <th>Balanced accuracy</th>\n    </tr>\n  </thead>\n  <tbody>\n    <tr>\n      <th>Dummy classifier</th>\n      <td>0.955013</td>\n      <td>0.500000</td>\n    </tr>\n    <tr>\n      <th>Logistic regression</th>\n      <td>0.958854</td>\n      <td>0.679055</td>\n    </tr>\n    <tr>\n      <th>Logistic regression with balanced class weights</th>\n      <td>0.789993</td>\n      <td>0.786117</td>\n    </tr>\n    <tr>\n      <th>Under-sampling + Logistic regression</th>\n      <td>0.789919</td>\n      <td>0.796565</td>\n    </tr>\n  </tbody>\n</table>\n</div>"
     },
     "execution_count": 10,
     "metadata": {},
     "output_type": "execute_result"
    }
   ],
   "source": [
    "index += [\"Under-sampling + Logistic regression\"]\n",
    "cv_result = cross_validate(lr_clf, df, y, scoring=scoring)\n",
    "scores[\"Accuracy\"].append(cv_result[\"test_accuracy\"].mean())\n",
    "scores[\"Balanced accuracy\"].append(cv_result[\"test_balanced_accuracy\"].mean())\n",
    "\n",
    "pd.DataFrame(scores, index=index)"
   ],
   "metadata": {
    "collapsed": false,
    "pycharm": {
     "name": "#%%\n"
    }
   }
  },
  {
   "cell_type": "markdown",
   "source": [
    "The performance of both options is comparable and substantially better than the naive regression approach in terms of balanced accuracy."
   ],
   "metadata": {
    "collapsed": false,
    "pycharm": {
     "name": "#%% md\n"
    }
   }
  }
 ],
 "metadata": {
  "kernelspec": {
   "display_name": "Python 3",
   "language": "python",
   "name": "python3"
  },
  "language_info": {
   "codemirror_mode": {
    "name": "ipython",
    "version": 2
   },
   "file_extension": ".py",
   "mimetype": "text/x-python",
   "name": "python",
   "nbconvert_exporter": "python",
   "pygments_lexer": "ipython2",
   "version": "2.7.6"
  }
 },
 "nbformat": 4,
 "nbformat_minor": 0
}