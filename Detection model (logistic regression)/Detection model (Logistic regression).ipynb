{
 "cells": [
  {
   "cell_type": "code",
   "execution_count": 1,
   "id": "eed7bedc",
   "metadata": {},
   "outputs": [],
   "source": [
    "import sklearn.metrics\n",
    "from psycopg2.sql import SQL, Identifier, Literal, Composed\n",
    "\n",
    "import ramda as R\n",
    "from numpy import nanstd, random\n",
    "import pandas as pd\n",
    "import seaborn as sns\n",
    "import matplotlib.pyplot as plt\n",
    "from datetime import date, timedelta\n",
    "from itertools import product\n",
    "from tqdm.notebook import tqdm\n",
    "from typing import List, Union\n",
    "\n",
    "from pathlib import Path\n",
    "from joblib import Memory, memory\n",
    "from psycopg2 import connect\n",
    "\n",
    "from sklearn.pipeline import make_pipeline\n",
    "from sklearn.preprocessing import StandardScaler\n",
    "from sklearn.linear_model import LogisticRegression\n",
    "from sklearn.model_selection import train_test_split\n",
    "from sklearn.metrics import ConfusionMatrixDisplay, confusion_matrix, precision_recall_curve, roc_curve\n",
    "import os\n",
    "import yaml\n",
    "\n",
    "notebook_path = os.path.abspath(\"Detection model (Logistic regression).ipynb\")\n",
    "\n",
    "cachedir = \"./db_cache\"\n",
    "Path(cachedir).mkdir(exist_ok=True)\n",
    "mem = Memory(location=cachedir, verbose=0)\n",
    "memory._build_func_identifier = lambda func: func.__name__\n",
    "\n",
    "\n",
    "def parse_yyyy_mm_dd(datestring: str) -> date:\n",
    "    return datetime.strptime(datestring, \"%Y-%m-%d\").date()\n",
    "\n",
    "\n",
    "def load_yaml_file(path) -> dict:\n",
    "    with open(path, \"r\") as file:\n",
    "        try:\n",
    "            return yaml.safe_load(file)\n",
    "        except yaml.YAMLError as exc:\n",
    "            print(exc)\n",
    "\n",
    "\n",
    "@mem.cache\n",
    "def pull_from_postgres(query: Union[str, SQL, Composed]) -> pd.DataFrame:\n",
    "    credentials = load_yaml_file(Path(notebook_path).with_name(\"postgres_credentials.yaml\"))\n",
    "    connection = connect(**credentials)\n",
    "    res = pd.read_sql(query, connection)\n",
    "    connection.close()\n",
    "    return res\n"
   ]
  },
  {
   "cell_type": "code",
   "execution_count": 2,
   "id": "7c0ce0fd",
   "metadata": {},
   "outputs": [],
   "source": [
    "def loading_and_pre_processing_pipeline(limit, batch):\n",
    "    \"\"\"\n",
    "    calcualte metrics from rhr and steps and join with test results and reported symptoms.\n",
    "\n",
    "    Date in test results and symptoms data is the first day of the week for which test and symptoms were reported.\n",
    "    Dates for baseline are 60 days prior to the test week,\n",
    "    Dates for signal in rhr and steps are the 7 days during the week for which the test was reported.\n",
    "\n",
    "    :param limit:\n",
    "    :param batch:\n",
    "    :return:\n",
    "    \"\"\"\n",
    "\n",
    "    rhr_metric = R.pipe(\n",
    "        load_vitals(limit, batch),\n",
    "        reformat_vitals,\n",
    "        R.converge(\n",
    "            add_with_time_offset(1, -7),\n",
    "            [rolling_median(\"60D\", 30, 1), rolling_max(\"7D\", 3, 1)],\n",
    "        ),\n",
    "    )(\"resting_heartrate\")\n",
    "\n",
    "    steps_metric = R.pipe(\n",
    "        load_vitals(limit, batch),\n",
    "        reformat_vitals,\n",
    "        R.converge(\n",
    "            add_with_time_offset(1, -7),\n",
    "            [rolling_median(\"60D\", 30, 1), rolling_mean(\"7D\", 3, 1)],\n",
    "        ),\n",
    "    )(\"steps\")\n",
    "\n",
    "    test_results = load_test_results_symptoms_sex_age()\n",
    "\n",
    "    return (\n",
    "        pd.concat([rhr_metric.stack(\"user_id\"), steps_metric.stack(\"user_id\")], axis=1)\n",
    "            .rename(columns={0: \"rhr_metric\", 1: \"steps_metric\"})\n",
    "            .join(test_results)\n",
    "    )\n",
    "\n",
    "\n",
    "def train_model(features: List[str], target: str, data: pd.DataFrame, random_state=42):\n",
    "    for feature in features:\n",
    "        assert feature in data.columns.values\n",
    "\n",
    "    assert target in data.columns.values\n",
    "\n",
    "    cleaned_features = data.dropna(axis=0, subset=features + [target])\n",
    "\n",
    "    X = cleaned_features[features].values\n",
    "    y = cleaned_features[target].astype(int).values\n",
    "\n",
    "    X_train, X_test, y_train, y_test = train_test_split(\n",
    "        X, y, test_size=0.33,\n",
    "        random_state=random_state\n",
    "    )\n",
    "\n",
    "    pipe = make_pipeline(StandardScaler(), LogisticRegression())\n",
    "    pipe.fit(X_train, y_train)\n",
    "\n",
    "    return pipe, X_test, y_test\n",
    "\n",
    "\n",
    "@R.curry\n",
    "def load_vitals(entries: int, batch: int, vital: str):\n",
    "    return pull_from_postgres(\n",
    "        SQL(\n",
    "            \"\"\"\n",
    "        SELECT\n",
    "            *\n",
    "        FROM\n",
    "            datenspende_derivatives.{vital}\n",
    "        WHERE\n",
    "            user_id\n",
    "        IN\n",
    "            (\n",
    "            SELECT\n",
    "                DISTINCT(user_id)\n",
    "            FROM\n",
    "                datenspende_derivatives.homogenized_features\n",
    "            )\n",
    "        ORDER BY\n",
    "            user_id\n",
    "        LIMIT\n",
    "            {limit}\n",
    "        OFFSET\n",
    "            {offset};\n",
    "        \"\"\"\n",
    "        ).format(\n",
    "            vital=Identifier(vital + \"_ct\"),\n",
    "            limit=Literal(entries),\n",
    "            offset=Literal(batch * entries),\n",
    "        )\n",
    "    )\n",
    "\n",
    "\n",
    "def load_test_results_symptoms_sex_age(*_) -> pd.DataFrame:\n",
    "    test_results = pull_from_postgres(\n",
    "        SQL(\n",
    "            \"\"\"\n",
    "            SELECT\n",
    "                test_week_start,\n",
    "                user_id,\n",
    "                f121 as vaccination,\n",
    "                f40 as chills,\n",
    "                f41 as body_pain,\n",
    "                f42 as loss_of_taste_and_smell,\n",
    "                f43 as fatigue,\n",
    "                f44 as cough,\n",
    "                f45 as cold,\n",
    "                f46 as diarrhea,\n",
    "                f47 as sore_throat,\n",
    "                f10 as test_result,\n",
    "                f76 as fittness,\n",
    "                f127 as sex,\n",
    "                f133 as age\n",
    "\n",
    "            FROM\n",
    "                datenspende_derivatives.homogenized_features\n",
    "            \"\"\"\n",
    "        )\n",
    "    )\n",
    "    test_results[\"date\"] = pd.to_datetime(\n",
    "        test_results[\"test_week_start\"], format=\"%Y-%m-%d\"\n",
    "    )\n",
    "    return test_results.set_index([\"date\", \"user_id\"])\n",
    "\n",
    "\n",
    "def reformat_vitals(vital_data):\n",
    "    tmp = vital_data.set_index(\"user_id\").transpose().reset_index()\n",
    "    tmp[\"date\"] = pd.to_datetime(tmp[\"index\"], format=\"%Y-%m-%d\")\n",
    "    return tmp.drop(columns=[\"index\"]).set_index(\"date\")\n",
    "\n",
    "\n",
    "@R.curry\n",
    "def rolling_median(\n",
    "        window: str, min_periods: int, thresh: int, vital_data: pd.DataFrame\n",
    "):\n",
    "    return (\n",
    "        vital_data.rolling(window, min_periods=min_periods)\n",
    "            .median()\n",
    "            .dropna(axis=0, how=\"all\", thresh=thresh)\n",
    "    )\n",
    "\n",
    "\n",
    "@R.curry\n",
    "def rolling_max(window: str, min_periods: int, thresh: int, vital_data: pd.DataFrame):\n",
    "    return (\n",
    "        vital_data.rolling(window, min_periods=min_periods)\n",
    "            .max()\n",
    "            .dropna(axis=0, how=\"all\", thresh=thresh)\n",
    "    )\n",
    "\n",
    "\n",
    "@R.curry\n",
    "def rolling_mean(window: str, min_periods: int, thresh: int, vital_data: pd.DataFrame):\n",
    "    return (\n",
    "        vital_data.rolling(window, min_periods=min_periods)\n",
    "            .mean()\n",
    "            .dropna(axis=0, how=\"all\", thresh=thresh)\n",
    "    )\n",
    "\n",
    "\n",
    "@R.curry\n",
    "def add_with_time_offset(baseline_offset_days, event_offset_days, baseline: pd.DataFrame, event: pd.DataFrame):\n",
    "    b_tmp = baseline.copy()\n",
    "    e_tmp = event.copy()\n",
    "    b_tmp.index = b_tmp.index + pd.tseries.offsets.DateOffset(days=baseline_offset_days)\n",
    "    e_tmp.index = e_tmp.index + pd.tseries.offsets.DateOffset(days=event_offset_days)\n",
    "    return e_tmp.sub(b_tmp).dropna(axis=0, how=\"all\")\n",
    "\n",
    "\n",
    "def normalize_with_std(df: pd.DataFrame):\n",
    "    return df / nanstd(df.values.flatten())\n",
    "\n",
    "\n",
    "def reindex_test_results(test_results: pd.DataFrame) -> pd.DataFrame:\n",
    "    values = []\n",
    "    for date, user in tqdm(test_results.index.values):\n",
    "        values += list(\n",
    "            product(\n",
    "                pd.date_range(start=date, end=date + timedelta(days=6)).values, [user]\n",
    "            )\n",
    "        )\n",
    "    return test_results.reindex(\n",
    "        pd.MultiIndex.from_tuples(values, names=[\"date\", \"user_id\"])\n",
    "    ).ffill()\n",
    "\n",
    "\n"
   ]
  },
  {
   "cell_type": "code",
   "execution_count": 3,
   "id": "a079725d",
   "metadata": {},
   "outputs": [],
   "source": [
    "feature_data = loading_and_pre_processing_pipeline(500000, 0)\n",
    "cleaned_feature_data = feature_data.drop(columns=[\"vaccination\"]).dropna(axis=0)"
   ]
  },
  {
   "cell_type": "code",
   "execution_count": null,
   "id": "2697429d",
   "metadata": {
    "pycharm": {
     "name": "#%%\n"
    }
   },
   "outputs": [],
   "source": []
  },
  {
   "cell_type": "code",
   "execution_count": 34,
   "id": "dd02d70d",
   "metadata": {},
   "outputs": [
    {
     "name": "stderr",
     "output_type": "stream",
     "text": [
      "/home/kolb/.cache/pypoetry/virtualenvs/analysis-jKKypzXv-py3.8/lib/python3.8/site-packages/sklearn/utils/deprecation.py:87: FutureWarning:\n",
      "\n",
      "Function plot_roc_curve is deprecated; Function :func:`plot_roc_curve` is deprecated in 1.0 and will be removed in 1.2. Use one of the class methods: :meth:`sklearn.metric.RocCurveDisplay.from_predictions` or :meth:`sklearn.metric.RocCurveDisplay.from_estimator`.\n",
      "\n"
     ]
    },
    {
     "name": "stdout",
     "output_type": "stream",
     "text": [
      "Text(0, 0, '1')\n"
     ]
    },
    {
     "data": {
      "image/png": "[encoded data removed]",
      "text/plain": [
       "<Figure size 576x288 with 3 Axes>"
      ]
     },
     "metadata": {
      "needs_background": "light"
     },
     "output_type": "display_data"
    }
   ],
   "source": [
    "\n",
    "from sklearn.inspection import permutation_importance\n",
    "from sklearn.metrics import plot_roc_curve\n",
    "from matplotlib.colors import ListedColormap\n",
    "\n",
    "color_palette = sns.color_palette(\"hls\", 8)\n",
    "colormap = ListedColormap(sns.color_palette(\"hls\", 8).as_hex())\n",
    "\n",
    "feature_names = [\n",
    "    \"rhr_metric\",\n",
    "    \"steps_metric\",\n",
    "    \"chills\",\n",
    "    \"body_pain\",\n",
    "    \"loss_of_taste_and_smell\",\n",
    "    \"fatigue\",\n",
    "    \"cough\",\n",
    "    \"cold\",\n",
    "    \"diarrhea\",\n",
    "    \"sore_throat\",\n",
    "    \"fittness\",\n",
    "    \"sex\",\n",
    "    \"age\"\n",
    "]\n",
    "target = 'test_result'\n",
    "\n",
    "def plot_analysis(classifier, X_test, y_test, feature_names, threshold):\n",
    "    def plot_feature_importance(ax, classifier, X_test, y_test, feature_names):\n",
    "        \"\"\"Box plot of permutation feature importance\n",
    "        \"\"\"\n",
    "        importance = permutation_importance(classifier, X_test, y_test, n_repeats=20)\n",
    "        decreasing_importance = pd.DataFrame(\n",
    "            {'mean': importance['importances_mean'], 'label': feature_names}).sort_values(\n",
    "            'mean', ascending=False).label.values\n",
    "\n",
    "        df = pd.DataFrame(columns=pd.Index(data=feature_names, name='features'),\n",
    "                          data=importance['importances'].T).stack(\n",
    "            'features').reset_index()\n",
    "        df.columns = ['iter', 'features', 'importance']\n",
    "        sns.boxplot(y='features', x='importance', data=df, order=decreasing_importance, ax=ax, palette=color_palette)\n",
    "\n",
    "    def plot_confusion_matrix_with_threshold(ax, classifier, X_test, y_test, threshold):\n",
    "        \n",
    "        proba = classifier.predict_proba(X_test)\n",
    "        y_pred = (proba > threshold).T[1]\n",
    "        \n",
    "        cm = confusion_matrix(y_test, y_pred, sample_weight=None,\n",
    "                              labels=None, normalize='true')\n",
    "        \n",
    "        display_labels = pipeline.classes_\n",
    "        \n",
    "        disp = ConfusionMatrixDisplay(confusion_matrix=cm,\n",
    "                                      display_labels=display_labels)\n",
    "        \n",
    "        plot = disp.plot(include_values=True,\n",
    "                         ax=ax, xticks_rotation='horizontal',\n",
    "                         values_format=None, colorbar=False)\n",
    "        \n",
    "        print(plot.text_[0][0])\n",
    "\n",
    "    def plot_roc_vs_threshold(ax, classifier, X_test, y_test):\n",
    "        plot_roc_curve(classifier,  X_test, y_test, ax=ax)\n",
    "        ax.set_ylabel('True positive rate')\n",
    "        ax.set_xlabel('False positive rate')\n",
    "\n",
    "    with plt.style.context('seaborn'):\n",
    "        plt.rcParams.update({\n",
    "            \"figure.facecolor\": (1.0, 1.0, 1.0, 0.3),  # white   with alpha = 30%\n",
    "            \"axes.facecolor\": (1.0, 1.0, 1.0, 0.5),  # white with alpha = 50%\n",
    "            \"savefig.facecolor\": (1.0, 1.0, 1.0, 0.2),  # white  with alpha = 20%\n",
    "        })\n",
    "        fig, axes = plt.subplot_mosaic(\n",
    "            [\n",
    "                ['left', 'upper right'],\n",
    "                ['left', 'lower right']\n",
    "            ],\n",
    "            figsize=(8,  4), \n",
    "            constrained_layout=True, \n",
    "            gridspec_kw={\n",
    "                'width_ratios':[2, 1], \n",
    "                'height_ratios': [1,  1]\n",
    "            }\n",
    "        )\n",
    "\n",
    "        plot_roc_vs_threshold(axes['upper right'], pipeline, X_test, y_test)\n",
    "        plot_feature_importance(axes['left'], classifier, X_test, y_test, feature_names)\n",
    "        plot_confusion_matrix_with_threshold(axes['lower right'], classifier, X_test, y_test, threshold)\n",
    "\n",
    "        fig.savefig('model_metrics.png', dpi=300)\n",
    "\n",
    "pipeline, X_test, y_test = train_model(feature_names, target, cleaned_feature_data)\n",
    "\n",
    "plot_analysis(pipeline, X_test, y_test, feature_names, 0.5)"
   ]
  },
  {
   "cell_type": "code",
   "execution_count": 5,
   "id": "43d0b57f",
   "metadata": {},
   "outputs": [],
   "source": [
    "cleaned_features = feature_data.dropna(axis=0, subset=feature_names)"
   ]
  },
  {
   "cell_type": "code",
   "execution_count": 6,
   "id": "b7a541b7",
   "metadata": {},
   "outputs": [
    {
     "name": "stdout",
     "output_type": "stream",
     "text": [
      "online source not available HTTP Error 403: Forbidden\n"
     ]
    },
    {
     "data": {
      "text/html": [
       "<div>\n",
       "<style scoped>\n",
       "    .dataframe tbody tr th:only-of-type {\n",
       "        vertical-align: middle;\n",
       "    }\n",
       "\n",
       "    .dataframe tbody tr th {\n",
       "        vertical-align: top;\n",
       "    }\n",
       "\n",
       "    .dataframe thead th {\n",
       "        text-align: right;\n",
       "    }\n",
       "</style>\n",
       "<table border=\"1\" class=\"dataframe\">\n",
       "  <thead>\n",
       "    <tr style=\"text-align: right;\">\n",
       "      <th></th>\n",
       "      <th>Mit Auffrischimpfung 18-59 Jahre</th>\n",
       "      <th>Grundimmunisierte  18-59 Jahre</th>\n",
       "      <th>Ungeimpfte 18-59 Jahre</th>\n",
       "      <th>date</th>\n",
       "    </tr>\n",
       "  </thead>\n",
       "  <tbody>\n",
       "    <tr>\n",
       "      <th>14</th>\n",
       "      <td>28.150208</td>\n",
       "      <td>56.713818</td>\n",
       "      <td>176.191162</td>\n",
       "      <td>2021-10-18</td>\n",
       "    </tr>\n",
       "    <tr>\n",
       "      <th>15</th>\n",
       "      <td>43.242805</td>\n",
       "      <td>76.701698</td>\n",
       "      <td>226.838531</td>\n",
       "      <td>2021-10-25</td>\n",
       "    </tr>\n",
       "    <tr>\n",
       "      <th>16</th>\n",
       "      <td>42.874035</td>\n",
       "      <td>94.031586</td>\n",
       "      <td>265.999084</td>\n",
       "      <td>2021-11-01</td>\n",
       "    </tr>\n",
       "    <tr>\n",
       "      <th>17</th>\n",
       "      <td>56.454918</td>\n",
       "      <td>119.030441</td>\n",
       "      <td>326.103210</td>\n",
       "      <td>2021-11-08</td>\n",
       "    </tr>\n",
       "    <tr>\n",
       "      <th>18</th>\n",
       "      <td>59.637115</td>\n",
       "      <td>140.133987</td>\n",
       "      <td>352.588928</td>\n",
       "      <td>2021-11-15</td>\n",
       "    </tr>\n",
       "  </tbody>\n",
       "</table>\n",
       "</div>"
      ],
      "text/plain": [
       "   Mit Auffrischimpfung 18-59 Jahre  Grundimmunisierte  18-59 Jahre  \\\n",
       "14                        28.150208                       56.713818   \n",
       "15                        43.242805                       76.701698   \n",
       "16                        42.874035                       94.031586   \n",
       "17                        56.454918                      119.030441   \n",
       "18                        59.637115                      140.133987   \n",
       "\n",
       "    Ungeimpfte 18-59 Jahre       date  \n",
       "14              176.191162 2021-10-18  \n",
       "15              226.838531 2021-10-25  \n",
       "16              265.999084 2021-11-01  \n",
       "17              326.103210 2021-11-08  \n",
       "18              352.588928 2021-11-15  "
      ]
     },
     "execution_count": 6,
     "metadata": {},
     "output_type": "execute_result"
    }
   ],
   "source": [
    "# Load reported incidences from File\n",
    "online_source = 'https://www.rki.de/DE/Content/InfAZ/N/Neuartiges_Coronavirus/Daten/Inzidenz_Impfstatus.xlsx?__blob=publicationFile'\n",
    "from datetime import datetime\n",
    "\n",
    "local_source = os.path.join(os.path.dirname(notebook_path), 'Inzidenz_Impfstatus.xlsx')\n",
    "\n",
    "\n",
    "def load_excel(path):\n",
    "    data = pd.read_excel(\n",
    "        path,\n",
    "        sheet_name=1, header=3\n",
    "    )[['Mit Auffrischimpfung 18-59 Jahre', 'Grundimmunisierte  18-59 Jahre', 'Ungeimpfte 18-59 Jahre'\n",
    "        , 'Meldejahr', 'Meldewoche']]\n",
    "    data['date'] = data.apply(\n",
    "        lambda row: datetime.strptime(str(row['Meldejahr']) + \"-\" + str(row['Meldewoche']) + '-1', \"%Y-%W-%w\"),\n",
    "        axis=1)\n",
    "    return data[data['Mit Auffrischimpfung 18-59 Jahre'] != '--'].drop(columns=['Meldejahr', 'Meldewoche'])\n",
    "\n",
    "\n",
    "try:\n",
    "    reported_incidence = load_excel(online_source)\n",
    "except Exception as e:\n",
    "    print('online source not available', e)\n",
    "    reported_incidence = load_excel(local_source)\n",
    "reported_incidence.head()"
   ]
  },
  {
   "cell_type": "code",
   "execution_count": 35,
   "id": "0ad0305d",
   "metadata": {
    "pycharm": {
     "name": "#%%\n"
    }
   },
   "outputs": [],
   "source": [
    "MEAN_DAYS = 7\n",
    "\n",
    "\n",
    "@R.curry\n",
    "def predicted_incidence(classifier, feature_data):\n",
    "    proba_infected = classifier.predict_proba(feature_data[feature_names].values).T[1].T\n",
    "\n",
    "    p = pd.DataFrame(\n",
    "        data=proba_infected, index=cleaned_features.index, columns=[\"probability\"]\n",
    "    )\n",
    "\n",
    "    colname = f\"{MEAN_DAYS}d rolling mean detections\"\n",
    "\n",
    "    p[colname] = p[\"probability\"] > 0.5\n",
    "\n",
    "    p['all'] = p['probability'] > 0\n",
    "\n",
    "    # if individuals are detected as infected in more than one week, take only the first detection\n",
    "    only_first_positive_detections = (p[p[colname] == True]\n",
    "                                      .reset_index()\n",
    "                                      .sort_values(['user_id', 'date'])\n",
    "                                      .groupby(['user_id'])\n",
    "                                      .agg({colname: 'first', 'all': 'first', 'date': lambda x: list(x)[0]})\n",
    "                                      .reset_index()\n",
    "                                      )\n",
    "    all_negative_detections = p[p[colname] == False].reset_index()\n",
    "\n",
    "    detected_infections = pd.concat([only_first_positive_detections, all_negative_detections])\n",
    "\n",
    "    detected_infections['date'] = detected_infections['date'].apply(\n",
    "        lambda d: d + timedelta(days=int(random.randint(0, 7, 1))))\n",
    "\n",
    "    rolling_mean_detections = (\n",
    "        detected_infections\n",
    "            .groupby(\"date\")\n",
    "            .sum()\n",
    "            .rolling(f'{MEAN_DAYS}D').mean()\n",
    "            .drop(columns=[\"probability\", \"user_id\"])\n",
    "    )\n",
    "\n",
    "    rolling_mean_detections[colname] = rolling_mean_detections[colname].div(rolling_mean_detections['all'],\n",
    "                                                                            axis=0) * 100_000\n",
    "\n",
    "    return rolling_mean_detections.reset_index(), colname\n",
    "\n",
    "\n",
    "runs = []\n",
    "for i in range(10):\n",
    "    pipeline, X_test, y_test = train_model(feature_names, target, cleaned_feature_data, random_state=i)\n",
    "    nowcasted_incidence, predicted_incidence_column = predicted_incidence(pipeline, cleaned_features)\n",
    "    nowcasted_incidence['run_id'] = i\n",
    "    runs.append(\n",
    "        nowcasted_incidence[[predicted_incidence_column, 'run_id', 'date']])\n",
    "\n",
    "predicted_incidence_runs = pd.concat(runs).reset_index().sort_values('date')\n",
    "\n",
    "predicted_incidence_plot_data = predicted_incidence_runs.groupby('date').agg(\n",
    "    {predicted_incidence_column: ['mean', 'std']}).reset_index()\n",
    "predicted_incidence_plot_data.columns = ['date', 'mean', 'std']"
   ]
  },
  {
   "cell_type": "code",
   "execution_count": 36,
   "id": "059025b9",
   "metadata": {
    "pycharm": {
     "name": "#%%\n"
    }
   },
   "outputs": [
    {
     "data": {
      "application/vnd.plotly.v1+json": {
       "config": {
        "plotlyServerURL": "https://plot.ly"
       },
       "data": [
        {
         "hoverinfo": "skip",
         "legendgroup": "nowcast",
         "line": {
          "width": 0
         },
         "marker": {
          "color": "#444"
         },
         "mode": "lines",
         "showlegend": false,
         "type": "scatter",
         "x": [
          "2021-10-16T00:00:00.000000000",
          "2021-10-17T00:00:00.000000000",
          "2021-10-18T00:00:00.000000000",
          "2021-10-19T00:00:00.000000000",
          "2021-10-20T00:00:00.000000000",
          "2021-10-21T00:00:00.000000000",
          "2021-10-22T00:00:00.000000000",
          "2021-10-23T00:00:00.000000000",
          "2021-10-24T00:00:00.000000000",
          "2021-10-25T00:00:00.000000000",
          "2021-10-26T00:00:00.000000000",
          "2021-10-27T00:00:00.000000000",
          "2021-10-28T00:00:00.000000000",
          "2021-10-29T00:00:00.000000000",
          "2021-10-30T00:00:00.000000000",
          "2021-10-31T00:00:00.000000000",
          "2021-11-01T00:00:00.000000000",
          "2021-11-02T00:00:00.000000000",
          "2021-11-03T00:00:00.000000000",
          "2021-11-04T00:00:00.000000000",
          "2021-11-05T00:00:00.000000000",
          "2021-11-06T00:00:00.000000000",
          "2021-11-07T00:00:00.000000000",
          "2021-11-08T00:00:00.000000000",
          "2021-11-09T00:00:00.000000000",
          "2021-11-10T00:00:00.000000000",
          "2021-11-11T00:00:00.000000000",
          "2021-11-12T00:00:00.000000000",
          "2021-11-13T00:00:00.000000000",
          "2021-11-14T00:00:00.000000000",
          "2021-11-15T00:00:00.000000000",
          "2021-11-16T00:00:00.000000000",
          "2021-11-17T00:00:00.000000000",
          "2021-11-18T00:00:00.000000000",
          "2021-11-19T00:00:00.000000000",
          "2021-11-20T00:00:00.000000000",
          "2021-11-21T00:00:00.000000000",
          "2021-11-22T00:00:00.000000000",
          "2021-11-23T00:00:00.000000000",
          "2021-11-24T00:00:00.000000000",
          "2021-11-25T00:00:00.000000000",
          "2021-11-26T00:00:00.000000000",
          "2021-11-27T00:00:00.000000000",
          "2021-11-28T00:00:00.000000000",
          "2021-11-29T00:00:00.000000000",
          "2021-11-30T00:00:00.000000000",
          "2021-12-01T00:00:00.000000000",
          "2021-12-02T00:00:00.000000000",
          "2021-12-03T00:00:00.000000000",
          "2021-12-04T00:00:00.000000000",
          "2021-12-05T00:00:00.000000000",
          "2021-12-06T00:00:00.000000000",
          "2021-12-07T00:00:00.000000000",
          "2021-12-08T00:00:00.000000000",
          "2021-12-09T00:00:00.000000000",
          "2021-12-10T00:00:00.000000000",
          "2021-12-11T00:00:00.000000000",
          "2021-12-12T00:00:00.000000000",
          "2021-12-13T00:00:00.000000000",
          "2021-12-14T00:00:00.000000000",
          "2021-12-15T00:00:00.000000000",
          "2021-12-16T00:00:00.000000000",
          "2021-12-17T00:00:00.000000000",
          "2021-12-18T00:00:00.000000000",
          "2021-12-19T00:00:00.000000000",
          "2021-12-20T00:00:00.000000000",
          "2021-12-21T00:00:00.000000000",
          "2021-12-22T00:00:00.000000000",
          "2021-12-23T00:00:00.000000000",
          "2021-12-24T00:00:00.000000000",
          "2021-12-25T00:00:00.000000000",
          "2021-12-26T00:00:00.000000000",
          "2021-12-27T00:00:00.000000000",
          "2021-12-28T00:00:00.000000000",
          "2021-12-29T00:00:00.000000000",
          "2021-12-30T00:00:00.000000000",
          "2021-12-31T00:00:00.000000000",
          "2022-01-01T00:00:00.000000000",
          "2022-01-02T00:00:00.000000000",
          "2022-01-03T00:00:00.000000000",
          "2022-01-04T00:00:00.000000000",
          "2022-01-05T00:00:00.000000000",
          "2022-01-06T00:00:00.000000000",
          "2022-01-07T00:00:00.000000000",
          "2022-01-08T00:00:00.000000000",
          "2022-01-09T00:00:00.000000000",
          "2022-01-10T00:00:00.000000000",
          "2022-01-11T00:00:00.000000000",
          "2022-01-12T00:00:00.000000000",
          "2022-01-13T00:00:00.000000000",
          "2022-01-14T00:00:00.000000000",
          "2022-01-15T00:00:00.000000000",
          "2022-01-16T00:00:00.000000000",
          "2022-01-17T00:00:00.000000000",
          "2022-01-18T00:00:00.000000000",
          "2022-01-19T00:00:00.000000000",
          "2022-01-20T00:00:00.000000000",
          "2022-01-21T00:00:00.000000000",
          "2022-01-22T00:00:00.000000000",
          "2022-01-23T00:00:00.000000000",
          "2022-01-24T00:00:00.000000000",
          "2022-01-25T00:00:00.000000000",
          "2022-01-26T00:00:00.000000000",
          "2022-01-27T00:00:00.000000000",
          "2022-01-28T00:00:00.000000000",
          "2022-01-29T00:00:00.000000000",
          "2022-01-30T00:00:00.000000000",
          "2022-01-31T00:00:00.000000000",
          "2022-02-01T00:00:00.000000000",
          "2022-02-02T00:00:00.000000000",
          "2022-02-03T00:00:00.000000000",
          "2022-02-04T00:00:00.000000000",
          "2022-02-05T00:00:00.000000000",
          "2022-02-06T00:00:00.000000000",
          "2022-02-07T00:00:00.000000000",
          "2022-02-08T00:00:00.000000000",
          "2022-02-09T00:00:00.000000000",
          "2022-02-10T00:00:00.000000000",
          "2022-02-11T00:00:00.000000000",
          "2022-02-12T00:00:00.000000000",
          "2022-02-13T00:00:00.000000000",
          "2022-02-14T00:00:00.000000000",
          "2022-02-15T00:00:00.000000000",
          "2022-02-16T00:00:00.000000000",
          "2022-02-17T00:00:00.000000000",
          "2022-02-18T00:00:00.000000000",
          "2022-02-19T00:00:00.000000000",
          "2022-02-20T00:00:00.000000000",
          "2022-02-21T00:00:00.000000000",
          "2022-02-22T00:00:00.000000000",
          "2022-02-23T00:00:00.000000000",
          "2022-02-24T00:00:00.000000000",
          "2022-02-25T00:00:00.000000000",
          "2022-02-26T00:00:00.000000000",
          "2022-02-27T00:00:00.000000000",
          "2022-02-28T00:00:00.000000000",
          "2022-03-01T00:00:00.000000000",
          "2022-03-02T00:00:00.000000000",
          "2022-03-03T00:00:00.000000000",
          "2022-03-04T00:00:00.000000000",
          "2022-03-05T00:00:00.000000000"
         ],
         "y": [
          615.2960010244883,
          651.9210309451258,
          525.056626103942,
          501.68516236981566,
          595.9120728268341,
          695.3422269702587,
          694.2982760168884,
          648.0169750803436,
          702.628259904712,
          654.2299118598187,
          567.3119461023159,
          504.562625204259,
          446.88696076917165,
          450.21246380047404,
          503.4549031959614,
          421.1161288021938,
          439.92045331328484,
          477.3354586883678,
          476.22761154269807,
          460.26536997574925,
          513.9372075527408,
          569.3293091324059,
          555.8248766763841,
          574.3718410977755,
          514.9895724434596,
          519.2314086951367,
          568.4082741308689,
          516.2281384840289,
          588.4755745137622,
          574.0162946426802,
          539.8724207478273,
          525.6421977210296,
          524.1130003342232,
          521.2065271011917,
          483.4697771915863,
          516.5392303178119,
          454.7778588266847,
          397.1946221802814,
          381.51101434146244,
          423.11190819255233,
          401.9631499220684,
          440.6768753896648,
          469.0790964183644,
          457.79893578212534,
          475.51916853950183,
          454.79598406081413,
          474.74161100153276,
          456.57480488290946,
          421.05064499371605,
          438.8737943156999,
          461.9325862506855,
          436.11185552182303,
          438.14944278363896,
          437.95686877529613,
          469.0335340456946,
          475.32005913759804,
          461.81584146743774,
          442.22521424469346,
          367.6700068720835,
          378.684164108797,
          338.41150617752055,
          321.657875676694,
          309.36328315496155,
          284.0005948922094,
          269.66912878804095,
          241.74836075645192,
          253.65736340577183,
          233.7749094799134,
          192.0399607083355,
          214.1530951662513,
          203.60267252854624,
          252.20487105555327,
          275.0238997467642,
          286.46119634263925,
          281.4445101869577,
          310.38259954228,
          311.966353895497,
          320.3978936281521,
          305.4851462007071,
          285.42954285762227,
          268.1181196486038,
          278.6528856136571,
          281.2692699716238,
          298.2163959125437,
          292.89645589048143,
          332.85072834115255,
          376.8016026130719,
          402.0197041714709,
          406.9860508632024,
          440.1750068236514,
          431.8162738604557,
          435.3525481623304,
          453.0117870442805,
          480.79202733626573,
          508.1137342064741,
          459.868705012296,
          483.2415110464764,
          476.97237616538507,
          523.4177526599973,
          537.6059347608633,
          534.5547638740969,
          556.3399179757292,
          546.7313870188276,
          547.0778847370522,
          563.4976330111335,
          615.0485054634906,
          655.1182779096845,
          694.8237386121323,
          757.0550313815515,
          784.9654260512891,
          803.554437727264,
          887.2919266062643,
          874.0115287431413,
          883.4678280890741,
          791.9682592715778,
          741.1441629798597,
          708.8427991555575,
          723.3022756016086,
          737.4977856290536,
          716.8981921947404,
          710.0247943339308,
          716.1641406489055,
          751.4951955424287,
          836.9549989192292,
          854.5713746213848,
          900.8980451989244,
          886.5624955321387,
          899.3309510376098,
          989.2198784428572,
          944.612412652465,
          983.167393784659,
          915.0581719381246,
          878.1562526801656,
          830.9998895998973,
          823.1462229987246,
          817.7141374130942,
          838.3015822864971,
          848.2016862766601,
          843.5445210447259,
          864.5042574417305,
          852.5264831463007
         ]
        },
        {
         "fill": "tonexty",
         "fillcolor": "rgba(65, 172, 221, 0.3)",
         "hoverinfo": "skip",
         "legendgroup": "nowcast",
         "line": {
          "width": 0
         },
         "marker": {
          "color": "#444"
         },
         "mode": "lines",
         "name": "Confidence interval",
         "showlegend": false,
         "type": "scatter",
         "x": [
          "2021-10-16T00:00:00.000000000",
          "2021-10-17T00:00:00.000000000",
          "2021-10-18T00:00:00.000000000",
          "2021-10-19T00:00:00.000000000",
          "2021-10-20T00:00:00.000000000",
          "2021-10-21T00:00:00.000000000",
          "2021-10-22T00:00:00.000000000",
          "2021-10-23T00:00:00.000000000",
          "2021-10-24T00:00:00.000000000",
          "2021-10-25T00:00:00.000000000",
          "2021-10-26T00:00:00.000000000",
          "2021-10-27T00:00:00.000000000",
          "2021-10-28T00:00:00.000000000",
          "2021-10-29T00:00:00.000000000",
          "2021-10-30T00:00:00.000000000",
          "2021-10-31T00:00:00.000000000",
          "2021-11-01T00:00:00.000000000",
          "2021-11-02T00:00:00.000000000",
          "2021-11-03T00:00:00.000000000",
          "2021-11-04T00:00:00.000000000",
          "2021-11-05T00:00:00.000000000",
          "2021-11-06T00:00:00.000000000",
          "2021-11-07T00:00:00.000000000",
          "2021-11-08T00:00:00.000000000",
          "2021-11-09T00:00:00.000000000",
          "2021-11-10T00:00:00.000000000",
          "2021-11-11T00:00:00.000000000",
          "2021-11-12T00:00:00.000000000",
          "2021-11-13T00:00:00.000000000",
          "2021-11-14T00:00:00.000000000",
          "2021-11-15T00:00:00.000000000",
          "2021-11-16T00:00:00.000000000",
          "2021-11-17T00:00:00.000000000",
          "2021-11-18T00:00:00.000000000",
          "2021-11-19T00:00:00.000000000",
          "2021-11-20T00:00:00.000000000",
          "2021-11-21T00:00:00.000000000",
          "2021-11-22T00:00:00.000000000",
          "2021-11-23T00:00:00.000000000",
          "2021-11-24T00:00:00.000000000",
          "2021-11-25T00:00:00.000000000",
          "2021-11-26T00:00:00.000000000",
          "2021-11-27T00:00:00.000000000",
          "2021-11-28T00:00:00.000000000",
          "2021-11-29T00:00:00.000000000",
          "2021-11-30T00:00:00.000000000",
          "2021-12-01T00:00:00.000000000",
          "2021-12-02T00:00:00.000000000",
          "2021-12-03T00:00:00.000000000",
          "2021-12-04T00:00:00.000000000",
          "2021-12-05T00:00:00.000000000",
          "2021-12-06T00:00:00.000000000",
          "2021-12-07T00:00:00.000000000",
          "2021-12-08T00:00:00.000000000",
          "2021-12-09T00:00:00.000000000",
          "2021-12-10T00:00:00.000000000",
          "2021-12-11T00:00:00.000000000",
          "2021-12-12T00:00:00.000000000",
          "2021-12-13T00:00:00.000000000",
          "2021-12-14T00:00:00.000000000",
          "2021-12-15T00:00:00.000000000",
          "2021-12-16T00:00:00.000000000",
          "2021-12-17T00:00:00.000000000",
          "2021-12-18T00:00:00.000000000",
          "2021-12-19T00:00:00.000000000",
          "2021-12-20T00:00:00.000000000",
          "2021-12-21T00:00:00.000000000",
          "2021-12-22T00:00:00.000000000",
          "2021-12-23T00:00:00.000000000",
          "2021-12-24T00:00:00.000000000",
          "2021-12-25T00:00:00.000000000",
          "2021-12-26T00:00:00.000000000",
          "2021-12-27T00:00:00.000000000",
          "2021-12-28T00:00:00.000000000",
          "2021-12-29T00:00:00.000000000",
          "2021-12-30T00:00:00.000000000",
          "2021-12-31T00:00:00.000000000",
          "2022-01-01T00:00:00.000000000",
          "2022-01-02T00:00:00.000000000",
          "2022-01-03T00:00:00.000000000",
          "2022-01-04T00:00:00.000000000",
          "2022-01-05T00:00:00.000000000",
          "2022-01-06T00:00:00.000000000",
          "2022-01-07T00:00:00.000000000",
          "2022-01-08T00:00:00.000000000",
          "2022-01-09T00:00:00.000000000",
          "2022-01-10T00:00:00.000000000",
          "2022-01-11T00:00:00.000000000",
          "2022-01-12T00:00:00.000000000",
          "2022-01-13T00:00:00.000000000",
          "2022-01-14T00:00:00.000000000",
          "2022-01-15T00:00:00.000000000",
          "2022-01-16T00:00:00.000000000",
          "2022-01-17T00:00:00.000000000",
          "2022-01-18T00:00:00.000000000",
          "2022-01-19T00:00:00.000000000",
          "2022-01-20T00:00:00.000000000",
          "2022-01-21T00:00:00.000000000",
          "2022-01-22T00:00:00.000000000",
          "2022-01-23T00:00:00.000000000",
          "2022-01-24T00:00:00.000000000",
          "2022-01-25T00:00:00.000000000",
          "2022-01-26T00:00:00.000000000",
          "2022-01-27T00:00:00.000000000",
          "2022-01-28T00:00:00.000000000",
          "2022-01-29T00:00:00.000000000",
          "2022-01-30T00:00:00.000000000",
          "2022-01-31T00:00:00.000000000",
          "2022-02-01T00:00:00.000000000",
          "2022-02-02T00:00:00.000000000",
          "2022-02-03T00:00:00.000000000",
          "2022-02-04T00:00:00.000000000",
          "2022-02-05T00:00:00.000000000",
          "2022-02-06T00:00:00.000000000",
          "2022-02-07T00:00:00.000000000",
          "2022-02-08T00:00:00.000000000",
          "2022-02-09T00:00:00.000000000",
          "2022-02-10T00:00:00.000000000",
          "2022-02-11T00:00:00.000000000",
          "2022-02-12T00:00:00.000000000",
          "2022-02-13T00:00:00.000000000",
          "2022-02-14T00:00:00.000000000",
          "2022-02-15T00:00:00.000000000",
          "2022-02-16T00:00:00.000000000",
          "2022-02-17T00:00:00.000000000",
          "2022-02-18T00:00:00.000000000",
          "2022-02-19T00:00:00.000000000",
          "2022-02-20T00:00:00.000000000",
          "2022-02-21T00:00:00.000000000",
          "2022-02-22T00:00:00.000000000",
          "2022-02-23T00:00:00.000000000",
          "2022-02-24T00:00:00.000000000",
          "2022-02-25T00:00:00.000000000",
          "2022-02-26T00:00:00.000000000",
          "2022-02-27T00:00:00.000000000",
          "2022-02-28T00:00:00.000000000",
          "2022-03-01T00:00:00.000000000",
          "2022-03-02T00:00:00.000000000",
          "2022-03-03T00:00:00.000000000",
          "2022-03-04T00:00:00.000000000",
          "2022-03-05T00:00:00.000000000"
         ],
         "y": [
          65.21287215859388,
          25.67840598076782,
          163.07492613987858,
          228.11605353614186,
          265.9859537614027,
          197.0583911923011,
          239.29664283872188,
          258.2399718751025,
          249.20967435545577,
          283.03433477125367,
          272.3167981149411,
          273.5709011765057,
          231.8484440853647,
          210.7696744239292,
          205.18372486612745,
          266.93252459471336,
          226.52386341305473,
          230.14583580270175,
          219.7375028710125,
          273.232739426122,
          249.7382514067512,
          209.1775890907522,
          236.56807013804806,
          261.1660468383708,
          324.6861130586584,
          342.4410196937034,
          308.12649306087246,
          347.1493086489266,
          263.0660344119079,
          290.4020096529051,
          340.3032024802238,
          368.77868553436787,
          308.4018013101597,
          303.9469064955862,
          291.2518912999804,
          205.85131552718784,
          229.07606074252524,
          208.80427490061018,
          227.5853244060536,
          238.63939755562745,
          270.9328600715505,
          284.3257299839254,
          299.5793217782006,
          297.6966078383074,
          321.8369039412245,
          304.2920147939142,
          283.7581222312672,
          260.76941831808335,
          285.73963646299893,
          255.16132967559008,
          249.6850484301801,
          299.8113552545992,
          300.72856820105073,
          315.23003850897953,
          300.7753083440177,
          276.90861341653726,
          269.24017614867626,
          265.9416123625505,
          289.98622293625806,
          239.11185091206124,
          193.22683570214622,
          177.62664429600778,
          149.5670015547733,
          143.11431072398034,
          118.5288412550636,
          101.70277307960038,
          76.34813608121173,
          105.45019702649898,
          115.56270248792708,
          109.6596564383469,
          129.49264129116233,
          122.29102698441699,
          126.06140620151993,
          129.74727050304804,
          160.5516561927631,
          194.24085285701574,
          199.18477919730316,
          209.4916054809808,
          187.82158841354294,
          182.42967471137825,
          206.05549929308228,
          178.4518119459819,
          146.69118136229497,
          128.08815014774714,
          110.48542738221039,
          91.51234537645296,
          89.87695277574386,
          107.29696279289351,
          162.49677006848844,
          183.14039105683867,
          228.48836925130308,
          231.4069075985057,
          250.57097295126152,
          263.33788777903897,
          274.2855485912213,
          335.8511263843528,
          322.34612196520936,
          358.0346405735362,
          378.31679091779733,
          371.64525110495026,
          411.2394152198404,
          381.1228239370356,
          364.41103281222547,
          428.44205375905574,
          425.169785697002,
          416.05720057359315,
          448.1501577614148,
          494.75486058759,
          539.1945565739311,
          630.7004158321024,
          638.2446099190552,
          622.5338027018324,
          626.6025409077081,
          619.5287921446823,
          635.3221270301215,
          594.5133163518793,
          533.368294864837,
          502.50083795290163,
          449.0515428840931,
          517.9948147516511,
          493.65442081343883,
          510.00502982509784,
          561.6380999707069,
          587.7658044477491,
          592.5652575003246,
          638.9488052571883,
          664.654386103698,
          718.6461426815531,
          726.2190762564358,
          729.9416314774859,
          680.260699780285,
          722.5688521103611,
          665.9592419896715,
          689.6295108760215,
          654.6963603263696,
          597.875490401852,
          603.785231991657,
          554.5982547280943,
          602.5379132438198,
          622.6541897867417,
          616.9856094835895
         ]
        },
        {
         "hovertemplate": "%{y:.0f}",
         "legendgroup": "nowcast",
         "line": {
          "color": "#41ACDD",
          "width": 2.5
         },
         "mode": "lines",
         "name": "Nowcast",
         "type": "scatter",
         "x": [
          "2021-10-16T00:00:00.000000000",
          "2021-10-17T00:00:00.000000000",
          "2021-10-18T00:00:00.000000000",
          "2021-10-19T00:00:00.000000000",
          "2021-10-20T00:00:00.000000000",
          "2021-10-21T00:00:00.000000000",
          "2021-10-22T00:00:00.000000000",
          "2021-10-23T00:00:00.000000000",
          "2021-10-24T00:00:00.000000000",
          "2021-10-25T00:00:00.000000000",
          "2021-10-26T00:00:00.000000000",
          "2021-10-27T00:00:00.000000000",
          "2021-10-28T00:00:00.000000000",
          "2021-10-29T00:00:00.000000000",
          "2021-10-30T00:00:00.000000000",
          "2021-10-31T00:00:00.000000000",
          "2021-11-01T00:00:00.000000000",
          "2021-11-02T00:00:00.000000000",
          "2021-11-03T00:00:00.000000000",
          "2021-11-04T00:00:00.000000000",
          "2021-11-05T00:00:00.000000000",
          "2021-11-06T00:00:00.000000000",
          "2021-11-07T00:00:00.000000000",
          "2021-11-08T00:00:00.000000000",
          "2021-11-09T00:00:00.000000000",
          "2021-11-10T00:00:00.000000000",
          "2021-11-11T00:00:00.000000000",
          "2021-11-12T00:00:00.000000000",
          "2021-11-13T00:00:00.000000000",
          "2021-11-14T00:00:00.000000000",
          "2021-11-15T00:00:00.000000000",
          "2021-11-16T00:00:00.000000000",
          "2021-11-17T00:00:00.000000000",
          "2021-11-18T00:00:00.000000000",
          "2021-11-19T00:00:00.000000000",
          "2021-11-20T00:00:00.000000000",
          "2021-11-21T00:00:00.000000000",
          "2021-11-22T00:00:00.000000000",
          "2021-11-23T00:00:00.000000000",
          "2021-11-24T00:00:00.000000000",
          "2021-11-25T00:00:00.000000000",
          "2021-11-26T00:00:00.000000000",
          "2021-11-27T00:00:00.000000000",
          "2021-11-28T00:00:00.000000000",
          "2021-11-29T00:00:00.000000000",
          "2021-11-30T00:00:00.000000000",
          "2021-12-01T00:00:00.000000000",
          "2021-12-02T00:00:00.000000000",
          "2021-12-03T00:00:00.000000000",
          "2021-12-04T00:00:00.000000000",
          "2021-12-05T00:00:00.000000000",
          "2021-12-06T00:00:00.000000000",
          "2021-12-07T00:00:00.000000000",
          "2021-12-08T00:00:00.000000000",
          "2021-12-09T00:00:00.000000000",
          "2021-12-10T00:00:00.000000000",
          "2021-12-11T00:00:00.000000000",
          "2021-12-12T00:00:00.000000000",
          "2021-12-13T00:00:00.000000000",
          "2021-12-14T00:00:00.000000000",
          "2021-12-15T00:00:00.000000000",
          "2021-12-16T00:00:00.000000000",
          "2021-12-17T00:00:00.000000000",
          "2021-12-18T00:00:00.000000000",
          "2021-12-19T00:00:00.000000000",
          "2021-12-20T00:00:00.000000000",
          "2021-12-21T00:00:00.000000000",
          "2021-12-22T00:00:00.000000000",
          "2021-12-23T00:00:00.000000000",
          "2021-12-24T00:00:00.000000000",
          "2021-12-25T00:00:00.000000000",
          "2021-12-26T00:00:00.000000000",
          "2021-12-27T00:00:00.000000000",
          "2021-12-28T00:00:00.000000000",
          "2021-12-29T00:00:00.000000000",
          "2021-12-30T00:00:00.000000000",
          "2021-12-31T00:00:00.000000000",
          "2022-01-01T00:00:00.000000000",
          "2022-01-02T00:00:00.000000000",
          "2022-01-03T00:00:00.000000000",
          "2022-01-04T00:00:00.000000000",
          "2022-01-05T00:00:00.000000000",
          "2022-01-06T00:00:00.000000000",
          "2022-01-07T00:00:00.000000000",
          "2022-01-08T00:00:00.000000000",
          "2022-01-09T00:00:00.000000000",
          "2022-01-10T00:00:00.000000000",
          "2022-01-11T00:00:00.000000000",
          "2022-01-12T00:00:00.000000000",
          "2022-01-13T00:00:00.000000000",
          "2022-01-14T00:00:00.000000000",
          "2022-01-15T00:00:00.000000000",
          "2022-01-16T00:00:00.000000000",
          "2022-01-17T00:00:00.000000000",
          "2022-01-18T00:00:00.000000000",
          "2022-01-19T00:00:00.000000000",
          "2022-01-20T00:00:00.000000000",
          "2022-01-21T00:00:00.000000000",
          "2022-01-22T00:00:00.000000000",
          "2022-01-23T00:00:00.000000000",
          "2022-01-24T00:00:00.000000000",
          "2022-01-25T00:00:00.000000000",
          "2022-01-26T00:00:00.000000000",
          "2022-01-27T00:00:00.000000000",
          "2022-01-28T00:00:00.000000000",
          "2022-01-29T00:00:00.000000000",
          "2022-01-30T00:00:00.000000000",
          "2022-01-31T00:00:00.000000000",
          "2022-02-01T00:00:00.000000000",
          "2022-02-02T00:00:00.000000000",
          "2022-02-03T00:00:00.000000000",
          "2022-02-04T00:00:00.000000000",
          "2022-02-05T00:00:00.000000000",
          "2022-02-06T00:00:00.000000000",
          "2022-02-07T00:00:00.000000000",
          "2022-02-08T00:00:00.000000000",
          "2022-02-09T00:00:00.000000000",
          "2022-02-10T00:00:00.000000000",
          "2022-02-11T00:00:00.000000000",
          "2022-02-12T00:00:00.000000000",
          "2022-02-13T00:00:00.000000000",
          "2022-02-14T00:00:00.000000000",
          "2022-02-15T00:00:00.000000000",
          "2022-02-16T00:00:00.000000000",
          "2022-02-17T00:00:00.000000000",
          "2022-02-18T00:00:00.000000000",
          "2022-02-19T00:00:00.000000000",
          "2022-02-20T00:00:00.000000000",
          "2022-02-21T00:00:00.000000000",
          "2022-02-22T00:00:00.000000000",
          "2022-02-23T00:00:00.000000000",
          "2022-02-24T00:00:00.000000000",
          "2022-02-25T00:00:00.000000000",
          "2022-02-26T00:00:00.000000000",
          "2022-02-27T00:00:00.000000000",
          "2022-02-28T00:00:00.000000000",
          "2022-03-01T00:00:00.000000000",
          "2022-03-02T00:00:00.000000000",
          "2022-03-03T00:00:00.000000000",
          "2022-03-04T00:00:00.000000000"
         ],
         "y": [
          340.2544365915411,
          338.7997184629468,
          344.0657761219103,
          364.90060795297876,
          430.9490132941184,
          446.2003090812799,
          466.79745942780517,
          453.1284734777231,
          475.91896713008384,
          468.6321233155362,
          419.8143721086285,
          389.06676319038235,
          339.36770242726817,
          330.4910691122016,
          354.3193140310444,
          344.0243266984536,
          333.2221583631698,
          353.7406472455348,
          347.9825572068553,
          366.74905470093563,
          381.837729479746,
          389.2534491115791,
          396.19647340721605,
          417.76894396807313,
          419.837842751059,
          430.83621419442005,
          438.2673835958707,
          431.68872356647773,
          425.7708044628351,
          432.2091521477927,
          440.08781161402555,
          447.21044162769874,
          416.25740082219147,
          412.57671679838893,
          387.36083424578334,
          361.19527292249984,
          341.92695978460495,
          302.99944854044577,
          304.548169373758,
          330.8756528740899,
          336.44800499680946,
          362.5013026867951,
          384.3292090982825,
          377.74777181021636,
          398.67803624036316,
          379.54399942736416,
          379.24986661639997,
          358.6721116004964,
          353.3951407283575,
          347.017561995645,
          355.8088173404328,
          367.9616053882111,
          369.43900549234485,
          376.59345364213783,
          384.9044211948561,
          376.11433627706765,
          365.528008808057,
          354.08341330362197,
          328.8281149041708,
          308.8980075104291,
          265.8191709398334,
          249.6422599863509,
          229.46514235486742,
          213.55745280809487,
          194.09898502155227,
          171.72556691802615,
          165.0027497434918,
          169.6125532532062,
          153.8013315981313,
          161.9063758022991,
          166.54765690985428,
          187.24794901998513,
          200.54265297414204,
          208.10423342284366,
          220.99808318986038,
          252.31172619964786,
          255.57556654640007,
          264.94474955456644,
          246.65336730712502,
          233.92960878450026,
          237.08680947084304,
          228.55234877981948,
          213.9802256669594,
          213.1522730301454,
          201.6909416363459,
          212.18153685880276,
          233.33927769440788,
          254.6583334821822,
          284.74141046584543,
          311.65769894024504,
          330.1523215558794,
          333.37972788041805,
          351.791379997771,
          372.06495755765235,
          391.1996413988477,
          397.8599156983244,
          402.79381650584287,
          417.50350836946063,
          450.8672717888973,
          454.6255929329068,
          472.89708954696863,
          468.7313709563824,
          455.57120991552654,
          487.75996924805395,
          494.33370935406776,
          515.5528530185419,
          551.6342178355496,
          594.7892995998611,
          648.1247939777413,
          707.8329209416958,
          720.8995238231596,
          754.9128646540483,
          750.3070348254247,
          751.4983101168782,
          713.6451931508497,
          667.8287396658695,
          621.1055470101973,
          612.9015567772551,
          593.2746642565734,
          617.4465034731958,
          601.8396075736848,
          613.0845852370016,
          656.5666477565678,
          712.3604016834892,
          723.5683160608547,
          769.9234252280563,
          775.6084408179183,
          808.9885468595814,
          857.7194773496465,
          837.2770220649754,
          831.714046782472,
          818.8135120242429,
          772.0577473349185,
          760.3147002379594,
          738.9212916625471,
          707.7948139074731,
          721.0434071390771,
          701.3999705023772,
          723.0412171442729,
          743.5792236142361
         ]
        },
        {
         "hovertemplate": "%{y:.0f}",
         "marker": {
          "color": "white",
          "line": {
           "color": "red",
           "width": 2
          },
          "size": 8
         },
         "mode": "markers",
         "name": "With booster 18-59 years",
         "type": "scatter",
         "x": [
          "2021-10-25T00:00:00.000000000",
          "2021-11-01T00:00:00.000000000",
          "2021-11-08T00:00:00.000000000",
          "2021-11-15T00:00:00.000000000",
          "2021-11-22T00:00:00.000000000",
          "2021-11-29T00:00:00.000000000",
          "2021-12-06T00:00:00.000000000",
          "2021-12-13T00:00:00.000000000",
          "2021-12-20T00:00:00.000000000",
          "2021-12-27T00:00:00.000000000",
          "2022-01-03T00:00:00.000000000",
          "2022-01-10T00:00:00.000000000",
          "2022-01-17T00:00:00.000000000",
          "2022-01-24T00:00:00.000000000",
          "2022-01-31T00:00:00.000000000",
          "2022-02-07T00:00:00.000000000"
         ],
         "y": [
          43.24280548095703,
          42.8740348815918,
          56.454917907714844,
          59.637115478515625,
          61.134578704833984,
          47.50160217285156,
          37.71730422973633,
          28.43560791015625,
          27.638254165649414,
          46.00812911987305,
          89.77527618408203,
          92.61939239501953,
          105.9690933227539,
          106.06025695800781,
          108.47478485107422,
          118.05306243896484
         ]
        },
        {
         "hovertemplate": "%{y:.0f}",
         "marker": {
          "color": "red",
          "size": 9
         },
         "mode": "markers",
         "name": "Vaccinated  18-59 years",
         "type": "scatter",
         "x": [
          "2021-10-25T00:00:00.000000000",
          "2021-11-01T00:00:00.000000000",
          "2021-11-08T00:00:00.000000000",
          "2021-11-15T00:00:00.000000000",
          "2021-11-22T00:00:00.000000000",
          "2021-11-29T00:00:00.000000000",
          "2021-12-06T00:00:00.000000000",
          "2021-12-13T00:00:00.000000000",
          "2021-12-20T00:00:00.000000000",
          "2021-12-27T00:00:00.000000000",
          "2022-01-03T00:00:00.000000000",
          "2022-01-10T00:00:00.000000000",
          "2022-01-17T00:00:00.000000000",
          "2022-01-24T00:00:00.000000000",
          "2022-01-31T00:00:00.000000000",
          "2022-02-07T00:00:00.000000000"
         ],
         "y": [
          76.70169830322266,
          94.03158569335938,
          119.03044128417969,
          140.1339874267578,
          139.3203887939453,
          125.86140441894531,
          109.15361022949219,
          93.09611511230469,
          76.94499206542969,
          110.59500885009766,
          180.69644165039062,
          180.84390258789062,
          193.66456604003906,
          185.927490234375,
          184.8057403564453,
          191.15243530273438
         ]
        },
        {
         "hovertemplate": "%{y:.0f}",
         "marker": {
          "color": "#455266",
          "size": 9
         },
         "mode": "markers",
         "name": "Unvaccinated 18-59 years",
         "type": "scatter",
         "x": [
          "2021-10-25T00:00:00.000000000",
          "2021-11-01T00:00:00.000000000",
          "2021-11-08T00:00:00.000000000",
          "2021-11-15T00:00:00.000000000",
          "2021-11-22T00:00:00.000000000",
          "2021-11-29T00:00:00.000000000",
          "2021-12-06T00:00:00.000000000",
          "2021-12-13T00:00:00.000000000",
          "2021-12-20T00:00:00.000000000",
          "2021-12-27T00:00:00.000000000",
          "2022-01-03T00:00:00.000000000",
          "2022-01-10T00:00:00.000000000",
          "2022-01-17T00:00:00.000000000",
          "2022-01-24T00:00:00.000000000",
          "2022-01-31T00:00:00.000000000",
          "2022-02-07T00:00:00.000000000"
         ],
         "y": [
          226.83853149414062,
          265.99908447265625,
          326.10321044921875,
          352.58892822265625,
          374.02935791015625,
          343.6412658691406,
          298.0789489746094,
          245.50021362304688,
          166.3865509033203,
          171.08482360839844,
          189.6063232421875,
          178.8633270263672,
          217.02748107910156,
          236.2805938720703,
          247.02659606933594,
          224.56382751464844
         ]
        }
       ],
       "layout": {
        "autosize": true,
        "font": {
         "size": 12
        },
        "height": 600,
        "hoverlabel": {
         "font": {
          "color": "black"
         },
         "namelength": -1
        },
        "hovermode": "x unified",
        "legend": {
         "font": {
          "size": 11
         },
         "itemclick": "toggleothers",
         "itemdoubleclick": "toggle",
         "tracegroupgap": 2,
         "x": 0,
         "y": 1
        },
        "margin": {
         "b": 75,
         "l": 60,
         "pad": 0,
         "r": 30,
         "t": 30
        },
        "showlegend": true,
        "template": {
         "data": {
          "bar": [
           {
            "error_x": {
             "color": "#2a3f5f"
            },
            "error_y": {
             "color": "#2a3f5f"
            },
            "marker": {
             "line": {
              "color": "white",
              "width": 0.5
             },
             "pattern": {
              "fillmode": "overlay",
              "size": 10,
              "solidity": 0.2
             }
            },
            "type": "bar"
           }
          ],
          "barpolar": [
           {
            "marker": {
             "line": {
              "color": "white",
              "width": 0.5
             },
             "pattern": {
              "fillmode": "overlay",
              "size": 10,
              "solidity": 0.2
             }
            },
            "type": "barpolar"
           }
          ],
          "carpet": [
           {
            "aaxis": {
             "endlinecolor": "#2a3f5f",
             "gridcolor": "#C8D4E3",
             "linecolor": "#C8D4E3",
             "minorgridcolor": "#C8D4E3",
             "startlinecolor": "#2a3f5f"
            },
            "baxis": {
             "endlinecolor": "#2a3f5f",
             "gridcolor": "#C8D4E3",
             "linecolor": "#C8D4E3",
             "minorgridcolor": "#C8D4E3",
             "startlinecolor": "#2a3f5f"
            },
            "type": "carpet"
           }
          ],
          "choropleth": [
           {
            "colorbar": {
             "outlinewidth": 0,
             "ticks": ""
            },
            "type": "choropleth"
           }
          ],
          "contour": [
           {
            "colorbar": {
             "outlinewidth": 0,
             "ticks": ""
            },
            "colorscale": [
             [
              0,
              "#0d0887"
             ],
             [
              0.1111111111111111,
              "#46039f"
             ],
             [
              0.2222222222222222,
              "#7201a8"
             ],
             [
              0.3333333333333333,
              "#9c179e"
             ],
             [
              0.4444444444444444,
              "#bd3786"
             ],
             [
              0.5555555555555556,
              "#d8576b"
             ],
             [
              0.6666666666666666,
              "#ed7953"
             ],
             [
              0.7777777777777778,
              "#fb9f3a"
             ],
             [
              0.8888888888888888,
              "#fdca26"
             ],
             [
              1,
              "#f0f921"
             ]
            ],
            "type": "contour"
           }
          ],
          "contourcarpet": [
           {
            "colorbar": {
             "outlinewidth": 0,
             "ticks": ""
            },
            "type": "contourcarpet"
           }
          ],
          "heatmap": [
           {
            "colorbar": {
             "outlinewidth": 0,
             "ticks": ""
            },
            "colorscale": [
             [
              0,
              "#0d0887"
             ],
             [
              0.1111111111111111,
              "#46039f"
             ],
             [
              0.2222222222222222,
              "#7201a8"
             ],
             [
              0.3333333333333333,
              "#9c179e"
             ],
             [
              0.4444444444444444,
              "#bd3786"
             ],
             [
              0.5555555555555556,
              "#d8576b"
             ],
             [
              0.6666666666666666,
              "#ed7953"
             ],
             [
              0.7777777777777778,
              "#fb9f3a"
             ],
             [
              0.8888888888888888,
              "#fdca26"
             ],
             [
              1,
              "#f0f921"
             ]
            ],
            "type": "heatmap"
           }
          ],
          "heatmapgl": [
           {
            "colorbar": {
             "outlinewidth": 0,
             "ticks": ""
            },
            "colorscale": [
             [
              0,
              "#0d0887"
             ],
             [
              0.1111111111111111,
              "#46039f"
             ],
             [
              0.2222222222222222,
              "#7201a8"
             ],
             [
              0.3333333333333333,
              "#9c179e"
             ],
             [
              0.4444444444444444,
              "#bd3786"
             ],
             [
              0.5555555555555556,
              "#d8576b"
             ],
             [
              0.6666666666666666,
              "#ed7953"
             ],
             [
              0.7777777777777778,
              "#fb9f3a"
             ],
             [
              0.8888888888888888,
              "#fdca26"
             ],
             [
              1,
              "#f0f921"
             ]
            ],
            "type": "heatmapgl"
           }
          ],
          "histogram": [
           {
            "marker": {
             "pattern": {
              "fillmode": "overlay",
              "size": 10,
              "solidity": 0.2
             }
            },
            "type": "histogram"
           }
          ],
          "histogram2d": [
           {
            "colorbar": {
             "outlinewidth": 0,
             "ticks": ""
            },
            "colorscale": [
             [
              0,
              "#0d0887"
             ],
             [
              0.1111111111111111,
              "#46039f"
             ],
             [
              0.2222222222222222,
              "#7201a8"
             ],
             [
              0.3333333333333333,
              "#9c179e"
             ],
             [
              0.4444444444444444,
              "#bd3786"
             ],
             [
              0.5555555555555556,
              "#d8576b"
             ],
             [
              0.6666666666666666,
              "#ed7953"
             ],
             [
              0.7777777777777778,
              "#fb9f3a"
             ],
             [
              0.8888888888888888,
              "#fdca26"
             ],
             [
              1,
              "#f0f921"
             ]
            ],
            "type": "histogram2d"
           }
          ],
          "histogram2dcontour": [
           {
            "colorbar": {
             "outlinewidth": 0,
             "ticks": ""
            },
            "colorscale": [
             [
              0,
              "#0d0887"
             ],
             [
              0.1111111111111111,
              "#46039f"
             ],
             [
              0.2222222222222222,
              "#7201a8"
             ],
             [
              0.3333333333333333,
              "#9c179e"
             ],
             [
              0.4444444444444444,
              "#bd3786"
             ],
             [
              0.5555555555555556,
              "#d8576b"
             ],
             [
              0.6666666666666666,
              "#ed7953"
             ],
             [
              0.7777777777777778,
              "#fb9f3a"
             ],
             [
              0.8888888888888888,
              "#fdca26"
             ],
             [
              1,
              "#f0f921"
             ]
            ],
            "type": "histogram2dcontour"
           }
          ],
          "mesh3d": [
           {
            "colorbar": {
             "outlinewidth": 0,
             "ticks": ""
            },
            "type": "mesh3d"
           }
          ],
          "parcoords": [
           {
            "line": {
             "colorbar": {
              "outlinewidth": 0,
              "ticks": ""
             }
            },
            "type": "parcoords"
           }
          ],
          "pie": [
           {
            "automargin": true,
            "type": "pie"
           }
          ],
          "scatter": [
           {
            "marker": {
             "colorbar": {
              "outlinewidth": 0,
              "ticks": ""
             }
            },
            "type": "scatter"
           }
          ],
          "scatter3d": [
           {
            "line": {
             "colorbar": {
              "outlinewidth": 0,
              "ticks": ""
             }
            },
            "marker": {
             "colorbar": {
              "outlinewidth": 0,
              "ticks": ""
             }
            },
            "type": "scatter3d"
           }
          ],
          "scattercarpet": [
           {
            "marker": {
             "colorbar": {
              "outlinewidth": 0,
              "ticks": ""
             }
            },
            "type": "scattercarpet"
           }
          ],
          "scattergeo": [
           {
            "marker": {
             "colorbar": {
              "outlinewidth": 0,
              "ticks": ""
             }
            },
            "type": "scattergeo"
           }
          ],
          "scattergl": [
           {
            "marker": {
             "colorbar": {
              "outlinewidth": 0,
              "ticks": ""
             }
            },
            "type": "scattergl"
           }
          ],
          "scattermapbox": [
           {
            "marker": {
             "colorbar": {
              "outlinewidth": 0,
              "ticks": ""
             }
            },
            "type": "scattermapbox"
           }
          ],
          "scatterpolar": [
           {
            "marker": {
             "colorbar": {
              "outlinewidth": 0,
              "ticks": ""
             }
            },
            "type": "scatterpolar"
           }
          ],
          "scatterpolargl": [
           {
            "marker": {
             "colorbar": {
              "outlinewidth": 0,
              "ticks": ""
             }
            },
            "type": "scatterpolargl"
           }
          ],
          "scatterternary": [
           {
            "marker": {
             "colorbar": {
              "outlinewidth": 0,
              "ticks": ""
             }
            },
            "type": "scatterternary"
           }
          ],
          "surface": [
           {
            "colorbar": {
             "outlinewidth": 0,
             "ticks": ""
            },
            "colorscale": [
             [
              0,
              "#0d0887"
             ],
             [
              0.1111111111111111,
              "#46039f"
             ],
             [
              0.2222222222222222,
              "#7201a8"
             ],
             [
              0.3333333333333333,
              "#9c179e"
             ],
             [
              0.4444444444444444,
              "#bd3786"
             ],
             [
              0.5555555555555556,
              "#d8576b"
             ],
             [
              0.6666666666666666,
              "#ed7953"
             ],
             [
              0.7777777777777778,
              "#fb9f3a"
             ],
             [
              0.8888888888888888,
              "#fdca26"
             ],
             [
              1,
              "#f0f921"
             ]
            ],
            "type": "surface"
           }
          ],
          "table": [
           {
            "cells": {
             "fill": {
              "color": "#EBF0F8"
             },
             "line": {
              "color": "white"
             }
            },
            "header": {
             "fill": {
              "color": "#C8D4E3"
             },
             "line": {
              "color": "white"
             }
            },
            "type": "table"
           }
          ]
         },
         "layout": {
          "annotationdefaults": {
           "arrowcolor": "#2a3f5f",
           "arrowhead": 0,
           "arrowwidth": 1
          },
          "autotypenumbers": "strict",
          "coloraxis": {
           "colorbar": {
            "outlinewidth": 0,
            "ticks": ""
           }
          },
          "colorscale": {
           "diverging": [
            [
             0,
             "#8e0152"
            ],
            [
             0.1,
             "#c51b7d"
            ],
            [
             0.2,
             "#de77ae"
            ],
            [
             0.3,
             "#f1b6da"
            ],
            [
             0.4,
             "#fde0ef"
            ],
            [
             0.5,
             "#f7f7f7"
            ],
            [
             0.6,
             "#e6f5d0"
            ],
            [
             0.7,
             "#b8e186"
            ],
            [
             0.8,
             "#7fbc41"
            ],
            [
             0.9,
             "#4d9221"
            ],
            [
             1,
             "#276419"
            ]
           ],
           "sequential": [
            [
             0,
             "#0d0887"
            ],
            [
             0.1111111111111111,
             "#46039f"
            ],
            [
             0.2222222222222222,
             "#7201a8"
            ],
            [
             0.3333333333333333,
             "#9c179e"
            ],
            [
             0.4444444444444444,
             "#bd3786"
            ],
            [
             0.5555555555555556,
             "#d8576b"
            ],
            [
             0.6666666666666666,
             "#ed7953"
            ],
            [
             0.7777777777777778,
             "#fb9f3a"
            ],
            [
             0.8888888888888888,
             "#fdca26"
            ],
            [
             1,
             "#f0f921"
            ]
           ],
           "sequentialminus": [
            [
             0,
             "#0d0887"
            ],
            [
             0.1111111111111111,
             "#46039f"
            ],
            [
             0.2222222222222222,
             "#7201a8"
            ],
            [
             0.3333333333333333,
             "#9c179e"
            ],
            [
             0.4444444444444444,
             "#bd3786"
            ],
            [
             0.5555555555555556,
             "#d8576b"
            ],
            [
             0.6666666666666666,
             "#ed7953"
            ],
            [
             0.7777777777777778,
             "#fb9f3a"
            ],
            [
             0.8888888888888888,
             "#fdca26"
            ],
            [
             1,
             "#f0f921"
            ]
           ]
          },
          "colorway": [
           "#636efa",
           "#EF553B",
           "#00cc96",
           "#ab63fa",
           "#FFA15A",
           "#19d3f3",
           "#FF6692",
           "#B6E880",
           "#FF97FF",
           "#FECB52"
          ],
          "font": {
           "color": "#2a3f5f"
          },
          "geo": {
           "bgcolor": "white",
           "lakecolor": "white",
           "landcolor": "white",
           "showlakes": true,
           "showland": true,
           "subunitcolor": "#C8D4E3"
          },
          "hoverlabel": {
           "align": "left"
          },
          "hovermode": "closest",
          "mapbox": {
           "style": "light"
          },
          "paper_bgcolor": "white",
          "plot_bgcolor": "white",
          "polar": {
           "angularaxis": {
            "gridcolor": "#EBF0F8",
            "linecolor": "#EBF0F8",
            "ticks": ""
           },
           "bgcolor": "white",
           "radialaxis": {
            "gridcolor": "#EBF0F8",
            "linecolor": "#EBF0F8",
            "ticks": ""
           }
          },
          "scene": {
           "xaxis": {
            "backgroundcolor": "white",
            "gridcolor": "#DFE8F3",
            "gridwidth": 2,
            "linecolor": "#EBF0F8",
            "showbackground": true,
            "ticks": "",
            "zerolinecolor": "#EBF0F8"
           },
           "yaxis": {
            "backgroundcolor": "white",
            "gridcolor": "#DFE8F3",
            "gridwidth": 2,
            "linecolor": "#EBF0F8",
            "showbackground": true,
            "ticks": "",
            "zerolinecolor": "#EBF0F8"
           },
           "zaxis": {
            "backgroundcolor": "white",
            "gridcolor": "#DFE8F3",
            "gridwidth": 2,
            "linecolor": "#EBF0F8",
            "showbackground": true,
            "ticks": "",
            "zerolinecolor": "#EBF0F8"
           }
          },
          "shapedefaults": {
           "line": {
            "color": "#2a3f5f"
           }
          },
          "ternary": {
           "aaxis": {
            "gridcolor": "#DFE8F3",
            "linecolor": "#A2B1C6",
            "ticks": ""
           },
           "baxis": {
            "gridcolor": "#DFE8F3",
            "linecolor": "#A2B1C6",
            "ticks": ""
           },
           "bgcolor": "white",
           "caxis": {
            "gridcolor": "#DFE8F3",
            "linecolor": "#A2B1C6",
            "ticks": ""
           }
          },
          "title": {
           "x": 0.05
          },
          "xaxis": {
           "automargin": true,
           "gridcolor": "#EBF0F8",
           "linecolor": "#EBF0F8",
           "ticks": "",
           "title": {
            "standoff": 15
           },
           "zerolinecolor": "#EBF0F8",
           "zerolinewidth": 2
          },
          "yaxis": {
           "automargin": true,
           "gridcolor": "#EBF0F8",
           "linecolor": "#EBF0F8",
           "ticks": "",
           "title": {
            "standoff": 15
           },
           "zerolinecolor": "#EBF0F8",
           "zerolinewidth": 2
          }
         }
        },
        "title": {
         "text": "Reported Incidence vs. Machine Learning Nowcast",
         "x": 0.5,
         "xanchor": "center",
         "y": 0.92,
         "yanchor": "top"
        },
        "xaxis": {
         "linecolor": "#455266",
         "linewidth": 1.5,
         "rangemode": "nonnegative",
         "showline": true,
         "ticks": "outside",
         "tickwidth": 1.5
        },
        "yaxis": {
         "linecolor": "#455266",
         "linewidth": 1.5,
         "rangemode": "nonnegative",
         "showline": true,
         "ticks": "outside",
         "tickwidth": 1.5,
         "title": {
          "text": "Incidence"
         }
        }
       }
      },
      "text/html": [
       "<div>                            <div id=\"d52ee809-2c42-4ddb-bc78-5e4fea1ba485\" class=\"plotly-graph-div\" style=\"height:600px; width:100%;\"></div>            <script type=\"text/javascript\">                require([\"plotly\"], function(Plotly) {                    window.PLOTLYENV=window.PLOTLYENV || {};                                    if (document.getElementById(\"d52ee809-2c42-4ddb-bc78-5e4fea1ba485\")) {                    Plotly.newPlot(                        \"d52ee809-2c42-4ddb-bc78-5e4fea1ba485\",                        [{\"hoverinfo\":\"skip\",\"legendgroup\":\"nowcast\",\"line\":{\"width\":0},\"marker\":{\"color\":\"#444\"},\"mode\":\"lines\",\"showlegend\":false,\"x\":[\"2021-10-16T00:00:00.000000000\",\"2021-10-17T00:00:00.000000000\",\"2021-10-18T00:00:00.000000000\",\"2021-10-19T00:00:00.000000000\",\"2021-10-20T00:00:00.000000000\",\"2021-10-21T00:00:00.000000000\",\"2021-10-22T00:00:00.000000000\",\"2021-10-23T00:00:00.000000000\",\"2021-10-24T00:00:00.000000000\",\"2021-10-25T00:00:00.000000000\",\"2021-10-26T00:00:00.000000000\",\"2021-10-27T00:00:00.000000000\",\"2021-10-28T00:00:00.000000000\",\"2021-10-29T00:00:00.000000000\",\"2021-10-30T00:00:00.000000000\",\"2021-10-31T00:00:00.000000000\",\"2021-11-01T00:00:00.000000000\",\"2021-11-02T00:00:00.000000000\",\"2021-11-03T00:00:00.000000000\",\"2021-11-04T00:00:00.000000000\",\"2021-11-05T00:00:00.000000000\",\"2021-11-06T00:00:00.000000000\",\"2021-11-07T00:00:00.000000000\",\"2021-11-08T00:00:00.000000000\",\"2021-11-09T00:00:00.000000000\",\"2021-11-10T00:00:00.000000000\",\"2021-11-11T00:00:00.000000000\",\"2021-11-12T00:00:00.000000000\",\"2021-11-13T00:00:00.000000000\",\"2021-11-14T00:00:00.000000000\",\"2021-11-15T00:00:00.000000000\",\"2021-11-16T00:00:00.000000000\",\"2021-11-17T00:00:00.000000000\",\"2021-11-18T00:00:00.000000000\",\"2021-11-19T00:00:00.000000000\",\"2021-11-20T00:00:00.000000000\",\"2021-11-21T00:00:00.000000000\",\"2021-11-22T00:00:00.000000000\",\"2021-11-23T00:00:00.000000000\",\"2021-11-24T00:00:00.000000000\",\"2021-11-25T00:00:00.000000000\",\"2021-11-26T00:00:00.000000000\",\"2021-11-27T00:00:00.000000000\",\"2021-11-28T00:00:00.000000000\",\"2021-11-29T00:00:00.000000000\",\"2021-11-30T00:00:00.000000000\",\"2021-12-01T00:00:00.000000000\",\"2021-12-02T00:00:00.000000000\",\"2021-12-03T00:00:00.000000000\",\"2021-12-04T00:00:00.000000000\",\"2021-12-05T00:00:00.000000000\",\"2021-12-06T00:00:00.000000000\",\"2021-12-07T00:00:00.000000000\",\"2021-12-08T00:00:00.000000000\",\"2021-12-09T00:00:00.000000000\",\"2021-12-10T00:00:00.000000000\",\"2021-12-11T00:00:00.000000000\",\"2021-12-12T00:00:00.000000000\",\"2021-12-13T00:00:00.000000000\",\"2021-12-14T00:00:00.000000000\",\"2021-12-15T00:00:00.000000000\",\"2021-12-16T00:00:00.000000000\",\"2021-12-17T00:00:00.000000000\",\"2021-12-18T00:00:00.000000000\",\"2021-12-19T00:00:00.000000000\",\"2021-12-20T00:00:00.000000000\",\"2021-12-21T00:00:00.000000000\",\"2021-12-22T00:00:00.000000000\",\"2021-12-23T00:00:00.000000000\",\"2021-12-24T00:00:00.000000000\",\"2021-12-25T00:00:00.000000000\",\"2021-12-26T00:00:00.000000000\",\"2021-12-27T00:00:00.000000000\",\"2021-12-28T00:00:00.000000000\",\"2021-12-29T00:00:00.000000000\",\"2021-12-30T00:00:00.000000000\",\"2021-12-31T00:00:00.000000000\",\"2022-01-01T00:00:00.000000000\",\"2022-01-02T00:00:00.000000000\",\"2022-01-03T00:00:00.000000000\",\"2022-01-04T00:00:00.000000000\",\"2022-01-05T00:00:00.000000000\",\"2022-01-06T00:00:00.000000000\",\"2022-01-07T00:00:00.000000000\",\"2022-01-08T00:00:00.000000000\",\"2022-01-09T00:00:00.000000000\",\"2022-01-10T00:00:00.000000000\",\"2022-01-11T00:00:00.000000000\",\"2022-01-12T00:00:00.000000000\",\"2022-01-13T00:00:00.000000000\",\"2022-01-14T00:00:00.000000000\",\"2022-01-15T00:00:00.000000000\",\"2022-01-16T00:00:00.000000000\",\"2022-01-17T00:00:00.000000000\",\"2022-01-18T00:00:00.000000000\",\"2022-01-19T00:00:00.000000000\",\"2022-01-20T00:00:00.000000000\",\"2022-01-21T00:00:00.000000000\",\"2022-01-22T00:00:00.000000000\",\"2022-01-23T00:00:00.000000000\",\"2022-01-24T00:00:00.000000000\",\"2022-01-25T00:00:00.000000000\",\"2022-01-26T00:00:00.000000000\",\"2022-01-27T00:00:00.000000000\",\"2022-01-28T00:00:00.000000000\",\"2022-01-29T00:00:00.000000000\",\"2022-01-30T00:00:00.000000000\",\"2022-01-31T00:00:00.000000000\",\"2022-02-01T00:00:00.000000000\",\"2022-02-02T00:00:00.000000000\",\"2022-02-03T00:00:00.000000000\",\"2022-02-04T00:00:00.000000000\",\"2022-02-05T00:00:00.000000000\",\"2022-02-06T00:00:00.000000000\",\"2022-02-07T00:00:00.000000000\",\"2022-02-08T00:00:00.000000000\",\"2022-02-09T00:00:00.000000000\",\"2022-02-10T00:00:00.000000000\",\"2022-02-11T00:00:00.000000000\",\"2022-02-12T00:00:00.000000000\",\"2022-02-13T00:00:00.000000000\",\"2022-02-14T00:00:00.000000000\",\"2022-02-15T00:00:00.000000000\",\"2022-02-16T00:00:00.000000000\",\"2022-02-17T00:00:00.000000000\",\"2022-02-18T00:00:00.000000000\",\"2022-02-19T00:00:00.000000000\",\"2022-02-20T00:00:00.000000000\",\"2022-02-21T00:00:00.000000000\",\"2022-02-22T00:00:00.000000000\",\"2022-02-23T00:00:00.000000000\",\"2022-02-24T00:00:00.000000000\",\"2022-02-25T00:00:00.000000000\",\"2022-02-26T00:00:00.000000000\",\"2022-02-27T00:00:00.000000000\",\"2022-02-28T00:00:00.000000000\",\"2022-03-01T00:00:00.000000000\",\"2022-03-02T00:00:00.000000000\",\"2022-03-03T00:00:00.000000000\",\"2022-03-04T00:00:00.000000000\",\"2022-03-05T00:00:00.000000000\"],\"y\":[615.2960010244883,651.9210309451258,525.056626103942,501.68516236981566,595.9120728268341,695.3422269702587,694.2982760168884,648.0169750803436,702.628259904712,654.2299118598187,567.3119461023159,504.562625204259,446.88696076917165,450.21246380047404,503.4549031959614,421.1161288021938,439.92045331328484,477.3354586883678,476.22761154269807,460.26536997574925,513.9372075527408,569.3293091324059,555.8248766763841,574.3718410977755,514.9895724434596,519.2314086951367,568.4082741308689,516.2281384840289,588.4755745137622,574.0162946426802,539.8724207478273,525.6421977210296,524.1130003342232,521.2065271011917,483.4697771915863,516.5392303178119,454.7778588266847,397.1946221802814,381.51101434146244,423.11190819255233,401.9631499220684,440.6768753896648,469.0790964183644,457.79893578212534,475.51916853950183,454.79598406081413,474.74161100153276,456.57480488290946,421.05064499371605,438.8737943156999,461.9325862506855,436.11185552182303,438.14944278363896,437.95686877529613,469.0335340456946,475.32005913759804,461.81584146743774,442.22521424469346,367.6700068720835,378.684164108797,338.41150617752055,321.657875676694,309.36328315496155,284.0005948922094,269.66912878804095,241.74836075645192,253.65736340577183,233.7749094799134,192.0399607083355,214.1530951662513,203.60267252854624,252.20487105555327,275.0238997467642,286.46119634263925,281.4445101869577,310.38259954228,311.966353895497,320.3978936281521,305.4851462007071,285.42954285762227,268.1181196486038,278.6528856136571,281.2692699716238,298.2163959125437,292.89645589048143,332.85072834115255,376.8016026130719,402.0197041714709,406.9860508632024,440.1750068236514,431.8162738604557,435.3525481623304,453.0117870442805,480.79202733626573,508.1137342064741,459.868705012296,483.2415110464764,476.97237616538507,523.4177526599973,537.6059347608633,534.5547638740969,556.3399179757292,546.7313870188276,547.0778847370522,563.4976330111335,615.0485054634906,655.1182779096845,694.8237386121323,757.0550313815515,784.9654260512891,803.554437727264,887.2919266062643,874.0115287431413,883.4678280890741,791.9682592715778,741.1441629798597,708.8427991555575,723.3022756016086,737.4977856290536,716.8981921947404,710.0247943339308,716.1641406489055,751.4951955424287,836.9549989192292,854.5713746213848,900.8980451989244,886.5624955321387,899.3309510376098,989.2198784428572,944.612412652465,983.167393784659,915.0581719381246,878.1562526801656,830.9998895998973,823.1462229987246,817.7141374130942,838.3015822864971,848.2016862766601,843.5445210447259,864.5042574417305,852.5264831463007],\"type\":\"scatter\"},{\"fill\":\"tonexty\",\"fillcolor\":\"rgba(65, 172, 221, 0.3)\",\"hoverinfo\":\"skip\",\"legendgroup\":\"nowcast\",\"line\":{\"width\":0},\"marker\":{\"color\":\"#444\"},\"mode\":\"lines\",\"name\":\"Confidence interval\",\"showlegend\":false,\"x\":[\"2021-10-16T00:00:00.000000000\",\"2021-10-17T00:00:00.000000000\",\"2021-10-18T00:00:00.000000000\",\"2021-10-19T00:00:00.000000000\",\"2021-10-20T00:00:00.000000000\",\"2021-10-21T00:00:00.000000000\",\"2021-10-22T00:00:00.000000000\",\"2021-10-23T00:00:00.000000000\",\"2021-10-24T00:00:00.000000000\",\"2021-10-25T00:00:00.000000000\",\"2021-10-26T00:00:00.000000000\",\"2021-10-27T00:00:00.000000000\",\"2021-10-28T00:00:00.000000000\",\"2021-10-29T00:00:00.000000000\",\"2021-10-30T00:00:00.000000000\",\"2021-10-31T00:00:00.000000000\",\"2021-11-01T00:00:00.000000000\",\"2021-11-02T00:00:00.000000000\",\"2021-11-03T00:00:00.000000000\",\"2021-11-04T00:00:00.000000000\",\"2021-11-05T00:00:00.000000000\",\"2021-11-06T00:00:00.000000000\",\"2021-11-07T00:00:00.000000000\",\"2021-11-08T00:00:00.000000000\",\"2021-11-09T00:00:00.000000000\",\"2021-11-10T00:00:00.000000000\",\"2021-11-11T00:00:00.000000000\",\"2021-11-12T00:00:00.000000000\",\"2021-11-13T00:00:00.000000000\",\"2021-11-14T00:00:00.000000000\",\"2021-11-15T00:00:00.000000000\",\"2021-11-16T00:00:00.000000000\",\"2021-11-17T00:00:00.000000000\",\"2021-11-18T00:00:00.000000000\",\"2021-11-19T00:00:00.000000000\",\"2021-11-20T00:00:00.000000000\",\"2021-11-21T00:00:00.000000000\",\"2021-11-22T00:00:00.000000000\",\"2021-11-23T00:00:00.000000000\",\"2021-11-24T00:00:00.000000000\",\"2021-11-25T00:00:00.000000000\",\"2021-11-26T00:00:00.000000000\",\"2021-11-27T00:00:00.000000000\",\"2021-11-28T00:00:00.000000000\",\"2021-11-29T00:00:00.000000000\",\"2021-11-30T00:00:00.000000000\",\"2021-12-01T00:00:00.000000000\",\"2021-12-02T00:00:00.000000000\",\"2021-12-03T00:00:00.000000000\",\"2021-12-04T00:00:00.000000000\",\"2021-12-05T00:00:00.000000000\",\"2021-12-06T00:00:00.000000000\",\"2021-12-07T00:00:00.000000000\",\"2021-12-08T00:00:00.000000000\",\"2021-12-09T00:00:00.000000000\",\"2021-12-10T00:00:00.000000000\",\"2021-12-11T00:00:00.000000000\",\"2021-12-12T00:00:00.000000000\",\"2021-12-13T00:00:00.000000000\",\"2021-12-14T00:00:00.000000000\",\"2021-12-15T00:00:00.000000000\",\"2021-12-16T00:00:00.000000000\",\"2021-12-17T00:00:00.000000000\",\"2021-12-18T00:00:00.000000000\",\"2021-12-19T00:00:00.000000000\",\"2021-12-20T00:00:00.000000000\",\"2021-12-21T00:00:00.000000000\",\"2021-12-22T00:00:00.000000000\",\"2021-12-23T00:00:00.000000000\",\"2021-12-24T00:00:00.000000000\",\"2021-12-25T00:00:00.000000000\",\"2021-12-26T00:00:00.000000000\",\"2021-12-27T00:00:00.000000000\",\"2021-12-28T00:00:00.000000000\",\"2021-12-29T00:00:00.000000000\",\"2021-12-30T00:00:00.000000000\",\"2021-12-31T00:00:00.000000000\",\"2022-01-01T00:00:00.000000000\",\"2022-01-02T00:00:00.000000000\",\"2022-01-03T00:00:00.000000000\",\"2022-01-04T00:00:00.000000000\",\"2022-01-05T00:00:00.000000000\",\"2022-01-06T00:00:00.000000000\",\"2022-01-07T00:00:00.000000000\",\"2022-01-08T00:00:00.000000000\",\"2022-01-09T00:00:00.000000000\",\"2022-01-10T00:00:00.000000000\",\"2022-01-11T00:00:00.000000000\",\"2022-01-12T00:00:00.000000000\",\"2022-01-13T00:00:00.000000000\",\"2022-01-14T00:00:00.000000000\",\"2022-01-15T00:00:00.000000000\",\"2022-01-16T00:00:00.000000000\",\"2022-01-17T00:00:00.000000000\",\"2022-01-18T00:00:00.000000000\",\"2022-01-19T00:00:00.000000000\",\"2022-01-20T00:00:00.000000000\",\"2022-01-21T00:00:00.000000000\",\"2022-01-22T00:00:00.000000000\",\"2022-01-23T00:00:00.000000000\",\"2022-01-24T00:00:00.000000000\",\"2022-01-25T00:00:00.000000000\",\"2022-01-26T00:00:00.000000000\",\"2022-01-27T00:00:00.000000000\",\"2022-01-28T00:00:00.000000000\",\"2022-01-29T00:00:00.000000000\",\"2022-01-30T00:00:00.000000000\",\"2022-01-31T00:00:00.000000000\",\"2022-02-01T00:00:00.000000000\",\"2022-02-02T00:00:00.000000000\",\"2022-02-03T00:00:00.000000000\",\"2022-02-04T00:00:00.000000000\",\"2022-02-05T00:00:00.000000000\",\"2022-02-06T00:00:00.000000000\",\"2022-02-07T00:00:00.000000000\",\"2022-02-08T00:00:00.000000000\",\"2022-02-09T00:00:00.000000000\",\"2022-02-10T00:00:00.000000000\",\"2022-02-11T00:00:00.000000000\",\"2022-02-12T00:00:00.000000000\",\"2022-02-13T00:00:00.000000000\",\"2022-02-14T00:00:00.000000000\",\"2022-02-15T00:00:00.000000000\",\"2022-02-16T00:00:00.000000000\",\"2022-02-17T00:00:00.000000000\",\"2022-02-18T00:00:00.000000000\",\"2022-02-19T00:00:00.000000000\",\"2022-02-20T00:00:00.000000000\",\"2022-02-21T00:00:00.000000000\",\"2022-02-22T00:00:00.000000000\",\"2022-02-23T00:00:00.000000000\",\"2022-02-24T00:00:00.000000000\",\"2022-02-25T00:00:00.000000000\",\"2022-02-26T00:00:00.000000000\",\"2022-02-27T00:00:00.000000000\",\"2022-02-28T00:00:00.000000000\",\"2022-03-01T00:00:00.000000000\",\"2022-03-02T00:00:00.000000000\",\"2022-03-03T00:00:00.000000000\",\"2022-03-04T00:00:00.000000000\",\"2022-03-05T00:00:00.000000000\"],\"y\":[65.21287215859388,25.67840598076782,163.07492613987858,228.11605353614186,265.9859537614027,197.0583911923011,239.29664283872188,258.2399718751025,249.20967435545577,283.03433477125367,272.3167981149411,273.5709011765057,231.8484440853647,210.7696744239292,205.18372486612745,266.93252459471336,226.52386341305473,230.14583580270175,219.7375028710125,273.232739426122,249.7382514067512,209.1775890907522,236.56807013804806,261.1660468383708,324.6861130586584,342.4410196937034,308.12649306087246,347.1493086489266,263.0660344119079,290.4020096529051,340.3032024802238,368.77868553436787,308.4018013101597,303.9469064955862,291.2518912999804,205.85131552718784,229.07606074252524,208.80427490061018,227.5853244060536,238.63939755562745,270.9328600715505,284.3257299839254,299.5793217782006,297.6966078383074,321.8369039412245,304.2920147939142,283.7581222312672,260.76941831808335,285.73963646299893,255.16132967559008,249.6850484301801,299.8113552545992,300.72856820105073,315.23003850897953,300.7753083440177,276.90861341653726,269.24017614867626,265.9416123625505,289.98622293625806,239.11185091206124,193.22683570214622,177.62664429600778,149.5670015547733,143.11431072398034,118.5288412550636,101.70277307960038,76.34813608121173,105.45019702649898,115.56270248792708,109.6596564383469,129.49264129116233,122.29102698441699,126.06140620151993,129.74727050304804,160.5516561927631,194.24085285701574,199.18477919730316,209.4916054809808,187.82158841354294,182.42967471137825,206.05549929308228,178.4518119459819,146.69118136229497,128.08815014774714,110.48542738221039,91.51234537645296,89.87695277574386,107.29696279289351,162.49677006848844,183.14039105683867,228.48836925130308,231.4069075985057,250.57097295126152,263.33788777903897,274.2855485912213,335.8511263843528,322.34612196520936,358.0346405735362,378.31679091779733,371.64525110495026,411.2394152198404,381.1228239370356,364.41103281222547,428.44205375905574,425.169785697002,416.05720057359315,448.1501577614148,494.75486058759,539.1945565739311,630.7004158321024,638.2446099190552,622.5338027018324,626.6025409077081,619.5287921446823,635.3221270301215,594.5133163518793,533.368294864837,502.50083795290163,449.0515428840931,517.9948147516511,493.65442081343883,510.00502982509784,561.6380999707069,587.7658044477491,592.5652575003246,638.9488052571883,664.654386103698,718.6461426815531,726.2190762564358,729.9416314774859,680.260699780285,722.5688521103611,665.9592419896715,689.6295108760215,654.6963603263696,597.875490401852,603.785231991657,554.5982547280943,602.5379132438198,622.6541897867417,616.9856094835895],\"type\":\"scatter\"},{\"hovertemplate\":\"%{y:.0f}\",\"legendgroup\":\"nowcast\",\"line\":{\"color\":\"#41ACDD\",\"width\":2.5},\"mode\":\"lines\",\"name\":\"Nowcast\",\"x\":[\"2021-10-16T00:00:00.000000000\",\"2021-10-17T00:00:00.000000000\",\"2021-10-18T00:00:00.000000000\",\"2021-10-19T00:00:00.000000000\",\"2021-10-20T00:00:00.000000000\",\"2021-10-21T00:00:00.000000000\",\"2021-10-22T00:00:00.000000000\",\"2021-10-23T00:00:00.000000000\",\"2021-10-24T00:00:00.000000000\",\"2021-10-25T00:00:00.000000000\",\"2021-10-26T00:00:00.000000000\",\"2021-10-27T00:00:00.000000000\",\"2021-10-28T00:00:00.000000000\",\"2021-10-29T00:00:00.000000000\",\"2021-10-30T00:00:00.000000000\",\"2021-10-31T00:00:00.000000000\",\"2021-11-01T00:00:00.000000000\",\"2021-11-02T00:00:00.000000000\",\"2021-11-03T00:00:00.000000000\",\"2021-11-04T00:00:00.000000000\",\"2021-11-05T00:00:00.000000000\",\"2021-11-06T00:00:00.000000000\",\"2021-11-07T00:00:00.000000000\",\"2021-11-08T00:00:00.000000000\",\"2021-11-09T00:00:00.000000000\",\"2021-11-10T00:00:00.000000000\",\"2021-11-11T00:00:00.000000000\",\"2021-11-12T00:00:00.000000000\",\"2021-11-13T00:00:00.000000000\",\"2021-11-14T00:00:00.000000000\",\"2021-11-15T00:00:00.000000000\",\"2021-11-16T00:00:00.000000000\",\"2021-11-17T00:00:00.000000000\",\"2021-11-18T00:00:00.000000000\",\"2021-11-19T00:00:00.000000000\",\"2021-11-20T00:00:00.000000000\",\"2021-11-21T00:00:00.000000000\",\"2021-11-22T00:00:00.000000000\",\"2021-11-23T00:00:00.000000000\",\"2021-11-24T00:00:00.000000000\",\"2021-11-25T00:00:00.000000000\",\"2021-11-26T00:00:00.000000000\",\"2021-11-27T00:00:00.000000000\",\"2021-11-28T00:00:00.000000000\",\"2021-11-29T00:00:00.000000000\",\"2021-11-30T00:00:00.000000000\",\"2021-12-01T00:00:00.000000000\",\"2021-12-02T00:00:00.000000000\",\"2021-12-03T00:00:00.000000000\",\"2021-12-04T00:00:00.000000000\",\"2021-12-05T00:00:00.000000000\",\"2021-12-06T00:00:00.000000000\",\"2021-12-07T00:00:00.000000000\",\"2021-12-08T00:00:00.000000000\",\"2021-12-09T00:00:00.000000000\",\"2021-12-10T00:00:00.000000000\",\"2021-12-11T00:00:00.000000000\",\"2021-12-12T00:00:00.000000000\",\"2021-12-13T00:00:00.000000000\",\"2021-12-14T00:00:00.000000000\",\"2021-12-15T00:00:00.000000000\",\"2021-12-16T00:00:00.000000000\",\"2021-12-17T00:00:00.000000000\",\"2021-12-18T00:00:00.000000000\",\"2021-12-19T00:00:00.000000000\",\"2021-12-20T00:00:00.000000000\",\"2021-12-21T00:00:00.000000000\",\"2021-12-22T00:00:00.000000000\",\"2021-12-23T00:00:00.000000000\",\"2021-12-24T00:00:00.000000000\",\"2021-12-25T00:00:00.000000000\",\"2021-12-26T00:00:00.000000000\",\"2021-12-27T00:00:00.000000000\",\"2021-12-28T00:00:00.000000000\",\"2021-12-29T00:00:00.000000000\",\"2021-12-30T00:00:00.000000000\",\"2021-12-31T00:00:00.000000000\",\"2022-01-01T00:00:00.000000000\",\"2022-01-02T00:00:00.000000000\",\"2022-01-03T00:00:00.000000000\",\"2022-01-04T00:00:00.000000000\",\"2022-01-05T00:00:00.000000000\",\"2022-01-06T00:00:00.000000000\",\"2022-01-07T00:00:00.000000000\",\"2022-01-08T00:00:00.000000000\",\"2022-01-09T00:00:00.000000000\",\"2022-01-10T00:00:00.000000000\",\"2022-01-11T00:00:00.000000000\",\"2022-01-12T00:00:00.000000000\",\"2022-01-13T00:00:00.000000000\",\"2022-01-14T00:00:00.000000000\",\"2022-01-15T00:00:00.000000000\",\"2022-01-16T00:00:00.000000000\",\"2022-01-17T00:00:00.000000000\",\"2022-01-18T00:00:00.000000000\",\"2022-01-19T00:00:00.000000000\",\"2022-01-20T00:00:00.000000000\",\"2022-01-21T00:00:00.000000000\",\"2022-01-22T00:00:00.000000000\",\"2022-01-23T00:00:00.000000000\",\"2022-01-24T00:00:00.000000000\",\"2022-01-25T00:00:00.000000000\",\"2022-01-26T00:00:00.000000000\",\"2022-01-27T00:00:00.000000000\",\"2022-01-28T00:00:00.000000000\",\"2022-01-29T00:00:00.000000000\",\"2022-01-30T00:00:00.000000000\",\"2022-01-31T00:00:00.000000000\",\"2022-02-01T00:00:00.000000000\",\"2022-02-02T00:00:00.000000000\",\"2022-02-03T00:00:00.000000000\",\"2022-02-04T00:00:00.000000000\",\"2022-02-05T00:00:00.000000000\",\"2022-02-06T00:00:00.000000000\",\"2022-02-07T00:00:00.000000000\",\"2022-02-08T00:00:00.000000000\",\"2022-02-09T00:00:00.000000000\",\"2022-02-10T00:00:00.000000000\",\"2022-02-11T00:00:00.000000000\",\"2022-02-12T00:00:00.000000000\",\"2022-02-13T00:00:00.000000000\",\"2022-02-14T00:00:00.000000000\",\"2022-02-15T00:00:00.000000000\",\"2022-02-16T00:00:00.000000000\",\"2022-02-17T00:00:00.000000000\",\"2022-02-18T00:00:00.000000000\",\"2022-02-19T00:00:00.000000000\",\"2022-02-20T00:00:00.000000000\",\"2022-02-21T00:00:00.000000000\",\"2022-02-22T00:00:00.000000000\",\"2022-02-23T00:00:00.000000000\",\"2022-02-24T00:00:00.000000000\",\"2022-02-25T00:00:00.000000000\",\"2022-02-26T00:00:00.000000000\",\"2022-02-27T00:00:00.000000000\",\"2022-02-28T00:00:00.000000000\",\"2022-03-01T00:00:00.000000000\",\"2022-03-02T00:00:00.000000000\",\"2022-03-03T00:00:00.000000000\",\"2022-03-04T00:00:00.000000000\"],\"y\":[340.2544365915411,338.7997184629468,344.0657761219103,364.90060795297876,430.9490132941184,446.2003090812799,466.79745942780517,453.1284734777231,475.91896713008384,468.6321233155362,419.8143721086285,389.06676319038235,339.36770242726817,330.4910691122016,354.3193140310444,344.0243266984536,333.2221583631698,353.7406472455348,347.9825572068553,366.74905470093563,381.837729479746,389.2534491115791,396.19647340721605,417.76894396807313,419.837842751059,430.83621419442005,438.2673835958707,431.68872356647773,425.7708044628351,432.2091521477927,440.08781161402555,447.21044162769874,416.25740082219147,412.57671679838893,387.36083424578334,361.19527292249984,341.92695978460495,302.99944854044577,304.548169373758,330.8756528740899,336.44800499680946,362.5013026867951,384.3292090982825,377.74777181021636,398.67803624036316,379.54399942736416,379.24986661639997,358.6721116004964,353.3951407283575,347.017561995645,355.8088173404328,367.9616053882111,369.43900549234485,376.59345364213783,384.9044211948561,376.11433627706765,365.528008808057,354.08341330362197,328.8281149041708,308.8980075104291,265.8191709398334,249.6422599863509,229.46514235486742,213.55745280809487,194.09898502155227,171.72556691802615,165.0027497434918,169.6125532532062,153.8013315981313,161.9063758022991,166.54765690985428,187.24794901998513,200.54265297414204,208.10423342284366,220.99808318986038,252.31172619964786,255.57556654640007,264.94474955456644,246.65336730712502,233.92960878450026,237.08680947084304,228.55234877981948,213.9802256669594,213.1522730301454,201.6909416363459,212.18153685880276,233.33927769440788,254.6583334821822,284.74141046584543,311.65769894024504,330.1523215558794,333.37972788041805,351.791379997771,372.06495755765235,391.1996413988477,397.8599156983244,402.79381650584287,417.50350836946063,450.8672717888973,454.6255929329068,472.89708954696863,468.7313709563824,455.57120991552654,487.75996924805395,494.33370935406776,515.5528530185419,551.6342178355496,594.7892995998611,648.1247939777413,707.8329209416958,720.8995238231596,754.9128646540483,750.3070348254247,751.4983101168782,713.6451931508497,667.8287396658695,621.1055470101973,612.9015567772551,593.2746642565734,617.4465034731958,601.8396075736848,613.0845852370016,656.5666477565678,712.3604016834892,723.5683160608547,769.9234252280563,775.6084408179183,808.9885468595814,857.7194773496465,837.2770220649754,831.714046782472,818.8135120242429,772.0577473349185,760.3147002379594,738.9212916625471,707.7948139074731,721.0434071390771,701.3999705023772,723.0412171442729,743.5792236142361],\"type\":\"scatter\"},{\"hovertemplate\":\"%{y:.0f}\",\"marker\":{\"color\":\"white\",\"line\":{\"color\":\"red\",\"width\":2.0},\"size\":8},\"mode\":\"markers\",\"name\":\"With booster 18-59 years\",\"x\":[\"2021-10-25T00:00:00.000000000\",\"2021-11-01T00:00:00.000000000\",\"2021-11-08T00:00:00.000000000\",\"2021-11-15T00:00:00.000000000\",\"2021-11-22T00:00:00.000000000\",\"2021-11-29T00:00:00.000000000\",\"2021-12-06T00:00:00.000000000\",\"2021-12-13T00:00:00.000000000\",\"2021-12-20T00:00:00.000000000\",\"2021-12-27T00:00:00.000000000\",\"2022-01-03T00:00:00.000000000\",\"2022-01-10T00:00:00.000000000\",\"2022-01-17T00:00:00.000000000\",\"2022-01-24T00:00:00.000000000\",\"2022-01-31T00:00:00.000000000\",\"2022-02-07T00:00:00.000000000\"],\"y\":[43.24280548095703,42.8740348815918,56.454917907714844,59.637115478515625,61.134578704833984,47.50160217285156,37.71730422973633,28.43560791015625,27.638254165649414,46.00812911987305,89.77527618408203,92.61939239501953,105.9690933227539,106.06025695800781,108.47478485107422,118.05306243896484],\"type\":\"scatter\"},{\"hovertemplate\":\"%{y:.0f}\",\"marker\":{\"color\":\"red\",\"size\":9},\"mode\":\"markers\",\"name\":\"Vaccinated  18-59 years\",\"x\":[\"2021-10-25T00:00:00.000000000\",\"2021-11-01T00:00:00.000000000\",\"2021-11-08T00:00:00.000000000\",\"2021-11-15T00:00:00.000000000\",\"2021-11-22T00:00:00.000000000\",\"2021-11-29T00:00:00.000000000\",\"2021-12-06T00:00:00.000000000\",\"2021-12-13T00:00:00.000000000\",\"2021-12-20T00:00:00.000000000\",\"2021-12-27T00:00:00.000000000\",\"2022-01-03T00:00:00.000000000\",\"2022-01-10T00:00:00.000000000\",\"2022-01-17T00:00:00.000000000\",\"2022-01-24T00:00:00.000000000\",\"2022-01-31T00:00:00.000000000\",\"2022-02-07T00:00:00.000000000\"],\"y\":[76.70169830322266,94.03158569335938,119.03044128417969,140.1339874267578,139.3203887939453,125.86140441894531,109.15361022949219,93.09611511230469,76.94499206542969,110.59500885009766,180.69644165039062,180.84390258789062,193.66456604003906,185.927490234375,184.8057403564453,191.15243530273438],\"type\":\"scatter\"},{\"hovertemplate\":\"%{y:.0f}\",\"marker\":{\"color\":\"#455266\",\"size\":9},\"mode\":\"markers\",\"name\":\"Unvaccinated 18-59 years\",\"x\":[\"2021-10-25T00:00:00.000000000\",\"2021-11-01T00:00:00.000000000\",\"2021-11-08T00:00:00.000000000\",\"2021-11-15T00:00:00.000000000\",\"2021-11-22T00:00:00.000000000\",\"2021-11-29T00:00:00.000000000\",\"2021-12-06T00:00:00.000000000\",\"2021-12-13T00:00:00.000000000\",\"2021-12-20T00:00:00.000000000\",\"2021-12-27T00:00:00.000000000\",\"2022-01-03T00:00:00.000000000\",\"2022-01-10T00:00:00.000000000\",\"2022-01-17T00:00:00.000000000\",\"2022-01-24T00:00:00.000000000\",\"2022-01-31T00:00:00.000000000\",\"2022-02-07T00:00:00.000000000\"],\"y\":[226.83853149414062,265.99908447265625,326.10321044921875,352.58892822265625,374.02935791015625,343.6412658691406,298.0789489746094,245.50021362304688,166.3865509033203,171.08482360839844,189.6063232421875,178.8633270263672,217.02748107910156,236.2805938720703,247.02659606933594,224.56382751464844],\"type\":\"scatter\"}],                        {\"template\":{\"data\":{\"barpolar\":[{\"marker\":{\"line\":{\"color\":\"white\",\"width\":0.5},\"pattern\":{\"fillmode\":\"overlay\",\"size\":10,\"solidity\":0.2}},\"type\":\"barpolar\"}],\"bar\":[{\"error_x\":{\"color\":\"#2a3f5f\"},\"error_y\":{\"color\":\"#2a3f5f\"},\"marker\":{\"line\":{\"color\":\"white\",\"width\":0.5},\"pattern\":{\"fillmode\":\"overlay\",\"size\":10,\"solidity\":0.2}},\"type\":\"bar\"}],\"carpet\":[{\"aaxis\":{\"endlinecolor\":\"#2a3f5f\",\"gridcolor\":\"#C8D4E3\",\"linecolor\":\"#C8D4E3\",\"minorgridcolor\":\"#C8D4E3\",\"startlinecolor\":\"#2a3f5f\"},\"baxis\":{\"endlinecolor\":\"#2a3f5f\",\"gridcolor\":\"#C8D4E3\",\"linecolor\":\"#C8D4E3\",\"minorgridcolor\":\"#C8D4E3\",\"startlinecolor\":\"#2a3f5f\"},\"type\":\"carpet\"}],\"choropleth\":[{\"colorbar\":{\"outlinewidth\":0,\"ticks\":\"\"},\"type\":\"choropleth\"}],\"contourcarpet\":[{\"colorbar\":{\"outlinewidth\":0,\"ticks\":\"\"},\"type\":\"contourcarpet\"}],\"contour\":[{\"colorbar\":{\"outlinewidth\":0,\"ticks\":\"\"},\"colorscale\":[[0.0,\"#0d0887\"],[0.1111111111111111,\"#46039f\"],[0.2222222222222222,\"#7201a8\"],[0.3333333333333333,\"#9c179e\"],[0.4444444444444444,\"#bd3786\"],[0.5555555555555556,\"#d8576b\"],[0.6666666666666666,\"#ed7953\"],[0.7777777777777778,\"#fb9f3a\"],[0.8888888888888888,\"#fdca26\"],[1.0,\"#f0f921\"]],\"type\":\"contour\"}],\"heatmapgl\":[{\"colorbar\":{\"outlinewidth\":0,\"ticks\":\"\"},\"colorscale\":[[0.0,\"#0d0887\"],[0.1111111111111111,\"#46039f\"],[0.2222222222222222,\"#7201a8\"],[0.3333333333333333,\"#9c179e\"],[0.4444444444444444,\"#bd3786\"],[0.5555555555555556,\"#d8576b\"],[0.6666666666666666,\"#ed7953\"],[0.7777777777777778,\"#fb9f3a\"],[0.8888888888888888,\"#fdca26\"],[1.0,\"#f0f921\"]],\"type\":\"heatmapgl\"}],\"heatmap\":[{\"colorbar\":{\"outlinewidth\":0,\"ticks\":\"\"},\"colorscale\":[[0.0,\"#0d0887\"],[0.1111111111111111,\"#46039f\"],[0.2222222222222222,\"#7201a8\"],[0.3333333333333333,\"#9c179e\"],[0.4444444444444444,\"#bd3786\"],[0.5555555555555556,\"#d8576b\"],[0.6666666666666666,\"#ed7953\"],[0.7777777777777778,\"#fb9f3a\"],[0.8888888888888888,\"#fdca26\"],[1.0,\"#f0f921\"]],\"type\":\"heatmap\"}],\"histogram2dcontour\":[{\"colorbar\":{\"outlinewidth\":0,\"ticks\":\"\"},\"colorscale\":[[0.0,\"#0d0887\"],[0.1111111111111111,\"#46039f\"],[0.2222222222222222,\"#7201a8\"],[0.3333333333333333,\"#9c179e\"],[0.4444444444444444,\"#bd3786\"],[0.5555555555555556,\"#d8576b\"],[0.6666666666666666,\"#ed7953\"],[0.7777777777777778,\"#fb9f3a\"],[0.8888888888888888,\"#fdca26\"],[1.0,\"#f0f921\"]],\"type\":\"histogram2dcontour\"}],\"histogram2d\":[{\"colorbar\":{\"outlinewidth\":0,\"ticks\":\"\"},\"colorscale\":[[0.0,\"#0d0887\"],[0.1111111111111111,\"#46039f\"],[0.2222222222222222,\"#7201a8\"],[0.3333333333333333,\"#9c179e\"],[0.4444444444444444,\"#bd3786\"],[0.5555555555555556,\"#d8576b\"],[0.6666666666666666,\"#ed7953\"],[0.7777777777777778,\"#fb9f3a\"],[0.8888888888888888,\"#fdca26\"],[1.0,\"#f0f921\"]],\"type\":\"histogram2d\"}],\"histogram\":[{\"marker\":{\"pattern\":{\"fillmode\":\"overlay\",\"size\":10,\"solidity\":0.2}},\"type\":\"histogram\"}],\"mesh3d\":[{\"colorbar\":{\"outlinewidth\":0,\"ticks\":\"\"},\"type\":\"mesh3d\"}],\"parcoords\":[{\"line\":{\"colorbar\":{\"outlinewidth\":0,\"ticks\":\"\"}},\"type\":\"parcoords\"}],\"pie\":[{\"automargin\":true,\"type\":\"pie\"}],\"scatter3d\":[{\"line\":{\"colorbar\":{\"outlinewidth\":0,\"ticks\":\"\"}},\"marker\":{\"colorbar\":{\"outlinewidth\":0,\"ticks\":\"\"}},\"type\":\"scatter3d\"}],\"scattercarpet\":[{\"marker\":{\"colorbar\":{\"outlinewidth\":0,\"ticks\":\"\"}},\"type\":\"scattercarpet\"}],\"scattergeo\":[{\"marker\":{\"colorbar\":{\"outlinewidth\":0,\"ticks\":\"\"}},\"type\":\"scattergeo\"}],\"scattergl\":[{\"marker\":{\"colorbar\":{\"outlinewidth\":0,\"ticks\":\"\"}},\"type\":\"scattergl\"}],\"scattermapbox\":[{\"marker\":{\"colorbar\":{\"outlinewidth\":0,\"ticks\":\"\"}},\"type\":\"scattermapbox\"}],\"scatterpolargl\":[{\"marker\":{\"colorbar\":{\"outlinewidth\":0,\"ticks\":\"\"}},\"type\":\"scatterpolargl\"}],\"scatterpolar\":[{\"marker\":{\"colorbar\":{\"outlinewidth\":0,\"ticks\":\"\"}},\"type\":\"scatterpolar\"}],\"scatter\":[{\"marker\":{\"colorbar\":{\"outlinewidth\":0,\"ticks\":\"\"}},\"type\":\"scatter\"}],\"scatterternary\":[{\"marker\":{\"colorbar\":{\"outlinewidth\":0,\"ticks\":\"\"}},\"type\":\"scatterternary\"}],\"surface\":[{\"colorbar\":{\"outlinewidth\":0,\"ticks\":\"\"},\"colorscale\":[[0.0,\"#0d0887\"],[0.1111111111111111,\"#46039f\"],[0.2222222222222222,\"#7201a8\"],[0.3333333333333333,\"#9c179e\"],[0.4444444444444444,\"#bd3786\"],[0.5555555555555556,\"#d8576b\"],[0.6666666666666666,\"#ed7953\"],[0.7777777777777778,\"#fb9f3a\"],[0.8888888888888888,\"#fdca26\"],[1.0,\"#f0f921\"]],\"type\":\"surface\"}],\"table\":[{\"cells\":{\"fill\":{\"color\":\"#EBF0F8\"},\"line\":{\"color\":\"white\"}},\"header\":{\"fill\":{\"color\":\"#C8D4E3\"},\"line\":{\"color\":\"white\"}},\"type\":\"table\"}]},\"layout\":{\"annotationdefaults\":{\"arrowcolor\":\"#2a3f5f\",\"arrowhead\":0,\"arrowwidth\":1},\"autotypenumbers\":\"strict\",\"coloraxis\":{\"colorbar\":{\"outlinewidth\":0,\"ticks\":\"\"}},\"colorscale\":{\"diverging\":[[0,\"#8e0152\"],[0.1,\"#c51b7d\"],[0.2,\"#de77ae\"],[0.3,\"#f1b6da\"],[0.4,\"#fde0ef\"],[0.5,\"#f7f7f7\"],[0.6,\"#e6f5d0\"],[0.7,\"#b8e186\"],[0.8,\"#7fbc41\"],[0.9,\"#4d9221\"],[1,\"#276419\"]],\"sequential\":[[0.0,\"#0d0887\"],[0.1111111111111111,\"#46039f\"],[0.2222222222222222,\"#7201a8\"],[0.3333333333333333,\"#9c179e\"],[0.4444444444444444,\"#bd3786\"],[0.5555555555555556,\"#d8576b\"],[0.6666666666666666,\"#ed7953\"],[0.7777777777777778,\"#fb9f3a\"],[0.8888888888888888,\"#fdca26\"],[1.0,\"#f0f921\"]],\"sequentialminus\":[[0.0,\"#0d0887\"],[0.1111111111111111,\"#46039f\"],[0.2222222222222222,\"#7201a8\"],[0.3333333333333333,\"#9c179e\"],[0.4444444444444444,\"#bd3786\"],[0.5555555555555556,\"#d8576b\"],[0.6666666666666666,\"#ed7953\"],[0.7777777777777778,\"#fb9f3a\"],[0.8888888888888888,\"#fdca26\"],[1.0,\"#f0f921\"]]},\"colorway\":[\"#636efa\",\"#EF553B\",\"#00cc96\",\"#ab63fa\",\"#FFA15A\",\"#19d3f3\",\"#FF6692\",\"#B6E880\",\"#FF97FF\",\"#FECB52\"],\"font\":{\"color\":\"#2a3f5f\"},\"geo\":{\"bgcolor\":\"white\",\"lakecolor\":\"white\",\"landcolor\":\"white\",\"showlakes\":true,\"showland\":true,\"subunitcolor\":\"#C8D4E3\"},\"hoverlabel\":{\"align\":\"left\"},\"hovermode\":\"closest\",\"mapbox\":{\"style\":\"light\"},\"paper_bgcolor\":\"white\",\"plot_bgcolor\":\"white\",\"polar\":{\"angularaxis\":{\"gridcolor\":\"#EBF0F8\",\"linecolor\":\"#EBF0F8\",\"ticks\":\"\"},\"bgcolor\":\"white\",\"radialaxis\":{\"gridcolor\":\"#EBF0F8\",\"linecolor\":\"#EBF0F8\",\"ticks\":\"\"}},\"scene\":{\"xaxis\":{\"backgroundcolor\":\"white\",\"gridcolor\":\"#DFE8F3\",\"gridwidth\":2,\"linecolor\":\"#EBF0F8\",\"showbackground\":true,\"ticks\":\"\",\"zerolinecolor\":\"#EBF0F8\"},\"yaxis\":{\"backgroundcolor\":\"white\",\"gridcolor\":\"#DFE8F3\",\"gridwidth\":2,\"linecolor\":\"#EBF0F8\",\"showbackground\":true,\"ticks\":\"\",\"zerolinecolor\":\"#EBF0F8\"},\"zaxis\":{\"backgroundcolor\":\"white\",\"gridcolor\":\"#DFE8F3\",\"gridwidth\":2,\"linecolor\":\"#EBF0F8\",\"showbackground\":true,\"ticks\":\"\",\"zerolinecolor\":\"#EBF0F8\"}},\"shapedefaults\":{\"line\":{\"color\":\"#2a3f5f\"}},\"ternary\":{\"aaxis\":{\"gridcolor\":\"#DFE8F3\",\"linecolor\":\"#A2B1C6\",\"ticks\":\"\"},\"baxis\":{\"gridcolor\":\"#DFE8F3\",\"linecolor\":\"#A2B1C6\",\"ticks\":\"\"},\"bgcolor\":\"white\",\"caxis\":{\"gridcolor\":\"#DFE8F3\",\"linecolor\":\"#A2B1C6\",\"ticks\":\"\"}},\"title\":{\"x\":0.05},\"xaxis\":{\"automargin\":true,\"gridcolor\":\"#EBF0F8\",\"linecolor\":\"#EBF0F8\",\"ticks\":\"\",\"title\":{\"standoff\":15},\"zerolinecolor\":\"#EBF0F8\",\"zerolinewidth\":2},\"yaxis\":{\"automargin\":true,\"gridcolor\":\"#EBF0F8\",\"linecolor\":\"#EBF0F8\",\"ticks\":\"\",\"title\":{\"standoff\":15},\"zerolinecolor\":\"#EBF0F8\",\"zerolinewidth\":2}}},\"title\":{\"y\":0.92,\"x\":0.5,\"xanchor\":\"center\",\"yanchor\":\"top\",\"text\":\"Reported Incidence vs. Machine Learning Nowcast\"},\"font\":{\"size\":12},\"margin\":{\"l\":60,\"r\":30,\"b\":75,\"t\":30,\"pad\":0},\"legend\":{\"font\":{\"size\":11},\"x\":0,\"y\":1,\"itemclick\":\"toggleothers\",\"itemdoubleclick\":\"toggle\",\"tracegroupgap\":2},\"hoverlabel\":{\"font\":{\"color\":\"black\"},\"namelength\":-1},\"xaxis\":{\"showline\":true,\"linewidth\":1.5,\"linecolor\":\"#455266\",\"ticks\":\"outside\",\"tickwidth\":1.5,\"rangemode\":\"nonnegative\"},\"yaxis\":{\"showline\":true,\"linewidth\":1.5,\"linecolor\":\"#455266\",\"ticks\":\"outside\",\"tickwidth\":1.5,\"rangemode\":\"nonnegative\",\"title\":{\"text\":\"Incidence\"}},\"autosize\":true,\"height\":600,\"hovermode\":\"x unified\",\"showlegend\":true},                        {\"responsive\": true}                    ).then(function(){\n",
       "                            \n",
       "var gd = document.getElementById('d52ee809-2c42-4ddb-bc78-5e4fea1ba485');\n",
       "var x = new MutationObserver(function (mutations, observer) {{\n",
       "        var display = window.getComputedStyle(gd).display;\n",
       "        if (!display || display === 'none') {{\n",
       "            console.log([gd, 'removed!']);\n",
       "            Plotly.purge(gd);\n",
       "            observer.disconnect();\n",
       "        }}\n",
       "}});\n",
       "\n",
       "// Listen for the removal of the full notebook cells\n",
       "var notebookContainer = gd.closest('#notebook-container');\n",
       "if (notebookContainer) {{\n",
       "    x.observe(notebookContainer, {childList: true});\n",
       "}}\n",
       "\n",
       "// Listen for the clearing of the current output cell\n",
       "var outputEl = gd.closest('.output');\n",
       "if (outputEl) {{\n",
       "    x.observe(outputEl, {childList: true});\n",
       "}}\n",
       "\n",
       "                        })                };                });            </script>        </div>"
      ]
     },
     "metadata": {},
     "output_type": "display_data"
    }
   ],
   "source": [
    "import plotly.graph_objects as go\n",
    "\n",
    "default_layout = dict(\n",
    "    title={\"y\": 0.92, \"x\": 0.5, \"xanchor\": \"center\", \"yanchor\": \"top\"},\n",
    "    font_size=12,\n",
    "    autosize=True,\n",
    "    height=600,\n",
    "    margin=dict(l=60, r=30, b=75, t=30, pad=0),\n",
    "    template=\"plotly_white\",\n",
    "    hovermode=\"x\",\n",
    "    legend={\n",
    "        \"font_size\": 11,\n",
    "        'x': 0,\n",
    "        'y': 1,\n",
    "        \"itemclick\": \"toggleothers\",\n",
    "        \"itemdoubleclick\": \"toggle\",\n",
    "        \"tracegroupgap\": 2,\n",
    "    },\n",
    "    hoverlabel={\"font_color\": \"white\", \"namelength\": -1},\n",
    "    xaxis={\n",
    "        \"showline\": True,\n",
    "        \"linewidth\": 1.5,\n",
    "        \"linecolor\": \"#455266\",\n",
    "        \"ticks\": \"outside\",\n",
    "        \"tickwidth\": 1.5,\n",
    "        \"rangemode\": \"nonnegative\",\n",
    "    },\n",
    "    yaxis={\n",
    "        \"showline\": True,\n",
    "        \"linewidth\": 1.5,\n",
    "        \"linecolor\": \"#455266\",\n",
    "        \"ticks\": \"outside\",\n",
    "        \"tickwidth\": 1.5,\n",
    "        \"rangemode\": \"nonnegative\",\n",
    "    },\n",
    "    showlegend=True,\n",
    ")\n",
    "\n",
    "i18n = {'de': {\n",
    "    'booster': 'Mit Auffrischimpfung 18-59 Jahre',\n",
    "    'base': 'Grundimmunisierte  18-59 Jahre',\n",
    "    'unvax': 'Ungeimpfte 18-59 Jahre',\n",
    "    'title': 'Gemeldete Inzidenz vs. Machine Learning Nowcast',\n",
    "    'y_axis_title': 'Inzidenz',\n",
    "    'nowcast': 'Nowcast',\n",
    "    'insecurity': 'Modell Unsicherheit'\n",
    "}, 'en': {\n",
    "    'booster': 'With booster 18-59 years',\n",
    "    'base': 'Vaccinated  18-59 years',\n",
    "    'unvax': 'Unvaccinated 18-59 years',\n",
    "    'title': 'Reported Incidence vs. Machine Learning Nowcast',\n",
    "    'y_axis_title': 'Incidence',\n",
    "    'nowcast': 'Nowcast',\n",
    "    'insecurity': 'Confidence interval'\n",
    "}}\n",
    "\n",
    "for language, translation in i18n.items():\n",
    "    fig = go.Figure()\n",
    "\n",
    "    fig.add_trace(go.Scatter(\n",
    "        y=predicted_incidence_plot_data['mean'].values[10:] + 2 * predicted_incidence_plot_data['std'].values[10:],\n",
    "        x=predicted_incidence_plot_data['date'].values[10:],\n",
    "        showlegend=False,\n",
    "        legendgroup='nowcast',\n",
    "        mode='lines',\n",
    "        marker=dict(color=\"#444\"),\n",
    "        line=dict(width=0),\n",
    "        hoverinfo='skip'\n",
    "    ))\n",
    "    fig.add_trace(go.Scatter(\n",
    "        name=translation['insecurity'],\n",
    "        y=predicted_incidence_plot_data['mean'].values[10:] - 2 * predicted_incidence_plot_data['std'].values[10:],\n",
    "        x=predicted_incidence_plot_data['date'].values[10:],\n",
    "        showlegend=False,\n",
    "        legendgroup='nowcast',\n",
    "        marker=dict(color=\"#444\"),\n",
    "        line=dict(width=0),\n",
    "        mode='lines',\n",
    "        fillcolor='rgba(65, 172, 221, 0.3)',  #'rgba(68, 68, 68, 0.3)'\n",
    "        fill='tonexty',\n",
    "        hoverinfo='skip'\n",
    "    ))\n",
    "\n",
    "    fig.add_trace(go.Scatter(\n",
    "        y=predicted_incidence_plot_data['mean'].values[10:-1],\n",
    "        x=predicted_incidence_plot_data['date'].values[10:-1],\n",
    "        name=translation['nowcast'],\n",
    "        legendgroup='nowcast',\n",
    "        mode='lines',\n",
    "        hovertemplate=\"%{y:.0f}\",\n",
    "        line=dict(width=2.5,\n",
    "                  color='#41ACDD'  #455266\n",
    "                  )))\n",
    "\n",
    "    fig.add_trace(go.Scatter(\n",
    "        y=reported_incidence['Mit Auffrischimpfung 18-59 Jahre'].values[1:],\n",
    "        x=reported_incidence['date'].values[1:],\n",
    "        name=translation['booster'],\n",
    "        mode='markers',\n",
    "        hovertemplate=\"%{y:.0f}\",\n",
    "        marker=dict(size=8,\n",
    "                    color='white',  #41ACDD\n",
    "                    line=dict(width=2., color='red')  #DarkSlateGrey\n",
    "                    )))\n",
    "\n",
    "    fig.add_trace(go.Scatter(\n",
    "        y=reported_incidence['Grundimmunisierte  18-59 Jahre'].values[1:],\n",
    "        x=reported_incidence['date'].values[1:],\n",
    "        name=translation['base'],\n",
    "        mode='markers',\n",
    "        hovertemplate=\"%{y:.0f}\",\n",
    "        marker=dict(size=9,\n",
    "                    color='red',  #455266\n",
    "                    # line=dict(width=1.5, color='DarkSlateGrey')\n",
    "                    )\n",
    "    ))\n",
    "\n",
    "    fig.add_trace(go.Scatter(\n",
    "        y=reported_incidence['Ungeimpfte 18-59 Jahre'].values[1:],\n",
    "        x=reported_incidence['date'].values[1:],\n",
    "        name=translation['unvax'],\n",
    "        mode='markers',\n",
    "        hovertemplate=\"%{y:.0f}\",\n",
    "        marker=dict(size=9,\n",
    "                    color='#455266',  #red\n",
    "                    # line=dict(width=1.5, color='DarkSlateGrey')\n",
    "                    )))\n",
    "\n",
    "    layout = dict(\n",
    "        title_text=translation['title'],\n",
    "        yaxis_title=translation['y_axis_title'],\n",
    "        hovermode='x unified',\n",
    "        hoverlabel={'font': {\n",
    "            'color': 'black',\n",
    "        }},\n",
    "    )\n",
    "    fig.update_layout(default_layout)\n",
    "    fig.update_layout(layout)\n",
    "    fig.write_html(f'incidence_nowcast_{language}.html', include_plotlyjs='cdn', full_html=False,\n",
    "                   config={'responsive': 'true', 'displayModeBar': False})\n",
    "    \n",
    "fig.write_image(f\"incidence_nowcast.png\")\n",
    "fig.show()"
   ]
  },
  {
   "cell_type": "code",
   "execution_count": null,
   "id": "3b0a0ae8",
   "metadata": {},
   "outputs": [],
   "source": []
  }
 ],
 "metadata": {
  "kernelspec": {
   "display_name": "Python 3",
   "language": "python",
   "name": "python3"
  },
  "language_info": {
   "codemirror_mode": {
    "name": "ipython",
    "version": 3
   },
   "file_extension": ".py",
   "mimetype": "text/x-python",
   "name": "python",
   "nbconvert_exporter": "python",
   "pygments_lexer": "ipython3",
   "version": "3.8.10"
  }
 },
 "nbformat": 4,
 "nbformat_minor": 5
}
