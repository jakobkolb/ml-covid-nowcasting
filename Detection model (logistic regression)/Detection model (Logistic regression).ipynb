{
 "cells": [
  {
   "cell_type": "code",
   "execution_count": 1,
   "id": "eed7bedc",
   "metadata": {},
   "outputs": [],
   "source": [
    "import sklearn.metrics\n",
    "from psycopg2.sql import SQL, Identifier, Literal, Composed\n",
    "\n",
    "import ramda as R\n",
    "from numpy import nanstd, random\n",
    "import pandas as pd\n",
    "import seaborn as sns\n",
    "import matplotlib.pyplot as plt\n",
    "from datetime import date, timedelta\n",
    "from itertools import product\n",
    "from tqdm.notebook import tqdm\n",
    "from typing import List, Union\n",
    "\n",
    "from pathlib import Path\n",
    "from joblib import Memory, memory\n",
    "from psycopg2 import connect\n",
    "\n",
    "from sklearn.pipeline import make_pipeline\n",
    "from sklearn.preprocessing import StandardScaler\n",
    "from sklearn.linear_model import LogisticRegression\n",
    "from sklearn.model_selection import train_test_split\n",
    "from sklearn.metrics import ConfusionMatrixDisplay, confusion_matrix, precision_recall_curve, roc_curve\n",
    "import os\n",
    "import yaml\n",
    "\n",
    "notebook_path = os.path.abspath(\"Detection model (Logistic regression).ipynb\")\n",
    "\n",
    "cachedir = \"./db_cache\"\n",
    "Path(cachedir).mkdir(exist_ok=True)\n",
    "mem = Memory(location=cachedir, verbose=0)\n",
    "memory._build_func_identifier = lambda func: func.__name__\n",
    "\n",
    "\n",
    "def parse_yyyy_mm_dd(datestring: str) -> date:\n",
    "    return datetime.strptime(datestring, \"%Y-%m-%d\").date()\n",
    "\n",
    "\n",
    "def load_yaml_file(path) -> dict:\n",
    "    with open(path, \"r\") as file:\n",
    "        try:\n",
    "            return yaml.safe_load(file)\n",
    "        except yaml.YAMLError as exc:\n",
    "            print(exc)\n",
    "\n",
    "\n",
    "@mem.cache\n",
    "def pull_from_postgres(query: Union[str, SQL, Composed]) -> pd.DataFrame:\n",
    "    credentials = load_yaml_file(Path(notebook_path).with_name(\"postgres_credentials.yaml\"))\n",
    "    connection = connect(**credentials)\n",
    "    res = pd.read_sql(query, connection)\n",
    "    connection.close()\n",
    "    return res\n"
   ]
  },
  {
   "cell_type": "code",
   "execution_count": 2,
   "id": "7c0ce0fd",
   "metadata": {},
   "outputs": [],
   "source": [
    "def loading_and_pre_processing_pipeline(limit, batch):\n",
    "    \"\"\"\n",
    "    calcualte metrics from rhr and steps and join with test results and reported symptoms.\n",
    "\n",
    "    Date in test results and symptoms data is the first day of the week for which test and symptoms were reported.\n",
    "    Dates for baseline are 60 days prior to the test week,\n",
    "    Dates for signal in rhr and steps are the 7 days during the week for which the test was reported.\n",
    "\n",
    "    :param limit:\n",
    "    :param batch:\n",
    "    :return:\n",
    "    \"\"\"\n",
    "\n",
    "    rhr_metric = R.pipe(\n",
    "        load_vitals(limit, batch),\n",
    "        reformat_vitals,\n",
    "        R.converge(\n",
    "            add_with_time_offset(1, -7),\n",
    "            [rolling_median(\"60D\", 30, 1), rolling_max(\"7D\", 3, 1)],\n",
    "        ),\n",
    "    )(\"resting_heartrate\")\n",
    "\n",
    "    steps_metric = R.pipe(\n",
    "        load_vitals(limit, batch),\n",
    "        reformat_vitals,\n",
    "        R.converge(\n",
    "            add_with_time_offset(1, -7),\n",
    "            [rolling_median(\"60D\", 30, 1), rolling_mean(\"7D\", 3, 1)],\n",
    "        ),\n",
    "    )(\"steps\")\n",
    "\n",
    "    test_results = load_test_results_symptoms_sex_age()\n",
    "\n",
    "    return (\n",
    "        pd.concat([rhr_metric.stack(\"user_id\"), steps_metric.stack(\"user_id\")], axis=1)\n",
    "            .rename(columns={0: \"rhr_metric\", 1: \"steps_metric\"})\n",
    "            .join(test_results)\n",
    "    )\n",
    "\n",
    "\n",
    "def train_model(features: List[str], target: str, data: pd.DataFrame, random_state=42):\n",
    "    for feature in features:\n",
    "        assert feature in data.columns.values\n",
    "\n",
    "    assert target in data.columns.values\n",
    "\n",
    "    cleaned_features = data.dropna(axis=0, subset=features + [target])\n",
    "\n",
    "    X = cleaned_features[features].values\n",
    "    y = cleaned_features[target].astype(int).values\n",
    "\n",
    "    X_train, X_test, y_train, y_test = train_test_split(\n",
    "        X, y, test_size=0.33,\n",
    "        random_state=random_state\n",
    "    )\n",
    "\n",
    "    pipe = make_pipeline(StandardScaler(), LogisticRegression())\n",
    "    pipe.fit(X_train, y_train)\n",
    "\n",
    "    return pipe, X_test, y_test\n",
    "\n",
    "\n",
    "@R.curry\n",
    "def load_vitals(entries: int, batch: int, vital: str):\n",
    "    return pull_from_postgres(\n",
    "        SQL(\n",
    "            \"\"\"\n",
    "        SELECT\n",
    "            *\n",
    "        FROM\n",
    "            datenspende_derivatives.{vital}\n",
    "        WHERE\n",
    "            user_id\n",
    "        IN\n",
    "            (\n",
    "            SELECT\n",
    "                DISTINCT(user_id)\n",
    "            FROM\n",
    "                datenspende_derivatives.homogenized_features\n",
    "            )\n",
    "        ORDER BY\n",
    "            user_id\n",
    "        LIMIT\n",
    "            {limit}\n",
    "        OFFSET\n",
    "            {offset};\n",
    "        \"\"\"\n",
    "        ).format(\n",
    "            vital=Identifier(vital + \"_ct\"),\n",
    "            limit=Literal(entries),\n",
    "            offset=Literal(batch * entries),\n",
    "        )\n",
    "    )\n",
    "\n",
    "\n",
    "def load_test_results_symptoms_sex_age(*_) -> pd.DataFrame:\n",
    "    test_results = pull_from_postgres(\n",
    "        SQL(\n",
    "            \"\"\"\n",
    "            SELECT\n",
    "                test_week_start,\n",
    "                user_id,\n",
    "                f121 as vaccination,\n",
    "                f40 as chills,\n",
    "                f41 as body_pain,\n",
    "                f42 as loss_of_taste_and_smell,\n",
    "                f43 as fatigue,\n",
    "                f44 as cough,\n",
    "                f45 as cold,\n",
    "                f46 as diarrhea,\n",
    "                f47 as sore_throat,\n",
    "                f10 as test_result,\n",
    "                f76 as fittness,\n",
    "                f127 as sex,\n",
    "                f133 as age\n",
    "\n",
    "            FROM\n",
    "                datenspende_derivatives.homogenized_features\n",
    "            \"\"\"\n",
    "        )\n",
    "    )\n",
    "    test_results[\"date\"] = pd.to_datetime(\n",
    "        test_results[\"test_week_start\"], format=\"%Y-%m-%d\"\n",
    "    )\n",
    "    return test_results.set_index([\"date\", \"user_id\"])\n",
    "\n",
    "\n",
    "def reformat_vitals(vital_data):\n",
    "    tmp = vital_data.set_index(\"user_id\").transpose().reset_index()\n",
    "    tmp[\"date\"] = pd.to_datetime(tmp[\"index\"], format=\"%Y-%m-%d\")\n",
    "    return tmp.drop(columns=[\"index\"]).set_index(\"date\")\n",
    "\n",
    "\n",
    "@R.curry\n",
    "def rolling_median(\n",
    "        window: str, min_periods: int, thresh: int, vital_data: pd.DataFrame\n",
    "):\n",
    "    return (\n",
    "        vital_data.rolling(window, min_periods=min_periods)\n",
    "            .median()\n",
    "            .dropna(axis=0, how=\"all\", thresh=thresh)\n",
    "    )\n",
    "\n",
    "\n",
    "@R.curry\n",
    "def rolling_max(window: str, min_periods: int, thresh: int, vital_data: pd.DataFrame):\n",
    "    return (\n",
    "        vital_data.rolling(window, min_periods=min_periods)\n",
    "            .max()\n",
    "            .dropna(axis=0, how=\"all\", thresh=thresh)\n",
    "    )\n",
    "\n",
    "\n",
    "@R.curry\n",
    "def rolling_mean(window: str, min_periods: int, thresh: int, vital_data: pd.DataFrame):\n",
    "    return (\n",
    "        vital_data.rolling(window, min_periods=min_periods)\n",
    "            .mean()\n",
    "            .dropna(axis=0, how=\"all\", thresh=thresh)\n",
    "    )\n",
    "\n",
    "\n",
    "@R.curry\n",
    "def add_with_time_offset(baseline_offset_days, event_offset_days, baseline: pd.DataFrame, event: pd.DataFrame):\n",
    "    b_tmp = baseline.copy()\n",
    "    e_tmp = event.copy()\n",
    "    b_tmp.index = b_tmp.index + pd.tseries.offsets.DateOffset(days=baseline_offset_days)\n",
    "    e_tmp.index = e_tmp.index + pd.tseries.offsets.DateOffset(days=event_offset_days)\n",
    "    return e_tmp.sub(b_tmp).dropna(axis=0, how=\"all\")\n",
    "\n",
    "\n",
    "def normalize_with_std(df: pd.DataFrame):\n",
    "    return df / nanstd(df.values.flatten())\n",
    "\n",
    "\n",
    "def reindex_test_results(test_results: pd.DataFrame) -> pd.DataFrame:\n",
    "    values = []\n",
    "    for date, user in tqdm(test_results.index.values):\n",
    "        values += list(\n",
    "            product(\n",
    "                pd.date_range(start=date, end=date + timedelta(days=6)).values, [user]\n",
    "            )\n",
    "        )\n",
    "    return test_results.reindex(\n",
    "        pd.MultiIndex.from_tuples(values, names=[\"date\", \"user_id\"])\n",
    "    ).ffill()\n",
    "\n",
    "\n"
   ]
  },
  {
   "cell_type": "code",
   "execution_count": 3,
   "id": "a079725d",
   "metadata": {},
   "outputs": [],
   "source": [
    "feature_data = loading_and_pre_processing_pipeline(500000, 0)\n",
    "cleaned_feature_data = feature_data.drop(columns=[\"vaccination\"]).dropna(axis=0)"
   ]
  },
  {
   "cell_type": "code",
   "execution_count": null,
   "id": "2697429d",
   "metadata": {
    "pycharm": {
     "name": "#%%\n"
    }
   },
   "outputs": [],
   "source": []
  },
  {
   "cell_type": "code",
   "execution_count": 4,
   "id": "dd02d70d",
   "metadata": {},
   "outputs": [
    {
     "name": "stderr",
     "output_type": "stream",
     "text": [
      "/home/kolb/.cache/pypoetry/virtualenvs/analysis-jKKypzXv-py3.8/lib/python3.8/site-packages/sklearn/utils/deprecation.py:87: FutureWarning: Function plot_roc_curve is deprecated; Function :func:`plot_roc_curve` is deprecated in 1.0 and will be removed in 1.2. Use one of the class methods: :meth:`sklearn.metric.RocCurveDisplay.from_predictions` or :meth:`sklearn.metric.RocCurveDisplay.from_estimator`.\n",
      "  warnings.warn(msg, category=FutureWarning)\n"
     ]
    },
    {
     "name": "stdout",
     "output_type": "stream",
     "text": [
      "Text(0, 0, '1')\n"
     ]
    },
    {
     "name": "stderr",
     "output_type": "stream",
     "text": [
      "/tmp/ipykernel_1087251/3682102348.py:70: UserWarning: This figure was using constrained_layout, but that is incompatible with subplots_adjust and/or tight_layout; disabling constrained_layout.\n",
      "  fig.tight_layout()\n"
     ]
    },
    {
     "data": {
      "image/png": "[encoded data removed]",
      "text/plain": [
       "<Figure size 576x576 with 3 Axes>"
      ]
     },
     "metadata": {
      "needs_background": "light"
     },
     "output_type": "display_data"
    }
   ],
   "source": [
    "\n",
    "from sklearn.inspection import permutation_importance\n",
    "from sklearn.metrics import plot_roc_curve\n",
    "from matplotlib.colors import ListedColormap\n",
    "\n",
    "color_palette = sns.color_palette(\"hls\", 8)\n",
    "colormap = ListedColormap(sns.color_palette(\"hls\", 8).as_hex())\n",
    "\n",
    "feature_names = [\n",
    "    \"rhr_metric\",\n",
    "    \"steps_metric\",\n",
    "    \"chills\",\n",
    "    \"body_pain\",\n",
    "    \"loss_of_taste_and_smell\",\n",
    "    \"fatigue\",\n",
    "    \"cough\",\n",
    "    \"cold\",\n",
    "    \"diarrhea\",\n",
    "    \"sore_throat\",\n",
    "    \"fittness\",\n",
    "    \"sex\",\n",
    "    \"age\"\n",
    "]\n",
    "target = 'test_result'\n",
    "\n",
    "def plot_analysis(classifier, X_test, y_test, feature_names, threshold):\n",
    "    def plot_feature_importance(ax, classifier, X_test, y_test, feature_names):\n",
    "        \"\"\"Box plot of permutation feature importance\n",
    "        \"\"\"\n",
    "        importance = permutation_importance(classifier, X_test, y_test, n_repeats=20)\n",
    "        decreasing_importance = pd.DataFrame(\n",
    "            {'mean': importance['importances_mean'], 'label': feature_names}).sort_values(\n",
    "            'mean', ascending=False).label.values\n",
    "\n",
    "        df = pd.DataFrame(columns=pd.Index(data=feature_names, name='features'),\n",
    "                          data=importance['importances'].T).stack(\n",
    "            'features').reset_index()\n",
    "        df.columns = ['iter', 'features', 'importance']\n",
    "        sns.boxplot(y='features', x='importance', data=df, order=decreasing_importance, ax=ax, palette=color_palette)\n",
    "\n",
    "    def plot_confusion_matrix_with_threshold(ax, classifier, X_test, y_test, threshold):\n",
    "        proba = classifier.predict_proba(X_test)\n",
    "        y_pred = (proba > threshold).T[1]\n",
    "        cm = confusion_matrix(y_test, y_pred, sample_weight=None,\n",
    "                              labels=None, normalize='true')\n",
    "        display_labels = pipeline.classes_\n",
    "        disp = ConfusionMatrixDisplay(confusion_matrix=cm,\n",
    "                                      display_labels=display_labels)\n",
    "        plot = disp.plot(include_values=True,\n",
    "                         cmap=colormap, ax=ax, xticks_rotation='horizontal',\n",
    "                         values_format=None, colorbar=False)\n",
    "        print(plot.text_[0][0])\n",
    "\n",
    "    def plot_roc_vs_threshold(ax, classifier, X_test, y_test):\n",
    "        plot_roc_curve(classifier,  X_test, y_test, ax=ax)\n",
    "\n",
    "    with plt.style.context('seaborn'):\n",
    "        plt.rcParams.update({\n",
    "            \"figure.facecolor\": (1.0, 1.0, 1.0, 0.3),  # white   with alpha = 30%\n",
    "            \"axes.facecolor\": (1.0, 1.0, 1.0, 0.5),  # white with alpha = 50%\n",
    "            \"savefig.facecolor\": (1.0, 1.0, 1.0, 0.2),  # white  with alpha = 20%\n",
    "        })\n",
    "        fig, axes = plt.subplot_mosaic([['upper left', 'upper right'],\n",
    "                               ['lower', 'lower']],\n",
    "                              figsize=(8,  8), constrained_layout=True, gridspec_kw={'width_ratios':[1, 1], 'height_ratios': [1,  2]})\n",
    "\n",
    "        plot_roc_vs_threshold(axes['upper left'], pipeline, X_test, y_test)\n",
    "        plot_feature_importance(axes['lower'], classifier, X_test, y_test, feature_names)\n",
    "        plot_confusion_matrix_with_threshold(axes['upper right'], classifier, X_test, y_test, threshold)\n",
    "\n",
    "        fig.tight_layout()\n",
    "\n",
    "        fig.savefig('model_metrics.png')\n",
    "\n",
    "pipeline, X_test, y_test = train_model(feature_names, target, cleaned_feature_data)\n",
    "\n",
    "plot_analysis(pipeline, X_test, y_test, feature_names, 0.5)"
   ]
  },
  {
   "cell_type": "code",
   "execution_count": 5,
   "id": "43d0b57f",
   "metadata": {},
   "outputs": [],
   "source": [
    "cleaned_features = feature_data.dropna(axis=0, subset=feature_names)"
   ]
  },
  {
   "cell_type": "code",
   "execution_count": 6,
   "id": "b7a541b7",
   "metadata": {},
   "outputs": [
    {
     "name": "stdout",
     "output_type": "stream",
     "text": [
      "online source not available HTTP Error 403: Forbidden\n"
     ]
    },
    {
     "data": {
      "text/html": [
       "<div>\n",
       "<style scoped>\n",
       "    .dataframe tbody tr th:only-of-type {\n",
       "        vertical-align: middle;\n",
       "    }\n",
       "\n",
       "    .dataframe tbody tr th {\n",
       "        vertical-align: top;\n",
       "    }\n",
       "\n",
       "    .dataframe thead th {\n",
       "        text-align: right;\n",
       "    }\n",
       "</style>\n",
       "<table border=\"1\" class=\"dataframe\">\n",
       "  <thead>\n",
       "    <tr style=\"text-align: right;\">\n",
       "      <th></th>\n",
       "      <th>Mit Auffrischimpfung 18-59 Jahre</th>\n",
       "      <th>Grundimmunisierte  18-59 Jahre</th>\n",
       "      <th>Ungeimpfte 18-59 Jahre</th>\n",
       "      <th>date</th>\n",
       "    </tr>\n",
       "  </thead>\n",
       "  <tbody>\n",
       "    <tr>\n",
       "      <th>14</th>\n",
       "      <td>28.150208</td>\n",
       "      <td>56.713818</td>\n",
       "      <td>176.191162</td>\n",
       "      <td>2021-10-18</td>\n",
       "    </tr>\n",
       "    <tr>\n",
       "      <th>15</th>\n",
       "      <td>43.242805</td>\n",
       "      <td>76.701698</td>\n",
       "      <td>226.838531</td>\n",
       "      <td>2021-10-25</td>\n",
       "    </tr>\n",
       "    <tr>\n",
       "      <th>16</th>\n",
       "      <td>42.874035</td>\n",
       "      <td>94.031586</td>\n",
       "      <td>265.999084</td>\n",
       "      <td>2021-11-01</td>\n",
       "    </tr>\n",
       "    <tr>\n",
       "      <th>17</th>\n",
       "      <td>56.454918</td>\n",
       "      <td>119.030441</td>\n",
       "      <td>326.103210</td>\n",
       "      <td>2021-11-08</td>\n",
       "    </tr>\n",
       "    <tr>\n",
       "      <th>18</th>\n",
       "      <td>59.637115</td>\n",
       "      <td>140.133987</td>\n",
       "      <td>352.588928</td>\n",
       "      <td>2021-11-15</td>\n",
       "    </tr>\n",
       "  </tbody>\n",
       "</table>\n",
       "</div>"
      ],
      "text/plain": [
       "   Mit Auffrischimpfung 18-59 Jahre  Grundimmunisierte  18-59 Jahre  \\\n",
       "14                        28.150208                       56.713818   \n",
       "15                        43.242805                       76.701698   \n",
       "16                        42.874035                       94.031586   \n",
       "17                        56.454918                      119.030441   \n",
       "18                        59.637115                      140.133987   \n",
       "\n",
       "    Ungeimpfte 18-59 Jahre       date  \n",
       "14              176.191162 2021-10-18  \n",
       "15              226.838531 2021-10-25  \n",
       "16              265.999084 2021-11-01  \n",
       "17              326.103210 2021-11-08  \n",
       "18              352.588928 2021-11-15  "
      ]
     },
     "execution_count": 6,
     "metadata": {},
     "output_type": "execute_result"
    }
   ],
   "source": [
    "# Load reported incidences from File\n",
    "online_source = 'https://www.rki.de/DE/Content/InfAZ/N/Neuartiges_Coronavirus/Daten/Inzidenz_Impfstatus.xlsx?__blob=publicationFile'\n",
    "from datetime import datetime\n",
    "\n",
    "local_source = os.path.join(os.path.dirname(notebook_path), 'Inzidenz_Impfstatus.xlsx')\n",
    "\n",
    "\n",
    "def load_excel(path):\n",
    "    data = pd.read_excel(\n",
    "        path,\n",
    "        sheet_name=1, header=3\n",
    "    )[['Mit Auffrischimpfung 18-59 Jahre', 'Grundimmunisierte  18-59 Jahre', 'Ungeimpfte 18-59 Jahre'\n",
    "        , 'Meldejahr', 'Meldewoche']]\n",
    "    data['date'] = data.apply(\n",
    "        lambda row: datetime.strptime(str(row['Meldejahr']) + \"-\" + str(row['Meldewoche']) + '-1', \"%Y-%W-%w\"),\n",
    "        axis=1)\n",
    "    return data[data['Mit Auffrischimpfung 18-59 Jahre'] != '--'].drop(columns=['Meldejahr', 'Meldewoche'])\n",
    "\n",
    "\n",
    "try:\n",
    "    reported_incidence = load_excel(online_source)\n",
    "except Exception as e:\n",
    "    print('online source not available', e)\n",
    "    reported_incidence = load_excel(local_source)\n",
    "reported_incidence.head()"
   ]
  },
  {
   "cell_type": "code",
   "execution_count": 7,
   "id": "0ad0305d",
   "metadata": {
    "pycharm": {
     "name": "#%%\n"
    }
   },
   "outputs": [],
   "source": [
    "MEAN_DAYS = 7\n",
    "\n",
    "\n",
    "@R.curry\n",
    "def predicted_incidence(classifier, feature_data):\n",
    "    proba_infected = classifier.predict_proba(feature_data[feature_names].values).T[1].T\n",
    "\n",
    "    p = pd.DataFrame(\n",
    "        data=proba_infected, index=cleaned_features.index, columns=[\"probability\"]\n",
    "    )\n",
    "\n",
    "    colname = f\"{MEAN_DAYS}d rolling mean detections\"\n",
    "\n",
    "    p[colname] = p[\"probability\"] > 0.5\n",
    "\n",
    "    p['all'] = p['probability'] > 0\n",
    "\n",
    "    # if individuals are detected as infected in more than one week, take only the first detection\n",
    "    only_first_positive_detections = (p[p[colname] == True]\n",
    "                                      .reset_index()\n",
    "                                      .sort_values(['user_id', 'date'])\n",
    "                                      .groupby(['user_id'])\n",
    "                                      .agg({colname: 'first', 'all': 'first', 'date': lambda x: list(x)[0]})\n",
    "                                      .reset_index()\n",
    "                                      )\n",
    "    all_negative_detections = p[p[colname] == False].reset_index()\n",
    "\n",
    "    detected_infections = pd.concat([only_first_positive_detections, all_negative_detections])\n",
    "\n",
    "    detected_infections['date'] = detected_infections['date'].apply(\n",
    "        lambda d: d + timedelta(days=int(random.randint(0, 7, 1))))\n",
    "\n",
    "    rolling_mean_detections = (\n",
    "        detected_infections\n",
    "            .groupby(\"date\")\n",
    "            .sum()\n",
    "            .rolling(f'{MEAN_DAYS}D').mean()\n",
    "            .drop(columns=[\"probability\", \"user_id\"])\n",
    "    )\n",
    "\n",
    "    rolling_mean_detections[colname] = rolling_mean_detections[colname].div(rolling_mean_detections['all'],\n",
    "                                                                            axis=0) * 100_000\n",
    "\n",
    "    return rolling_mean_detections.reset_index(), colname\n",
    "\n",
    "\n",
    "runs = []\n",
    "for i in range(10):\n",
    "    pipeline, X_test, y_test = train_model(feature_names, target, cleaned_feature_data, random_state=i)\n",
    "    nowcasted_incidence, predicted_incidence_column = predicted_incidence(pipeline, cleaned_features)\n",
    "    nowcasted_incidence['run_id'] = i\n",
    "    runs.append(\n",
    "        nowcasted_incidence[[predicted_incidence_column, 'run_id', 'date']])\n",
    "\n",
    "predicted_incidence_runs = pd.concat(runs).reset_index().sort_values('date')\n",
    "\n",
    "predicted_incidence_plot_data = predicted_incidence_runs.groupby('date').agg(\n",
    "    {predicted_incidence_column: ['mean', 'std']}).reset_index()\n",
    "predicted_incidence_plot_data.columns = ['date', 'mean', 'std']"
   ]
  },
  {
   "cell_type": "code",
   "execution_count": 12,
   "id": "059025b9",
   "metadata": {
    "pycharm": {
     "name": "#%%\n"
    }
   },
   "outputs": [
    {
     "data": {
      "application/vnd.plotly.v1+json": {
       "config": {
        "plotlyServerURL": "https://plot.ly"
       },
       "data": [
        {
         "hoverinfo": "skip",
         "legendgroup": "nowcast",
         "line": {
          "width": 0
         },
         "marker": {
          "color": "#444"
         },
         "mode": "lines",
         "showlegend": false,
         "type": "scatter",
         "x": [
          "2021-10-16T00:00:00.000000000",
          "2021-10-17T00:00:00.000000000",
          "2021-10-18T00:00:00.000000000",
          "2021-10-19T00:00:00.000000000",
          "2021-10-20T00:00:00.000000000",
          "2021-10-21T00:00:00.000000000",
          "2021-10-22T00:00:00.000000000",
          "2021-10-23T00:00:00.000000000",
          "2021-10-24T00:00:00.000000000",
          "2021-10-25T00:00:00.000000000",
          "2021-10-26T00:00:00.000000000",
          "2021-10-27T00:00:00.000000000",
          "2021-10-28T00:00:00.000000000",
          "2021-10-29T00:00:00.000000000",
          "2021-10-30T00:00:00.000000000",
          "2021-10-31T00:00:00.000000000",
          "2021-11-01T00:00:00.000000000",
          "2021-11-02T00:00:00.000000000",
          "2021-11-03T00:00:00.000000000",
          "2021-11-04T00:00:00.000000000",
          "2021-11-05T00:00:00.000000000",
          "2021-11-06T00:00:00.000000000",
          "2021-11-07T00:00:00.000000000",
          "2021-11-08T00:00:00.000000000",
          "2021-11-09T00:00:00.000000000",
          "2021-11-10T00:00:00.000000000",
          "2021-11-11T00:00:00.000000000",
          "2021-11-12T00:00:00.000000000",
          "2021-11-13T00:00:00.000000000",
          "2021-11-14T00:00:00.000000000",
          "2021-11-15T00:00:00.000000000",
          "2021-11-16T00:00:00.000000000",
          "2021-11-17T00:00:00.000000000",
          "2021-11-18T00:00:00.000000000",
          "2021-11-19T00:00:00.000000000",
          "2021-11-20T00:00:00.000000000",
          "2021-11-21T00:00:00.000000000",
          "2021-11-22T00:00:00.000000000",
          "2021-11-23T00:00:00.000000000",
          "2021-11-24T00:00:00.000000000",
          "2021-11-25T00:00:00.000000000",
          "2021-11-26T00:00:00.000000000",
          "2021-11-27T00:00:00.000000000",
          "2021-11-28T00:00:00.000000000",
          "2021-11-29T00:00:00.000000000",
          "2021-11-30T00:00:00.000000000",
          "2021-12-01T00:00:00.000000000",
          "2021-12-02T00:00:00.000000000",
          "2021-12-03T00:00:00.000000000",
          "2021-12-04T00:00:00.000000000",
          "2021-12-05T00:00:00.000000000",
          "2021-12-06T00:00:00.000000000",
          "2021-12-07T00:00:00.000000000",
          "2021-12-08T00:00:00.000000000",
          "2021-12-09T00:00:00.000000000",
          "2021-12-10T00:00:00.000000000",
          "2021-12-11T00:00:00.000000000",
          "2021-12-12T00:00:00.000000000",
          "2021-12-13T00:00:00.000000000",
          "2021-12-14T00:00:00.000000000",
          "2021-12-15T00:00:00.000000000",
          "2021-12-16T00:00:00.000000000",
          "2021-12-17T00:00:00.000000000",
          "2021-12-18T00:00:00.000000000",
          "2021-12-19T00:00:00.000000000",
          "2021-12-20T00:00:00.000000000",
          "2021-12-21T00:00:00.000000000",
          "2021-12-22T00:00:00.000000000",
          "2021-12-23T00:00:00.000000000",
          "2021-12-24T00:00:00.000000000",
          "2021-12-25T00:00:00.000000000",
          "2021-12-26T00:00:00.000000000",
          "2021-12-27T00:00:00.000000000",
          "2021-12-28T00:00:00.000000000",
          "2021-12-29T00:00:00.000000000",
          "2021-12-30T00:00:00.000000000",
          "2021-12-31T00:00:00.000000000",
          "2022-01-01T00:00:00.000000000",
          "2022-01-02T00:00:00.000000000",
          "2022-01-03T00:00:00.000000000",
          "2022-01-04T00:00:00.000000000",
          "2022-01-05T00:00:00.000000000",
          "2022-01-06T00:00:00.000000000",
          "2022-01-07T00:00:00.000000000",
          "2022-01-08T00:00:00.000000000",
          "2022-01-09T00:00:00.000000000",
          "2022-01-10T00:00:00.000000000",
          "2022-01-11T00:00:00.000000000",
          "2022-01-12T00:00:00.000000000",
          "2022-01-13T00:00:00.000000000",
          "2022-01-14T00:00:00.000000000",
          "2022-01-15T00:00:00.000000000",
          "2022-01-16T00:00:00.000000000",
          "2022-01-17T00:00:00.000000000",
          "2022-01-18T00:00:00.000000000",
          "2022-01-19T00:00:00.000000000",
          "2022-01-20T00:00:00.000000000",
          "2022-01-21T00:00:00.000000000",
          "2022-01-22T00:00:00.000000000",
          "2022-01-23T00:00:00.000000000",
          "2022-01-24T00:00:00.000000000",
          "2022-01-25T00:00:00.000000000",
          "2022-01-26T00:00:00.000000000",
          "2022-01-27T00:00:00.000000000",
          "2022-01-28T00:00:00.000000000",
          "2022-01-29T00:00:00.000000000",
          "2022-01-30T00:00:00.000000000",
          "2022-01-31T00:00:00.000000000",
          "2022-02-01T00:00:00.000000000",
          "2022-02-02T00:00:00.000000000",
          "2022-02-03T00:00:00.000000000",
          "2022-02-04T00:00:00.000000000",
          "2022-02-05T00:00:00.000000000",
          "2022-02-06T00:00:00.000000000",
          "2022-02-07T00:00:00.000000000",
          "2022-02-08T00:00:00.000000000",
          "2022-02-09T00:00:00.000000000",
          "2022-02-10T00:00:00.000000000",
          "2022-02-11T00:00:00.000000000",
          "2022-02-12T00:00:00.000000000",
          "2022-02-13T00:00:00.000000000",
          "2022-02-14T00:00:00.000000000",
          "2022-02-15T00:00:00.000000000",
          "2022-02-16T00:00:00.000000000",
          "2022-02-17T00:00:00.000000000",
          "2022-02-18T00:00:00.000000000",
          "2022-02-19T00:00:00.000000000",
          "2022-02-20T00:00:00.000000000",
          "2022-02-21T00:00:00.000000000",
          "2022-02-22T00:00:00.000000000",
          "2022-02-23T00:00:00.000000000",
          "2022-02-24T00:00:00.000000000",
          "2022-02-25T00:00:00.000000000",
          "2022-02-26T00:00:00.000000000",
          "2022-02-27T00:00:00.000000000",
          "2022-02-28T00:00:00.000000000",
          "2022-03-01T00:00:00.000000000",
          "2022-03-02T00:00:00.000000000",
          "2022-03-03T00:00:00.000000000",
          "2022-03-04T00:00:00.000000000",
          "2022-03-05T00:00:00.000000000"
         ],
         "y": [
          719.9708417956335,
          639.4950520543151,
          573.7459105341724,
          534.4419506896395,
          546.9871929152241,
          476.80806882376623,
          501.5163278764777,
          609.7116073857187,
          618.4950822863309,
          605.4808268882864,
          615.591375149354,
          645.8185426953498,
          485.10980803062324,
          475.8155708947451,
          453.89228612384693,
          478.29786936688686,
          484.00953775137225,
          499.5628116624819,
          529.4159568816731,
          523.3150832055437,
          591.5163466884162,
          572.2824842796439,
          620.5820082394252,
          550.7668533905234,
          495.7187320074849,
          512.0501046982479,
          556.233593345033,
          531.813467152416,
          521.828609169851,
          502.49874327582523,
          559.3922580653025,
          553.994402742866,
          529.5073077285437,
          541.3385213629956,
          488.1636255168724,
          459.4977655191031,
          487.5248203652236,
          401.7223491636126,
          397.22354801652625,
          411.08511771530857,
          441.2581338967192,
          446.8745121723327,
          487.83858615019585,
          475.94519559494415,
          489.303498577819,
          466.10905531525134,
          447.8084752701348,
          467.74720117498174,
          458.1588280444864,
          414.55552415076335,
          421.7108333696822,
          433.3662311260008,
          453.00972688643685,
          476.3921321856718,
          467.6164927515322,
          474.20935700324196,
          451.1186649040509,
          429.38233119129654,
          381.05043222711896,
          359.2093353170132,
          306.1892895461017,
          309.02727935927976,
          288.61597451044514,
          281.4507207617779,
          252.52630067683995,
          228.83344428985265,
          235.29218517894864,
          201.34510364017464,
          201.8919985152623,
          214.3445812209081,
          228.2140043637928,
          211.95111849284967,
          224.0973730558852,
          243.9057931742252,
          296.62358878394554,
          295.3909340298551,
          290.42456808664423,
          292.8481981973857,
          290.85258771048575,
          303.1326813879362,
          286.5767842318941,
          248.47301021890215,
          239.21458462183244,
          285.3748818707316,
          290.55108081701525,
          331.71400541797817,
          328.1475836004955,
          385.11244628406746,
          421.5657757097174,
          452.8908299573742,
          420.13010772071715,
          432.77925495238605,
          436.17247223140936,
          462.44512249241086,
          480.0471663583723,
          514.4309648035195,
          533.3390310961604,
          512.5665666633527,
          498.8607358412484,
          515.8295397545952,
          554.698474506098,
          526.2537053964143,
          532.172742247554,
          560.1565892724716,
          551.8004929951128,
          624.8356917177258,
          694.8309812388932,
          762.3431056853368,
          823.3640549194961,
          838.7755150145852,
          807.0788402084464,
          788.8586012452633,
          798.2096390614398,
          771.3100018474609,
          809.1771685548255,
          784.4057308000075,
          772.6509242360866,
          709.2382032631654,
          714.5180773519601,
          736.412486014806,
          726.2710782007995,
          766.4603249778513,
          722.0832695697275,
          758.711864479566,
          845.6232490223608,
          888.973256965395,
          917.0302371659832,
          991.4850542886103,
          1002.0062053477445,
          941.9684362186936,
          930.7380945879647,
          897.6270302213459,
          861.6043914139119,
          850.3210285796144,
          870.7892180438422,
          870.3107866576066,
          834.0880789838405,
          867.7525775780321,
          845.6959356115485,
          879.4426692753015,
          927.2574477929828
         ]
        },
        {
         "fill": "tonexty",
         "fillcolor": "rgba(65, 172, 221, 0.3)",
         "hoverinfo": "skip",
         "legendgroup": "nowcast",
         "line": {
          "width": 0
         },
         "marker": {
          "color": "#444"
         },
         "mode": "lines",
         "name": "Confidence interval",
         "showlegend": false,
         "type": "scatter",
         "x": [
          "2021-10-16T00:00:00.000000000",
          "2021-10-17T00:00:00.000000000",
          "2021-10-18T00:00:00.000000000",
          "2021-10-19T00:00:00.000000000",
          "2021-10-20T00:00:00.000000000",
          "2021-10-21T00:00:00.000000000",
          "2021-10-22T00:00:00.000000000",
          "2021-10-23T00:00:00.000000000",
          "2021-10-24T00:00:00.000000000",
          "2021-10-25T00:00:00.000000000",
          "2021-10-26T00:00:00.000000000",
          "2021-10-27T00:00:00.000000000",
          "2021-10-28T00:00:00.000000000",
          "2021-10-29T00:00:00.000000000",
          "2021-10-30T00:00:00.000000000",
          "2021-10-31T00:00:00.000000000",
          "2021-11-01T00:00:00.000000000",
          "2021-11-02T00:00:00.000000000",
          "2021-11-03T00:00:00.000000000",
          "2021-11-04T00:00:00.000000000",
          "2021-11-05T00:00:00.000000000",
          "2021-11-06T00:00:00.000000000",
          "2021-11-07T00:00:00.000000000",
          "2021-11-08T00:00:00.000000000",
          "2021-11-09T00:00:00.000000000",
          "2021-11-10T00:00:00.000000000",
          "2021-11-11T00:00:00.000000000",
          "2021-11-12T00:00:00.000000000",
          "2021-11-13T00:00:00.000000000",
          "2021-11-14T00:00:00.000000000",
          "2021-11-15T00:00:00.000000000",
          "2021-11-16T00:00:00.000000000",
          "2021-11-17T00:00:00.000000000",
          "2021-11-18T00:00:00.000000000",
          "2021-11-19T00:00:00.000000000",
          "2021-11-20T00:00:00.000000000",
          "2021-11-21T00:00:00.000000000",
          "2021-11-22T00:00:00.000000000",
          "2021-11-23T00:00:00.000000000",
          "2021-11-24T00:00:00.000000000",
          "2021-11-25T00:00:00.000000000",
          "2021-11-26T00:00:00.000000000",
          "2021-11-27T00:00:00.000000000",
          "2021-11-28T00:00:00.000000000",
          "2021-11-29T00:00:00.000000000",
          "2021-11-30T00:00:00.000000000",
          "2021-12-01T00:00:00.000000000",
          "2021-12-02T00:00:00.000000000",
          "2021-12-03T00:00:00.000000000",
          "2021-12-04T00:00:00.000000000",
          "2021-12-05T00:00:00.000000000",
          "2021-12-06T00:00:00.000000000",
          "2021-12-07T00:00:00.000000000",
          "2021-12-08T00:00:00.000000000",
          "2021-12-09T00:00:00.000000000",
          "2021-12-10T00:00:00.000000000",
          "2021-12-11T00:00:00.000000000",
          "2021-12-12T00:00:00.000000000",
          "2021-12-13T00:00:00.000000000",
          "2021-12-14T00:00:00.000000000",
          "2021-12-15T00:00:00.000000000",
          "2021-12-16T00:00:00.000000000",
          "2021-12-17T00:00:00.000000000",
          "2021-12-18T00:00:00.000000000",
          "2021-12-19T00:00:00.000000000",
          "2021-12-20T00:00:00.000000000",
          "2021-12-21T00:00:00.000000000",
          "2021-12-22T00:00:00.000000000",
          "2021-12-23T00:00:00.000000000",
          "2021-12-24T00:00:00.000000000",
          "2021-12-25T00:00:00.000000000",
          "2021-12-26T00:00:00.000000000",
          "2021-12-27T00:00:00.000000000",
          "2021-12-28T00:00:00.000000000",
          "2021-12-29T00:00:00.000000000",
          "2021-12-30T00:00:00.000000000",
          "2021-12-31T00:00:00.000000000",
          "2022-01-01T00:00:00.000000000",
          "2022-01-02T00:00:00.000000000",
          "2022-01-03T00:00:00.000000000",
          "2022-01-04T00:00:00.000000000",
          "2022-01-05T00:00:00.000000000",
          "2022-01-06T00:00:00.000000000",
          "2022-01-07T00:00:00.000000000",
          "2022-01-08T00:00:00.000000000",
          "2022-01-09T00:00:00.000000000",
          "2022-01-10T00:00:00.000000000",
          "2022-01-11T00:00:00.000000000",
          "2022-01-12T00:00:00.000000000",
          "2022-01-13T00:00:00.000000000",
          "2022-01-14T00:00:00.000000000",
          "2022-01-15T00:00:00.000000000",
          "2022-01-16T00:00:00.000000000",
          "2022-01-17T00:00:00.000000000",
          "2022-01-18T00:00:00.000000000",
          "2022-01-19T00:00:00.000000000",
          "2022-01-20T00:00:00.000000000",
          "2022-01-21T00:00:00.000000000",
          "2022-01-22T00:00:00.000000000",
          "2022-01-23T00:00:00.000000000",
          "2022-01-24T00:00:00.000000000",
          "2022-01-25T00:00:00.000000000",
          "2022-01-26T00:00:00.000000000",
          "2022-01-27T00:00:00.000000000",
          "2022-01-28T00:00:00.000000000",
          "2022-01-29T00:00:00.000000000",
          "2022-01-30T00:00:00.000000000",
          "2022-01-31T00:00:00.000000000",
          "2022-02-01T00:00:00.000000000",
          "2022-02-02T00:00:00.000000000",
          "2022-02-03T00:00:00.000000000",
          "2022-02-04T00:00:00.000000000",
          "2022-02-05T00:00:00.000000000",
          "2022-02-06T00:00:00.000000000",
          "2022-02-07T00:00:00.000000000",
          "2022-02-08T00:00:00.000000000",
          "2022-02-09T00:00:00.000000000",
          "2022-02-10T00:00:00.000000000",
          "2022-02-11T00:00:00.000000000",
          "2022-02-12T00:00:00.000000000",
          "2022-02-13T00:00:00.000000000",
          "2022-02-14T00:00:00.000000000",
          "2022-02-15T00:00:00.000000000",
          "2022-02-16T00:00:00.000000000",
          "2022-02-17T00:00:00.000000000",
          "2022-02-18T00:00:00.000000000",
          "2022-02-19T00:00:00.000000000",
          "2022-02-20T00:00:00.000000000",
          "2022-02-21T00:00:00.000000000",
          "2022-02-22T00:00:00.000000000",
          "2022-02-23T00:00:00.000000000",
          "2022-02-24T00:00:00.000000000",
          "2022-02-25T00:00:00.000000000",
          "2022-02-26T00:00:00.000000000",
          "2022-02-27T00:00:00.000000000",
          "2022-02-28T00:00:00.000000000",
          "2022-03-01T00:00:00.000000000",
          "2022-03-02T00:00:00.000000000",
          "2022-03-03T00:00:00.000000000",
          "2022-03-04T00:00:00.000000000",
          "2022-03-05T00:00:00.000000000"
         ],
         "y": [
          -15.157674685706354,
          28.143350453984112,
          153.4518147740666,
          83.97256352943486,
          63.620070120768645,
          229.38279184361875,
          351.5559839215399,
          299.04114813008397,
          303.61930071718893,
          259.1051497608199,
          294.97950162150767,
          302.52927089093765,
          380.7634726521515,
          252.06764253884893,
          236.39673678764476,
          191.4518850019192,
          231.08687417799322,
          242.3520304028288,
          171.25053848148468,
          186.14996007411975,
          227.4472951349308,
          259.6742970571761,
          302.844079541559,
          342.7075593762442,
          309.13062518047747,
          276.37513292037727,
          309.0984004692895,
          287.69915567692533,
          310.6005563375336,
          294.8338835302488,
          287.0053100130038,
          322.9418337086716,
          345.9031469780338,
          279.7095106512047,
          298.3593258904835,
          260.35176939507704,
          168.40696577787241,
          164.02710708961314,
          189.97435218741023,
          222.69158973067852,
          200.50786972879143,
          250.06389626129788,
          292.44806066194974,
          313.78505793271756,
          327.0558500412425,
          332.90657055531676,
          338.0367882189673,
          314.2380825085839,
          266.8443695133974,
          281.5747999369351,
          262.60589623039743,
          301.74234557476814,
          284.3466823770416,
          297.6842323860659,
          303.2718452458829,
          310.2290054437648,
          279.76040105426705,
          291.9406557604641,
          276.7469993472486,
          231.17942946964928,
          209.44563490814096,
          171.73094507432666,
          132.17272615801232,
          136.59117212605568,
          144.62421469747798,
          116.00174143564335,
          119.20606413440245,
          124.34661469767681,
          115.69191300438224,
          126.11568052340337,
          116.31617679960901,
          136.31307428863772,
          147.31949438620296,
          175.36254069526655,
          172.4959552328137,
          191.6526472730358,
          199.1351756402752,
          198.35888777106396,
          198.74977661752092,
          207.9168256020412,
          176.7894385197245,
          166.36709887393076,
          156.60177859099718,
          116.12205838699505,
          138.09363169992724,
          113.41086084985966,
          120.57510888508293,
          132.81463051106437,
          175.07482953286464,
          196.29898522202856,
          238.51636818017306,
          266.358139645537,
          279.6840415374707,
          270.24030503336223,
          278.82569024595483,
          264.54715065017405,
          302.9614915549439,
          379.731682921801,
          390.70352992842453,
          407.8023218086065,
          404.7971564526532,
          404.70256668049115,
          399.24063630853834,
          369.1029984603455,
          449.8289319892442,
          448.3920654297613,
          466.81406119935536,
          475.1837816114718,
          522.9976952038571,
          567.4130253370824,
          622.4273685612005,
          626.481347375739,
          598.7734646277814,
          621.2927596887082,
          540.7048652273651,
          545.6853725042973,
          552.0990973168758,
          588.2284499712985,
          529.1943412572473,
          518.9580806560695,
          511.1310372150675,
          512.1206823350167,
          558.2579269641271,
          566.6286811145387,
          587.6194905653188,
          610.2626188494403,
          635.5592245669377,
          614.2510064759268,
          621.1762396915842,
          707.3364985293535,
          685.6759793653985,
          651.8780770540222,
          695.554122815298,
          690.8852837585282,
          645.7944823920626,
          634.620102056662,
          655.1065832092064,
          643.5952697121566,
          678.0541568735302,
          634.5518994558032,
          550.0167270403869
         ]
        },
        {
         "hovertemplate": "%{y:.0f}",
         "legendgroup": "nowcast",
         "line": {
          "color": "#41ACDD",
          "width": 2.5
         },
         "mode": "lines",
         "name": "Nowcast",
         "type": "scatter",
         "x": [
          "2021-10-16T00:00:00.000000000",
          "2021-10-17T00:00:00.000000000",
          "2021-10-18T00:00:00.000000000",
          "2021-10-19T00:00:00.000000000",
          "2021-10-20T00:00:00.000000000",
          "2021-10-21T00:00:00.000000000",
          "2021-10-22T00:00:00.000000000",
          "2021-10-23T00:00:00.000000000",
          "2021-10-24T00:00:00.000000000",
          "2021-10-25T00:00:00.000000000",
          "2021-10-26T00:00:00.000000000",
          "2021-10-27T00:00:00.000000000",
          "2021-10-28T00:00:00.000000000",
          "2021-10-29T00:00:00.000000000",
          "2021-10-30T00:00:00.000000000",
          "2021-10-31T00:00:00.000000000",
          "2021-11-01T00:00:00.000000000",
          "2021-11-02T00:00:00.000000000",
          "2021-11-03T00:00:00.000000000",
          "2021-11-04T00:00:00.000000000",
          "2021-11-05T00:00:00.000000000",
          "2021-11-06T00:00:00.000000000",
          "2021-11-07T00:00:00.000000000",
          "2021-11-08T00:00:00.000000000",
          "2021-11-09T00:00:00.000000000",
          "2021-11-10T00:00:00.000000000",
          "2021-11-11T00:00:00.000000000",
          "2021-11-12T00:00:00.000000000",
          "2021-11-13T00:00:00.000000000",
          "2021-11-14T00:00:00.000000000",
          "2021-11-15T00:00:00.000000000",
          "2021-11-16T00:00:00.000000000",
          "2021-11-17T00:00:00.000000000",
          "2021-11-18T00:00:00.000000000",
          "2021-11-19T00:00:00.000000000",
          "2021-11-20T00:00:00.000000000",
          "2021-11-21T00:00:00.000000000",
          "2021-11-22T00:00:00.000000000",
          "2021-11-23T00:00:00.000000000",
          "2021-11-24T00:00:00.000000000",
          "2021-11-25T00:00:00.000000000",
          "2021-11-26T00:00:00.000000000",
          "2021-11-27T00:00:00.000000000",
          "2021-11-28T00:00:00.000000000",
          "2021-11-29T00:00:00.000000000",
          "2021-11-30T00:00:00.000000000",
          "2021-12-01T00:00:00.000000000",
          "2021-12-02T00:00:00.000000000",
          "2021-12-03T00:00:00.000000000",
          "2021-12-04T00:00:00.000000000",
          "2021-12-05T00:00:00.000000000",
          "2021-12-06T00:00:00.000000000",
          "2021-12-07T00:00:00.000000000",
          "2021-12-08T00:00:00.000000000",
          "2021-12-09T00:00:00.000000000",
          "2021-12-10T00:00:00.000000000",
          "2021-12-11T00:00:00.000000000",
          "2021-12-12T00:00:00.000000000",
          "2021-12-13T00:00:00.000000000",
          "2021-12-14T00:00:00.000000000",
          "2021-12-15T00:00:00.000000000",
          "2021-12-16T00:00:00.000000000",
          "2021-12-17T00:00:00.000000000",
          "2021-12-18T00:00:00.000000000",
          "2021-12-19T00:00:00.000000000",
          "2021-12-20T00:00:00.000000000",
          "2021-12-21T00:00:00.000000000",
          "2021-12-22T00:00:00.000000000",
          "2021-12-23T00:00:00.000000000",
          "2021-12-24T00:00:00.000000000",
          "2021-12-25T00:00:00.000000000",
          "2021-12-26T00:00:00.000000000",
          "2021-12-27T00:00:00.000000000",
          "2021-12-28T00:00:00.000000000",
          "2021-12-29T00:00:00.000000000",
          "2021-12-30T00:00:00.000000000",
          "2021-12-31T00:00:00.000000000",
          "2022-01-01T00:00:00.000000000",
          "2022-01-02T00:00:00.000000000",
          "2022-01-03T00:00:00.000000000",
          "2022-01-04T00:00:00.000000000",
          "2022-01-05T00:00:00.000000000",
          "2022-01-06T00:00:00.000000000",
          "2022-01-07T00:00:00.000000000",
          "2022-01-08T00:00:00.000000000",
          "2022-01-09T00:00:00.000000000",
          "2022-01-10T00:00:00.000000000",
          "2022-01-11T00:00:00.000000000",
          "2022-01-12T00:00:00.000000000",
          "2022-01-13T00:00:00.000000000",
          "2022-01-14T00:00:00.000000000",
          "2022-01-15T00:00:00.000000000",
          "2022-01-16T00:00:00.000000000",
          "2022-01-17T00:00:00.000000000",
          "2022-01-18T00:00:00.000000000",
          "2022-01-19T00:00:00.000000000",
          "2022-01-20T00:00:00.000000000",
          "2022-01-21T00:00:00.000000000",
          "2022-01-22T00:00:00.000000000",
          "2022-01-23T00:00:00.000000000",
          "2022-01-24T00:00:00.000000000",
          "2022-01-25T00:00:00.000000000",
          "2022-01-26T00:00:00.000000000",
          "2022-01-27T00:00:00.000000000",
          "2022-01-28T00:00:00.000000000",
          "2022-01-29T00:00:00.000000000",
          "2022-01-30T00:00:00.000000000",
          "2022-01-31T00:00:00.000000000",
          "2022-02-01T00:00:00.000000000",
          "2022-02-02T00:00:00.000000000",
          "2022-02-03T00:00:00.000000000",
          "2022-02-04T00:00:00.000000000",
          "2022-02-05T00:00:00.000000000",
          "2022-02-06T00:00:00.000000000",
          "2022-02-07T00:00:00.000000000",
          "2022-02-08T00:00:00.000000000",
          "2022-02-09T00:00:00.000000000",
          "2022-02-10T00:00:00.000000000",
          "2022-02-11T00:00:00.000000000",
          "2022-02-12T00:00:00.000000000",
          "2022-02-13T00:00:00.000000000",
          "2022-02-14T00:00:00.000000000",
          "2022-02-15T00:00:00.000000000",
          "2022-02-16T00:00:00.000000000",
          "2022-02-17T00:00:00.000000000",
          "2022-02-18T00:00:00.000000000",
          "2022-02-19T00:00:00.000000000",
          "2022-02-20T00:00:00.000000000",
          "2022-02-21T00:00:00.000000000",
          "2022-02-22T00:00:00.000000000",
          "2022-02-23T00:00:00.000000000",
          "2022-02-24T00:00:00.000000000",
          "2022-02-25T00:00:00.000000000",
          "2022-02-26T00:00:00.000000000",
          "2022-02-27T00:00:00.000000000",
          "2022-02-28T00:00:00.000000000",
          "2022-03-01T00:00:00.000000000",
          "2022-03-02T00:00:00.000000000",
          "2022-03-03T00:00:00.000000000",
          "2022-03-04T00:00:00.000000000"
         ],
         "y": [
          352.40658355496356,
          333.8192012541496,
          363.5988626541195,
          309.2072571095372,
          305.3036315179964,
          353.0954303336925,
          426.5361558990088,
          454.37637775790137,
          461.0571915017599,
          432.29298832455316,
          455.28543838543084,
          474.1739067931438,
          432.9366403413874,
          363.941606716797,
          345.1445114557458,
          334.87487718440303,
          357.5482059646827,
          370.95742103265536,
          350.3332476815789,
          354.73252163983176,
          409.4818209116735,
          415.97839066841,
          461.7130438904921,
          446.73720638338375,
          402.4246785939812,
          394.2126188093126,
          432.6659969071613,
          409.7563114146707,
          416.2145827536923,
          398.666313403037,
          423.19878403915317,
          438.46811822576876,
          437.7052273532887,
          410.52401600710016,
          393.26147570367795,
          359.92476745709007,
          327.965893071548,
          282.87472812661287,
          293.5989501019682,
          316.88835372299354,
          320.8830018127553,
          348.4692042168153,
          390.1433234060728,
          394.86512676383086,
          408.17967430953075,
          399.50781293528405,
          392.92263174455104,
          390.9926418417828,
          362.5015987789419,
          348.0651620438492,
          342.1583648000398,
          367.55428835038447,
          368.6782046317392,
          387.03818228586886,
          385.44416899870754,
          392.21918122350337,
          365.43953297915897,
          360.6614934758803,
          328.8987157871838,
          295.19438239333124,
          257.8174622271213,
          240.3791122168032,
          210.39435033422873,
          209.02094644391678,
          198.57525768715897,
          172.417592862748,
          177.24912465667555,
          162.84585916892573,
          158.79195575982226,
          170.23013087215574,
          172.26509058170092,
          174.1320963907437,
          185.7084337210441,
          209.63416693474588,
          234.5597720083796,
          243.52179065144546,
          244.77987186345973,
          245.60354298422484,
          244.80118216400334,
          255.5247534949887,
          231.68311137580932,
          207.42005454641645,
          197.90818160641481,
          200.74847012886332,
          214.32235625847125,
          222.56243313391892,
          224.3613462427892,
          258.9635383975659,
          298.32030262129103,
          324.5949075897014,
          329.3232379504451,
          349.5686972989615,
          357.92825688444003,
          366.34271376288655,
          379.43642830216356,
          389.48905772684674,
          418.15026132555215,
          446.1491247925768,
          444.78213288483647,
          461.81593078160085,
          479.7478154793756,
          465.4781360384527,
          465.70668927804616,
          464.62979386640853,
          500.8147124921785,
          536.6138785737436,
          580.8225212191243,
          618.7634436484043,
          673.1808750616766,
          703.0942701758338,
          714.7531043848235,
          707.6699743105012,
          698.4915518446106,
          696.3013807680845,
          674.9410168910953,
          665.0455516521524,
          662.3750107764812,
          648.7333266172319,
          621.8562093046037,
          627.6852833354377,
          618.7010577079335,
          639.290503656434,
          640.1705982669273,
          662.6702727970523,
          716.6213697938398,
          749.6179379074176,
          776.2947308664604,
          802.8680303822686,
          811.5912225196644,
          824.6524673740236,
          808.2070369766816,
          774.7525536376841,
          778.579257114605,
          770.6031561690713,
          758.2918502179524,
          752.4654443571343,
          744.5973310965235,
          755.6739236450943,
          761.8750462425394,
          756.9972843655523
         ]
        },
        {
         "hovertemplate": "%{y:.0f}",
         "marker": {
          "color": "white",
          "line": {
           "color": "red",
           "width": 2
          },
          "size": 8
         },
         "mode": "markers",
         "name": "With booster 18-59 years",
         "type": "scatter",
         "x": [
          "2021-10-25T00:00:00.000000000",
          "2021-11-01T00:00:00.000000000",
          "2021-11-08T00:00:00.000000000",
          "2021-11-15T00:00:00.000000000",
          "2021-11-22T00:00:00.000000000",
          "2021-11-29T00:00:00.000000000",
          "2021-12-06T00:00:00.000000000",
          "2021-12-13T00:00:00.000000000",
          "2021-12-20T00:00:00.000000000",
          "2021-12-27T00:00:00.000000000",
          "2022-01-03T00:00:00.000000000",
          "2022-01-10T00:00:00.000000000",
          "2022-01-17T00:00:00.000000000",
          "2022-01-24T00:00:00.000000000",
          "2022-01-31T00:00:00.000000000",
          "2022-02-07T00:00:00.000000000"
         ],
         "y": [
          43.24280548095703,
          42.8740348815918,
          56.454917907714844,
          59.637115478515625,
          61.134578704833984,
          47.50160217285156,
          37.71730422973633,
          28.43560791015625,
          27.638254165649414,
          46.00812911987305,
          89.77527618408203,
          92.61939239501953,
          105.9690933227539,
          106.06025695800781,
          108.47478485107422,
          118.05306243896484
         ]
        },
        {
         "hovertemplate": "%{y:.0f}",
         "marker": {
          "color": "red",
          "size": 9
         },
         "mode": "markers",
         "name": "Vaccinated  18-59 years",
         "type": "scatter",
         "x": [
          "2021-10-25T00:00:00.000000000",
          "2021-11-01T00:00:00.000000000",
          "2021-11-08T00:00:00.000000000",
          "2021-11-15T00:00:00.000000000",
          "2021-11-22T00:00:00.000000000",
          "2021-11-29T00:00:00.000000000",
          "2021-12-06T00:00:00.000000000",
          "2021-12-13T00:00:00.000000000",
          "2021-12-20T00:00:00.000000000",
          "2021-12-27T00:00:00.000000000",
          "2022-01-03T00:00:00.000000000",
          "2022-01-10T00:00:00.000000000",
          "2022-01-17T00:00:00.000000000",
          "2022-01-24T00:00:00.000000000",
          "2022-01-31T00:00:00.000000000",
          "2022-02-07T00:00:00.000000000"
         ],
         "y": [
          76.70169830322266,
          94.03158569335938,
          119.03044128417969,
          140.1339874267578,
          139.3203887939453,
          125.86140441894531,
          109.15361022949219,
          93.09611511230469,
          76.94499206542969,
          110.59500885009766,
          180.69644165039062,
          180.84390258789062,
          193.66456604003906,
          185.927490234375,
          184.8057403564453,
          191.15243530273438
         ]
        },
        {
         "hovertemplate": "%{y:.0f}",
         "marker": {
          "color": "#455266",
          "size": 9
         },
         "mode": "markers",
         "name": "Unvaccinated 18-59 years",
         "type": "scatter",
         "x": [
          "2021-10-25T00:00:00.000000000",
          "2021-11-01T00:00:00.000000000",
          "2021-11-08T00:00:00.000000000",
          "2021-11-15T00:00:00.000000000",
          "2021-11-22T00:00:00.000000000",
          "2021-11-29T00:00:00.000000000",
          "2021-12-06T00:00:00.000000000",
          "2021-12-13T00:00:00.000000000",
          "2021-12-20T00:00:00.000000000",
          "2021-12-27T00:00:00.000000000",
          "2022-01-03T00:00:00.000000000",
          "2022-01-10T00:00:00.000000000",
          "2022-01-17T00:00:00.000000000",
          "2022-01-24T00:00:00.000000000",
          "2022-01-31T00:00:00.000000000",
          "2022-02-07T00:00:00.000000000"
         ],
         "y": [
          226.83853149414062,
          265.99908447265625,
          326.10321044921875,
          352.58892822265625,
          374.02935791015625,
          343.6412658691406,
          298.0789489746094,
          245.50021362304688,
          166.3865509033203,
          171.08482360839844,
          189.6063232421875,
          178.8633270263672,
          217.02748107910156,
          236.2805938720703,
          247.02659606933594,
          224.56382751464844
         ]
        }
       ],
       "layout": {
        "autosize": true,
        "font": {
         "size": 12
        },
        "height": 600,
        "hoverlabel": {
         "font": {
          "color": "black"
         },
         "namelength": -1
        },
        "hovermode": "x unified",
        "legend": {
         "font": {
          "size": 11
         },
         "itemclick": "toggleothers",
         "itemdoubleclick": "toggle",
         "tracegroupgap": 2,
         "x": 0,
         "y": 1
        },
        "margin": {
         "b": 75,
         "l": 60,
         "pad": 0,
         "r": 30,
         "t": 30
        },
        "showlegend": true,
        "template": {
         "data": {
          "bar": [
           {
            "error_x": {
             "color": "#2a3f5f"
            },
            "error_y": {
             "color": "#2a3f5f"
            },
            "marker": {
             "line": {
              "color": "white",
              "width": 0.5
             },
             "pattern": {
              "fillmode": "overlay",
              "size": 10,
              "solidity": 0.2
             }
            },
            "type": "bar"
           }
          ],
          "barpolar": [
           {
            "marker": {
             "line": {
              "color": "white",
              "width": 0.5
             },
             "pattern": {
              "fillmode": "overlay",
              "size": 10,
              "solidity": 0.2
             }
            },
            "type": "barpolar"
           }
          ],
          "carpet": [
           {
            "aaxis": {
             "endlinecolor": "#2a3f5f",
             "gridcolor": "#C8D4E3",
             "linecolor": "#C8D4E3",
             "minorgridcolor": "#C8D4E3",
             "startlinecolor": "#2a3f5f"
            },
            "baxis": {
             "endlinecolor": "#2a3f5f",
             "gridcolor": "#C8D4E3",
             "linecolor": "#C8D4E3",
             "minorgridcolor": "#C8D4E3",
             "startlinecolor": "#2a3f5f"
            },
            "type": "carpet"
           }
          ],
          "choropleth": [
           {
            "colorbar": {
             "outlinewidth": 0,
             "ticks": ""
            },
            "type": "choropleth"
           }
          ],
          "contour": [
           {
            "colorbar": {
             "outlinewidth": 0,
             "ticks": ""
            },
            "colorscale": [
             [
              0,
              "#0d0887"
             ],
             [
              0.1111111111111111,
              "#46039f"
             ],
             [
              0.2222222222222222,
              "#7201a8"
             ],
             [
              0.3333333333333333,
              "#9c179e"
             ],
             [
              0.4444444444444444,
              "#bd3786"
             ],
             [
              0.5555555555555556,
              "#d8576b"
             ],
             [
              0.6666666666666666,
              "#ed7953"
             ],
             [
              0.7777777777777778,
              "#fb9f3a"
             ],
             [
              0.8888888888888888,
              "#fdca26"
             ],
             [
              1,
              "#f0f921"
             ]
            ],
            "type": "contour"
           }
          ],
          "contourcarpet": [
           {
            "colorbar": {
             "outlinewidth": 0,
             "ticks": ""
            },
            "type": "contourcarpet"
           }
          ],
          "heatmap": [
           {
            "colorbar": {
             "outlinewidth": 0,
             "ticks": ""
            },
            "colorscale": [
             [
              0,
              "#0d0887"
             ],
             [
              0.1111111111111111,
              "#46039f"
             ],
             [
              0.2222222222222222,
              "#7201a8"
             ],
             [
              0.3333333333333333,
              "#9c179e"
             ],
             [
              0.4444444444444444,
              "#bd3786"
             ],
             [
              0.5555555555555556,
              "#d8576b"
             ],
             [
              0.6666666666666666,
              "#ed7953"
             ],
             [
              0.7777777777777778,
              "#fb9f3a"
             ],
             [
              0.8888888888888888,
              "#fdca26"
             ],
             [
              1,
              "#f0f921"
             ]
            ],
            "type": "heatmap"
           }
          ],
          "heatmapgl": [
           {
            "colorbar": {
             "outlinewidth": 0,
             "ticks": ""
            },
            "colorscale": [
             [
              0,
              "#0d0887"
             ],
             [
              0.1111111111111111,
              "#46039f"
             ],
             [
              0.2222222222222222,
              "#7201a8"
             ],
             [
              0.3333333333333333,
              "#9c179e"
             ],
             [
              0.4444444444444444,
              "#bd3786"
             ],
             [
              0.5555555555555556,
              "#d8576b"
             ],
             [
              0.6666666666666666,
              "#ed7953"
             ],
             [
              0.7777777777777778,
              "#fb9f3a"
             ],
             [
              0.8888888888888888,
              "#fdca26"
             ],
             [
              1,
              "#f0f921"
             ]
            ],
            "type": "heatmapgl"
           }
          ],
          "histogram": [
           {
            "marker": {
             "pattern": {
              "fillmode": "overlay",
              "size": 10,
              "solidity": 0.2
             }
            },
            "type": "histogram"
           }
          ],
          "histogram2d": [
           {
            "colorbar": {
             "outlinewidth": 0,
             "ticks": ""
            },
            "colorscale": [
             [
              0,
              "#0d0887"
             ],
             [
              0.1111111111111111,
              "#46039f"
             ],
             [
              0.2222222222222222,
              "#7201a8"
             ],
             [
              0.3333333333333333,
              "#9c179e"
             ],
             [
              0.4444444444444444,
              "#bd3786"
             ],
             [
              0.5555555555555556,
              "#d8576b"
             ],
             [
              0.6666666666666666,
              "#ed7953"
             ],
             [
              0.7777777777777778,
              "#fb9f3a"
             ],
             [
              0.8888888888888888,
              "#fdca26"
             ],
             [
              1,
              "#f0f921"
             ]
            ],
            "type": "histogram2d"
           }
          ],
          "histogram2dcontour": [
           {
            "colorbar": {
             "outlinewidth": 0,
             "ticks": ""
            },
            "colorscale": [
             [
              0,
              "#0d0887"
             ],
             [
              0.1111111111111111,
              "#46039f"
             ],
             [
              0.2222222222222222,
              "#7201a8"
             ],
             [
              0.3333333333333333,
              "#9c179e"
             ],
             [
              0.4444444444444444,
              "#bd3786"
             ],
             [
              0.5555555555555556,
              "#d8576b"
             ],
             [
              0.6666666666666666,
              "#ed7953"
             ],
             [
              0.7777777777777778,
              "#fb9f3a"
             ],
             [
              0.8888888888888888,
              "#fdca26"
             ],
             [
              1,
              "#f0f921"
             ]
            ],
            "type": "histogram2dcontour"
           }
          ],
          "mesh3d": [
           {
            "colorbar": {
             "outlinewidth": 0,
             "ticks": ""
            },
            "type": "mesh3d"
           }
          ],
          "parcoords": [
           {
            "line": {
             "colorbar": {
              "outlinewidth": 0,
              "ticks": ""
             }
            },
            "type": "parcoords"
           }
          ],
          "pie": [
           {
            "automargin": true,
            "type": "pie"
           }
          ],
          "scatter": [
           {
            "marker": {
             "colorbar": {
              "outlinewidth": 0,
              "ticks": ""
             }
            },
            "type": "scatter"
           }
          ],
          "scatter3d": [
           {
            "line": {
             "colorbar": {
              "outlinewidth": 0,
              "ticks": ""
             }
            },
            "marker": {
             "colorbar": {
              "outlinewidth": 0,
              "ticks": ""
             }
            },
            "type": "scatter3d"
           }
          ],
          "scattercarpet": [
           {
            "marker": {
             "colorbar": {
              "outlinewidth": 0,
              "ticks": ""
             }
            },
            "type": "scattercarpet"
           }
          ],
          "scattergeo": [
           {
            "marker": {
             "colorbar": {
              "outlinewidth": 0,
              "ticks": ""
             }
            },
            "type": "scattergeo"
           }
          ],
          "scattergl": [
           {
            "marker": {
             "colorbar": {
              "outlinewidth": 0,
              "ticks": ""
             }
            },
            "type": "scattergl"
           }
          ],
          "scattermapbox": [
           {
            "marker": {
             "colorbar": {
              "outlinewidth": 0,
              "ticks": ""
             }
            },
            "type": "scattermapbox"
           }
          ],
          "scatterpolar": [
           {
            "marker": {
             "colorbar": {
              "outlinewidth": 0,
              "ticks": ""
             }
            },
            "type": "scatterpolar"
           }
          ],
          "scatterpolargl": [
           {
            "marker": {
             "colorbar": {
              "outlinewidth": 0,
              "ticks": ""
             }
            },
            "type": "scatterpolargl"
           }
          ],
          "scatterternary": [
           {
            "marker": {
             "colorbar": {
              "outlinewidth": 0,
              "ticks": ""
             }
            },
            "type": "scatterternary"
           }
          ],
          "surface": [
           {
            "colorbar": {
             "outlinewidth": 0,
             "ticks": ""
            },
            "colorscale": [
             [
              0,
              "#0d0887"
             ],
             [
              0.1111111111111111,
              "#46039f"
             ],
             [
              0.2222222222222222,
              "#7201a8"
             ],
             [
              0.3333333333333333,
              "#9c179e"
             ],
             [
              0.4444444444444444,
              "#bd3786"
             ],
             [
              0.5555555555555556,
              "#d8576b"
             ],
             [
              0.6666666666666666,
              "#ed7953"
             ],
             [
              0.7777777777777778,
              "#fb9f3a"
             ],
             [
              0.8888888888888888,
              "#fdca26"
             ],
             [
              1,
              "#f0f921"
             ]
            ],
            "type": "surface"
           }
          ],
          "table": [
           {
            "cells": {
             "fill": {
              "color": "#EBF0F8"
             },
             "line": {
              "color": "white"
             }
            },
            "header": {
             "fill": {
              "color": "#C8D4E3"
             },
             "line": {
              "color": "white"
             }
            },
            "type": "table"
           }
          ]
         },
         "layout": {
          "annotationdefaults": {
           "arrowcolor": "#2a3f5f",
           "arrowhead": 0,
           "arrowwidth": 1
          },
          "autotypenumbers": "strict",
          "coloraxis": {
           "colorbar": {
            "outlinewidth": 0,
            "ticks": ""
           }
          },
          "colorscale": {
           "diverging": [
            [
             0,
             "#8e0152"
            ],
            [
             0.1,
             "#c51b7d"
            ],
            [
             0.2,
             "#de77ae"
            ],
            [
             0.3,
             "#f1b6da"
            ],
            [
             0.4,
             "#fde0ef"
            ],
            [
             0.5,
             "#f7f7f7"
            ],
            [
             0.6,
             "#e6f5d0"
            ],
            [
             0.7,
             "#b8e186"
            ],
            [
             0.8,
             "#7fbc41"
            ],
            [
             0.9,
             "#4d9221"
            ],
            [
             1,
             "#276419"
            ]
           ],
           "sequential": [
            [
             0,
             "#0d0887"
            ],
            [
             0.1111111111111111,
             "#46039f"
            ],
            [
             0.2222222222222222,
             "#7201a8"
            ],
            [
             0.3333333333333333,
             "#9c179e"
            ],
            [
             0.4444444444444444,
             "#bd3786"
            ],
            [
             0.5555555555555556,
             "#d8576b"
            ],
            [
             0.6666666666666666,
             "#ed7953"
            ],
            [
             0.7777777777777778,
             "#fb9f3a"
            ],
            [
             0.8888888888888888,
             "#fdca26"
            ],
            [
             1,
             "#f0f921"
            ]
           ],
           "sequentialminus": [
            [
             0,
             "#0d0887"
            ],
            [
             0.1111111111111111,
             "#46039f"
            ],
            [
             0.2222222222222222,
             "#7201a8"
            ],
            [
             0.3333333333333333,
             "#9c179e"
            ],
            [
             0.4444444444444444,
             "#bd3786"
            ],
            [
             0.5555555555555556,
             "#d8576b"
            ],
            [
             0.6666666666666666,
             "#ed7953"
            ],
            [
             0.7777777777777778,
             "#fb9f3a"
            ],
            [
             0.8888888888888888,
             "#fdca26"
            ],
            [
             1,
             "#f0f921"
            ]
           ]
          },
          "colorway": [
           "#636efa",
           "#EF553B",
           "#00cc96",
           "#ab63fa",
           "#FFA15A",
           "#19d3f3",
           "#FF6692",
           "#B6E880",
           "#FF97FF",
           "#FECB52"
          ],
          "font": {
           "color": "#2a3f5f"
          },
          "geo": {
           "bgcolor": "white",
           "lakecolor": "white",
           "landcolor": "white",
           "showlakes": true,
           "showland": true,
           "subunitcolor": "#C8D4E3"
          },
          "hoverlabel": {
           "align": "left"
          },
          "hovermode": "closest",
          "mapbox": {
           "style": "light"
          },
          "paper_bgcolor": "white",
          "plot_bgcolor": "white",
          "polar": {
           "angularaxis": {
            "gridcolor": "#EBF0F8",
            "linecolor": "#EBF0F8",
            "ticks": ""
           },
           "bgcolor": "white",
           "radialaxis": {
            "gridcolor": "#EBF0F8",
            "linecolor": "#EBF0F8",
            "ticks": ""
           }
          },
          "scene": {
           "xaxis": {
            "backgroundcolor": "white",
            "gridcolor": "#DFE8F3",
            "gridwidth": 2,
            "linecolor": "#EBF0F8",
            "showbackground": true,
            "ticks": "",
            "zerolinecolor": "#EBF0F8"
           },
           "yaxis": {
            "backgroundcolor": "white",
            "gridcolor": "#DFE8F3",
            "gridwidth": 2,
            "linecolor": "#EBF0F8",
            "showbackground": true,
            "ticks": "",
            "zerolinecolor": "#EBF0F8"
           },
           "zaxis": {
            "backgroundcolor": "white",
            "gridcolor": "#DFE8F3",
            "gridwidth": 2,
            "linecolor": "#EBF0F8",
            "showbackground": true,
            "ticks": "",
            "zerolinecolor": "#EBF0F8"
           }
          },
          "shapedefaults": {
           "line": {
            "color": "#2a3f5f"
           }
          },
          "ternary": {
           "aaxis": {
            "gridcolor": "#DFE8F3",
            "linecolor": "#A2B1C6",
            "ticks": ""
           },
           "baxis": {
            "gridcolor": "#DFE8F3",
            "linecolor": "#A2B1C6",
            "ticks": ""
           },
           "bgcolor": "white",
           "caxis": {
            "gridcolor": "#DFE8F3",
            "linecolor": "#A2B1C6",
            "ticks": ""
           }
          },
          "title": {
           "x": 0.05
          },
          "xaxis": {
           "automargin": true,
           "gridcolor": "#EBF0F8",
           "linecolor": "#EBF0F8",
           "ticks": "",
           "title": {
            "standoff": 15
           },
           "zerolinecolor": "#EBF0F8",
           "zerolinewidth": 2
          },
          "yaxis": {
           "automargin": true,
           "gridcolor": "#EBF0F8",
           "linecolor": "#EBF0F8",
           "ticks": "",
           "title": {
            "standoff": 15
           },
           "zerolinecolor": "#EBF0F8",
           "zerolinewidth": 2
          }
         }
        },
        "title": {
         "text": "Reported Incidence vs. Machine Learning Nowcast",
         "x": 0.5,
         "xanchor": "center",
         "y": 0.92,
         "yanchor": "top"
        },
        "xaxis": {
         "linecolor": "#455266",
         "linewidth": 1.5,
         "rangemode": "nonnegative",
         "showline": true,
         "ticks": "outside",
         "tickwidth": 1.5
        },
        "yaxis": {
         "linecolor": "#455266",
         "linewidth": 1.5,
         "rangemode": "nonnegative",
         "showline": true,
         "ticks": "outside",
         "tickwidth": 1.5,
         "title": {
          "text": "Incidence"
         }
        }
       }
      },
      "text/html": [
       "<div>                            <div id=\"0329f16d-fc72-4157-8d7a-17fd51c9966f\" class=\"plotly-graph-div\" style=\"height:600px; width:100%;\"></div>            <script type=\"text/javascript\">                require([\"plotly\"], function(Plotly) {                    window.PLOTLYENV=window.PLOTLYENV || {};                                    if (document.getElementById(\"0329f16d-fc72-4157-8d7a-17fd51c9966f\")) {                    Plotly.newPlot(                        \"0329f16d-fc72-4157-8d7a-17fd51c9966f\",                        [{\"hoverinfo\":\"skip\",\"legendgroup\":\"nowcast\",\"line\":{\"width\":0},\"marker\":{\"color\":\"#444\"},\"mode\":\"lines\",\"showlegend\":false,\"x\":[\"2021-10-16T00:00:00.000000000\",\"2021-10-17T00:00:00.000000000\",\"2021-10-18T00:00:00.000000000\",\"2021-10-19T00:00:00.000000000\",\"2021-10-20T00:00:00.000000000\",\"2021-10-21T00:00:00.000000000\",\"2021-10-22T00:00:00.000000000\",\"2021-10-23T00:00:00.000000000\",\"2021-10-24T00:00:00.000000000\",\"2021-10-25T00:00:00.000000000\",\"2021-10-26T00:00:00.000000000\",\"2021-10-27T00:00:00.000000000\",\"2021-10-28T00:00:00.000000000\",\"2021-10-29T00:00:00.000000000\",\"2021-10-30T00:00:00.000000000\",\"2021-10-31T00:00:00.000000000\",\"2021-11-01T00:00:00.000000000\",\"2021-11-02T00:00:00.000000000\",\"2021-11-03T00:00:00.000000000\",\"2021-11-04T00:00:00.000000000\",\"2021-11-05T00:00:00.000000000\",\"2021-11-06T00:00:00.000000000\",\"2021-11-07T00:00:00.000000000\",\"2021-11-08T00:00:00.000000000\",\"2021-11-09T00:00:00.000000000\",\"2021-11-10T00:00:00.000000000\",\"2021-11-11T00:00:00.000000000\",\"2021-11-12T00:00:00.000000000\",\"2021-11-13T00:00:00.000000000\",\"2021-11-14T00:00:00.000000000\",\"2021-11-15T00:00:00.000000000\",\"2021-11-16T00:00:00.000000000\",\"2021-11-17T00:00:00.000000000\",\"2021-11-18T00:00:00.000000000\",\"2021-11-19T00:00:00.000000000\",\"2021-11-20T00:00:00.000000000\",\"2021-11-21T00:00:00.000000000\",\"2021-11-22T00:00:00.000000000\",\"2021-11-23T00:00:00.000000000\",\"2021-11-24T00:00:00.000000000\",\"2021-11-25T00:00:00.000000000\",\"2021-11-26T00:00:00.000000000\",\"2021-11-27T00:00:00.000000000\",\"2021-11-28T00:00:00.000000000\",\"2021-11-29T00:00:00.000000000\",\"2021-11-30T00:00:00.000000000\",\"2021-12-01T00:00:00.000000000\",\"2021-12-02T00:00:00.000000000\",\"2021-12-03T00:00:00.000000000\",\"2021-12-04T00:00:00.000000000\",\"2021-12-05T00:00:00.000000000\",\"2021-12-06T00:00:00.000000000\",\"2021-12-07T00:00:00.000000000\",\"2021-12-08T00:00:00.000000000\",\"2021-12-09T00:00:00.000000000\",\"2021-12-10T00:00:00.000000000\",\"2021-12-11T00:00:00.000000000\",\"2021-12-12T00:00:00.000000000\",\"2021-12-13T00:00:00.000000000\",\"2021-12-14T00:00:00.000000000\",\"2021-12-15T00:00:00.000000000\",\"2021-12-16T00:00:00.000000000\",\"2021-12-17T00:00:00.000000000\",\"2021-12-18T00:00:00.000000000\",\"2021-12-19T00:00:00.000000000\",\"2021-12-20T00:00:00.000000000\",\"2021-12-21T00:00:00.000000000\",\"2021-12-22T00:00:00.000000000\",\"2021-12-23T00:00:00.000000000\",\"2021-12-24T00:00:00.000000000\",\"2021-12-25T00:00:00.000000000\",\"2021-12-26T00:00:00.000000000\",\"2021-12-27T00:00:00.000000000\",\"2021-12-28T00:00:00.000000000\",\"2021-12-29T00:00:00.000000000\",\"2021-12-30T00:00:00.000000000\",\"2021-12-31T00:00:00.000000000\",\"2022-01-01T00:00:00.000000000\",\"2022-01-02T00:00:00.000000000\",\"2022-01-03T00:00:00.000000000\",\"2022-01-04T00:00:00.000000000\",\"2022-01-05T00:00:00.000000000\",\"2022-01-06T00:00:00.000000000\",\"2022-01-07T00:00:00.000000000\",\"2022-01-08T00:00:00.000000000\",\"2022-01-09T00:00:00.000000000\",\"2022-01-10T00:00:00.000000000\",\"2022-01-11T00:00:00.000000000\",\"2022-01-12T00:00:00.000000000\",\"2022-01-13T00:00:00.000000000\",\"2022-01-14T00:00:00.000000000\",\"2022-01-15T00:00:00.000000000\",\"2022-01-16T00:00:00.000000000\",\"2022-01-17T00:00:00.000000000\",\"2022-01-18T00:00:00.000000000\",\"2022-01-19T00:00:00.000000000\",\"2022-01-20T00:00:00.000000000\",\"2022-01-21T00:00:00.000000000\",\"2022-01-22T00:00:00.000000000\",\"2022-01-23T00:00:00.000000000\",\"2022-01-24T00:00:00.000000000\",\"2022-01-25T00:00:00.000000000\",\"2022-01-26T00:00:00.000000000\",\"2022-01-27T00:00:00.000000000\",\"2022-01-28T00:00:00.000000000\",\"2022-01-29T00:00:00.000000000\",\"2022-01-30T00:00:00.000000000\",\"2022-01-31T00:00:00.000000000\",\"2022-02-01T00:00:00.000000000\",\"2022-02-02T00:00:00.000000000\",\"2022-02-03T00:00:00.000000000\",\"2022-02-04T00:00:00.000000000\",\"2022-02-05T00:00:00.000000000\",\"2022-02-06T00:00:00.000000000\",\"2022-02-07T00:00:00.000000000\",\"2022-02-08T00:00:00.000000000\",\"2022-02-09T00:00:00.000000000\",\"2022-02-10T00:00:00.000000000\",\"2022-02-11T00:00:00.000000000\",\"2022-02-12T00:00:00.000000000\",\"2022-02-13T00:00:00.000000000\",\"2022-02-14T00:00:00.000000000\",\"2022-02-15T00:00:00.000000000\",\"2022-02-16T00:00:00.000000000\",\"2022-02-17T00:00:00.000000000\",\"2022-02-18T00:00:00.000000000\",\"2022-02-19T00:00:00.000000000\",\"2022-02-20T00:00:00.000000000\",\"2022-02-21T00:00:00.000000000\",\"2022-02-22T00:00:00.000000000\",\"2022-02-23T00:00:00.000000000\",\"2022-02-24T00:00:00.000000000\",\"2022-02-25T00:00:00.000000000\",\"2022-02-26T00:00:00.000000000\",\"2022-02-27T00:00:00.000000000\",\"2022-02-28T00:00:00.000000000\",\"2022-03-01T00:00:00.000000000\",\"2022-03-02T00:00:00.000000000\",\"2022-03-03T00:00:00.000000000\",\"2022-03-04T00:00:00.000000000\",\"2022-03-05T00:00:00.000000000\"],\"y\":[719.9708417956335,639.4950520543151,573.7459105341724,534.4419506896395,546.9871929152241,476.80806882376623,501.5163278764777,609.7116073857187,618.4950822863309,605.4808268882864,615.591375149354,645.8185426953498,485.10980803062324,475.8155708947451,453.89228612384693,478.29786936688686,484.00953775137225,499.5628116624819,529.4159568816731,523.3150832055437,591.5163466884162,572.2824842796439,620.5820082394252,550.7668533905234,495.7187320074849,512.0501046982479,556.233593345033,531.813467152416,521.828609169851,502.49874327582523,559.3922580653025,553.994402742866,529.5073077285437,541.3385213629956,488.1636255168724,459.4977655191031,487.5248203652236,401.7223491636126,397.22354801652625,411.08511771530857,441.2581338967192,446.8745121723327,487.83858615019585,475.94519559494415,489.303498577819,466.10905531525134,447.8084752701348,467.74720117498174,458.1588280444864,414.55552415076335,421.7108333696822,433.3662311260008,453.00972688643685,476.3921321856718,467.6164927515322,474.20935700324196,451.1186649040509,429.38233119129654,381.05043222711896,359.2093353170132,306.1892895461017,309.02727935927976,288.61597451044514,281.4507207617779,252.52630067683995,228.83344428985265,235.29218517894864,201.34510364017464,201.8919985152623,214.3445812209081,228.2140043637928,211.95111849284967,224.0973730558852,243.9057931742252,296.62358878394554,295.3909340298551,290.42456808664423,292.8481981973857,290.85258771048575,303.1326813879362,286.5767842318941,248.47301021890215,239.21458462183244,285.3748818707316,290.55108081701525,331.71400541797817,328.1475836004955,385.11244628406746,421.5657757097174,452.8908299573742,420.13010772071715,432.77925495238605,436.17247223140936,462.44512249241086,480.0471663583723,514.4309648035195,533.3390310961604,512.5665666633527,498.8607358412484,515.8295397545952,554.698474506098,526.2537053964143,532.172742247554,560.1565892724716,551.8004929951128,624.8356917177258,694.8309812388932,762.3431056853368,823.3640549194961,838.7755150145852,807.0788402084464,788.8586012452633,798.2096390614398,771.3100018474609,809.1771685548255,784.4057308000075,772.6509242360866,709.2382032631654,714.5180773519601,736.412486014806,726.2710782007995,766.4603249778513,722.0832695697275,758.711864479566,845.6232490223608,888.973256965395,917.0302371659832,991.4850542886103,1002.0062053477445,941.9684362186936,930.7380945879647,897.6270302213459,861.6043914139119,850.3210285796144,870.7892180438422,870.3107866576066,834.0880789838405,867.7525775780321,845.6959356115485,879.4426692753015,927.2574477929828],\"type\":\"scatter\"},{\"fill\":\"tonexty\",\"fillcolor\":\"rgba(65, 172, 221, 0.3)\",\"hoverinfo\":\"skip\",\"legendgroup\":\"nowcast\",\"line\":{\"width\":0},\"marker\":{\"color\":\"#444\"},\"mode\":\"lines\",\"name\":\"Confidence interval\",\"showlegend\":false,\"x\":[\"2021-10-16T00:00:00.000000000\",\"2021-10-17T00:00:00.000000000\",\"2021-10-18T00:00:00.000000000\",\"2021-10-19T00:00:00.000000000\",\"2021-10-20T00:00:00.000000000\",\"2021-10-21T00:00:00.000000000\",\"2021-10-22T00:00:00.000000000\",\"2021-10-23T00:00:00.000000000\",\"2021-10-24T00:00:00.000000000\",\"2021-10-25T00:00:00.000000000\",\"2021-10-26T00:00:00.000000000\",\"2021-10-27T00:00:00.000000000\",\"2021-10-28T00:00:00.000000000\",\"2021-10-29T00:00:00.000000000\",\"2021-10-30T00:00:00.000000000\",\"2021-10-31T00:00:00.000000000\",\"2021-11-01T00:00:00.000000000\",\"2021-11-02T00:00:00.000000000\",\"2021-11-03T00:00:00.000000000\",\"2021-11-04T00:00:00.000000000\",\"2021-11-05T00:00:00.000000000\",\"2021-11-06T00:00:00.000000000\",\"2021-11-07T00:00:00.000000000\",\"2021-11-08T00:00:00.000000000\",\"2021-11-09T00:00:00.000000000\",\"2021-11-10T00:00:00.000000000\",\"2021-11-11T00:00:00.000000000\",\"2021-11-12T00:00:00.000000000\",\"2021-11-13T00:00:00.000000000\",\"2021-11-14T00:00:00.000000000\",\"2021-11-15T00:00:00.000000000\",\"2021-11-16T00:00:00.000000000\",\"2021-11-17T00:00:00.000000000\",\"2021-11-18T00:00:00.000000000\",\"2021-11-19T00:00:00.000000000\",\"2021-11-20T00:00:00.000000000\",\"2021-11-21T00:00:00.000000000\",\"2021-11-22T00:00:00.000000000\",\"2021-11-23T00:00:00.000000000\",\"2021-11-24T00:00:00.000000000\",\"2021-11-25T00:00:00.000000000\",\"2021-11-26T00:00:00.000000000\",\"2021-11-27T00:00:00.000000000\",\"2021-11-28T00:00:00.000000000\",\"2021-11-29T00:00:00.000000000\",\"2021-11-30T00:00:00.000000000\",\"2021-12-01T00:00:00.000000000\",\"2021-12-02T00:00:00.000000000\",\"2021-12-03T00:00:00.000000000\",\"2021-12-04T00:00:00.000000000\",\"2021-12-05T00:00:00.000000000\",\"2021-12-06T00:00:00.000000000\",\"2021-12-07T00:00:00.000000000\",\"2021-12-08T00:00:00.000000000\",\"2021-12-09T00:00:00.000000000\",\"2021-12-10T00:00:00.000000000\",\"2021-12-11T00:00:00.000000000\",\"2021-12-12T00:00:00.000000000\",\"2021-12-13T00:00:00.000000000\",\"2021-12-14T00:00:00.000000000\",\"2021-12-15T00:00:00.000000000\",\"2021-12-16T00:00:00.000000000\",\"2021-12-17T00:00:00.000000000\",\"2021-12-18T00:00:00.000000000\",\"2021-12-19T00:00:00.000000000\",\"2021-12-20T00:00:00.000000000\",\"2021-12-21T00:00:00.000000000\",\"2021-12-22T00:00:00.000000000\",\"2021-12-23T00:00:00.000000000\",\"2021-12-24T00:00:00.000000000\",\"2021-12-25T00:00:00.000000000\",\"2021-12-26T00:00:00.000000000\",\"2021-12-27T00:00:00.000000000\",\"2021-12-28T00:00:00.000000000\",\"2021-12-29T00:00:00.000000000\",\"2021-12-30T00:00:00.000000000\",\"2021-12-31T00:00:00.000000000\",\"2022-01-01T00:00:00.000000000\",\"2022-01-02T00:00:00.000000000\",\"2022-01-03T00:00:00.000000000\",\"2022-01-04T00:00:00.000000000\",\"2022-01-05T00:00:00.000000000\",\"2022-01-06T00:00:00.000000000\",\"2022-01-07T00:00:00.000000000\",\"2022-01-08T00:00:00.000000000\",\"2022-01-09T00:00:00.000000000\",\"2022-01-10T00:00:00.000000000\",\"2022-01-11T00:00:00.000000000\",\"2022-01-12T00:00:00.000000000\",\"2022-01-13T00:00:00.000000000\",\"2022-01-14T00:00:00.000000000\",\"2022-01-15T00:00:00.000000000\",\"2022-01-16T00:00:00.000000000\",\"2022-01-17T00:00:00.000000000\",\"2022-01-18T00:00:00.000000000\",\"2022-01-19T00:00:00.000000000\",\"2022-01-20T00:00:00.000000000\",\"2022-01-21T00:00:00.000000000\",\"2022-01-22T00:00:00.000000000\",\"2022-01-23T00:00:00.000000000\",\"2022-01-24T00:00:00.000000000\",\"2022-01-25T00:00:00.000000000\",\"2022-01-26T00:00:00.000000000\",\"2022-01-27T00:00:00.000000000\",\"2022-01-28T00:00:00.000000000\",\"2022-01-29T00:00:00.000000000\",\"2022-01-30T00:00:00.000000000\",\"2022-01-31T00:00:00.000000000\",\"2022-02-01T00:00:00.000000000\",\"2022-02-02T00:00:00.000000000\",\"2022-02-03T00:00:00.000000000\",\"2022-02-04T00:00:00.000000000\",\"2022-02-05T00:00:00.000000000\",\"2022-02-06T00:00:00.000000000\",\"2022-02-07T00:00:00.000000000\",\"2022-02-08T00:00:00.000000000\",\"2022-02-09T00:00:00.000000000\",\"2022-02-10T00:00:00.000000000\",\"2022-02-11T00:00:00.000000000\",\"2022-02-12T00:00:00.000000000\",\"2022-02-13T00:00:00.000000000\",\"2022-02-14T00:00:00.000000000\",\"2022-02-15T00:00:00.000000000\",\"2022-02-16T00:00:00.000000000\",\"2022-02-17T00:00:00.000000000\",\"2022-02-18T00:00:00.000000000\",\"2022-02-19T00:00:00.000000000\",\"2022-02-20T00:00:00.000000000\",\"2022-02-21T00:00:00.000000000\",\"2022-02-22T00:00:00.000000000\",\"2022-02-23T00:00:00.000000000\",\"2022-02-24T00:00:00.000000000\",\"2022-02-25T00:00:00.000000000\",\"2022-02-26T00:00:00.000000000\",\"2022-02-27T00:00:00.000000000\",\"2022-02-28T00:00:00.000000000\",\"2022-03-01T00:00:00.000000000\",\"2022-03-02T00:00:00.000000000\",\"2022-03-03T00:00:00.000000000\",\"2022-03-04T00:00:00.000000000\",\"2022-03-05T00:00:00.000000000\"],\"y\":[-15.157674685706354,28.143350453984112,153.4518147740666,83.97256352943486,63.620070120768645,229.38279184361875,351.5559839215399,299.04114813008397,303.61930071718893,259.1051497608199,294.97950162150767,302.52927089093765,380.7634726521515,252.06764253884893,236.39673678764476,191.4518850019192,231.08687417799322,242.3520304028288,171.25053848148468,186.14996007411975,227.4472951349308,259.6742970571761,302.844079541559,342.7075593762442,309.13062518047747,276.37513292037727,309.0984004692895,287.69915567692533,310.6005563375336,294.8338835302488,287.0053100130038,322.9418337086716,345.9031469780338,279.7095106512047,298.3593258904835,260.35176939507704,168.40696577787241,164.02710708961314,189.97435218741023,222.69158973067852,200.50786972879143,250.06389626129788,292.44806066194974,313.78505793271756,327.0558500412425,332.90657055531676,338.0367882189673,314.2380825085839,266.8443695133974,281.5747999369351,262.60589623039743,301.74234557476814,284.3466823770416,297.6842323860659,303.2718452458829,310.2290054437648,279.76040105426705,291.9406557604641,276.7469993472486,231.17942946964928,209.44563490814096,171.73094507432666,132.17272615801232,136.59117212605568,144.62421469747798,116.00174143564335,119.20606413440245,124.34661469767681,115.69191300438224,126.11568052340337,116.31617679960901,136.31307428863772,147.31949438620296,175.36254069526655,172.4959552328137,191.6526472730358,199.1351756402752,198.35888777106396,198.74977661752092,207.9168256020412,176.7894385197245,166.36709887393076,156.60177859099718,116.12205838699505,138.09363169992724,113.41086084985966,120.57510888508293,132.81463051106437,175.07482953286464,196.29898522202856,238.51636818017306,266.358139645537,279.6840415374707,270.24030503336223,278.82569024595483,264.54715065017405,302.9614915549439,379.731682921801,390.70352992842453,407.8023218086065,404.7971564526532,404.70256668049115,399.24063630853834,369.1029984603455,449.8289319892442,448.3920654297613,466.81406119935536,475.1837816114718,522.9976952038571,567.4130253370824,622.4273685612005,626.481347375739,598.7734646277814,621.2927596887082,540.7048652273651,545.6853725042973,552.0990973168758,588.2284499712985,529.1943412572473,518.9580806560695,511.1310372150675,512.1206823350167,558.2579269641271,566.6286811145387,587.6194905653188,610.2626188494403,635.5592245669377,614.2510064759268,621.1762396915842,707.3364985293535,685.6759793653985,651.8780770540222,695.554122815298,690.8852837585282,645.7944823920626,634.620102056662,655.1065832092064,643.5952697121566,678.0541568735302,634.5518994558032,550.0167270403869],\"type\":\"scatter\"},{\"hovertemplate\":\"%{y:.0f}\",\"legendgroup\":\"nowcast\",\"line\":{\"color\":\"#41ACDD\",\"width\":2.5},\"mode\":\"lines\",\"name\":\"Nowcast\",\"x\":[\"2021-10-16T00:00:00.000000000\",\"2021-10-17T00:00:00.000000000\",\"2021-10-18T00:00:00.000000000\",\"2021-10-19T00:00:00.000000000\",\"2021-10-20T00:00:00.000000000\",\"2021-10-21T00:00:00.000000000\",\"2021-10-22T00:00:00.000000000\",\"2021-10-23T00:00:00.000000000\",\"2021-10-24T00:00:00.000000000\",\"2021-10-25T00:00:00.000000000\",\"2021-10-26T00:00:00.000000000\",\"2021-10-27T00:00:00.000000000\",\"2021-10-28T00:00:00.000000000\",\"2021-10-29T00:00:00.000000000\",\"2021-10-30T00:00:00.000000000\",\"2021-10-31T00:00:00.000000000\",\"2021-11-01T00:00:00.000000000\",\"2021-11-02T00:00:00.000000000\",\"2021-11-03T00:00:00.000000000\",\"2021-11-04T00:00:00.000000000\",\"2021-11-05T00:00:00.000000000\",\"2021-11-06T00:00:00.000000000\",\"2021-11-07T00:00:00.000000000\",\"2021-11-08T00:00:00.000000000\",\"2021-11-09T00:00:00.000000000\",\"2021-11-10T00:00:00.000000000\",\"2021-11-11T00:00:00.000000000\",\"2021-11-12T00:00:00.000000000\",\"2021-11-13T00:00:00.000000000\",\"2021-11-14T00:00:00.000000000\",\"2021-11-15T00:00:00.000000000\",\"2021-11-16T00:00:00.000000000\",\"2021-11-17T00:00:00.000000000\",\"2021-11-18T00:00:00.000000000\",\"2021-11-19T00:00:00.000000000\",\"2021-11-20T00:00:00.000000000\",\"2021-11-21T00:00:00.000000000\",\"2021-11-22T00:00:00.000000000\",\"2021-11-23T00:00:00.000000000\",\"2021-11-24T00:00:00.000000000\",\"2021-11-25T00:00:00.000000000\",\"2021-11-26T00:00:00.000000000\",\"2021-11-27T00:00:00.000000000\",\"2021-11-28T00:00:00.000000000\",\"2021-11-29T00:00:00.000000000\",\"2021-11-30T00:00:00.000000000\",\"2021-12-01T00:00:00.000000000\",\"2021-12-02T00:00:00.000000000\",\"2021-12-03T00:00:00.000000000\",\"2021-12-04T00:00:00.000000000\",\"2021-12-05T00:00:00.000000000\",\"2021-12-06T00:00:00.000000000\",\"2021-12-07T00:00:00.000000000\",\"2021-12-08T00:00:00.000000000\",\"2021-12-09T00:00:00.000000000\",\"2021-12-10T00:00:00.000000000\",\"2021-12-11T00:00:00.000000000\",\"2021-12-12T00:00:00.000000000\",\"2021-12-13T00:00:00.000000000\",\"2021-12-14T00:00:00.000000000\",\"2021-12-15T00:00:00.000000000\",\"2021-12-16T00:00:00.000000000\",\"2021-12-17T00:00:00.000000000\",\"2021-12-18T00:00:00.000000000\",\"2021-12-19T00:00:00.000000000\",\"2021-12-20T00:00:00.000000000\",\"2021-12-21T00:00:00.000000000\",\"2021-12-22T00:00:00.000000000\",\"2021-12-23T00:00:00.000000000\",\"2021-12-24T00:00:00.000000000\",\"2021-12-25T00:00:00.000000000\",\"2021-12-26T00:00:00.000000000\",\"2021-12-27T00:00:00.000000000\",\"2021-12-28T00:00:00.000000000\",\"2021-12-29T00:00:00.000000000\",\"2021-12-30T00:00:00.000000000\",\"2021-12-31T00:00:00.000000000\",\"2022-01-01T00:00:00.000000000\",\"2022-01-02T00:00:00.000000000\",\"2022-01-03T00:00:00.000000000\",\"2022-01-04T00:00:00.000000000\",\"2022-01-05T00:00:00.000000000\",\"2022-01-06T00:00:00.000000000\",\"2022-01-07T00:00:00.000000000\",\"2022-01-08T00:00:00.000000000\",\"2022-01-09T00:00:00.000000000\",\"2022-01-10T00:00:00.000000000\",\"2022-01-11T00:00:00.000000000\",\"2022-01-12T00:00:00.000000000\",\"2022-01-13T00:00:00.000000000\",\"2022-01-14T00:00:00.000000000\",\"2022-01-15T00:00:00.000000000\",\"2022-01-16T00:00:00.000000000\",\"2022-01-17T00:00:00.000000000\",\"2022-01-18T00:00:00.000000000\",\"2022-01-19T00:00:00.000000000\",\"2022-01-20T00:00:00.000000000\",\"2022-01-21T00:00:00.000000000\",\"2022-01-22T00:00:00.000000000\",\"2022-01-23T00:00:00.000000000\",\"2022-01-24T00:00:00.000000000\",\"2022-01-25T00:00:00.000000000\",\"2022-01-26T00:00:00.000000000\",\"2022-01-27T00:00:00.000000000\",\"2022-01-28T00:00:00.000000000\",\"2022-01-29T00:00:00.000000000\",\"2022-01-30T00:00:00.000000000\",\"2022-01-31T00:00:00.000000000\",\"2022-02-01T00:00:00.000000000\",\"2022-02-02T00:00:00.000000000\",\"2022-02-03T00:00:00.000000000\",\"2022-02-04T00:00:00.000000000\",\"2022-02-05T00:00:00.000000000\",\"2022-02-06T00:00:00.000000000\",\"2022-02-07T00:00:00.000000000\",\"2022-02-08T00:00:00.000000000\",\"2022-02-09T00:00:00.000000000\",\"2022-02-10T00:00:00.000000000\",\"2022-02-11T00:00:00.000000000\",\"2022-02-12T00:00:00.000000000\",\"2022-02-13T00:00:00.000000000\",\"2022-02-14T00:00:00.000000000\",\"2022-02-15T00:00:00.000000000\",\"2022-02-16T00:00:00.000000000\",\"2022-02-17T00:00:00.000000000\",\"2022-02-18T00:00:00.000000000\",\"2022-02-19T00:00:00.000000000\",\"2022-02-20T00:00:00.000000000\",\"2022-02-21T00:00:00.000000000\",\"2022-02-22T00:00:00.000000000\",\"2022-02-23T00:00:00.000000000\",\"2022-02-24T00:00:00.000000000\",\"2022-02-25T00:00:00.000000000\",\"2022-02-26T00:00:00.000000000\",\"2022-02-27T00:00:00.000000000\",\"2022-02-28T00:00:00.000000000\",\"2022-03-01T00:00:00.000000000\",\"2022-03-02T00:00:00.000000000\",\"2022-03-03T00:00:00.000000000\",\"2022-03-04T00:00:00.000000000\"],\"y\":[352.40658355496356,333.8192012541496,363.5988626541195,309.2072571095372,305.3036315179964,353.0954303336925,426.5361558990088,454.37637775790137,461.0571915017599,432.29298832455316,455.28543838543084,474.1739067931438,432.9366403413874,363.941606716797,345.1445114557458,334.87487718440303,357.5482059646827,370.95742103265536,350.3332476815789,354.73252163983176,409.4818209116735,415.97839066841,461.7130438904921,446.73720638338375,402.4246785939812,394.2126188093126,432.6659969071613,409.7563114146707,416.2145827536923,398.666313403037,423.19878403915317,438.46811822576876,437.7052273532887,410.52401600710016,393.26147570367795,359.92476745709007,327.965893071548,282.87472812661287,293.5989501019682,316.88835372299354,320.8830018127553,348.4692042168153,390.1433234060728,394.86512676383086,408.17967430953075,399.50781293528405,392.92263174455104,390.9926418417828,362.5015987789419,348.0651620438492,342.1583648000398,367.55428835038447,368.6782046317392,387.03818228586886,385.44416899870754,392.21918122350337,365.43953297915897,360.6614934758803,328.8987157871838,295.19438239333124,257.8174622271213,240.3791122168032,210.39435033422873,209.02094644391678,198.57525768715897,172.417592862748,177.24912465667555,162.84585916892573,158.79195575982226,170.23013087215574,172.26509058170092,174.1320963907437,185.7084337210441,209.63416693474588,234.5597720083796,243.52179065144546,244.77987186345973,245.60354298422484,244.80118216400334,255.5247534949887,231.68311137580932,207.42005454641645,197.90818160641481,200.74847012886332,214.32235625847125,222.56243313391892,224.3613462427892,258.9635383975659,298.32030262129103,324.5949075897014,329.3232379504451,349.5686972989615,357.92825688444003,366.34271376288655,379.43642830216356,389.48905772684674,418.15026132555215,446.1491247925768,444.78213288483647,461.81593078160085,479.7478154793756,465.4781360384527,465.70668927804616,464.62979386640853,500.8147124921785,536.6138785737436,580.8225212191243,618.7634436484043,673.1808750616766,703.0942701758338,714.7531043848235,707.6699743105012,698.4915518446106,696.3013807680845,674.9410168910953,665.0455516521524,662.3750107764812,648.7333266172319,621.8562093046037,627.6852833354377,618.7010577079335,639.290503656434,640.1705982669273,662.6702727970523,716.6213697938398,749.6179379074176,776.2947308664604,802.8680303822686,811.5912225196644,824.6524673740236,808.2070369766816,774.7525536376841,778.579257114605,770.6031561690713,758.2918502179524,752.4654443571343,744.5973310965235,755.6739236450943,761.8750462425394,756.9972843655523],\"type\":\"scatter\"},{\"hovertemplate\":\"%{y:.0f}\",\"marker\":{\"color\":\"white\",\"line\":{\"color\":\"red\",\"width\":2.0},\"size\":8},\"mode\":\"markers\",\"name\":\"With booster 18-59 years\",\"x\":[\"2021-10-25T00:00:00.000000000\",\"2021-11-01T00:00:00.000000000\",\"2021-11-08T00:00:00.000000000\",\"2021-11-15T00:00:00.000000000\",\"2021-11-22T00:00:00.000000000\",\"2021-11-29T00:00:00.000000000\",\"2021-12-06T00:00:00.000000000\",\"2021-12-13T00:00:00.000000000\",\"2021-12-20T00:00:00.000000000\",\"2021-12-27T00:00:00.000000000\",\"2022-01-03T00:00:00.000000000\",\"2022-01-10T00:00:00.000000000\",\"2022-01-17T00:00:00.000000000\",\"2022-01-24T00:00:00.000000000\",\"2022-01-31T00:00:00.000000000\",\"2022-02-07T00:00:00.000000000\"],\"y\":[43.24280548095703,42.8740348815918,56.454917907714844,59.637115478515625,61.134578704833984,47.50160217285156,37.71730422973633,28.43560791015625,27.638254165649414,46.00812911987305,89.77527618408203,92.61939239501953,105.9690933227539,106.06025695800781,108.47478485107422,118.05306243896484],\"type\":\"scatter\"},{\"hovertemplate\":\"%{y:.0f}\",\"marker\":{\"color\":\"red\",\"size\":9},\"mode\":\"markers\",\"name\":\"Vaccinated  18-59 years\",\"x\":[\"2021-10-25T00:00:00.000000000\",\"2021-11-01T00:00:00.000000000\",\"2021-11-08T00:00:00.000000000\",\"2021-11-15T00:00:00.000000000\",\"2021-11-22T00:00:00.000000000\",\"2021-11-29T00:00:00.000000000\",\"2021-12-06T00:00:00.000000000\",\"2021-12-13T00:00:00.000000000\",\"2021-12-20T00:00:00.000000000\",\"2021-12-27T00:00:00.000000000\",\"2022-01-03T00:00:00.000000000\",\"2022-01-10T00:00:00.000000000\",\"2022-01-17T00:00:00.000000000\",\"2022-01-24T00:00:00.000000000\",\"2022-01-31T00:00:00.000000000\",\"2022-02-07T00:00:00.000000000\"],\"y\":[76.70169830322266,94.03158569335938,119.03044128417969,140.1339874267578,139.3203887939453,125.86140441894531,109.15361022949219,93.09611511230469,76.94499206542969,110.59500885009766,180.69644165039062,180.84390258789062,193.66456604003906,185.927490234375,184.8057403564453,191.15243530273438],\"type\":\"scatter\"},{\"hovertemplate\":\"%{y:.0f}\",\"marker\":{\"color\":\"#455266\",\"size\":9},\"mode\":\"markers\",\"name\":\"Unvaccinated 18-59 years\",\"x\":[\"2021-10-25T00:00:00.000000000\",\"2021-11-01T00:00:00.000000000\",\"2021-11-08T00:00:00.000000000\",\"2021-11-15T00:00:00.000000000\",\"2021-11-22T00:00:00.000000000\",\"2021-11-29T00:00:00.000000000\",\"2021-12-06T00:00:00.000000000\",\"2021-12-13T00:00:00.000000000\",\"2021-12-20T00:00:00.000000000\",\"2021-12-27T00:00:00.000000000\",\"2022-01-03T00:00:00.000000000\",\"2022-01-10T00:00:00.000000000\",\"2022-01-17T00:00:00.000000000\",\"2022-01-24T00:00:00.000000000\",\"2022-01-31T00:00:00.000000000\",\"2022-02-07T00:00:00.000000000\"],\"y\":[226.83853149414062,265.99908447265625,326.10321044921875,352.58892822265625,374.02935791015625,343.6412658691406,298.0789489746094,245.50021362304688,166.3865509033203,171.08482360839844,189.6063232421875,178.8633270263672,217.02748107910156,236.2805938720703,247.02659606933594,224.56382751464844],\"type\":\"scatter\"}],                        {\"template\":{\"data\":{\"barpolar\":[{\"marker\":{\"line\":{\"color\":\"white\",\"width\":0.5},\"pattern\":{\"fillmode\":\"overlay\",\"size\":10,\"solidity\":0.2}},\"type\":\"barpolar\"}],\"bar\":[{\"error_x\":{\"color\":\"#2a3f5f\"},\"error_y\":{\"color\":\"#2a3f5f\"},\"marker\":{\"line\":{\"color\":\"white\",\"width\":0.5},\"pattern\":{\"fillmode\":\"overlay\",\"size\":10,\"solidity\":0.2}},\"type\":\"bar\"}],\"carpet\":[{\"aaxis\":{\"endlinecolor\":\"#2a3f5f\",\"gridcolor\":\"#C8D4E3\",\"linecolor\":\"#C8D4E3\",\"minorgridcolor\":\"#C8D4E3\",\"startlinecolor\":\"#2a3f5f\"},\"baxis\":{\"endlinecolor\":\"#2a3f5f\",\"gridcolor\":\"#C8D4E3\",\"linecolor\":\"#C8D4E3\",\"minorgridcolor\":\"#C8D4E3\",\"startlinecolor\":\"#2a3f5f\"},\"type\":\"carpet\"}],\"choropleth\":[{\"colorbar\":{\"outlinewidth\":0,\"ticks\":\"\"},\"type\":\"choropleth\"}],\"contourcarpet\":[{\"colorbar\":{\"outlinewidth\":0,\"ticks\":\"\"},\"type\":\"contourcarpet\"}],\"contour\":[{\"colorbar\":{\"outlinewidth\":0,\"ticks\":\"\"},\"colorscale\":[[0.0,\"#0d0887\"],[0.1111111111111111,\"#46039f\"],[0.2222222222222222,\"#7201a8\"],[0.3333333333333333,\"#9c179e\"],[0.4444444444444444,\"#bd3786\"],[0.5555555555555556,\"#d8576b\"],[0.6666666666666666,\"#ed7953\"],[0.7777777777777778,\"#fb9f3a\"],[0.8888888888888888,\"#fdca26\"],[1.0,\"#f0f921\"]],\"type\":\"contour\"}],\"heatmapgl\":[{\"colorbar\":{\"outlinewidth\":0,\"ticks\":\"\"},\"colorscale\":[[0.0,\"#0d0887\"],[0.1111111111111111,\"#46039f\"],[0.2222222222222222,\"#7201a8\"],[0.3333333333333333,\"#9c179e\"],[0.4444444444444444,\"#bd3786\"],[0.5555555555555556,\"#d8576b\"],[0.6666666666666666,\"#ed7953\"],[0.7777777777777778,\"#fb9f3a\"],[0.8888888888888888,\"#fdca26\"],[1.0,\"#f0f921\"]],\"type\":\"heatmapgl\"}],\"heatmap\":[{\"colorbar\":{\"outlinewidth\":0,\"ticks\":\"\"},\"colorscale\":[[0.0,\"#0d0887\"],[0.1111111111111111,\"#46039f\"],[0.2222222222222222,\"#7201a8\"],[0.3333333333333333,\"#9c179e\"],[0.4444444444444444,\"#bd3786\"],[0.5555555555555556,\"#d8576b\"],[0.6666666666666666,\"#ed7953\"],[0.7777777777777778,\"#fb9f3a\"],[0.8888888888888888,\"#fdca26\"],[1.0,\"#f0f921\"]],\"type\":\"heatmap\"}],\"histogram2dcontour\":[{\"colorbar\":{\"outlinewidth\":0,\"ticks\":\"\"},\"colorscale\":[[0.0,\"#0d0887\"],[0.1111111111111111,\"#46039f\"],[0.2222222222222222,\"#7201a8\"],[0.3333333333333333,\"#9c179e\"],[0.4444444444444444,\"#bd3786\"],[0.5555555555555556,\"#d8576b\"],[0.6666666666666666,\"#ed7953\"],[0.7777777777777778,\"#fb9f3a\"],[0.8888888888888888,\"#fdca26\"],[1.0,\"#f0f921\"]],\"type\":\"histogram2dcontour\"}],\"histogram2d\":[{\"colorbar\":{\"outlinewidth\":0,\"ticks\":\"\"},\"colorscale\":[[0.0,\"#0d0887\"],[0.1111111111111111,\"#46039f\"],[0.2222222222222222,\"#7201a8\"],[0.3333333333333333,\"#9c179e\"],[0.4444444444444444,\"#bd3786\"],[0.5555555555555556,\"#d8576b\"],[0.6666666666666666,\"#ed7953\"],[0.7777777777777778,\"#fb9f3a\"],[0.8888888888888888,\"#fdca26\"],[1.0,\"#f0f921\"]],\"type\":\"histogram2d\"}],\"histogram\":[{\"marker\":{\"pattern\":{\"fillmode\":\"overlay\",\"size\":10,\"solidity\":0.2}},\"type\":\"histogram\"}],\"mesh3d\":[{\"colorbar\":{\"outlinewidth\":0,\"ticks\":\"\"},\"type\":\"mesh3d\"}],\"parcoords\":[{\"line\":{\"colorbar\":{\"outlinewidth\":0,\"ticks\":\"\"}},\"type\":\"parcoords\"}],\"pie\":[{\"automargin\":true,\"type\":\"pie\"}],\"scatter3d\":[{\"line\":{\"colorbar\":{\"outlinewidth\":0,\"ticks\":\"\"}},\"marker\":{\"colorbar\":{\"outlinewidth\":0,\"ticks\":\"\"}},\"type\":\"scatter3d\"}],\"scattercarpet\":[{\"marker\":{\"colorbar\":{\"outlinewidth\":0,\"ticks\":\"\"}},\"type\":\"scattercarpet\"}],\"scattergeo\":[{\"marker\":{\"colorbar\":{\"outlinewidth\":0,\"ticks\":\"\"}},\"type\":\"scattergeo\"}],\"scattergl\":[{\"marker\":{\"colorbar\":{\"outlinewidth\":0,\"ticks\":\"\"}},\"type\":\"scattergl\"}],\"scattermapbox\":[{\"marker\":{\"colorbar\":{\"outlinewidth\":0,\"ticks\":\"\"}},\"type\":\"scattermapbox\"}],\"scatterpolargl\":[{\"marker\":{\"colorbar\":{\"outlinewidth\":0,\"ticks\":\"\"}},\"type\":\"scatterpolargl\"}],\"scatterpolar\":[{\"marker\":{\"colorbar\":{\"outlinewidth\":0,\"ticks\":\"\"}},\"type\":\"scatterpolar\"}],\"scatter\":[{\"marker\":{\"colorbar\":{\"outlinewidth\":0,\"ticks\":\"\"}},\"type\":\"scatter\"}],\"scatterternary\":[{\"marker\":{\"colorbar\":{\"outlinewidth\":0,\"ticks\":\"\"}},\"type\":\"scatterternary\"}],\"surface\":[{\"colorbar\":{\"outlinewidth\":0,\"ticks\":\"\"},\"colorscale\":[[0.0,\"#0d0887\"],[0.1111111111111111,\"#46039f\"],[0.2222222222222222,\"#7201a8\"],[0.3333333333333333,\"#9c179e\"],[0.4444444444444444,\"#bd3786\"],[0.5555555555555556,\"#d8576b\"],[0.6666666666666666,\"#ed7953\"],[0.7777777777777778,\"#fb9f3a\"],[0.8888888888888888,\"#fdca26\"],[1.0,\"#f0f921\"]],\"type\":\"surface\"}],\"table\":[{\"cells\":{\"fill\":{\"color\":\"#EBF0F8\"},\"line\":{\"color\":\"white\"}},\"header\":{\"fill\":{\"color\":\"#C8D4E3\"},\"line\":{\"color\":\"white\"}},\"type\":\"table\"}]},\"layout\":{\"annotationdefaults\":{\"arrowcolor\":\"#2a3f5f\",\"arrowhead\":0,\"arrowwidth\":1},\"autotypenumbers\":\"strict\",\"coloraxis\":{\"colorbar\":{\"outlinewidth\":0,\"ticks\":\"\"}},\"colorscale\":{\"diverging\":[[0,\"#8e0152\"],[0.1,\"#c51b7d\"],[0.2,\"#de77ae\"],[0.3,\"#f1b6da\"],[0.4,\"#fde0ef\"],[0.5,\"#f7f7f7\"],[0.6,\"#e6f5d0\"],[0.7,\"#b8e186\"],[0.8,\"#7fbc41\"],[0.9,\"#4d9221\"],[1,\"#276419\"]],\"sequential\":[[0.0,\"#0d0887\"],[0.1111111111111111,\"#46039f\"],[0.2222222222222222,\"#7201a8\"],[0.3333333333333333,\"#9c179e\"],[0.4444444444444444,\"#bd3786\"],[0.5555555555555556,\"#d8576b\"],[0.6666666666666666,\"#ed7953\"],[0.7777777777777778,\"#fb9f3a\"],[0.8888888888888888,\"#fdca26\"],[1.0,\"#f0f921\"]],\"sequentialminus\":[[0.0,\"#0d0887\"],[0.1111111111111111,\"#46039f\"],[0.2222222222222222,\"#7201a8\"],[0.3333333333333333,\"#9c179e\"],[0.4444444444444444,\"#bd3786\"],[0.5555555555555556,\"#d8576b\"],[0.6666666666666666,\"#ed7953\"],[0.7777777777777778,\"#fb9f3a\"],[0.8888888888888888,\"#fdca26\"],[1.0,\"#f0f921\"]]},\"colorway\":[\"#636efa\",\"#EF553B\",\"#00cc96\",\"#ab63fa\",\"#FFA15A\",\"#19d3f3\",\"#FF6692\",\"#B6E880\",\"#FF97FF\",\"#FECB52\"],\"font\":{\"color\":\"#2a3f5f\"},\"geo\":{\"bgcolor\":\"white\",\"lakecolor\":\"white\",\"landcolor\":\"white\",\"showlakes\":true,\"showland\":true,\"subunitcolor\":\"#C8D4E3\"},\"hoverlabel\":{\"align\":\"left\"},\"hovermode\":\"closest\",\"mapbox\":{\"style\":\"light\"},\"paper_bgcolor\":\"white\",\"plot_bgcolor\":\"white\",\"polar\":{\"angularaxis\":{\"gridcolor\":\"#EBF0F8\",\"linecolor\":\"#EBF0F8\",\"ticks\":\"\"},\"bgcolor\":\"white\",\"radialaxis\":{\"gridcolor\":\"#EBF0F8\",\"linecolor\":\"#EBF0F8\",\"ticks\":\"\"}},\"scene\":{\"xaxis\":{\"backgroundcolor\":\"white\",\"gridcolor\":\"#DFE8F3\",\"gridwidth\":2,\"linecolor\":\"#EBF0F8\",\"showbackground\":true,\"ticks\":\"\",\"zerolinecolor\":\"#EBF0F8\"},\"yaxis\":{\"backgroundcolor\":\"white\",\"gridcolor\":\"#DFE8F3\",\"gridwidth\":2,\"linecolor\":\"#EBF0F8\",\"showbackground\":true,\"ticks\":\"\",\"zerolinecolor\":\"#EBF0F8\"},\"zaxis\":{\"backgroundcolor\":\"white\",\"gridcolor\":\"#DFE8F3\",\"gridwidth\":2,\"linecolor\":\"#EBF0F8\",\"showbackground\":true,\"ticks\":\"\",\"zerolinecolor\":\"#EBF0F8\"}},\"shapedefaults\":{\"line\":{\"color\":\"#2a3f5f\"}},\"ternary\":{\"aaxis\":{\"gridcolor\":\"#DFE8F3\",\"linecolor\":\"#A2B1C6\",\"ticks\":\"\"},\"baxis\":{\"gridcolor\":\"#DFE8F3\",\"linecolor\":\"#A2B1C6\",\"ticks\":\"\"},\"bgcolor\":\"white\",\"caxis\":{\"gridcolor\":\"#DFE8F3\",\"linecolor\":\"#A2B1C6\",\"ticks\":\"\"}},\"title\":{\"x\":0.05},\"xaxis\":{\"automargin\":true,\"gridcolor\":\"#EBF0F8\",\"linecolor\":\"#EBF0F8\",\"ticks\":\"\",\"title\":{\"standoff\":15},\"zerolinecolor\":\"#EBF0F8\",\"zerolinewidth\":2},\"yaxis\":{\"automargin\":true,\"gridcolor\":\"#EBF0F8\",\"linecolor\":\"#EBF0F8\",\"ticks\":\"\",\"title\":{\"standoff\":15},\"zerolinecolor\":\"#EBF0F8\",\"zerolinewidth\":2}}},\"title\":{\"y\":0.92,\"x\":0.5,\"xanchor\":\"center\",\"yanchor\":\"top\",\"text\":\"Reported Incidence vs. Machine Learning Nowcast\"},\"font\":{\"size\":12},\"margin\":{\"l\":60,\"r\":30,\"b\":75,\"t\":30,\"pad\":0},\"legend\":{\"font\":{\"size\":11},\"x\":0,\"y\":1,\"itemclick\":\"toggleothers\",\"itemdoubleclick\":\"toggle\",\"tracegroupgap\":2},\"hoverlabel\":{\"font\":{\"color\":\"black\"},\"namelength\":-1},\"xaxis\":{\"showline\":true,\"linewidth\":1.5,\"linecolor\":\"#455266\",\"ticks\":\"outside\",\"tickwidth\":1.5,\"rangemode\":\"nonnegative\"},\"yaxis\":{\"showline\":true,\"linewidth\":1.5,\"linecolor\":\"#455266\",\"ticks\":\"outside\",\"tickwidth\":1.5,\"rangemode\":\"nonnegative\",\"title\":{\"text\":\"Incidence\"}},\"autosize\":true,\"height\":600,\"hovermode\":\"x unified\",\"showlegend\":true},                        {\"responsive\": true}                    ).then(function(){\n",
       "                            \n",
       "var gd = document.getElementById('0329f16d-fc72-4157-8d7a-17fd51c9966f');\n",
       "var x = new MutationObserver(function (mutations, observer) {{\n",
       "        var display = window.getComputedStyle(gd).display;\n",
       "        if (!display || display === 'none') {{\n",
       "            console.log([gd, 'removed!']);\n",
       "            Plotly.purge(gd);\n",
       "            observer.disconnect();\n",
       "        }}\n",
       "}});\n",
       "\n",
       "// Listen for the removal of the full notebook cells\n",
       "var notebookContainer = gd.closest('#notebook-container');\n",
       "if (notebookContainer) {{\n",
       "    x.observe(notebookContainer, {childList: true});\n",
       "}}\n",
       "\n",
       "// Listen for the clearing of the current output cell\n",
       "var outputEl = gd.closest('.output');\n",
       "if (outputEl) {{\n",
       "    x.observe(outputEl, {childList: true});\n",
       "}}\n",
       "\n",
       "                        })                };                });            </script>        </div>"
      ]
     },
     "metadata": {},
     "output_type": "display_data"
    }
   ],
   "source": [
    "import plotly.graph_objects as go\n",
    "\n",
    "default_layout = dict(\n",
    "    title={\"y\": 0.92, \"x\": 0.5, \"xanchor\": \"center\", \"yanchor\": \"top\"},\n",
    "    font_size=12,\n",
    "    autosize=True,\n",
    "    height=600,\n",
    "    margin=dict(l=60, r=30, b=75, t=30, pad=0),\n",
    "    template=\"plotly_white\",\n",
    "    hovermode=\"x\",\n",
    "    legend={\n",
    "        \"font_size\": 11,\n",
    "        'x': 0,\n",
    "        'y': 1,\n",
    "        \"itemclick\": \"toggleothers\",\n",
    "        \"itemdoubleclick\": \"toggle\",\n",
    "        \"tracegroupgap\": 2,\n",
    "    },\n",
    "    hoverlabel={\"font_color\": \"white\", \"namelength\": -1},\n",
    "    xaxis={\n",
    "        \"showline\": True,\n",
    "        \"linewidth\": 1.5,\n",
    "        \"linecolor\": \"#455266\",\n",
    "        \"ticks\": \"outside\",\n",
    "        \"tickwidth\": 1.5,\n",
    "        \"rangemode\": \"nonnegative\",\n",
    "    },\n",
    "    yaxis={\n",
    "        \"showline\": True,\n",
    "        \"linewidth\": 1.5,\n",
    "        \"linecolor\": \"#455266\",\n",
    "        \"ticks\": \"outside\",\n",
    "        \"tickwidth\": 1.5,\n",
    "        \"rangemode\": \"nonnegative\",\n",
    "    },\n",
    "    showlegend=True,\n",
    ")\n",
    "\n",
    "i18n = {'de': {\n",
    "    'booster': 'Mit Auffrischimpfung 18-59 Jahre',\n",
    "    'base': 'Grundimmunisierte  18-59 Jahre',\n",
    "    'unvax': 'Ungeimpfte 18-59 Jahre',\n",
    "    'title': 'Gemeldete Inzidenz vs. Machine Learning Nowcast',\n",
    "    'y_axis_title': 'Inzidenz',\n",
    "    'nowcast': 'Nowcast',\n",
    "    'insecurity': 'Modell Unsicherheit'\n",
    "}, 'en': {\n",
    "    'booster': 'With booster 18-59 years',\n",
    "    'base': 'Vaccinated  18-59 years',\n",
    "    'unvax': 'Unvaccinated 18-59 years',\n",
    "    'title': 'Reported Incidence vs. Machine Learning Nowcast',\n",
    "    'y_axis_title': 'Incidence',\n",
    "    'nowcast': 'Nowcast',\n",
    "    'insecurity': 'Confidence interval'\n",
    "}}\n",
    "\n",
    "for language, translation in i18n.items():\n",
    "    fig = go.Figure()\n",
    "\n",
    "    fig.add_trace(go.Scatter(\n",
    "        y=predicted_incidence_plot_data['mean'].values[10:] + 2 * predicted_incidence_plot_data['std'].values[10:],\n",
    "        x=predicted_incidence_plot_data['date'].values[10:],\n",
    "        showlegend=False,\n",
    "        legendgroup='nowcast',\n",
    "        mode='lines',\n",
    "        marker=dict(color=\"#444\"),\n",
    "        line=dict(width=0),\n",
    "        hoverinfo='skip'\n",
    "    ))\n",
    "    fig.add_trace(go.Scatter(\n",
    "        name=translation['insecurity'],\n",
    "        y=predicted_incidence_plot_data['mean'].values[10:] - 2 * predicted_incidence_plot_data['std'].values[10:],\n",
    "        x=predicted_incidence_plot_data['date'].values[10:],\n",
    "        showlegend=False,\n",
    "        legendgroup='nowcast',\n",
    "        marker=dict(color=\"#444\"),\n",
    "        line=dict(width=0),\n",
    "        mode='lines',\n",
    "        fillcolor='rgba(65, 172, 221, 0.3)',  #'rgba(68, 68, 68, 0.3)'\n",
    "        fill='tonexty',\n",
    "        hoverinfo='skip'\n",
    "    ))\n",
    "\n",
    "    fig.add_trace(go.Scatter(\n",
    "        y=predicted_incidence_plot_data['mean'].values[10:-1],\n",
    "        x=predicted_incidence_plot_data['date'].values[10:-1],\n",
    "        name=translation['nowcast'],\n",
    "        legendgroup='nowcast',\n",
    "        mode='lines',\n",
    "        hovertemplate=\"%{y:.0f}\",\n",
    "        line=dict(width=2.5,\n",
    "                  color='#41ACDD'  #455266\n",
    "                  )))\n",
    "\n",
    "    fig.add_trace(go.Scatter(\n",
    "        y=reported_incidence['Mit Auffrischimpfung 18-59 Jahre'].values[1:],\n",
    "        x=reported_incidence['date'].values[1:],\n",
    "        name=translation['booster'],\n",
    "        mode='markers',\n",
    "        hovertemplate=\"%{y:.0f}\",\n",
    "        marker=dict(size=8,\n",
    "                    color='white',  #41ACDD\n",
    "                    line=dict(width=2., color='red')  #DarkSlateGrey\n",
    "                    )))\n",
    "\n",
    "    fig.add_trace(go.Scatter(\n",
    "        y=reported_incidence['Grundimmunisierte  18-59 Jahre'].values[1:],\n",
    "        x=reported_incidence['date'].values[1:],\n",
    "        name=translation['base'],\n",
    "        mode='markers',\n",
    "        hovertemplate=\"%{y:.0f}\",\n",
    "        marker=dict(size=9,\n",
    "                    color='red',  #455266\n",
    "                    # line=dict(width=1.5, color='DarkSlateGrey')\n",
    "                    )\n",
    "    ))\n",
    "\n",
    "    fig.add_trace(go.Scatter(\n",
    "        y=reported_incidence['Ungeimpfte 18-59 Jahre'].values[1:],\n",
    "        x=reported_incidence['date'].values[1:],\n",
    "        name=translation['unvax'],\n",
    "        mode='markers',\n",
    "        hovertemplate=\"%{y:.0f}\",\n",
    "        marker=dict(size=9,\n",
    "                    color='#455266',  #red\n",
    "                    # line=dict(width=1.5, color='DarkSlateGrey')\n",
    "                    )))\n",
    "\n",
    "    layout = dict(\n",
    "        title_text=translation['title'],\n",
    "        yaxis_title=translation['y_axis_title'],\n",
    "        hovermode='x unified',\n",
    "        hoverlabel={'font': {\n",
    "            'color': 'black',\n",
    "        }},\n",
    "    )\n",
    "    fig.update_layout(default_layout)\n",
    "    fig.update_layout(layout)\n",
    "    fig.write_html(f'incidence_nowcast_{language}.html', include_plotlyjs='cdn', full_html=False,\n",
    "                   config={'responsive': 'true', 'displayModeBar': False})\n",
    "    \n",
    "fig.write_image(f\"incidence_nowcast.png\")\n",
    "fig.show()"
   ]
  },
  {
   "cell_type": "code",
   "execution_count": null,
   "id": "6c8f3c17",
   "metadata": {},
   "outputs": [],
   "source": []
  }
 ],
 "metadata": {
  "kernelspec": {
   "display_name": "Python 3",
   "language": "python",
   "name": "python3"
  },
  "language_info": {
   "codemirror_mode": {
    "name": "ipython",
    "version": 3
   },
   "file_extension": ".py",
   "mimetype": "text/x-python",
   "name": "python",
   "nbconvert_exporter": "python",
   "pygments_lexer": "ipython3",
   "version": "3.8.10"
  }
 },
 "nbformat": 4,
 "nbformat_minor": 5
}
