{
 "cells": [
  {
   "cell_type": "code",
   "execution_count": 1,
   "outputs": [
    {
     "name": "stdout",
     "output_type": "stream",
     "text": [
      "cached\n",
      "load rhr\n"
     ]
    },
    {
     "name": "stderr",
     "output_type": "stream",
     "text": [
      "/home/kolb/.cache/pypoetry/virtualenvs/ml-nowcasting-jKKypzXv-py3.8/lib/python3.8/site-packages/pandas/io/sql.py:761: UserWarning: pandas only support SQLAlchemy connectable(engine/connection) ordatabase string URI or sqlite3 DBAPI2 connectionother DBAPI2 objects are not tested, please consider using SQLAlchemy\n",
      "  warnings.warn(\n"
     ]
    },
    {
     "name": "stdout",
     "output_type": "stream",
     "text": [
      "load steps\n"
     ]
    },
    {
     "name": "stderr",
     "output_type": "stream",
     "text": [
      "/home/kolb/.cache/pypoetry/virtualenvs/ml-nowcasting-jKKypzXv-py3.8/lib/python3.8/site-packages/pandas/io/sql.py:761: UserWarning: pandas only support SQLAlchemy connectable(engine/connection) ordatabase string URI or sqlite3 DBAPI2 connectionother DBAPI2 objects are not tested, please consider using SQLAlchemy\n",
      "  warnings.warn(\n"
     ]
    },
    {
     "name": "stdout",
     "output_type": "stream",
     "text": [
      "load sleep\n"
     ]
    },
    {
     "name": "stderr",
     "output_type": "stream",
     "text": [
      "/home/kolb/.cache/pypoetry/virtualenvs/ml-nowcasting-jKKypzXv-py3.8/lib/python3.8/site-packages/pandas/io/sql.py:761: UserWarning: pandas only support SQLAlchemy connectable(engine/connection) ordatabase string URI or sqlite3 DBAPI2 connectionother DBAPI2 objects are not tested, please consider using SQLAlchemy\n",
      "  warnings.warn(\n"
     ]
    },
    {
     "name": "stdout",
     "output_type": "stream",
     "text": [
      "load survey data\n"
     ]
    },
    {
     "name": "stderr",
     "output_type": "stream",
     "text": [
      "/home/kolb/.cache/pypoetry/virtualenvs/ml-nowcasting-jKKypzXv-py3.8/lib/python3.8/site-packages/pandas/io/sql.py:761: UserWarning: pandas only support SQLAlchemy connectable(engine/connection) ordatabase string URI or sqlite3 DBAPI2 connectionother DBAPI2 objects are not tested, please consider using SQLAlchemy\n",
      "  warnings.warn(\n"
     ]
    },
    {
     "name": "stdout",
     "output_type": "stream",
     "text": [
      "join features\n",
      "convert time column\n",
      "add virus variant shares\n",
      "293542 records from 7224 users present. \n",
      "61969 of which are complete.\n"
     ]
    },
    {
     "data": {
      "text/plain": "       test_week_start  omicronba1_share  omicronba2_share  delta_share  \\\n2018        2021-10-10               0.0               0.0    99.985714   \n2031        2021-10-11               0.0               0.0   100.000000   \n2063        2021-10-11               0.0               0.0   100.000000   \n2147        2021-10-12               0.0               0.0   100.000000   \n2166        2021-10-13               0.0               0.0   100.000000   \n...                ...               ...               ...          ...   \n283395      2022-04-25               1.6              97.4     0.000000   \n283396      2022-04-25               1.6              97.4     0.000000   \n283397      2022-04-25               1.6              97.4     0.000000   \n283398      2022-04-25               1.6              97.4     0.000000   \n283405      2022-04-25               1.6              97.4     0.000000   \n\n          user_id  rhr_metric  steps_metric  sleep_duration_metric  \\\n2018     188847.0    0.000000      0.672339               0.338319   \n2031      95626.0    0.592305      0.354416               0.763862   \n2063     471186.0    2.088224      0.150060               0.793670   \n2147     830573.0    0.250712     -0.043135               0.638991   \n2166      12565.0    0.718733      0.016276              -0.173173   \n...           ...         ...           ...                    ...   \n283395  1235711.0    3.848165     -0.265210               0.645670   \n283396  1235711.0    3.848165     -0.265210               0.127061   \n283397  1235711.0    3.848165     -0.238305               0.645670   \n283398  1235711.0    3.848165     -0.238305               0.127061   \n283405  1235762.0    2.635850      0.684255              -0.467539   \n\n        vaccination_status  days_since_last_dose  ...  cough   cold diarrhea  \\\n2018                   2.0                 192.0  ...  False  False    False   \n2031                   2.0                  40.0  ...  False  False    False   \n2063                   2.0                 102.0  ...  False  False    False   \n2147                   2.0                 164.0  ...  False  False    False   \n2166                   2.0                 104.0  ...  False  False    False   \n...                    ...                   ...  ...    ...    ...      ...   \n283395                 3.0                 145.0  ...   True  False    False   \n283396                 3.0                 145.0  ...   True  False    False   \n283397                 3.0                 145.0  ...   True  False    False   \n283398                 3.0                 145.0  ...   True  False    False   \n283405                 3.0                 175.0  ...  False  False    False   \n\n       sore_throat asymptomatic test_result fittness    sex    age       date  \n2018         False         True       False    376.0  773.0  813.0 2021-10-10  \n2031         False         True       False    381.0  774.0  813.0 2021-10-11  \n2063         False         True       False    376.0  774.0  813.0 2021-10-11  \n2147          True        False       False    379.0  773.0  815.0 2021-10-12  \n2166         False        False       False    380.0  774.0  816.0 2021-10-13  \n...            ...          ...         ...      ...    ...    ...        ...  \n283395       False        False       False    382.0  774.0  814.0 2022-04-25  \n283396       False        False       False    382.0  774.0  814.0 2022-04-25  \n283397       False        False       False    382.0  774.0  814.0 2022-04-25  \n283398       False        False       False    382.0  774.0  814.0 2022-04-25  \n283405       False         True       False    380.0  774.0  812.0 2022-04-25  \n\n[61969 rows x 24 columns]",
      "text/html": "<div>\n<style scoped>\n    .dataframe tbody tr th:only-of-type {\n        vertical-align: middle;\n    }\n\n    .dataframe tbody tr th {\n        vertical-align: top;\n    }\n\n    .dataframe thead th {\n        text-align: right;\n    }\n</style>\n<table border=\"1\" class=\"dataframe\">\n  <thead>\n    <tr style=\"text-align: right;\">\n      <th></th>\n      <th>test_week_start</th>\n      <th>omicronba1_share</th>\n      <th>omicronba2_share</th>\n      <th>delta_share</th>\n      <th>user_id</th>\n      <th>rhr_metric</th>\n      <th>steps_metric</th>\n      <th>sleep_duration_metric</th>\n      <th>vaccination_status</th>\n      <th>days_since_last_dose</th>\n      <th>...</th>\n      <th>cough</th>\n      <th>cold</th>\n      <th>diarrhea</th>\n      <th>sore_throat</th>\n      <th>asymptomatic</th>\n      <th>test_result</th>\n      <th>fittness</th>\n      <th>sex</th>\n      <th>age</th>\n      <th>date</th>\n    </tr>\n  </thead>\n  <tbody>\n    <tr>\n      <th>2018</th>\n      <td>2021-10-10</td>\n      <td>0.0</td>\n      <td>0.0</td>\n      <td>99.985714</td>\n      <td>188847.0</td>\n      <td>0.000000</td>\n      <td>0.672339</td>\n      <td>0.338319</td>\n      <td>2.0</td>\n      <td>192.0</td>\n      <td>...</td>\n      <td>False</td>\n      <td>False</td>\n      <td>False</td>\n      <td>False</td>\n      <td>True</td>\n      <td>False</td>\n      <td>376.0</td>\n      <td>773.0</td>\n      <td>813.0</td>\n      <td>2021-10-10</td>\n    </tr>\n    <tr>\n      <th>2031</th>\n      <td>2021-10-11</td>\n      <td>0.0</td>\n      <td>0.0</td>\n      <td>100.000000</td>\n      <td>95626.0</td>\n      <td>0.592305</td>\n      <td>0.354416</td>\n      <td>0.763862</td>\n      <td>2.0</td>\n      <td>40.0</td>\n      <td>...</td>\n      <td>False</td>\n      <td>False</td>\n      <td>False</td>\n      <td>False</td>\n      <td>True</td>\n      <td>False</td>\n      <td>381.0</td>\n      <td>774.0</td>\n      <td>813.0</td>\n      <td>2021-10-11</td>\n    </tr>\n    <tr>\n      <th>2063</th>\n      <td>2021-10-11</td>\n      <td>0.0</td>\n      <td>0.0</td>\n      <td>100.000000</td>\n      <td>471186.0</td>\n      <td>2.088224</td>\n      <td>0.150060</td>\n      <td>0.793670</td>\n      <td>2.0</td>\n      <td>102.0</td>\n      <td>...</td>\n      <td>False</td>\n      <td>False</td>\n      <td>False</td>\n      <td>False</td>\n      <td>True</td>\n      <td>False</td>\n      <td>376.0</td>\n      <td>774.0</td>\n      <td>813.0</td>\n      <td>2021-10-11</td>\n    </tr>\n    <tr>\n      <th>2147</th>\n      <td>2021-10-12</td>\n      <td>0.0</td>\n      <td>0.0</td>\n      <td>100.000000</td>\n      <td>830573.0</td>\n      <td>0.250712</td>\n      <td>-0.043135</td>\n      <td>0.638991</td>\n      <td>2.0</td>\n      <td>164.0</td>\n      <td>...</td>\n      <td>False</td>\n      <td>False</td>\n      <td>False</td>\n      <td>True</td>\n      <td>False</td>\n      <td>False</td>\n      <td>379.0</td>\n      <td>773.0</td>\n      <td>815.0</td>\n      <td>2021-10-12</td>\n    </tr>\n    <tr>\n      <th>2166</th>\n      <td>2021-10-13</td>\n      <td>0.0</td>\n      <td>0.0</td>\n      <td>100.000000</td>\n      <td>12565.0</td>\n      <td>0.718733</td>\n      <td>0.016276</td>\n      <td>-0.173173</td>\n      <td>2.0</td>\n      <td>104.0</td>\n      <td>...</td>\n      <td>False</td>\n      <td>False</td>\n      <td>False</td>\n      <td>False</td>\n      <td>False</td>\n      <td>False</td>\n      <td>380.0</td>\n      <td>774.0</td>\n      <td>816.0</td>\n      <td>2021-10-13</td>\n    </tr>\n    <tr>\n      <th>...</th>\n      <td>...</td>\n      <td>...</td>\n      <td>...</td>\n      <td>...</td>\n      <td>...</td>\n      <td>...</td>\n      <td>...</td>\n      <td>...</td>\n      <td>...</td>\n      <td>...</td>\n      <td>...</td>\n      <td>...</td>\n      <td>...</td>\n      <td>...</td>\n      <td>...</td>\n      <td>...</td>\n      <td>...</td>\n      <td>...</td>\n      <td>...</td>\n      <td>...</td>\n      <td>...</td>\n    </tr>\n    <tr>\n      <th>283395</th>\n      <td>2022-04-25</td>\n      <td>1.6</td>\n      <td>97.4</td>\n      <td>0.000000</td>\n      <td>1235711.0</td>\n      <td>3.848165</td>\n      <td>-0.265210</td>\n      <td>0.645670</td>\n      <td>3.0</td>\n      <td>145.0</td>\n      <td>...</td>\n      <td>True</td>\n      <td>False</td>\n      <td>False</td>\n      <td>False</td>\n      <td>False</td>\n      <td>False</td>\n      <td>382.0</td>\n      <td>774.0</td>\n      <td>814.0</td>\n      <td>2022-04-25</td>\n    </tr>\n    <tr>\n      <th>283396</th>\n      <td>2022-04-25</td>\n      <td>1.6</td>\n      <td>97.4</td>\n      <td>0.000000</td>\n      <td>1235711.0</td>\n      <td>3.848165</td>\n      <td>-0.265210</td>\n      <td>0.127061</td>\n      <td>3.0</td>\n      <td>145.0</td>\n      <td>...</td>\n      <td>True</td>\n      <td>False</td>\n      <td>False</td>\n      <td>False</td>\n      <td>False</td>\n      <td>False</td>\n      <td>382.0</td>\n      <td>774.0</td>\n      <td>814.0</td>\n      <td>2022-04-25</td>\n    </tr>\n    <tr>\n      <th>283397</th>\n      <td>2022-04-25</td>\n      <td>1.6</td>\n      <td>97.4</td>\n      <td>0.000000</td>\n      <td>1235711.0</td>\n      <td>3.848165</td>\n      <td>-0.238305</td>\n      <td>0.645670</td>\n      <td>3.0</td>\n      <td>145.0</td>\n      <td>...</td>\n      <td>True</td>\n      <td>False</td>\n      <td>False</td>\n      <td>False</td>\n      <td>False</td>\n      <td>False</td>\n      <td>382.0</td>\n      <td>774.0</td>\n      <td>814.0</td>\n      <td>2022-04-25</td>\n    </tr>\n    <tr>\n      <th>283398</th>\n      <td>2022-04-25</td>\n      <td>1.6</td>\n      <td>97.4</td>\n      <td>0.000000</td>\n      <td>1235711.0</td>\n      <td>3.848165</td>\n      <td>-0.238305</td>\n      <td>0.127061</td>\n      <td>3.0</td>\n      <td>145.0</td>\n      <td>...</td>\n      <td>True</td>\n      <td>False</td>\n      <td>False</td>\n      <td>False</td>\n      <td>False</td>\n      <td>False</td>\n      <td>382.0</td>\n      <td>774.0</td>\n      <td>814.0</td>\n      <td>2022-04-25</td>\n    </tr>\n    <tr>\n      <th>283405</th>\n      <td>2022-04-25</td>\n      <td>1.6</td>\n      <td>97.4</td>\n      <td>0.000000</td>\n      <td>1235762.0</td>\n      <td>2.635850</td>\n      <td>0.684255</td>\n      <td>-0.467539</td>\n      <td>3.0</td>\n      <td>175.0</td>\n      <td>...</td>\n      <td>False</td>\n      <td>False</td>\n      <td>False</td>\n      <td>False</td>\n      <td>True</td>\n      <td>False</td>\n      <td>380.0</td>\n      <td>774.0</td>\n      <td>812.0</td>\n      <td>2022-04-25</td>\n    </tr>\n  </tbody>\n</table>\n<p>61969 rows × 24 columns</p>\n</div>"
     },
     "execution_count": 1,
     "metadata": {},
     "output_type": "execute_result"
    }
   ],
   "source": [
    "from load_data import loading_and_pre_processing_pipeline\n",
    "\n",
    "feature_data = loading_and_pre_processing_pipeline()\n",
    "cleaned_feature_data = feature_data.dropna(axis=0)\n",
    "\n",
    "print(f'{len(feature_data)} records from {len(set(cleaned_feature_data[\"user_id\"].values))} users present. ')\n",
    "print(f'{len(cleaned_feature_data)} of which are complete.')\n",
    "cleaned_feature_data"
   ],
   "metadata": {
    "collapsed": false,
    "pycharm": {
     "name": "#%%\n"
    }
   }
  },
  {
   "cell_type": "code",
   "execution_count": 2,
   "outputs": [
    {
     "name": "stdout",
     "output_type": "stream",
     "text": [
      "<class 'pandas.core.frame.DataFrame'>\n",
      "Int64Index: 293542 entries, 0 to 293541\n",
      "Data columns (total 24 columns):\n",
      " #   Column                   Non-Null Count   Dtype         \n",
      "---  ------                   --------------   -----         \n",
      " 0   test_week_start          293542 non-null  datetime64[ns]\n",
      " 1   omicronba1_share         283447 non-null  float64       \n",
      " 2   omicronba2_share         283447 non-null  float64       \n",
      " 3   delta_share              283447 non-null  float64       \n",
      " 4   user_id                  293310 non-null  float64       \n",
      " 5   rhr_metric               253716 non-null  float64       \n",
      " 6   steps_metric             263105 non-null  float64       \n",
      " 7   sleep_duration_metric    165160 non-null  float64       \n",
      " 8   vaccination_status       224961 non-null  float64       \n",
      " 9   days_since_last_dose     220038 non-null  float64       \n",
      " 10  chills                   286384 non-null  object        \n",
      " 11  body_pain                286384 non-null  object        \n",
      " 12  loss_of_taste_and_smell  286384 non-null  object        \n",
      " 13  fatigue                  285305 non-null  object        \n",
      " 14  cough                    286384 non-null  object        \n",
      " 15  cold                     286384 non-null  object        \n",
      " 16  diarrhea                 286384 non-null  object        \n",
      " 17  sore_throat              286384 non-null  object        \n",
      " 18  asymptomatic             286384 non-null  object        \n",
      " 19  test_result              162690 non-null  object        \n",
      " 20  fittness                 270719 non-null  float64       \n",
      " 21  sex                      271264 non-null  float64       \n",
      " 22  age                      271263 non-null  float64       \n",
      " 23  date                     293310 non-null  datetime64[ns]\n",
      "dtypes: datetime64[ns](2), float64(12), object(10)\n",
      "memory usage: 56.0+ MB\n"
     ]
    }
   ],
   "source": [
    "feature_data.info()"
   ],
   "metadata": {
    "collapsed": false,
    "pycharm": {
     "name": "#%%\n"
    }
   }
  },
  {
   "cell_type": "code",
   "execution_count": 5,
   "outputs": [],
   "source": [
    "\n",
    "import pandas as pd\n",
    "from sklearn.model_selection import GroupShuffleSplit\n",
    "\n",
    "from sklearn.linear_model import LogisticRegression\n",
    "from typing import List\n",
    "\n",
    "from sklearn.compose import make_column_transformer\n",
    "from sklearn.compose import make_column_selector as selector\n",
    "\n",
    "from imblearn.pipeline import make_pipeline as make_pipeline_with_sampler\n",
    "\n",
    "from sklearn.impute import SimpleImputer\n",
    "from sklearn.preprocessing import StandardScaler, OrdinalEncoder, PolynomialFeatures\n",
    "from sklearn.pipeline import make_pipeline\n",
    "\n",
    "num_pipe = make_pipeline(\n",
    "    StandardScaler(), SimpleImputer(strategy=\"mean\", add_indicator=True)\n",
    ")\n",
    "cat_pipe = make_pipeline(\n",
    "    SimpleImputer(strategy=\"constant\", fill_value=False),\n",
    "    OrdinalEncoder(),\n",
    ")\n",
    "\n",
    "preprocessor_linear = make_column_transformer(\n",
    "    [num_pipe, selector(dtype_include=\"number\")],\n",
    "    [cat_pipe, selector(dtype_include=\"object\")],\n",
    "    n_jobs=2,\n",
    ")\n",
    "\n",
    "preprocessing_pipeline = make_pipeline_with_sampler(\n",
    "    preprocessor_linear,\n",
    "    PolynomialFeatures()\n",
    ")\n",
    "\n",
    "lr_clf = make_pipeline_with_sampler(\n",
    "    preprocessor_linear,\n",
    "    PolynomialFeatures(),\n",
    "    LogisticRegression(max_iter=1000, class_weight='balanced'),\n",
    ")\n",
    "\n",
    "\n",
    "def train_model(features: List[str], target: str, data: pd.DataFrame, random_state=42):\n",
    "\n",
    "    for feature in features:\n",
    "        try:\n",
    "            assert feature in data.columns.values\n",
    "        except AssertionError as err:\n",
    "            print(feature)\n",
    "            raise err\n",
    "\n",
    "    assert target in data.columns.values\n",
    "\n",
    "    working_data = data.dropna(axis=0, subset=features + [target])\n",
    "    # working_data = data\n",
    "\n",
    "    gsp = GroupShuffleSplit(test_size=.33, n_splits=1, random_state=random_state)\n",
    "    split = gsp.split(working_data, groups=working_data['user_id'])\n",
    "    train, test = next(split)\n",
    "\n",
    "    training_data = working_data.iloc[train]\n",
    "    testing_data = working_data.iloc[test]\n",
    "\n",
    "    X = training_data[features]\n",
    "    y = training_data[target].astype(int)\n",
    "\n",
    "    # pipe = make_pipeline(StandardScaler(), LogisticRegression())\n",
    "    pipe = lr_clf\n",
    "    pipe.fit(X, y)\n",
    "\n",
    "    return pipe, testing_data[features], testing_data[target].astype(int), test"
   ],
   "metadata": {
    "collapsed": false,
    "pycharm": {
     "name": "#%%\n"
    }
   }
  },
  {
   "cell_type": "code",
   "execution_count": 6,
   "outputs": [
    {
     "name": "stderr",
     "output_type": "stream",
     "text": [
      "/home/kolb/.cache/pypoetry/virtualenvs/ml-nowcasting-jKKypzXv-py3.8/lib/python3.8/site-packages/sklearn/utils/deprecation.py:87: FutureWarning: Function plot_roc_curve is deprecated; Function :func:`plot_roc_curve` is deprecated in 1.0 and will be removed in 1.2. Use one of the class methods: :meth:`sklearn.metric.RocCurveDisplay.from_predictions` or :meth:`sklearn.metric.RocCurveDisplay.from_estimator`.\n",
      "  warnings.warn(msg, category=FutureWarning)\n"
     ]
    },
    {
     "name": "stdout",
     "output_type": "stream",
     "text": [
      "Text(0, 0, '18449')\n"
     ]
    },
    {
     "data": {
      "text/plain": "<Figure size 800x400 with 3 Axes>",
      "image/png": "[encoded data removed]"
     },
     "metadata": {
      "needs_background": "light"
     },
     "output_type": "display_data"
    }
   ],
   "source": [
    "from analysis_plots import plot_analysis\n",
    "\n",
    "feature_names = [\n",
    "    \"rhr_metric\",\n",
    "    \"steps_metric\",\n",
    "    \"sleep_duration_metric\",\n",
    "    \"days_since_last_dose\",\n",
    "    \"vaccination_status\",\n",
    "    \"fittness\",\n",
    "    \"sex\",\n",
    "    \"age\",\n",
    "    \"chills\",\n",
    "    \"body_pain\",\n",
    "    \"loss_of_taste_and_smell\",\n",
    "    \"fatigue\",\n",
    "    \"cough\",\n",
    "    \"cold\",\n",
    "    \"diarrhea\",\n",
    "    \"sore_throat\",\n",
    "    'omicronba1_share',\n",
    "    'omicronba2_share',\n",
    "    'delta_share'\n",
    "]\n",
    "target = 'test_result'\n",
    "\n",
    "pipeline, X_test, y_test, _ = train_model(feature_names, target, cleaned_feature_data)\n",
    "\n",
    "fig = plot_analysis(pipeline, X_test, y_test, feature_names, 0.5)\n",
    "\n",
    "fig.savefig('model_metrics.png', dpi=300)"
   ],
   "metadata": {
    "collapsed": false,
    "pycharm": {
     "name": "#%%\n"
    }
   }
  },
  {
   "cell_type": "code",
   "execution_count": 7,
   "outputs": [
    {
     "name": "stdout",
     "output_type": "stream",
     "text": [
      "online source not available HTTP Error 403: Forbidden\n"
     ]
    },
    {
     "data": {
      "text/plain": "   Mit Auffrischimpfung 18-59 Jahre  Grundimmunisierte  18-59 Jahre  \\\n14                        29.961304                       57.142708   \n15                        44.699871                       77.397034   \n16                        44.969006                       95.132538   \n17                        59.339779                      120.781189   \n18                        63.652508                      144.439636   \n\n    Ungeimpfte 18-59 Jahre       date  \n14              177.065964 2021-10-18  \n15              228.247223 2021-10-25  \n16              268.383270 2021-11-01  \n17              329.819214 2021-11-08  \n18              359.598816 2021-11-15  ",
      "text/html": "<div>\n<style scoped>\n    .dataframe tbody tr th:only-of-type {\n        vertical-align: middle;\n    }\n\n    .dataframe tbody tr th {\n        vertical-align: top;\n    }\n\n    .dataframe thead th {\n        text-align: right;\n    }\n</style>\n<table border=\"1\" class=\"dataframe\">\n  <thead>\n    <tr style=\"text-align: right;\">\n      <th></th>\n      <th>Mit Auffrischimpfung 18-59 Jahre</th>\n      <th>Grundimmunisierte  18-59 Jahre</th>\n      <th>Ungeimpfte 18-59 Jahre</th>\n      <th>date</th>\n    </tr>\n  </thead>\n  <tbody>\n    <tr>\n      <th>14</th>\n      <td>29.961304</td>\n      <td>57.142708</td>\n      <td>177.065964</td>\n      <td>2021-10-18</td>\n    </tr>\n    <tr>\n      <th>15</th>\n      <td>44.699871</td>\n      <td>77.397034</td>\n      <td>228.247223</td>\n      <td>2021-10-25</td>\n    </tr>\n    <tr>\n      <th>16</th>\n      <td>44.969006</td>\n      <td>95.132538</td>\n      <td>268.383270</td>\n      <td>2021-11-01</td>\n    </tr>\n    <tr>\n      <th>17</th>\n      <td>59.339779</td>\n      <td>120.781189</td>\n      <td>329.819214</td>\n      <td>2021-11-08</td>\n    </tr>\n    <tr>\n      <th>18</th>\n      <td>63.652508</td>\n      <td>144.439636</td>\n      <td>359.598816</td>\n      <td>2021-11-15</td>\n    </tr>\n  </tbody>\n</table>\n</div>"
     },
     "execution_count": 7,
     "metadata": {},
     "output_type": "execute_result"
    }
   ],
   "source": [
    "import os\n",
    "from datetime import datetime\n",
    "from load_data import notebook_path\n",
    "\n",
    "# Load reported incidences from File\n",
    "online_source = 'https://www.rki.de/DE/Content/InfAZ/N/Neuartiges_Coronavirus/Daten/Inzidenz_Impfstatus.xlsx?__blob=publicationFile'\n",
    "\n",
    "\n",
    "\n",
    "local_source = os.path.join(os.path.dirname(notebook_path), 'Inzidenz_Impfstatus.xlsx')\n",
    "\n",
    "\n",
    "def load_excel(path):\n",
    "    data = pd.read_excel(\n",
    "        path,\n",
    "        sheet_name=1, header=3\n",
    "    )[['Mit Auffrischimpfung 18-59 Jahre', 'Grundimmunisierte  18-59 Jahre', 'Ungeimpfte 18-59 Jahre'\n",
    "        , 'Meldejahr', 'Meldewoche']]\n",
    "    data['date'] = data.apply(\n",
    "        lambda row: datetime.strptime(str(row['Meldejahr']) + \"-\" + str(row['Meldewoche']) + '-1', \"%Y-%W-%w\"),\n",
    "        axis=1)\n",
    "    return data[data['Mit Auffrischimpfung 18-59 Jahre'] != '--'].drop(columns=['Meldejahr', 'Meldewoche'])\n",
    "\n",
    "\n",
    "try:\n",
    "    reported_incidence = load_excel(online_source)\n",
    "except Exception as e:\n",
    "    print('online source not available', e)\n",
    "    reported_incidence = load_excel(local_source)\n",
    "reported_incidence.head()"
   ],
   "metadata": {
    "collapsed": false,
    "pycharm": {
     "name": "#%%\n"
    }
   }
  },
  {
   "cell_type": "code",
   "execution_count": 8,
   "outputs": [],
   "source": [
    "import ramda as R\n",
    "from datetime import timedelta\n",
    "from numpy import random\n",
    "MEAN_DAYS = 7\n",
    "\n",
    "\n",
    "@R.curry\n",
    "def predicted_incidence(classifier, feature_data, threshold):\n",
    "    data = feature_data.set_index(['user_id', 'date'])\n",
    "\n",
    "    proba_infected = classifier.predict_proba(data[feature_names]).T[1].T\n",
    "\n",
    "    p = pd.DataFrame(\n",
    "        data=proba_infected, index=data.index, columns=[\"probability\"]\n",
    "    )\n",
    "\n",
    "    colname = f\"{MEAN_DAYS}d rolling mean detections\"\n",
    "\n",
    "    p[colname] = p[\"probability\"] > threshold\n",
    "\n",
    "    p['all'] = p['probability'] > 0\n",
    "\n",
    "    # if individuals are detected as infected in more than one week, take only the first detection\n",
    "    only_first_positive_detections = (p[p[colname] == True]\n",
    "                                      .reset_index()\n",
    "                                      .sort_values(['user_id', 'date'])\n",
    "                                      .groupby(['user_id'])\n",
    "                                      .agg({colname: 'first', 'all': 'first', 'date': lambda x: list(x)[0]})\n",
    "                                      .reset_index()\n",
    "                                      )\n",
    "    all_negative_detections = p[p[colname] == False].reset_index()\n",
    "\n",
    "    detected_infections = pd.concat([only_first_positive_detections, all_negative_detections])\n",
    "\n",
    "    detected_infections['date'] = detected_infections['date'].apply(\n",
    "        lambda d: d + timedelta(days=int(random.randint(0, 7, 1))))\n",
    "\n",
    "    rolling_mean_detections = (\n",
    "        detected_infections\n",
    "            .groupby(\"date\")\n",
    "            .sum()\n",
    "            .rolling(f'{MEAN_DAYS}D').mean()\n",
    "            .drop(columns=[\"probability\", \"user_id\"])\n",
    "    )\n",
    "\n",
    "    rolling_mean_detections[colname] = rolling_mean_detections[colname].div(rolling_mean_detections['all'],\n",
    "                                                                            axis=0) * 100_000\n",
    "\n",
    "    return rolling_mean_detections.reset_index(), colname\n",
    "\n",
    "\n",
    "def predict_incidence_runs(cleaned_feature_data: pd.DataFrame, feature_names, threshold=0.2) -> pd.DataFrame:\n",
    "    runs = []\n",
    "    for i in range(10):\n",
    "        predictor, _, __, test_indices = train_model(feature_names, target, cleaned_feature_data, random_state=i)\n",
    "\n",
    "        nowcasted_incidence, predicted_incidence_column = predicted_incidence(predictor,\n",
    "                                                                              cleaned_feature_data.iloc[test_indices],\n",
    "                                                                              threshold)\n",
    "        nowcasted_incidence['run_id'] = i\n",
    "        runs.append(\n",
    "            nowcasted_incidence[[predicted_incidence_column, 'run_id', 'date']])\n",
    "\n",
    "    predicted_incidence_runs = pd.concat(runs).reset_index().sort_values('date')\n",
    "\n",
    "    predicted_incidence_plot_data = predicted_incidence_runs.groupby('date').agg(\n",
    "        {predicted_incidence_column: ['mean', 'std']}).reset_index()\n",
    "\n",
    "    predicted_incidence_plot_data.columns = ['date', 'mean', 'std']\n",
    "    return predicted_incidence_plot_data"
   ],
   "metadata": {
    "collapsed": false,
    "pycharm": {
     "name": "#%%\n"
    }
   }
  },
  {
   "cell_type": "code",
   "execution_count": 9,
   "outputs": [],
   "source": [
    "def calculate_questionnaire_incidence(cleaned_feature_data: pd.DataFrame) -> pd.DataFrame:\n",
    "    res1 = cleaned_feature_data.replace({True: 1, False: 0, None: 0, float('nan'): 0}).reset_index()[\n",
    "        ['test_result', 'date', 'user_id']]\n",
    "    res2 = res1.groupby('date').agg({'test_result': ['sum', 'count']})\n",
    "    res2.columns = res2.columns.droplevel(0)\n",
    "    res2['rate'] = res2['sum'].div(res2['count'])\n",
    "    res2['incidence'] = res2.rolling('7D')['rate'].mean() * 100_000\n",
    "    questionnaire_incidence = res2.reset_index().dropna(axis=0)[['incidence', 'date']]\n",
    "    questionnaire_incidence['date'] = questionnaire_incidence['date'] + timedelta(days=7)\n",
    "    return questionnaire_incidence"
   ],
   "metadata": {
    "collapsed": false,
    "pycharm": {
     "name": "#%%\n"
    }
   }
  },
  {
   "cell_type": "code",
   "execution_count": 13,
   "outputs": [
    {
     "data": {
      "application/vnd.plotly.v1+json": {
       "data": [
        {
         "hoverinfo": "skip",
         "legendgroup": "nowcast",
         "line": {
          "width": 0
         },
         "marker": {
          "color": "#444"
         },
         "mode": "lines",
         "showlegend": false,
         "x": [
          "2021-11-07T00:00:00.000000000",
          "2021-11-08T00:00:00.000000000",
          "2021-11-09T00:00:00.000000000",
          "2021-11-10T00:00:00.000000000",
          "2021-11-11T00:00:00.000000000",
          "2021-11-12T00:00:00.000000000",
          "2021-11-13T00:00:00.000000000",
          "2021-11-14T00:00:00.000000000",
          "2021-11-15T00:00:00.000000000",
          "2021-11-16T00:00:00.000000000",
          "2021-11-17T00:00:00.000000000",
          "2021-11-18T00:00:00.000000000",
          "2021-11-19T00:00:00.000000000",
          "2021-11-20T00:00:00.000000000",
          "2021-11-21T00:00:00.000000000",
          "2021-11-22T00:00:00.000000000",
          "2021-11-23T00:00:00.000000000",
          "2021-11-24T00:00:00.000000000",
          "2021-11-25T00:00:00.000000000",
          "2021-11-26T00:00:00.000000000",
          "2021-11-27T00:00:00.000000000",
          "2021-11-28T00:00:00.000000000",
          "2021-11-29T00:00:00.000000000",
          "2021-11-30T00:00:00.000000000",
          "2021-12-01T00:00:00.000000000",
          "2021-12-02T00:00:00.000000000",
          "2021-12-03T00:00:00.000000000",
          "2021-12-04T00:00:00.000000000",
          "2021-12-05T00:00:00.000000000",
          "2021-12-06T00:00:00.000000000",
          "2021-12-07T00:00:00.000000000",
          "2021-12-08T00:00:00.000000000",
          "2021-12-09T00:00:00.000000000",
          "2021-12-10T00:00:00.000000000",
          "2021-12-11T00:00:00.000000000",
          "2021-12-12T00:00:00.000000000",
          "2021-12-13T00:00:00.000000000",
          "2021-12-14T00:00:00.000000000",
          "2021-12-15T00:00:00.000000000",
          "2021-12-16T00:00:00.000000000",
          "2021-12-17T00:00:00.000000000",
          "2021-12-18T00:00:00.000000000",
          "2021-12-19T00:00:00.000000000",
          "2021-12-20T00:00:00.000000000",
          "2021-12-21T00:00:00.000000000",
          "2021-12-22T00:00:00.000000000",
          "2021-12-23T00:00:00.000000000",
          "2021-12-24T00:00:00.000000000",
          "2021-12-25T00:00:00.000000000",
          "2021-12-26T00:00:00.000000000",
          "2021-12-27T00:00:00.000000000",
          "2021-12-28T00:00:00.000000000",
          "2021-12-29T00:00:00.000000000",
          "2021-12-30T00:00:00.000000000",
          "2021-12-31T00:00:00.000000000",
          "2022-01-01T00:00:00.000000000",
          "2022-01-02T00:00:00.000000000",
          "2022-01-03T00:00:00.000000000",
          "2022-01-04T00:00:00.000000000",
          "2022-01-05T00:00:00.000000000",
          "2022-01-06T00:00:00.000000000",
          "2022-01-07T00:00:00.000000000",
          "2022-01-08T00:00:00.000000000",
          "2022-01-09T00:00:00.000000000",
          "2022-01-10T00:00:00.000000000",
          "2022-01-11T00:00:00.000000000",
          "2022-01-12T00:00:00.000000000",
          "2022-01-13T00:00:00.000000000",
          "2022-01-14T00:00:00.000000000",
          "2022-01-15T00:00:00.000000000",
          "2022-01-16T00:00:00.000000000",
          "2022-01-17T00:00:00.000000000",
          "2022-01-18T00:00:00.000000000",
          "2022-01-19T00:00:00.000000000",
          "2022-01-20T00:00:00.000000000",
          "2022-01-21T00:00:00.000000000",
          "2022-01-22T00:00:00.000000000",
          "2022-01-23T00:00:00.000000000",
          "2022-01-24T00:00:00.000000000",
          "2022-01-25T00:00:00.000000000",
          "2022-01-26T00:00:00.000000000",
          "2022-01-27T00:00:00.000000000",
          "2022-01-28T00:00:00.000000000",
          "2022-01-29T00:00:00.000000000",
          "2022-01-30T00:00:00.000000000",
          "2022-01-31T00:00:00.000000000",
          "2022-02-01T00:00:00.000000000",
          "2022-02-02T00:00:00.000000000",
          "2022-02-03T00:00:00.000000000",
          "2022-02-04T00:00:00.000000000",
          "2022-02-05T00:00:00.000000000",
          "2022-02-06T00:00:00.000000000",
          "2022-02-07T00:00:00.000000000",
          "2022-02-08T00:00:00.000000000",
          "2022-02-09T00:00:00.000000000",
          "2022-02-10T00:00:00.000000000",
          "2022-02-11T00:00:00.000000000",
          "2022-02-12T00:00:00.000000000",
          "2022-02-13T00:00:00.000000000",
          "2022-02-14T00:00:00.000000000",
          "2022-02-15T00:00:00.000000000",
          "2022-02-16T00:00:00.000000000",
          "2022-02-17T00:00:00.000000000",
          "2022-02-18T00:00:00.000000000",
          "2022-02-19T00:00:00.000000000",
          "2022-02-20T00:00:00.000000000",
          "2022-02-21T00:00:00.000000000",
          "2022-02-22T00:00:00.000000000",
          "2022-02-23T00:00:00.000000000",
          "2022-02-24T00:00:00.000000000",
          "2022-02-25T00:00:00.000000000",
          "2022-02-26T00:00:00.000000000",
          "2022-02-27T00:00:00.000000000",
          "2022-02-28T00:00:00.000000000",
          "2022-03-01T00:00:00.000000000",
          "2022-03-02T00:00:00.000000000",
          "2022-03-03T00:00:00.000000000",
          "2022-03-04T00:00:00.000000000",
          "2022-03-05T00:00:00.000000000",
          "2022-03-06T00:00:00.000000000",
          "2022-03-07T00:00:00.000000000",
          "2022-03-08T00:00:00.000000000",
          "2022-03-09T00:00:00.000000000",
          "2022-03-10T00:00:00.000000000",
          "2022-03-11T00:00:00.000000000",
          "2022-03-12T00:00:00.000000000",
          "2022-03-13T00:00:00.000000000",
          "2022-03-14T00:00:00.000000000",
          "2022-03-15T00:00:00.000000000",
          "2022-03-16T00:00:00.000000000",
          "2022-03-17T00:00:00.000000000",
          "2022-03-18T00:00:00.000000000",
          "2022-03-19T00:00:00.000000000",
          "2022-03-20T00:00:00.000000000",
          "2022-03-21T00:00:00.000000000",
          "2022-03-22T00:00:00.000000000",
          "2022-03-23T00:00:00.000000000",
          "2022-03-24T00:00:00.000000000",
          "2022-03-25T00:00:00.000000000",
          "2022-03-26T00:00:00.000000000",
          "2022-03-27T00:00:00.000000000",
          "2022-03-28T00:00:00.000000000",
          "2022-03-29T00:00:00.000000000",
          "2022-03-30T00:00:00.000000000",
          "2022-03-31T00:00:00.000000000",
          "2022-04-01T00:00:00.000000000",
          "2022-04-02T00:00:00.000000000",
          "2022-04-03T00:00:00.000000000",
          "2022-04-04T00:00:00.000000000",
          "2022-04-05T00:00:00.000000000",
          "2022-04-06T00:00:00.000000000",
          "2022-04-07T00:00:00.000000000",
          "2022-04-08T00:00:00.000000000",
          "2022-04-09T00:00:00.000000000",
          "2022-04-10T00:00:00.000000000",
          "2022-04-11T00:00:00.000000000",
          "2022-04-12T00:00:00.000000000",
          "2022-04-13T00:00:00.000000000",
          "2022-04-14T00:00:00.000000000",
          "2022-04-15T00:00:00.000000000",
          "2022-04-16T00:00:00.000000000",
          "2022-04-17T00:00:00.000000000",
          "2022-04-18T00:00:00.000000000",
          "2022-04-19T00:00:00.000000000",
          "2022-04-20T00:00:00.000000000",
          "2022-04-21T00:00:00.000000000",
          "2022-04-22T00:00:00.000000000",
          "2022-04-23T00:00:00.000000000",
          "2022-04-24T00:00:00.000000000",
          "2022-04-25T00:00:00.000000000",
          "2022-04-26T00:00:00.000000000",
          "2022-04-27T00:00:00.000000000",
          "2022-04-28T00:00:00.000000000",
          "2022-04-29T00:00:00.000000000",
          "2022-04-30T00:00:00.000000000",
          "2022-05-01T00:00:00.000000000"
         ],
         "y": [
          3465.649455256818,
          3342.4673124442343,
          3433.33929865974,
          3451.8732710721247,
          2985.8111751786773,
          2667.5138705018126,
          2399.771543684529,
          2126.9142748893555,
          1838.735471732462,
          1880.5167915740321,
          1664.7305897746041,
          1687.712303317313,
          1708.0462927985466,
          1651.8606187176622,
          1408.1544091558235,
          1541.6900054811904,
          1281.0152794909188,
          1254.1518065556556,
          1842.8215289339305,
          1900.1852304132872,
          2135.5025801533384,
          2354.419626413206,
          2273.7737690803788,
          2263.1118890399293,
          2009.029492295233,
          1752.261543641428,
          1647.6966388948053,
          1747.252223922073,
          1583.178580412368,
          1838.0897140676552,
          1680.739411903092,
          1602.1314490428338,
          1566.5557006480979,
          1529.6421886980347,
          1279.5352907327137,
          1140.975866065769,
          1298.6103335324374,
          1291.4023176953629,
          1222.6144266878368,
          1143.9648186548002,
          1011.4777553193918,
          919.6337745719079,
          812.8679286520368,
          698.1478331820838,
          585.736522946569,
          625.1437458526077,
          742.9228989703024,
          960.677192967156,
          1123.8513172412263,
          1224.9463326666164,
          1140.897110103455,
          1313.1014929663238,
          1259.6413055997991,
          1348.346515451155,
          1483.2425012692051,
          1600.2609156667604,
          1762.5397459238156,
          1767.6920210678136,
          1691.3442746190246,
          1983.0571604242368,
          2270.3313196981644,
          2583.551338731044,
          3325.830551030398,
          3763.0867208946665,
          4329.965431254906,
          4277.9548851450945,
          4111.577899224747,
          3883.309606243655,
          4517.960988828202,
          4086.5325951625064,
          4748.5052596711475,
          4894.781752075929,
          5346.696228596011,
          5533.618578578043,
          6248.353165708089,
          6174.4616422905365,
          6474.601721143261,
          6553.663984447317,
          6676.49598930875,
          6948.48689935885,
          6880.6688784640055,
          7133.007787730973,
          7592.021252443117,
          7608.558737269067,
          7703.194191961764,
          7423.773023194135,
          7748.995329885289,
          7386.163668717755,
          7183.941336900712,
          6906.153727514009,
          6592.898785377157,
          7159.284898047984,
          7050.248834806683,
          6812.576325257041,
          7219.744316170367,
          7360.70273806871,
          7670.387788709806,
          7760.43750342256,
          7475.127036157078,
          7603.789309480818,
          8033.805075578894,
          7698.7163023080975,
          7800.4873686093315,
          7826.655305625209,
          7416.579946974368,
          8436.675971496972,
          8219.291159372537,
          8300.080060613041,
          8237.042741184066,
          8142.18649855482,
          8206.096865740268,
          8233.177461592877,
          8419.135938101908,
          8391.751002426476,
          8053.432730271391,
          8172.473362372624,
          8646.444183731812,
          9094.599490186163,
          8858.845602404203,
          9575.72169552187,
          9620.37503312761,
          10365.762220984816,
          10066.128226245017,
          10490.501903273009,
          10528.177259424117,
          11085.313367963903,
          10841.593665542601,
          10676.662751932952,
          10791.043180270062,
          10410.3899174305,
          10193.715630129203,
          9858.860029905223,
          9052.593568535414,
          8493.345558515382,
          8951.418382720949,
          8823.717668450572,
          9534.706350476172,
          9488.510195950503,
          9452.022383337091,
          9392.903190309931,
          9008.974489903005,
          8992.26275916295,
          9143.128920680774,
          8960.56361485358,
          8965.373470628549,
          9223.769680435951,
          9395.187527939735,
          9556.764107541567,
          9288.708864545399,
          9189.285023725439,
          9053.4506658381,
          8636.379433485961,
          8056.240850747667,
          8571.809744584454,
          8582.222498941886,
          8507.918056301669,
          7844.046320607671,
          7546.281923028819,
          7200.02366658628,
          7748.3079160493435,
          8008.877191916296,
          8497.182612668901,
          8502.452579283192,
          8402.485640133245,
          8975.736973968886,
          8512.058097464884,
          8518.494978500497,
          8509.704103947708,
          7979.501240477564,
          7821.45745038303,
          7772.916911979322,
          7200.061061767975,
          7552.130748389483,
          7507.135511297087,
          7804.166921078432,
          8509.618350856497
         ],
         "type": "scatter"
        },
        {
         "fill": "tonexty",
         "fillcolor": "rgba(65, 172, 221, 0.3)",
         "hoverinfo": "skip",
         "legendgroup": "nowcast",
         "line": {
          "width": 0
         },
         "marker": {
          "color": "#444"
         },
         "mode": "lines",
         "name": "Confidence interval",
         "showlegend": false,
         "x": [
          "2021-11-07T00:00:00.000000000",
          "2021-11-08T00:00:00.000000000",
          "2021-11-09T00:00:00.000000000",
          "2021-11-10T00:00:00.000000000",
          "2021-11-11T00:00:00.000000000",
          "2021-11-12T00:00:00.000000000",
          "2021-11-13T00:00:00.000000000",
          "2021-11-14T00:00:00.000000000",
          "2021-11-15T00:00:00.000000000",
          "2021-11-16T00:00:00.000000000",
          "2021-11-17T00:00:00.000000000",
          "2021-11-18T00:00:00.000000000",
          "2021-11-19T00:00:00.000000000",
          "2021-11-20T00:00:00.000000000",
          "2021-11-21T00:00:00.000000000",
          "2021-11-22T00:00:00.000000000",
          "2021-11-23T00:00:00.000000000",
          "2021-11-24T00:00:00.000000000",
          "2021-11-25T00:00:00.000000000",
          "2021-11-26T00:00:00.000000000",
          "2021-11-27T00:00:00.000000000",
          "2021-11-28T00:00:00.000000000",
          "2021-11-29T00:00:00.000000000",
          "2021-11-30T00:00:00.000000000",
          "2021-12-01T00:00:00.000000000",
          "2021-12-02T00:00:00.000000000",
          "2021-12-03T00:00:00.000000000",
          "2021-12-04T00:00:00.000000000",
          "2021-12-05T00:00:00.000000000",
          "2021-12-06T00:00:00.000000000",
          "2021-12-07T00:00:00.000000000",
          "2021-12-08T00:00:00.000000000",
          "2021-12-09T00:00:00.000000000",
          "2021-12-10T00:00:00.000000000",
          "2021-12-11T00:00:00.000000000",
          "2021-12-12T00:00:00.000000000",
          "2021-12-13T00:00:00.000000000",
          "2021-12-14T00:00:00.000000000",
          "2021-12-15T00:00:00.000000000",
          "2021-12-16T00:00:00.000000000",
          "2021-12-17T00:00:00.000000000",
          "2021-12-18T00:00:00.000000000",
          "2021-12-19T00:00:00.000000000",
          "2021-12-20T00:00:00.000000000",
          "2021-12-21T00:00:00.000000000",
          "2021-12-22T00:00:00.000000000",
          "2021-12-23T00:00:00.000000000",
          "2021-12-24T00:00:00.000000000",
          "2021-12-25T00:00:00.000000000",
          "2021-12-26T00:00:00.000000000",
          "2021-12-27T00:00:00.000000000",
          "2021-12-28T00:00:00.000000000",
          "2021-12-29T00:00:00.000000000",
          "2021-12-30T00:00:00.000000000",
          "2021-12-31T00:00:00.000000000",
          "2022-01-01T00:00:00.000000000",
          "2022-01-02T00:00:00.000000000",
          "2022-01-03T00:00:00.000000000",
          "2022-01-04T00:00:00.000000000",
          "2022-01-05T00:00:00.000000000",
          "2022-01-06T00:00:00.000000000",
          "2022-01-07T00:00:00.000000000",
          "2022-01-08T00:00:00.000000000",
          "2022-01-09T00:00:00.000000000",
          "2022-01-10T00:00:00.000000000",
          "2022-01-11T00:00:00.000000000",
          "2022-01-12T00:00:00.000000000",
          "2022-01-13T00:00:00.000000000",
          "2022-01-14T00:00:00.000000000",
          "2022-01-15T00:00:00.000000000",
          "2022-01-16T00:00:00.000000000",
          "2022-01-17T00:00:00.000000000",
          "2022-01-18T00:00:00.000000000",
          "2022-01-19T00:00:00.000000000",
          "2022-01-20T00:00:00.000000000",
          "2022-01-21T00:00:00.000000000",
          "2022-01-22T00:00:00.000000000",
          "2022-01-23T00:00:00.000000000",
          "2022-01-24T00:00:00.000000000",
          "2022-01-25T00:00:00.000000000",
          "2022-01-26T00:00:00.000000000",
          "2022-01-27T00:00:00.000000000",
          "2022-01-28T00:00:00.000000000",
          "2022-01-29T00:00:00.000000000",
          "2022-01-30T00:00:00.000000000",
          "2022-01-31T00:00:00.000000000",
          "2022-02-01T00:00:00.000000000",
          "2022-02-02T00:00:00.000000000",
          "2022-02-03T00:00:00.000000000",
          "2022-02-04T00:00:00.000000000",
          "2022-02-05T00:00:00.000000000",
          "2022-02-06T00:00:00.000000000",
          "2022-02-07T00:00:00.000000000",
          "2022-02-08T00:00:00.000000000",
          "2022-02-09T00:00:00.000000000",
          "2022-02-10T00:00:00.000000000",
          "2022-02-11T00:00:00.000000000",
          "2022-02-12T00:00:00.000000000",
          "2022-02-13T00:00:00.000000000",
          "2022-02-14T00:00:00.000000000",
          "2022-02-15T00:00:00.000000000",
          "2022-02-16T00:00:00.000000000",
          "2022-02-17T00:00:00.000000000",
          "2022-02-18T00:00:00.000000000",
          "2022-02-19T00:00:00.000000000",
          "2022-02-20T00:00:00.000000000",
          "2022-02-21T00:00:00.000000000",
          "2022-02-22T00:00:00.000000000",
          "2022-02-23T00:00:00.000000000",
          "2022-02-24T00:00:00.000000000",
          "2022-02-25T00:00:00.000000000",
          "2022-02-26T00:00:00.000000000",
          "2022-02-27T00:00:00.000000000",
          "2022-02-28T00:00:00.000000000",
          "2022-03-01T00:00:00.000000000",
          "2022-03-02T00:00:00.000000000",
          "2022-03-03T00:00:00.000000000",
          "2022-03-04T00:00:00.000000000",
          "2022-03-05T00:00:00.000000000",
          "2022-03-06T00:00:00.000000000",
          "2022-03-07T00:00:00.000000000",
          "2022-03-08T00:00:00.000000000",
          "2022-03-09T00:00:00.000000000",
          "2022-03-10T00:00:00.000000000",
          "2022-03-11T00:00:00.000000000",
          "2022-03-12T00:00:00.000000000",
          "2022-03-13T00:00:00.000000000",
          "2022-03-14T00:00:00.000000000",
          "2022-03-15T00:00:00.000000000",
          "2022-03-16T00:00:00.000000000",
          "2022-03-17T00:00:00.000000000",
          "2022-03-18T00:00:00.000000000",
          "2022-03-19T00:00:00.000000000",
          "2022-03-20T00:00:00.000000000",
          "2022-03-21T00:00:00.000000000",
          "2022-03-22T00:00:00.000000000",
          "2022-03-23T00:00:00.000000000",
          "2022-03-24T00:00:00.000000000",
          "2022-03-25T00:00:00.000000000",
          "2022-03-26T00:00:00.000000000",
          "2022-03-27T00:00:00.000000000",
          "2022-03-28T00:00:00.000000000",
          "2022-03-29T00:00:00.000000000",
          "2022-03-30T00:00:00.000000000",
          "2022-03-31T00:00:00.000000000",
          "2022-04-01T00:00:00.000000000",
          "2022-04-02T00:00:00.000000000",
          "2022-04-03T00:00:00.000000000",
          "2022-04-04T00:00:00.000000000",
          "2022-04-05T00:00:00.000000000",
          "2022-04-06T00:00:00.000000000",
          "2022-04-07T00:00:00.000000000",
          "2022-04-08T00:00:00.000000000",
          "2022-04-09T00:00:00.000000000",
          "2022-04-10T00:00:00.000000000",
          "2022-04-11T00:00:00.000000000",
          "2022-04-12T00:00:00.000000000",
          "2022-04-13T00:00:00.000000000",
          "2022-04-14T00:00:00.000000000",
          "2022-04-15T00:00:00.000000000",
          "2022-04-16T00:00:00.000000000",
          "2022-04-17T00:00:00.000000000",
          "2022-04-18T00:00:00.000000000",
          "2022-04-19T00:00:00.000000000",
          "2022-04-20T00:00:00.000000000",
          "2022-04-21T00:00:00.000000000",
          "2022-04-22T00:00:00.000000000",
          "2022-04-23T00:00:00.000000000",
          "2022-04-24T00:00:00.000000000",
          "2022-04-25T00:00:00.000000000",
          "2022-04-26T00:00:00.000000000",
          "2022-04-27T00:00:00.000000000",
          "2022-04-28T00:00:00.000000000",
          "2022-04-29T00:00:00.000000000",
          "2022-04-30T00:00:00.000000000",
          "2022-05-01T00:00:00.000000000"
         ],
         "y": [
          -190.51894518940708,
          -4.953147657872023,
          70.57660954597009,
          -177.69958062277374,
          -106.83811772567628,
          438.05755120183903,
          500.3599170787826,
          488.21943428431325,
          603.9923118668377,
          250.57308402201522,
          330.20272901671024,
          165.56401843053789,
          -296.2488915828535,
          -305.02720483897497,
          -162.62549774464685,
          -363.1640159552661,
          -161.3682338026606,
          -56.73908342959555,
          -103.44083854030168,
          142.90232009082536,
          -93.18811158935318,
          -74.69249508132907,
          7.451614181376044,
          120.63962331232005,
          299.6956352568495,
          211.2358826227918,
          152.43097402003116,
          90.61117623662074,
          182.25535957956959,
          91.73902857046426,
          53.019391915893266,
          133.81286243528461,
          158.69464188173538,
          116.68796838318019,
          230.8288008399486,
          330.3053257412972,
          -25.059223927318612,
          58.704649657995674,
          -25.290206639801113,
          -134.0299325274966,
          -45.30180246704401,
          -24.717790418575703,
          -85.17809695308176,
          -65.2794836316994,
          35.718955379959255,
          82.86474155562917,
          77.1769124621307,
          -76.0063716755252,
          -78.9316452612685,
          -61.23252416074308,
          103.48912166467073,
          33.34393162117476,
          102.50279028528837,
          54.16459070010944,
          109.80107284809276,
          117.96608140373019,
          86.79901995974149,
          233.39723974911033,
          412.180110101144,
          521.3936431250019,
          705.4244590719671,
          752.4947568121238,
          927.1385119584456,
          933.454789284754,
          801.2548101620728,
          1177.938061408134,
          1564.8066176468503,
          1729.0395320848543,
          1138.1275557808524,
          1393.2915059569125,
          1252.894592679604,
          1634.1934439300028,
          1926.1155469126463,
          2423.629764590597,
          2315.130801832511,
          2468.3946325458655,
          2741.9491692874562,
          3142.820470993519,
          3586.8155861612204,
          3661.067221655825,
          3998.414430284668,
          4201.124511229017,
          4238.7194429471765,
          4414.972915398358,
          4400.713599770566,
          4464.049680974891,
          4363.241428790476,
          4531.659478948105,
          4574.024583487569,
          4730.411240284791,
          4600.847830587302,
          4360.3174078932525,
          4660.244151404983,
          4586.651878196561,
          4488.8683662176245,
          4708.27563621183,
          4819.0606751535925,
          5171.957961682751,
          4935.390401980271,
          4955.782093246265,
          4881.287103237593,
          5155.144474559755,
          5018.9708437504005,
          4775.218409687164,
          5459.51502031984,
          5064.662069069882,
          5458.811201844759,
          5220.023357789438,
          5839.501198016378,
          5542.503516183793,
          5915.816930117902,
          5435.545190190087,
          5271.178870043874,
          5303.186476398869,
          5604.916300325579,
          5708.40659993486,
          5761.323962507659,
          5415.27269303444,
          6116.722940361431,
          5950.385927681837,
          6230.365016080183,
          6206.135213362794,
          6515.578379459764,
          6510.662480606403,
          6687.0897108859335,
          6588.430983123991,
          6686.66711930812,
          6580.456781363246,
          6520.508539727867,
          6199.41389969131,
          5669.138724479644,
          5785.232601799725,
          5820.549759145479,
          6128.223573084367,
          6169.084091093125,
          5939.251722556036,
          5823.906816697756,
          6042.763430764948,
          6034.07763549563,
          6051.787899848308,
          6229.755802922649,
          5641.116634609543,
          5449.871416269492,
          5643.086123237907,
          5756.927958432339,
          5253.228214760368,
          5174.592634386369,
          5035.244731583004,
          5444.31510787323,
          5617.020952810109,
          5551.79258001453,
          5629.603594939985,
          5910.706504383417,
          5048.526407449344,
          4521.056835962898,
          4140.764873211367,
          4108.329703451074,
          3897.6686102720923,
          4351.720234956999,
          4307.686377009912,
          4452.721081461127,
          4360.5679219133235,
          4357.651093746407,
          4809.484307130103,
          4728.33754225379,
          5243.33535586327,
          5175.435414395746,
          4753.481809943218,
          4637.390720690244,
          4815.965240095717,
          4436.44320768232,
          4448.904373213786,
          3802.0096958713743,
          3599.3986401402817,
          3944.772678285063,
          3843.1897671129573
         ],
         "type": "scatter"
        },
        {
         "hovertemplate": "%{y:.0f}",
         "legendgroup": "nowcast",
         "line": {
          "color": "#41ACDD",
          "width": 2.5
         },
         "mode": "lines",
         "name": "Nowcast",
         "x": [
          "2021-11-07T00:00:00.000000000",
          "2021-11-08T00:00:00.000000000",
          "2021-11-09T00:00:00.000000000",
          "2021-11-10T00:00:00.000000000",
          "2021-11-11T00:00:00.000000000",
          "2021-11-12T00:00:00.000000000",
          "2021-11-13T00:00:00.000000000",
          "2021-11-14T00:00:00.000000000",
          "2021-11-15T00:00:00.000000000",
          "2021-11-16T00:00:00.000000000",
          "2021-11-17T00:00:00.000000000",
          "2021-11-18T00:00:00.000000000",
          "2021-11-19T00:00:00.000000000",
          "2021-11-20T00:00:00.000000000",
          "2021-11-21T00:00:00.000000000",
          "2021-11-22T00:00:00.000000000",
          "2021-11-23T00:00:00.000000000",
          "2021-11-24T00:00:00.000000000",
          "2021-11-25T00:00:00.000000000",
          "2021-11-26T00:00:00.000000000",
          "2021-11-27T00:00:00.000000000",
          "2021-11-28T00:00:00.000000000",
          "2021-11-29T00:00:00.000000000",
          "2021-11-30T00:00:00.000000000",
          "2021-12-01T00:00:00.000000000",
          "2021-12-02T00:00:00.000000000",
          "2021-12-03T00:00:00.000000000",
          "2021-12-04T00:00:00.000000000",
          "2021-12-05T00:00:00.000000000",
          "2021-12-06T00:00:00.000000000",
          "2021-12-07T00:00:00.000000000",
          "2021-12-08T00:00:00.000000000",
          "2021-12-09T00:00:00.000000000",
          "2021-12-10T00:00:00.000000000",
          "2021-12-11T00:00:00.000000000",
          "2021-12-12T00:00:00.000000000",
          "2021-12-13T00:00:00.000000000",
          "2021-12-14T00:00:00.000000000",
          "2021-12-15T00:00:00.000000000",
          "2021-12-16T00:00:00.000000000",
          "2021-12-17T00:00:00.000000000",
          "2021-12-18T00:00:00.000000000",
          "2021-12-19T00:00:00.000000000",
          "2021-12-20T00:00:00.000000000",
          "2021-12-21T00:00:00.000000000",
          "2021-12-22T00:00:00.000000000",
          "2021-12-23T00:00:00.000000000",
          "2021-12-24T00:00:00.000000000",
          "2021-12-25T00:00:00.000000000",
          "2021-12-26T00:00:00.000000000",
          "2021-12-27T00:00:00.000000000",
          "2021-12-28T00:00:00.000000000",
          "2021-12-29T00:00:00.000000000",
          "2021-12-30T00:00:00.000000000",
          "2021-12-31T00:00:00.000000000",
          "2022-01-01T00:00:00.000000000",
          "2022-01-02T00:00:00.000000000",
          "2022-01-03T00:00:00.000000000",
          "2022-01-04T00:00:00.000000000",
          "2022-01-05T00:00:00.000000000",
          "2022-01-06T00:00:00.000000000",
          "2022-01-07T00:00:00.000000000",
          "2022-01-08T00:00:00.000000000",
          "2022-01-09T00:00:00.000000000",
          "2022-01-10T00:00:00.000000000",
          "2022-01-11T00:00:00.000000000",
          "2022-01-12T00:00:00.000000000",
          "2022-01-13T00:00:00.000000000",
          "2022-01-14T00:00:00.000000000",
          "2022-01-15T00:00:00.000000000",
          "2022-01-16T00:00:00.000000000",
          "2022-01-17T00:00:00.000000000",
          "2022-01-18T00:00:00.000000000",
          "2022-01-19T00:00:00.000000000",
          "2022-01-20T00:00:00.000000000",
          "2022-01-21T00:00:00.000000000",
          "2022-01-22T00:00:00.000000000",
          "2022-01-23T00:00:00.000000000",
          "2022-01-24T00:00:00.000000000",
          "2022-01-25T00:00:00.000000000",
          "2022-01-26T00:00:00.000000000",
          "2022-01-27T00:00:00.000000000",
          "2022-01-28T00:00:00.000000000",
          "2022-01-29T00:00:00.000000000",
          "2022-01-30T00:00:00.000000000",
          "2022-01-31T00:00:00.000000000",
          "2022-02-01T00:00:00.000000000",
          "2022-02-02T00:00:00.000000000",
          "2022-02-03T00:00:00.000000000",
          "2022-02-04T00:00:00.000000000",
          "2022-02-05T00:00:00.000000000",
          "2022-02-06T00:00:00.000000000",
          "2022-02-07T00:00:00.000000000",
          "2022-02-08T00:00:00.000000000",
          "2022-02-09T00:00:00.000000000",
          "2022-02-10T00:00:00.000000000",
          "2022-02-11T00:00:00.000000000",
          "2022-02-12T00:00:00.000000000",
          "2022-02-13T00:00:00.000000000",
          "2022-02-14T00:00:00.000000000",
          "2022-02-15T00:00:00.000000000",
          "2022-02-16T00:00:00.000000000",
          "2022-02-17T00:00:00.000000000",
          "2022-02-18T00:00:00.000000000",
          "2022-02-19T00:00:00.000000000",
          "2022-02-20T00:00:00.000000000",
          "2022-02-21T00:00:00.000000000",
          "2022-02-22T00:00:00.000000000",
          "2022-02-23T00:00:00.000000000",
          "2022-02-24T00:00:00.000000000",
          "2022-02-25T00:00:00.000000000",
          "2022-02-26T00:00:00.000000000",
          "2022-02-27T00:00:00.000000000",
          "2022-02-28T00:00:00.000000000",
          "2022-03-01T00:00:00.000000000",
          "2022-03-02T00:00:00.000000000",
          "2022-03-03T00:00:00.000000000",
          "2022-03-04T00:00:00.000000000",
          "2022-03-05T00:00:00.000000000",
          "2022-03-06T00:00:00.000000000",
          "2022-03-07T00:00:00.000000000",
          "2022-03-08T00:00:00.000000000",
          "2022-03-09T00:00:00.000000000",
          "2022-03-10T00:00:00.000000000",
          "2022-03-11T00:00:00.000000000",
          "2022-03-12T00:00:00.000000000",
          "2022-03-13T00:00:00.000000000",
          "2022-03-14T00:00:00.000000000",
          "2022-03-15T00:00:00.000000000",
          "2022-03-16T00:00:00.000000000",
          "2022-03-17T00:00:00.000000000",
          "2022-03-18T00:00:00.000000000",
          "2022-03-19T00:00:00.000000000",
          "2022-03-20T00:00:00.000000000",
          "2022-03-21T00:00:00.000000000",
          "2022-03-22T00:00:00.000000000",
          "2022-03-23T00:00:00.000000000",
          "2022-03-24T00:00:00.000000000",
          "2022-03-25T00:00:00.000000000",
          "2022-03-26T00:00:00.000000000",
          "2022-03-27T00:00:00.000000000",
          "2022-03-28T00:00:00.000000000",
          "2022-03-29T00:00:00.000000000",
          "2022-03-30T00:00:00.000000000",
          "2022-03-31T00:00:00.000000000",
          "2022-04-01T00:00:00.000000000",
          "2022-04-02T00:00:00.000000000",
          "2022-04-03T00:00:00.000000000",
          "2022-04-04T00:00:00.000000000",
          "2022-04-05T00:00:00.000000000",
          "2022-04-06T00:00:00.000000000",
          "2022-04-07T00:00:00.000000000",
          "2022-04-08T00:00:00.000000000",
          "2022-04-09T00:00:00.000000000",
          "2022-04-10T00:00:00.000000000",
          "2022-04-11T00:00:00.000000000",
          "2022-04-12T00:00:00.000000000",
          "2022-04-13T00:00:00.000000000",
          "2022-04-14T00:00:00.000000000",
          "2022-04-15T00:00:00.000000000",
          "2022-04-16T00:00:00.000000000",
          "2022-04-17T00:00:00.000000000",
          "2022-04-18T00:00:00.000000000",
          "2022-04-19T00:00:00.000000000",
          "2022-04-20T00:00:00.000000000",
          "2022-04-21T00:00:00.000000000",
          "2022-04-22T00:00:00.000000000",
          "2022-04-23T00:00:00.000000000",
          "2022-04-24T00:00:00.000000000",
          "2022-04-25T00:00:00.000000000",
          "2022-04-26T00:00:00.000000000",
          "2022-04-27T00:00:00.000000000",
          "2022-04-28T00:00:00.000000000",
          "2022-04-29T00:00:00.000000000",
          "2022-04-30T00:00:00.000000000"
         ],
         "y": [
          1637.5652550337054,
          1668.7570823931812,
          1751.957954102855,
          1637.0868452246755,
          1439.4865287265006,
          1552.7857108518258,
          1450.0657303816558,
          1307.5668545868343,
          1221.3638917996498,
          1065.5449377980237,
          997.4666593956572,
          926.6381608739255,
          705.8987006078465,
          673.4167069393436,
          622.7644557055883,
          589.2629947629622,
          559.8235228441291,
          598.70636156303,
          869.6903451968144,
          1021.5437752520563,
          1021.1572342819927,
          1139.8635656659385,
          1140.6126916308774,
          1191.8757561761247,
          1154.3625637760413,
          981.7487131321099,
          900.0638064574183,
          918.9317000793468,
          882.7169699959688,
          964.9143713190597,
          866.8794019094927,
          867.9721557390592,
          862.6251712649166,
          823.1650785406075,
          755.1820457863312,
          735.640595903533,
          636.7755548025593,
          675.0534836766793,
          598.6621100240179,
          504.9674430636518,
          483.0879764261739,
          447.4579920766661,
          363.8449158494775,
          316.4341747751922,
          310.7277391632641,
          354.00424370411844,
          410.0499057162166,
          442.3354106458154,
          522.4598359899788,
          581.8569042529366,
          622.1931158840628,
          673.2227122937493,
          681.0720479425438,
          701.2555530756322,
          796.521787058649,
          859.1134985352453,
          924.6693829417785,
          1000.5446304084619,
          1051.7621923600843,
          1252.2254017746193,
          1487.8778893850658,
          1668.0230477715838,
          2126.484531494422,
          2348.2707550897103,
          2565.6101207084894,
          2727.946473276614,
          2838.1922584357985,
          2806.1745691642545,
          2828.044272304527,
          2739.9120505597093,
          3000.699926175376,
          3264.487598002966,
          3636.4058877543284,
          3978.62417158432,
          4281.7419837703,
          4321.428137418201,
          4608.275445215359,
          4848.242227720418,
          5131.655787734985,
          5304.777060507337,
          5439.541654374337,
          5667.066149479995,
          5915.370347695147,
          6011.7658263337125,
          6051.953895866165,
          5943.911352084513,
          6056.118379337882,
          5958.91157383293,
          5878.98296019414,
          5818.2824838994,
          5596.87330798223,
          5759.801152970618,
          5855.246493105833,
          5699.614101726801,
          5854.306341193996,
          6034.48918714027,
          6244.724231931699,
          6466.197732552656,
          6205.2587190686745,
          6279.785701363541,
          6457.5460894082435,
          6426.930388433926,
          6409.729106179866,
          6300.9368576561865,
          6438.047483647104,
          6750.669020283427,
          6839.051180608648,
          6760.05170920124,
          7038.271969600222,
          6842.345007369307,
          7060.956897929085,
          6834.361325891482,
          6845.157404072891,
          6847.468739412672,
          6829.174515298485,
          6940.439981153742,
          7203.884073119736,
          7254.936091610301,
          7487.784271382817,
          7763.053811601853,
          7925.370024603896,
          8285.948717173806,
          8290.85330285239,
          8500.582191939706,
          8607.633485155025,
          8836.872175543947,
          8764.13039242536,
          8628.559766648099,
          8655.775859998965,
          8304.901908560905,
          7931.427177304424,
          7822.046315852474,
          7436.5716638404465,
          7310.784565799875,
          7560.251236907036,
          7381.4846955033045,
          7679.306583586964,
          7765.636813357725,
          7743.05000941636,
          7722.34554507912,
          7619.365146412827,
          7316.689696886247,
          7296.500168475133,
          7301.824869045743,
          7361.150714530444,
          7238.498947598159,
          7284.890081163052,
          7296.004419562285,
          7366.511986209314,
          7403.152988267773,
          7302.6216229263155,
          7132.991514212973,
          6983.473677565542,
          6810.168076016899,
          6551.639667452392,
          6324.341464756518,
          5976.188012029373,
          5721.9752666504555,
          5775.87195077164,
          6027.997146529628,
          6230.799136688712,
          6428.875267291112,
          6430.051836514799,
          6605.984973631674,
          6852.037258111338,
          6877.696726664077,
          6846.965196448122,
          6631.592956945463,
          6308.445980583904,
          6318.711345239373,
          6104.680059830821,
          5824.4827174908805,
          5677.070222130429,
          5553.267075718684,
          5874.469799681748
         ],
         "type": "scatter"
        },
        {
         "hovertemplate": "%{y:.0f}",
         "legendgroup": "nowcast",
         "line": {
          "color": "red",
          "width": 2.5
         },
         "mode": "lines",
         "name": "questionnaire incidence",
         "x": [
          "2021-11-09T00:00:00.000000000",
          "2021-11-10T00:00:00.000000000",
          "2021-11-11T00:00:00.000000000",
          "2021-11-12T00:00:00.000000000",
          "2021-11-13T00:00:00.000000000",
          "2021-11-14T00:00:00.000000000",
          "2021-11-15T00:00:00.000000000",
          "2021-11-16T00:00:00.000000000",
          "2021-11-17T00:00:00.000000000",
          "2021-11-18T00:00:00.000000000",
          "2021-11-19T00:00:00.000000000",
          "2021-11-20T00:00:00.000000000",
          "2021-11-21T00:00:00.000000000",
          "2021-11-22T00:00:00.000000000",
          "2021-11-23T00:00:00.000000000",
          "2021-11-24T00:00:00.000000000",
          "2021-11-25T00:00:00.000000000",
          "2021-11-26T00:00:00.000000000",
          "2021-11-27T00:00:00.000000000",
          "2021-11-28T00:00:00.000000000",
          "2021-11-29T00:00:00.000000000",
          "2021-11-30T00:00:00.000000000",
          "2021-12-01T00:00:00.000000000",
          "2021-12-02T00:00:00.000000000",
          "2021-12-03T00:00:00.000000000",
          "2021-12-04T00:00:00.000000000",
          "2021-12-05T00:00:00.000000000",
          "2021-12-06T00:00:00.000000000",
          "2021-12-07T00:00:00.000000000",
          "2021-12-08T00:00:00.000000000",
          "2021-12-09T00:00:00.000000000",
          "2021-12-10T00:00:00.000000000",
          "2021-12-11T00:00:00.000000000",
          "2021-12-12T00:00:00.000000000",
          "2021-12-13T00:00:00.000000000",
          "2021-12-14T00:00:00.000000000",
          "2021-12-15T00:00:00.000000000",
          "2021-12-16T00:00:00.000000000",
          "2021-12-17T00:00:00.000000000",
          "2021-12-18T00:00:00.000000000",
          "2021-12-19T00:00:00.000000000",
          "2021-12-20T00:00:00.000000000",
          "2021-12-21T00:00:00.000000000",
          "2021-12-22T00:00:00.000000000",
          "2021-12-23T00:00:00.000000000",
          "2021-12-24T00:00:00.000000000",
          "2021-12-25T00:00:00.000000000",
          "2021-12-26T00:00:00.000000000",
          "2021-12-27T00:00:00.000000000",
          "2021-12-28T00:00:00.000000000",
          "2021-12-29T00:00:00.000000000",
          "2021-12-30T00:00:00.000000000",
          "2021-12-31T00:00:00.000000000",
          "2022-01-01T00:00:00.000000000",
          "2022-01-02T00:00:00.000000000",
          "2022-01-03T00:00:00.000000000",
          "2022-01-04T00:00:00.000000000",
          "2022-01-05T00:00:00.000000000",
          "2022-01-06T00:00:00.000000000",
          "2022-01-07T00:00:00.000000000",
          "2022-01-08T00:00:00.000000000",
          "2022-01-09T00:00:00.000000000",
          "2022-01-10T00:00:00.000000000",
          "2022-01-11T00:00:00.000000000",
          "2022-01-12T00:00:00.000000000",
          "2022-01-13T00:00:00.000000000",
          "2022-01-14T00:00:00.000000000",
          "2022-01-15T00:00:00.000000000",
          "2022-01-16T00:00:00.000000000",
          "2022-01-17T00:00:00.000000000",
          "2022-01-18T00:00:00.000000000",
          "2022-01-19T00:00:00.000000000",
          "2022-01-20T00:00:00.000000000",
          "2022-01-21T00:00:00.000000000",
          "2022-01-22T00:00:00.000000000",
          "2022-01-23T00:00:00.000000000",
          "2022-01-24T00:00:00.000000000",
          "2022-01-25T00:00:00.000000000",
          "2022-01-26T00:00:00.000000000",
          "2022-01-27T00:00:00.000000000",
          "2022-01-28T00:00:00.000000000",
          "2022-01-29T00:00:00.000000000",
          "2022-01-30T00:00:00.000000000",
          "2022-01-31T00:00:00.000000000",
          "2022-02-01T00:00:00.000000000",
          "2022-02-02T00:00:00.000000000",
          "2022-02-03T00:00:00.000000000",
          "2022-02-04T00:00:00.000000000",
          "2022-02-05T00:00:00.000000000",
          "2022-02-06T00:00:00.000000000",
          "2022-02-07T00:00:00.000000000",
          "2022-02-08T00:00:00.000000000",
          "2022-02-09T00:00:00.000000000",
          "2022-02-10T00:00:00.000000000",
          "2022-02-11T00:00:00.000000000",
          "2022-02-12T00:00:00.000000000",
          "2022-02-13T00:00:00.000000000",
          "2022-02-14T00:00:00.000000000",
          "2022-02-15T00:00:00.000000000",
          "2022-02-16T00:00:00.000000000",
          "2022-02-17T00:00:00.000000000",
          "2022-02-18T00:00:00.000000000",
          "2022-02-19T00:00:00.000000000",
          "2022-02-20T00:00:00.000000000",
          "2022-02-21T00:00:00.000000000",
          "2022-02-22T00:00:00.000000000",
          "2022-02-23T00:00:00.000000000",
          "2022-02-24T00:00:00.000000000",
          "2022-02-25T00:00:00.000000000",
          "2022-02-26T00:00:00.000000000",
          "2022-02-27T00:00:00.000000000",
          "2022-02-28T00:00:00.000000000",
          "2022-03-01T00:00:00.000000000",
          "2022-03-02T00:00:00.000000000",
          "2022-03-03T00:00:00.000000000",
          "2022-03-04T00:00:00.000000000",
          "2022-03-05T00:00:00.000000000",
          "2022-03-06T00:00:00.000000000",
          "2022-03-07T00:00:00.000000000",
          "2022-03-08T00:00:00.000000000",
          "2022-03-09T00:00:00.000000000",
          "2022-03-10T00:00:00.000000000",
          "2022-03-11T00:00:00.000000000",
          "2022-03-12T00:00:00.000000000",
          "2022-03-13T00:00:00.000000000",
          "2022-03-14T00:00:00.000000000",
          "2022-03-15T00:00:00.000000000",
          "2022-03-16T00:00:00.000000000",
          "2022-03-17T00:00:00.000000000",
          "2022-03-18T00:00:00.000000000",
          "2022-03-19T00:00:00.000000000",
          "2022-03-20T00:00:00.000000000",
          "2022-03-21T00:00:00.000000000",
          "2022-03-22T00:00:00.000000000",
          "2022-03-23T00:00:00.000000000",
          "2022-03-24T00:00:00.000000000",
          "2022-03-25T00:00:00.000000000",
          "2022-03-26T00:00:00.000000000",
          "2022-03-27T00:00:00.000000000",
          "2022-03-28T00:00:00.000000000",
          "2022-03-29T00:00:00.000000000",
          "2022-03-30T00:00:00.000000000",
          "2022-03-31T00:00:00.000000000",
          "2022-04-01T00:00:00.000000000",
          "2022-04-02T00:00:00.000000000",
          "2022-04-03T00:00:00.000000000",
          "2022-04-04T00:00:00.000000000",
          "2022-04-05T00:00:00.000000000",
          "2022-04-06T00:00:00.000000000",
          "2022-04-07T00:00:00.000000000",
          "2022-04-08T00:00:00.000000000",
          "2022-04-09T00:00:00.000000000",
          "2022-04-10T00:00:00.000000000",
          "2022-04-11T00:00:00.000000000",
          "2022-04-12T00:00:00.000000000",
          "2022-04-13T00:00:00.000000000",
          "2022-04-14T00:00:00.000000000",
          "2022-04-15T00:00:00.000000000",
          "2022-04-16T00:00:00.000000000",
          "2022-04-17T00:00:00.000000000",
          "2022-04-18T00:00:00.000000000",
          "2022-04-19T00:00:00.000000000",
          "2022-04-20T00:00:00.000000000",
          "2022-04-21T00:00:00.000000000",
          "2022-04-22T00:00:00.000000000",
          "2022-04-23T00:00:00.000000000",
          "2022-04-24T00:00:00.000000000",
          "2022-04-25T00:00:00.000000000",
          "2022-04-26T00:00:00.000000000",
          "2022-04-27T00:00:00.000000000",
          "2022-04-28T00:00:00.000000000",
          "2022-04-29T00:00:00.000000000",
          "2022-04-30T00:00:00.000000000",
          "2022-05-01T00:00:00.000000000"
         ],
         "y": [
          813.0081300813009,
          406.50406504065046,
          654.1444724792077,
          689.0210527721041,
          698.2756657470951,
          734.8015868993376,
          629.8299316280037,
          605.2610046200523,
          1365.1394240729396,
          1272.7233205669038,
          1262.8643044967077,
          1157.822287689985,
          1026.7606887384777,
          1026.7606887384777,
          1059.9516607940789,
          413.0037890543475,
          504.48158620335784,
          400.96191746629785,
          462.2739959457584,
          462.2739959457584,
          541.2005942093732,
          473.1238729823088,
          409.96933323331365,
          571.3793517861893,
          683.4241697133601,
          670.2121393339478,
          670.2121393339479,
          641.4108543535411,
          584.721511949913,
          534.9455039857517,
          480.5404495806972,
          421.4056845635793,
          373.30563646353124,
          373.30563646353124,
          323.18032318032317,
          414.7554147554148,
          507.519793234079,
          319.58793383247894,
          357.66969165945966,
          441.4568722208338,
          519.7347587178983,
          519.7347587178983,
          467.1916733879278,
          407.6498862713898,
          361.5696334882889,
          318.03866755429266,
          274.95152769295925,
          196.67364119589467,
          241.59727102518488,
          202.56526478006387,
          197.46415823233585,
          227.03878487356053,
          179.57794007052306,
          180.77148965116942,
          285.3011063759081,
          240.37747654661788,
          357.79430629221474,
          359.8751772615677,
          467.7288884097194,
          631.3057695438525,
          589.4121792631655,
          484.8825625384267,
          484.8825625384267,
          367.46573279282995,
          478.7060927092203,
          388.07607523959007,
          377.2875821879628,
          619.4183327932896,
          619.4183327932896,
          619.4183327932896,
          619.4183327932896,
          1027.4261665436977,
          1346.1554024240963,
          1842.71766369224,
          1747.2574909689902,
          2233.579679418838,
          2788.7240169465954,
          3218.618196840775,
          3384.884795973105,
          3514.6605434814114,
          3376.6553719191925,
          3511.9396812551613,
          3638.957641029182,
          4095.8802556228734,
          4609.976006502765,
          4215.888447842158,
          4638.829054135953,
          4750.407164387388,
          4946.517519014112,
          4992.155953986289,
          4301.63241022497,
          3899.734316185593,
          4070.7155637017427,
          3538.451356275435,
          3383.91184317702,
          3153.2182772753554,
          3514.6478573446147,
          3982.1409938349852,
          4011.4777285288615,
          4058.4352364141796,
          4028.074824986731,
          3942.685771110005,
          4488.9648888176935,
          4476.048329789019,
          4353.678451605188,
          4445.889419121779,
          4847.879515356479,
          4827.059580037079,
          5048.186804885642,
          4929.451646780406,
          4556.051799350937,
          4834.763283944774,
          4834.54700904207,
          4667.806969420675,
          4861.721206918447,
          5295.804941071602,
          5333.300254157466,
          5333.457968809079,
          5080.499642621461,
          5099.152922724511,
          5242.131807299836,
          6584.005945227825,
          6412.651560168316,
          7231.969276744772,
          7635.687573655295,
          7734.9194218461735,
          8547.525257694915,
          8925.409034305467,
          8064.65663957113,
          8549.156395915546,
          7857.763865161451,
          7860.141186870813,
          7778.044858923982,
          7849.443456775415,
          8422.193689876704,
          8221.247414463644,
          7771.421721919504,
          8155.575383384091,
          8551.36030086401,
          9414.237207136233,
          9345.852081825113,
          8405.429784476042,
          8628.373352999977,
          8605.067834707988,
          8486.568822199759,
          8105.242758690711,
          7909.298602339644,
          7599.540611516931,
          8124.916936994857,
          7786.472846666534,
          7886.072882635929,
          7617.953904839532,
          7319.21840488073,
          7119.2008978779295,
          7020.851413890052,
          6393.229921081163,
          6823.003513547603,
          6533.256731558398,
          6578.209966073067,
          6452.393622822676,
          6162.262972022209,
          6307.242495532807,
          6580.379762889728,
          6145.433097666758,
          6641.469710810764,
          6661.31343049397,
          7108.572626143033,
          6866.260791752701,
          6584.073842899086,
          6507.937508102244,
          6310.936410942668,
          5553.26563571263,
          5271.714888323373,
          4908.489306119688
         ],
         "type": "scatter"
        },
        {
         "hovertemplate": "%{y:.0f}",
         "marker": {
          "color": "white",
          "line": {
           "color": "red",
           "width": 2.0
          },
          "size": 8
         },
         "mode": "markers",
         "name": "With booster 18-59 years",
         "x": [
          "2021-10-25T00:00:00.000000000",
          "2021-11-01T00:00:00.000000000",
          "2021-11-08T00:00:00.000000000",
          "2021-11-15T00:00:00.000000000",
          "2021-11-22T00:00:00.000000000",
          "2021-11-29T00:00:00.000000000",
          "2021-12-06T00:00:00.000000000",
          "2021-12-13T00:00:00.000000000",
          "2021-12-20T00:00:00.000000000",
          "2021-12-27T00:00:00.000000000",
          "2022-01-03T00:00:00.000000000",
          "2022-01-10T00:00:00.000000000",
          "2022-01-17T00:00:00.000000000",
          "2022-01-24T00:00:00.000000000",
          "2022-01-31T00:00:00.000000000",
          "2022-02-07T00:00:00.000000000",
          "2022-02-14T00:00:00.000000000",
          "2022-02-21T00:00:00.000000000",
          "2022-02-28T00:00:00.000000000",
          "2022-03-07T00:00:00.000000000",
          "2022-03-14T00:00:00.000000000",
          "2022-03-21T00:00:00.000000000"
         ],
         "y": [
          44.69987106323242,
          44.9690055847168,
          59.339778900146484,
          63.65250778198242,
          64.3028335571289,
          49.186248779296875,
          39.174015045166016,
          29.440858840942383,
          28.509872436523438,
          47.3933219909668,
          92.1321029663086,
          96.41244506835938,
          112.92941284179688,
          118.46305084228516,
          122.54711151123047,
          141.0689239501953,
          140.08016967773438,
          135.97560119628906,
          157.38577270507812,
          172.02052307128906,
          155.20498657226562,
          131.6641082763672
         ],
         "type": "scatter"
        },
        {
         "hovertemplate": "%{y:.0f}",
         "marker": {
          "color": "red",
          "size": 9
         },
         "mode": "markers",
         "name": "Vaccinated  18-59 years",
         "x": [
          "2021-10-25T00:00:00.000000000",
          "2021-11-01T00:00:00.000000000",
          "2021-11-08T00:00:00.000000000",
          "2021-11-15T00:00:00.000000000",
          "2021-11-22T00:00:00.000000000",
          "2021-11-29T00:00:00.000000000",
          "2021-12-06T00:00:00.000000000",
          "2021-12-13T00:00:00.000000000",
          "2021-12-20T00:00:00.000000000",
          "2021-12-27T00:00:00.000000000",
          "2022-01-03T00:00:00.000000000",
          "2022-01-10T00:00:00.000000000",
          "2022-01-17T00:00:00.000000000",
          "2022-01-24T00:00:00.000000000",
          "2022-01-31T00:00:00.000000000",
          "2022-02-07T00:00:00.000000000",
          "2022-02-14T00:00:00.000000000",
          "2022-02-21T00:00:00.000000000",
          "2022-02-28T00:00:00.000000000",
          "2022-03-07T00:00:00.000000000",
          "2022-03-14T00:00:00.000000000",
          "2022-03-21T00:00:00.000000000"
         ],
         "y": [
          77.39703369140625,
          95.13253784179688,
          120.78118896484375,
          144.43963623046875,
          143.8603515625,
          129.8462677001953,
          112.61207580566406,
          96.0655288696289,
          79.3442611694336,
          114.44139862060547,
          187.83407592773438,
          190.16102600097656,
          209.570556640625,
          211.75428771972656,
          211.25323486328125,
          227.93902587890625,
          206.24375915527344,
          175.56805419921875,
          176.67901611328125,
          181.1172332763672,
          156.8287811279297,
          122.65164184570312
         ],
         "type": "scatter"
        },
        {
         "hovertemplate": "%{y:.0f}",
         "marker": {
          "color": "#455266",
          "size": 9
         },
         "mode": "markers",
         "name": "Unvaccinated 18-59 years",
         "x": [
          "2021-10-25T00:00:00.000000000",
          "2021-11-01T00:00:00.000000000",
          "2021-11-08T00:00:00.000000000",
          "2021-11-15T00:00:00.000000000",
          "2021-11-22T00:00:00.000000000",
          "2021-11-29T00:00:00.000000000",
          "2021-12-06T00:00:00.000000000",
          "2021-12-13T00:00:00.000000000",
          "2021-12-20T00:00:00.000000000",
          "2021-12-27T00:00:00.000000000",
          "2022-01-03T00:00:00.000000000",
          "2022-01-10T00:00:00.000000000",
          "2022-01-17T00:00:00.000000000",
          "2022-01-24T00:00:00.000000000",
          "2022-01-31T00:00:00.000000000",
          "2022-02-07T00:00:00.000000000",
          "2022-02-14T00:00:00.000000000",
          "2022-02-21T00:00:00.000000000",
          "2022-02-28T00:00:00.000000000",
          "2022-03-07T00:00:00.000000000",
          "2022-03-14T00:00:00.000000000",
          "2022-03-21T00:00:00.000000000"
         ],
         "y": [
          228.24722290039062,
          268.3832702636719,
          329.8192138671875,
          359.59881591796875,
          384.30523681640625,
          349.98968505859375,
          305.02093505859375,
          252.1339569091797,
          170.08798217773438,
          175.22637939453125,
          196.48655700683594,
          187.15966796875,
          225.6997528076172,
          255.2126007080078,
          269.998291015625,
          259.24334716796875,
          225.4832763671875,
          202.1089324951172,
          171.49378967285156,
          169.29322814941406,
          140.27223205566406,
          141.96604919433594
         ],
         "type": "scatter"
        }
       ],
       "layout": {
        "template": {
         "data": {
          "barpolar": [
           {
            "marker": {
             "line": {
              "color": "white",
              "width": 0.5
             },
             "pattern": {
              "fillmode": "overlay",
              "size": 10,
              "solidity": 0.2
             }
            },
            "type": "barpolar"
           }
          ],
          "bar": [
           {
            "error_x": {
             "color": "#2a3f5f"
            },
            "error_y": {
             "color": "#2a3f5f"
            },
            "marker": {
             "line": {
              "color": "white",
              "width": 0.5
             },
             "pattern": {
              "fillmode": "overlay",
              "size": 10,
              "solidity": 0.2
             }
            },
            "type": "bar"
           }
          ],
          "carpet": [
           {
            "aaxis": {
             "endlinecolor": "#2a3f5f",
             "gridcolor": "#C8D4E3",
             "linecolor": "#C8D4E3",
             "minorgridcolor": "#C8D4E3",
             "startlinecolor": "#2a3f5f"
            },
            "baxis": {
             "endlinecolor": "#2a3f5f",
             "gridcolor": "#C8D4E3",
             "linecolor": "#C8D4E3",
             "minorgridcolor": "#C8D4E3",
             "startlinecolor": "#2a3f5f"
            },
            "type": "carpet"
           }
          ],
          "choropleth": [
           {
            "colorbar": {
             "outlinewidth": 0,
             "ticks": ""
            },
            "type": "choropleth"
           }
          ],
          "contourcarpet": [
           {
            "colorbar": {
             "outlinewidth": 0,
             "ticks": ""
            },
            "type": "contourcarpet"
           }
          ],
          "contour": [
           {
            "colorbar": {
             "outlinewidth": 0,
             "ticks": ""
            },
            "colorscale": [
             [
              0.0,
              "#0d0887"
             ],
             [
              0.1111111111111111,
              "#46039f"
             ],
             [
              0.2222222222222222,
              "#7201a8"
             ],
             [
              0.3333333333333333,
              "#9c179e"
             ],
             [
              0.4444444444444444,
              "#bd3786"
             ],
             [
              0.5555555555555556,
              "#d8576b"
             ],
             [
              0.6666666666666666,
              "#ed7953"
             ],
             [
              0.7777777777777778,
              "#fb9f3a"
             ],
             [
              0.8888888888888888,
              "#fdca26"
             ],
             [
              1.0,
              "#f0f921"
             ]
            ],
            "type": "contour"
           }
          ],
          "heatmapgl": [
           {
            "colorbar": {
             "outlinewidth": 0,
             "ticks": ""
            },
            "colorscale": [
             [
              0.0,
              "#0d0887"
             ],
             [
              0.1111111111111111,
              "#46039f"
             ],
             [
              0.2222222222222222,
              "#7201a8"
             ],
             [
              0.3333333333333333,
              "#9c179e"
             ],
             [
              0.4444444444444444,
              "#bd3786"
             ],
             [
              0.5555555555555556,
              "#d8576b"
             ],
             [
              0.6666666666666666,
              "#ed7953"
             ],
             [
              0.7777777777777778,
              "#fb9f3a"
             ],
             [
              0.8888888888888888,
              "#fdca26"
             ],
             [
              1.0,
              "#f0f921"
             ]
            ],
            "type": "heatmapgl"
           }
          ],
          "heatmap": [
           {
            "colorbar": {
             "outlinewidth": 0,
             "ticks": ""
            },
            "colorscale": [
             [
              0.0,
              "#0d0887"
             ],
             [
              0.1111111111111111,
              "#46039f"
             ],
             [
              0.2222222222222222,
              "#7201a8"
             ],
             [
              0.3333333333333333,
              "#9c179e"
             ],
             [
              0.4444444444444444,
              "#bd3786"
             ],
             [
              0.5555555555555556,
              "#d8576b"
             ],
             [
              0.6666666666666666,
              "#ed7953"
             ],
             [
              0.7777777777777778,
              "#fb9f3a"
             ],
             [
              0.8888888888888888,
              "#fdca26"
             ],
             [
              1.0,
              "#f0f921"
             ]
            ],
            "type": "heatmap"
           }
          ],
          "histogram2dcontour": [
           {
            "colorbar": {
             "outlinewidth": 0,
             "ticks": ""
            },
            "colorscale": [
             [
              0.0,
              "#0d0887"
             ],
             [
              0.1111111111111111,
              "#46039f"
             ],
             [
              0.2222222222222222,
              "#7201a8"
             ],
             [
              0.3333333333333333,
              "#9c179e"
             ],
             [
              0.4444444444444444,
              "#bd3786"
             ],
             [
              0.5555555555555556,
              "#d8576b"
             ],
             [
              0.6666666666666666,
              "#ed7953"
             ],
             [
              0.7777777777777778,
              "#fb9f3a"
             ],
             [
              0.8888888888888888,
              "#fdca26"
             ],
             [
              1.0,
              "#f0f921"
             ]
            ],
            "type": "histogram2dcontour"
           }
          ],
          "histogram2d": [
           {
            "colorbar": {
             "outlinewidth": 0,
             "ticks": ""
            },
            "colorscale": [
             [
              0.0,
              "#0d0887"
             ],
             [
              0.1111111111111111,
              "#46039f"
             ],
             [
              0.2222222222222222,
              "#7201a8"
             ],
             [
              0.3333333333333333,
              "#9c179e"
             ],
             [
              0.4444444444444444,
              "#bd3786"
             ],
             [
              0.5555555555555556,
              "#d8576b"
             ],
             [
              0.6666666666666666,
              "#ed7953"
             ],
             [
              0.7777777777777778,
              "#fb9f3a"
             ],
             [
              0.8888888888888888,
              "#fdca26"
             ],
             [
              1.0,
              "#f0f921"
             ]
            ],
            "type": "histogram2d"
           }
          ],
          "histogram": [
           {
            "marker": {
             "pattern": {
              "fillmode": "overlay",
              "size": 10,
              "solidity": 0.2
             }
            },
            "type": "histogram"
           }
          ],
          "mesh3d": [
           {
            "colorbar": {
             "outlinewidth": 0,
             "ticks": ""
            },
            "type": "mesh3d"
           }
          ],
          "parcoords": [
           {
            "line": {
             "colorbar": {
              "outlinewidth": 0,
              "ticks": ""
             }
            },
            "type": "parcoords"
           }
          ],
          "pie": [
           {
            "automargin": true,
            "type": "pie"
           }
          ],
          "scatter3d": [
           {
            "line": {
             "colorbar": {
              "outlinewidth": 0,
              "ticks": ""
             }
            },
            "marker": {
             "colorbar": {
              "outlinewidth": 0,
              "ticks": ""
             }
            },
            "type": "scatter3d"
           }
          ],
          "scattercarpet": [
           {
            "marker": {
             "colorbar": {
              "outlinewidth": 0,
              "ticks": ""
             }
            },
            "type": "scattercarpet"
           }
          ],
          "scattergeo": [
           {
            "marker": {
             "colorbar": {
              "outlinewidth": 0,
              "ticks": ""
             }
            },
            "type": "scattergeo"
           }
          ],
          "scattergl": [
           {
            "marker": {
             "colorbar": {
              "outlinewidth": 0,
              "ticks": ""
             }
            },
            "type": "scattergl"
           }
          ],
          "scattermapbox": [
           {
            "marker": {
             "colorbar": {
              "outlinewidth": 0,
              "ticks": ""
             }
            },
            "type": "scattermapbox"
           }
          ],
          "scatterpolargl": [
           {
            "marker": {
             "colorbar": {
              "outlinewidth": 0,
              "ticks": ""
             }
            },
            "type": "scatterpolargl"
           }
          ],
          "scatterpolar": [
           {
            "marker": {
             "colorbar": {
              "outlinewidth": 0,
              "ticks": ""
             }
            },
            "type": "scatterpolar"
           }
          ],
          "scatter": [
           {
            "fillpattern": {
             "fillmode": "overlay",
             "size": 10,
             "solidity": 0.2
            },
            "type": "scatter"
           }
          ],
          "scatterternary": [
           {
            "marker": {
             "colorbar": {
              "outlinewidth": 0,
              "ticks": ""
             }
            },
            "type": "scatterternary"
           }
          ],
          "surface": [
           {
            "colorbar": {
             "outlinewidth": 0,
             "ticks": ""
            },
            "colorscale": [
             [
              0.0,
              "#0d0887"
             ],
             [
              0.1111111111111111,
              "#46039f"
             ],
             [
              0.2222222222222222,
              "#7201a8"
             ],
             [
              0.3333333333333333,
              "#9c179e"
             ],
             [
              0.4444444444444444,
              "#bd3786"
             ],
             [
              0.5555555555555556,
              "#d8576b"
             ],
             [
              0.6666666666666666,
              "#ed7953"
             ],
             [
              0.7777777777777778,
              "#fb9f3a"
             ],
             [
              0.8888888888888888,
              "#fdca26"
             ],
             [
              1.0,
              "#f0f921"
             ]
            ],
            "type": "surface"
           }
          ],
          "table": [
           {
            "cells": {
             "fill": {
              "color": "#EBF0F8"
             },
             "line": {
              "color": "white"
             }
            },
            "header": {
             "fill": {
              "color": "#C8D4E3"
             },
             "line": {
              "color": "white"
             }
            },
            "type": "table"
           }
          ]
         },
         "layout": {
          "annotationdefaults": {
           "arrowcolor": "#2a3f5f",
           "arrowhead": 0,
           "arrowwidth": 1
          },
          "autotypenumbers": "strict",
          "coloraxis": {
           "colorbar": {
            "outlinewidth": 0,
            "ticks": ""
           }
          },
          "colorscale": {
           "diverging": [
            [
             0,
             "#8e0152"
            ],
            [
             0.1,
             "#c51b7d"
            ],
            [
             0.2,
             "#de77ae"
            ],
            [
             0.3,
             "#f1b6da"
            ],
            [
             0.4,
             "#fde0ef"
            ],
            [
             0.5,
             "#f7f7f7"
            ],
            [
             0.6,
             "#e6f5d0"
            ],
            [
             0.7,
             "#b8e186"
            ],
            [
             0.8,
             "#7fbc41"
            ],
            [
             0.9,
             "#4d9221"
            ],
            [
             1,
             "#276419"
            ]
           ],
           "sequential": [
            [
             0.0,
             "#0d0887"
            ],
            [
             0.1111111111111111,
             "#46039f"
            ],
            [
             0.2222222222222222,
             "#7201a8"
            ],
            [
             0.3333333333333333,
             "#9c179e"
            ],
            [
             0.4444444444444444,
             "#bd3786"
            ],
            [
             0.5555555555555556,
             "#d8576b"
            ],
            [
             0.6666666666666666,
             "#ed7953"
            ],
            [
             0.7777777777777778,
             "#fb9f3a"
            ],
            [
             0.8888888888888888,
             "#fdca26"
            ],
            [
             1.0,
             "#f0f921"
            ]
           ],
           "sequentialminus": [
            [
             0.0,
             "#0d0887"
            ],
            [
             0.1111111111111111,
             "#46039f"
            ],
            [
             0.2222222222222222,
             "#7201a8"
            ],
            [
             0.3333333333333333,
             "#9c179e"
            ],
            [
             0.4444444444444444,
             "#bd3786"
            ],
            [
             0.5555555555555556,
             "#d8576b"
            ],
            [
             0.6666666666666666,
             "#ed7953"
            ],
            [
             0.7777777777777778,
             "#fb9f3a"
            ],
            [
             0.8888888888888888,
             "#fdca26"
            ],
            [
             1.0,
             "#f0f921"
            ]
           ]
          },
          "colorway": [
           "#636efa",
           "#EF553B",
           "#00cc96",
           "#ab63fa",
           "#FFA15A",
           "#19d3f3",
           "#FF6692",
           "#B6E880",
           "#FF97FF",
           "#FECB52"
          ],
          "font": {
           "color": "#2a3f5f"
          },
          "geo": {
           "bgcolor": "white",
           "lakecolor": "white",
           "landcolor": "white",
           "showlakes": true,
           "showland": true,
           "subunitcolor": "#C8D4E3"
          },
          "hoverlabel": {
           "align": "left"
          },
          "hovermode": "closest",
          "mapbox": {
           "style": "light"
          },
          "paper_bgcolor": "white",
          "plot_bgcolor": "white",
          "polar": {
           "angularaxis": {
            "gridcolor": "#EBF0F8",
            "linecolor": "#EBF0F8",
            "ticks": ""
           },
           "bgcolor": "white",
           "radialaxis": {
            "gridcolor": "#EBF0F8",
            "linecolor": "#EBF0F8",
            "ticks": ""
           }
          },
          "scene": {
           "xaxis": {
            "backgroundcolor": "white",
            "gridcolor": "#DFE8F3",
            "gridwidth": 2,
            "linecolor": "#EBF0F8",
            "showbackground": true,
            "ticks": "",
            "zerolinecolor": "#EBF0F8"
           },
           "yaxis": {
            "backgroundcolor": "white",
            "gridcolor": "#DFE8F3",
            "gridwidth": 2,
            "linecolor": "#EBF0F8",
            "showbackground": true,
            "ticks": "",
            "zerolinecolor": "#EBF0F8"
           },
           "zaxis": {
            "backgroundcolor": "white",
            "gridcolor": "#DFE8F3",
            "gridwidth": 2,
            "linecolor": "#EBF0F8",
            "showbackground": true,
            "ticks": "",
            "zerolinecolor": "#EBF0F8"
           }
          },
          "shapedefaults": {
           "line": {
            "color": "#2a3f5f"
           }
          },
          "ternary": {
           "aaxis": {
            "gridcolor": "#DFE8F3",
            "linecolor": "#A2B1C6",
            "ticks": ""
           },
           "baxis": {
            "gridcolor": "#DFE8F3",
            "linecolor": "#A2B1C6",
            "ticks": ""
           },
           "bgcolor": "white",
           "caxis": {
            "gridcolor": "#DFE8F3",
            "linecolor": "#A2B1C6",
            "ticks": ""
           }
          },
          "title": {
           "x": 0.05
          },
          "xaxis": {
           "automargin": true,
           "gridcolor": "#EBF0F8",
           "linecolor": "#EBF0F8",
           "ticks": "",
           "title": {
            "standoff": 15
           },
           "zerolinecolor": "#EBF0F8",
           "zerolinewidth": 2
          },
          "yaxis": {
           "automargin": true,
           "gridcolor": "#EBF0F8",
           "linecolor": "#EBF0F8",
           "ticks": "",
           "title": {
            "standoff": 15
           },
           "zerolinecolor": "#EBF0F8",
           "zerolinewidth": 2
          }
         }
        },
        "title": {
         "y": 0.97,
         "x": 0.5,
         "xanchor": "center",
         "yanchor": "top",
         "text": "Reported Incidence vs. Machine Learning Nowcast"
        },
        "font": {
         "size": 12
        },
        "margin": {
         "l": 60,
         "r": 30,
         "b": 75,
         "t": 80,
         "pad": 0
        },
        "legend": {
         "font": {
          "size": 11
         },
         "x": 0,
         "y": 1,
         "itemclick": "toggleothers",
         "itemdoubleclick": "toggle",
         "tracegroupgap": 2
        },
        "hoverlabel": {
         "font": {
          "color": "black"
         },
         "namelength": -1
        },
        "xaxis": {
         "showline": true,
         "linewidth": 1.5,
         "linecolor": "#455266",
         "ticks": "outside",
         "tickwidth": 1.5,
         "rangemode": "nonnegative"
        },
        "yaxis": {
         "showline": true,
         "linewidth": 1.5,
         "linecolor": "#455266",
         "ticks": "outside",
         "tickwidth": 1.5,
         "rangemode": "nonnegative",
         "title": {
          "text": "Incidence"
         }
        },
        "autosize": true,
        "height": 600,
        "hovermode": "x unified",
        "showlegend": true
       },
       "config": {
        "plotlyServerURL": "https://plot.ly"
       }
      },
      "text/html": "<div>                            <div id=\"45734abd-6ba7-4ead-8dec-87719e571ef0\" class=\"plotly-graph-div\" style=\"height:600px; width:100%;\"></div>            <script type=\"text/javascript\">                require([\"plotly\"], function(Plotly) {                    window.PLOTLYENV=window.PLOTLYENV || {};                                    if (document.getElementById(\"45734abd-6ba7-4ead-8dec-87719e571ef0\")) {                    Plotly.newPlot(                        \"45734abd-6ba7-4ead-8dec-87719e571ef0\",                        [{\"hoverinfo\":\"skip\",\"legendgroup\":\"nowcast\",\"line\":{\"width\":0},\"marker\":{\"color\":\"#444\"},\"mode\":\"lines\",\"showlegend\":false,\"x\":[\"2021-11-07T00:00:00.000000000\",\"2021-11-08T00:00:00.000000000\",\"2021-11-09T00:00:00.000000000\",\"2021-11-10T00:00:00.000000000\",\"2021-11-11T00:00:00.000000000\",\"2021-11-12T00:00:00.000000000\",\"2021-11-13T00:00:00.000000000\",\"2021-11-14T00:00:00.000000000\",\"2021-11-15T00:00:00.000000000\",\"2021-11-16T00:00:00.000000000\",\"2021-11-17T00:00:00.000000000\",\"2021-11-18T00:00:00.000000000\",\"2021-11-19T00:00:00.000000000\",\"2021-11-20T00:00:00.000000000\",\"2021-11-21T00:00:00.000000000\",\"2021-11-22T00:00:00.000000000\",\"2021-11-23T00:00:00.000000000\",\"2021-11-24T00:00:00.000000000\",\"2021-11-25T00:00:00.000000000\",\"2021-11-26T00:00:00.000000000\",\"2021-11-27T00:00:00.000000000\",\"2021-11-28T00:00:00.000000000\",\"2021-11-29T00:00:00.000000000\",\"2021-11-30T00:00:00.000000000\",\"2021-12-01T00:00:00.000000000\",\"2021-12-02T00:00:00.000000000\",\"2021-12-03T00:00:00.000000000\",\"2021-12-04T00:00:00.000000000\",\"2021-12-05T00:00:00.000000000\",\"2021-12-06T00:00:00.000000000\",\"2021-12-07T00:00:00.000000000\",\"2021-12-08T00:00:00.000000000\",\"2021-12-09T00:00:00.000000000\",\"2021-12-10T00:00:00.000000000\",\"2021-12-11T00:00:00.000000000\",\"2021-12-12T00:00:00.000000000\",\"2021-12-13T00:00:00.000000000\",\"2021-12-14T00:00:00.000000000\",\"2021-12-15T00:00:00.000000000\",\"2021-12-16T00:00:00.000000000\",\"2021-12-17T00:00:00.000000000\",\"2021-12-18T00:00:00.000000000\",\"2021-12-19T00:00:00.000000000\",\"2021-12-20T00:00:00.000000000\",\"2021-12-21T00:00:00.000000000\",\"2021-12-22T00:00:00.000000000\",\"2021-12-23T00:00:00.000000000\",\"2021-12-24T00:00:00.000000000\",\"2021-12-25T00:00:00.000000000\",\"2021-12-26T00:00:00.000000000\",\"2021-12-27T00:00:00.000000000\",\"2021-12-28T00:00:00.000000000\",\"2021-12-29T00:00:00.000000000\",\"2021-12-30T00:00:00.000000000\",\"2021-12-31T00:00:00.000000000\",\"2022-01-01T00:00:00.000000000\",\"2022-01-02T00:00:00.000000000\",\"2022-01-03T00:00:00.000000000\",\"2022-01-04T00:00:00.000000000\",\"2022-01-05T00:00:00.000000000\",\"2022-01-06T00:00:00.000000000\",\"2022-01-07T00:00:00.000000000\",\"2022-01-08T00:00:00.000000000\",\"2022-01-09T00:00:00.000000000\",\"2022-01-10T00:00:00.000000000\",\"2022-01-11T00:00:00.000000000\",\"2022-01-12T00:00:00.000000000\",\"2022-01-13T00:00:00.000000000\",\"2022-01-14T00:00:00.000000000\",\"2022-01-15T00:00:00.000000000\",\"2022-01-16T00:00:00.000000000\",\"2022-01-17T00:00:00.000000000\",\"2022-01-18T00:00:00.000000000\",\"2022-01-19T00:00:00.000000000\",\"2022-01-20T00:00:00.000000000\",\"2022-01-21T00:00:00.000000000\",\"2022-01-22T00:00:00.000000000\",\"2022-01-23T00:00:00.000000000\",\"2022-01-24T00:00:00.000000000\",\"2022-01-25T00:00:00.000000000\",\"2022-01-26T00:00:00.000000000\",\"2022-01-27T00:00:00.000000000\",\"2022-01-28T00:00:00.000000000\",\"2022-01-29T00:00:00.000000000\",\"2022-01-30T00:00:00.000000000\",\"2022-01-31T00:00:00.000000000\",\"2022-02-01T00:00:00.000000000\",\"2022-02-02T00:00:00.000000000\",\"2022-02-03T00:00:00.000000000\",\"2022-02-04T00:00:00.000000000\",\"2022-02-05T00:00:00.000000000\",\"2022-02-06T00:00:00.000000000\",\"2022-02-07T00:00:00.000000000\",\"2022-02-08T00:00:00.000000000\",\"2022-02-09T00:00:00.000000000\",\"2022-02-10T00:00:00.000000000\",\"2022-02-11T00:00:00.000000000\",\"2022-02-12T00:00:00.000000000\",\"2022-02-13T00:00:00.000000000\",\"2022-02-14T00:00:00.000000000\",\"2022-02-15T00:00:00.000000000\",\"2022-02-16T00:00:00.000000000\",\"2022-02-17T00:00:00.000000000\",\"2022-02-18T00:00:00.000000000\",\"2022-02-19T00:00:00.000000000\",\"2022-02-20T00:00:00.000000000\",\"2022-02-21T00:00:00.000000000\",\"2022-02-22T00:00:00.000000000\",\"2022-02-23T00:00:00.000000000\",\"2022-02-24T00:00:00.000000000\",\"2022-02-25T00:00:00.000000000\",\"2022-02-26T00:00:00.000000000\",\"2022-02-27T00:00:00.000000000\",\"2022-02-28T00:00:00.000000000\",\"2022-03-01T00:00:00.000000000\",\"2022-03-02T00:00:00.000000000\",\"2022-03-03T00:00:00.000000000\",\"2022-03-04T00:00:00.000000000\",\"2022-03-05T00:00:00.000000000\",\"2022-03-06T00:00:00.000000000\",\"2022-03-07T00:00:00.000000000\",\"2022-03-08T00:00:00.000000000\",\"2022-03-09T00:00:00.000000000\",\"2022-03-10T00:00:00.000000000\",\"2022-03-11T00:00:00.000000000\",\"2022-03-12T00:00:00.000000000\",\"2022-03-13T00:00:00.000000000\",\"2022-03-14T00:00:00.000000000\",\"2022-03-15T00:00:00.000000000\",\"2022-03-16T00:00:00.000000000\",\"2022-03-17T00:00:00.000000000\",\"2022-03-18T00:00:00.000000000\",\"2022-03-19T00:00:00.000000000\",\"2022-03-20T00:00:00.000000000\",\"2022-03-21T00:00:00.000000000\",\"2022-03-22T00:00:00.000000000\",\"2022-03-23T00:00:00.000000000\",\"2022-03-24T00:00:00.000000000\",\"2022-03-25T00:00:00.000000000\",\"2022-03-26T00:00:00.000000000\",\"2022-03-27T00:00:00.000000000\",\"2022-03-28T00:00:00.000000000\",\"2022-03-29T00:00:00.000000000\",\"2022-03-30T00:00:00.000000000\",\"2022-03-31T00:00:00.000000000\",\"2022-04-01T00:00:00.000000000\",\"2022-04-02T00:00:00.000000000\",\"2022-04-03T00:00:00.000000000\",\"2022-04-04T00:00:00.000000000\",\"2022-04-05T00:00:00.000000000\",\"2022-04-06T00:00:00.000000000\",\"2022-04-07T00:00:00.000000000\",\"2022-04-08T00:00:00.000000000\",\"2022-04-09T00:00:00.000000000\",\"2022-04-10T00:00:00.000000000\",\"2022-04-11T00:00:00.000000000\",\"2022-04-12T00:00:00.000000000\",\"2022-04-13T00:00:00.000000000\",\"2022-04-14T00:00:00.000000000\",\"2022-04-15T00:00:00.000000000\",\"2022-04-16T00:00:00.000000000\",\"2022-04-17T00:00:00.000000000\",\"2022-04-18T00:00:00.000000000\",\"2022-04-19T00:00:00.000000000\",\"2022-04-20T00:00:00.000000000\",\"2022-04-21T00:00:00.000000000\",\"2022-04-22T00:00:00.000000000\",\"2022-04-23T00:00:00.000000000\",\"2022-04-24T00:00:00.000000000\",\"2022-04-25T00:00:00.000000000\",\"2022-04-26T00:00:00.000000000\",\"2022-04-27T00:00:00.000000000\",\"2022-04-28T00:00:00.000000000\",\"2022-04-29T00:00:00.000000000\",\"2022-04-30T00:00:00.000000000\",\"2022-05-01T00:00:00.000000000\"],\"y\":[3465.649455256818,3342.4673124442343,3433.33929865974,3451.8732710721247,2985.8111751786773,2667.5138705018126,2399.771543684529,2126.9142748893555,1838.735471732462,1880.5167915740321,1664.7305897746041,1687.712303317313,1708.0462927985466,1651.8606187176622,1408.1544091558235,1541.6900054811904,1281.0152794909188,1254.1518065556556,1842.8215289339305,1900.1852304132872,2135.5025801533384,2354.419626413206,2273.7737690803788,2263.1118890399293,2009.029492295233,1752.261543641428,1647.6966388948053,1747.252223922073,1583.178580412368,1838.0897140676552,1680.739411903092,1602.1314490428338,1566.5557006480979,1529.6421886980347,1279.5352907327137,1140.975866065769,1298.6103335324374,1291.4023176953629,1222.6144266878368,1143.9648186548002,1011.4777553193918,919.6337745719079,812.8679286520368,698.1478331820838,585.736522946569,625.1437458526077,742.9228989703024,960.677192967156,1123.8513172412263,1224.9463326666164,1140.897110103455,1313.1014929663238,1259.6413055997991,1348.346515451155,1483.2425012692051,1600.2609156667604,1762.5397459238156,1767.6920210678136,1691.3442746190246,1983.0571604242368,2270.3313196981644,2583.551338731044,3325.830551030398,3763.0867208946665,4329.965431254906,4277.9548851450945,4111.577899224747,3883.309606243655,4517.960988828202,4086.5325951625064,4748.5052596711475,4894.781752075929,5346.696228596011,5533.618578578043,6248.353165708089,6174.4616422905365,6474.601721143261,6553.663984447317,6676.49598930875,6948.48689935885,6880.6688784640055,7133.007787730973,7592.021252443117,7608.558737269067,7703.194191961764,7423.773023194135,7748.995329885289,7386.163668717755,7183.941336900712,6906.153727514009,6592.898785377157,7159.284898047984,7050.248834806683,6812.576325257041,7219.744316170367,7360.70273806871,7670.387788709806,7760.43750342256,7475.127036157078,7603.789309480818,8033.805075578894,7698.7163023080975,7800.4873686093315,7826.655305625209,7416.579946974368,8436.675971496972,8219.291159372537,8300.080060613041,8237.042741184066,8142.18649855482,8206.096865740268,8233.177461592877,8419.135938101908,8391.751002426476,8053.432730271391,8172.473362372624,8646.444183731812,9094.599490186163,8858.845602404203,9575.72169552187,9620.37503312761,10365.762220984816,10066.128226245017,10490.501903273009,10528.177259424117,11085.313367963903,10841.593665542601,10676.662751932952,10791.043180270062,10410.3899174305,10193.715630129203,9858.860029905223,9052.593568535414,8493.345558515382,8951.418382720949,8823.717668450572,9534.706350476172,9488.510195950503,9452.022383337091,9392.903190309931,9008.974489903005,8992.26275916295,9143.128920680774,8960.56361485358,8965.373470628549,9223.769680435951,9395.187527939735,9556.764107541567,9288.708864545399,9189.285023725439,9053.4506658381,8636.379433485961,8056.240850747667,8571.809744584454,8582.222498941886,8507.918056301669,7844.046320607671,7546.281923028819,7200.02366658628,7748.3079160493435,8008.877191916296,8497.182612668901,8502.452579283192,8402.485640133245,8975.736973968886,8512.058097464884,8518.494978500497,8509.704103947708,7979.501240477564,7821.45745038303,7772.916911979322,7200.061061767975,7552.130748389483,7507.135511297087,7804.166921078432,8509.618350856497],\"type\":\"scatter\"},{\"fill\":\"tonexty\",\"fillcolor\":\"rgba(65, 172, 221, 0.3)\",\"hoverinfo\":\"skip\",\"legendgroup\":\"nowcast\",\"line\":{\"width\":0},\"marker\":{\"color\":\"#444\"},\"mode\":\"lines\",\"name\":\"Confidence interval\",\"showlegend\":false,\"x\":[\"2021-11-07T00:00:00.000000000\",\"2021-11-08T00:00:00.000000000\",\"2021-11-09T00:00:00.000000000\",\"2021-11-10T00:00:00.000000000\",\"2021-11-11T00:00:00.000000000\",\"2021-11-12T00:00:00.000000000\",\"2021-11-13T00:00:00.000000000\",\"2021-11-14T00:00:00.000000000\",\"2021-11-15T00:00:00.000000000\",\"2021-11-16T00:00:00.000000000\",\"2021-11-17T00:00:00.000000000\",\"2021-11-18T00:00:00.000000000\",\"2021-11-19T00:00:00.000000000\",\"2021-11-20T00:00:00.000000000\",\"2021-11-21T00:00:00.000000000\",\"2021-11-22T00:00:00.000000000\",\"2021-11-23T00:00:00.000000000\",\"2021-11-24T00:00:00.000000000\",\"2021-11-25T00:00:00.000000000\",\"2021-11-26T00:00:00.000000000\",\"2021-11-27T00:00:00.000000000\",\"2021-11-28T00:00:00.000000000\",\"2021-11-29T00:00:00.000000000\",\"2021-11-30T00:00:00.000000000\",\"2021-12-01T00:00:00.000000000\",\"2021-12-02T00:00:00.000000000\",\"2021-12-03T00:00:00.000000000\",\"2021-12-04T00:00:00.000000000\",\"2021-12-05T00:00:00.000000000\",\"2021-12-06T00:00:00.000000000\",\"2021-12-07T00:00:00.000000000\",\"2021-12-08T00:00:00.000000000\",\"2021-12-09T00:00:00.000000000\",\"2021-12-10T00:00:00.000000000\",\"2021-12-11T00:00:00.000000000\",\"2021-12-12T00:00:00.000000000\",\"2021-12-13T00:00:00.000000000\",\"2021-12-14T00:00:00.000000000\",\"2021-12-15T00:00:00.000000000\",\"2021-12-16T00:00:00.000000000\",\"2021-12-17T00:00:00.000000000\",\"2021-12-18T00:00:00.000000000\",\"2021-12-19T00:00:00.000000000\",\"2021-12-20T00:00:00.000000000\",\"2021-12-21T00:00:00.000000000\",\"2021-12-22T00:00:00.000000000\",\"2021-12-23T00:00:00.000000000\",\"2021-12-24T00:00:00.000000000\",\"2021-12-25T00:00:00.000000000\",\"2021-12-26T00:00:00.000000000\",\"2021-12-27T00:00:00.000000000\",\"2021-12-28T00:00:00.000000000\",\"2021-12-29T00:00:00.000000000\",\"2021-12-30T00:00:00.000000000\",\"2021-12-31T00:00:00.000000000\",\"2022-01-01T00:00:00.000000000\",\"2022-01-02T00:00:00.000000000\",\"2022-01-03T00:00:00.000000000\",\"2022-01-04T00:00:00.000000000\",\"2022-01-05T00:00:00.000000000\",\"2022-01-06T00:00:00.000000000\",\"2022-01-07T00:00:00.000000000\",\"2022-01-08T00:00:00.000000000\",\"2022-01-09T00:00:00.000000000\",\"2022-01-10T00:00:00.000000000\",\"2022-01-11T00:00:00.000000000\",\"2022-01-12T00:00:00.000000000\",\"2022-01-13T00:00:00.000000000\",\"2022-01-14T00:00:00.000000000\",\"2022-01-15T00:00:00.000000000\",\"2022-01-16T00:00:00.000000000\",\"2022-01-17T00:00:00.000000000\",\"2022-01-18T00:00:00.000000000\",\"2022-01-19T00:00:00.000000000\",\"2022-01-20T00:00:00.000000000\",\"2022-01-21T00:00:00.000000000\",\"2022-01-22T00:00:00.000000000\",\"2022-01-23T00:00:00.000000000\",\"2022-01-24T00:00:00.000000000\",\"2022-01-25T00:00:00.000000000\",\"2022-01-26T00:00:00.000000000\",\"2022-01-27T00:00:00.000000000\",\"2022-01-28T00:00:00.000000000\",\"2022-01-29T00:00:00.000000000\",\"2022-01-30T00:00:00.000000000\",\"2022-01-31T00:00:00.000000000\",\"2022-02-01T00:00:00.000000000\",\"2022-02-02T00:00:00.000000000\",\"2022-02-03T00:00:00.000000000\",\"2022-02-04T00:00:00.000000000\",\"2022-02-05T00:00:00.000000000\",\"2022-02-06T00:00:00.000000000\",\"2022-02-07T00:00:00.000000000\",\"2022-02-08T00:00:00.000000000\",\"2022-02-09T00:00:00.000000000\",\"2022-02-10T00:00:00.000000000\",\"2022-02-11T00:00:00.000000000\",\"2022-02-12T00:00:00.000000000\",\"2022-02-13T00:00:00.000000000\",\"2022-02-14T00:00:00.000000000\",\"2022-02-15T00:00:00.000000000\",\"2022-02-16T00:00:00.000000000\",\"2022-02-17T00:00:00.000000000\",\"2022-02-18T00:00:00.000000000\",\"2022-02-19T00:00:00.000000000\",\"2022-02-20T00:00:00.000000000\",\"2022-02-21T00:00:00.000000000\",\"2022-02-22T00:00:00.000000000\",\"2022-02-23T00:00:00.000000000\",\"2022-02-24T00:00:00.000000000\",\"2022-02-25T00:00:00.000000000\",\"2022-02-26T00:00:00.000000000\",\"2022-02-27T00:00:00.000000000\",\"2022-02-28T00:00:00.000000000\",\"2022-03-01T00:00:00.000000000\",\"2022-03-02T00:00:00.000000000\",\"2022-03-03T00:00:00.000000000\",\"2022-03-04T00:00:00.000000000\",\"2022-03-05T00:00:00.000000000\",\"2022-03-06T00:00:00.000000000\",\"2022-03-07T00:00:00.000000000\",\"2022-03-08T00:00:00.000000000\",\"2022-03-09T00:00:00.000000000\",\"2022-03-10T00:00:00.000000000\",\"2022-03-11T00:00:00.000000000\",\"2022-03-12T00:00:00.000000000\",\"2022-03-13T00:00:00.000000000\",\"2022-03-14T00:00:00.000000000\",\"2022-03-15T00:00:00.000000000\",\"2022-03-16T00:00:00.000000000\",\"2022-03-17T00:00:00.000000000\",\"2022-03-18T00:00:00.000000000\",\"2022-03-19T00:00:00.000000000\",\"2022-03-20T00:00:00.000000000\",\"2022-03-21T00:00:00.000000000\",\"2022-03-22T00:00:00.000000000\",\"2022-03-23T00:00:00.000000000\",\"2022-03-24T00:00:00.000000000\",\"2022-03-25T00:00:00.000000000\",\"2022-03-26T00:00:00.000000000\",\"2022-03-27T00:00:00.000000000\",\"2022-03-28T00:00:00.000000000\",\"2022-03-29T00:00:00.000000000\",\"2022-03-30T00:00:00.000000000\",\"2022-03-31T00:00:00.000000000\",\"2022-04-01T00:00:00.000000000\",\"2022-04-02T00:00:00.000000000\",\"2022-04-03T00:00:00.000000000\",\"2022-04-04T00:00:00.000000000\",\"2022-04-05T00:00:00.000000000\",\"2022-04-06T00:00:00.000000000\",\"2022-04-07T00:00:00.000000000\",\"2022-04-08T00:00:00.000000000\",\"2022-04-09T00:00:00.000000000\",\"2022-04-10T00:00:00.000000000\",\"2022-04-11T00:00:00.000000000\",\"2022-04-12T00:00:00.000000000\",\"2022-04-13T00:00:00.000000000\",\"2022-04-14T00:00:00.000000000\",\"2022-04-15T00:00:00.000000000\",\"2022-04-16T00:00:00.000000000\",\"2022-04-17T00:00:00.000000000\",\"2022-04-18T00:00:00.000000000\",\"2022-04-19T00:00:00.000000000\",\"2022-04-20T00:00:00.000000000\",\"2022-04-21T00:00:00.000000000\",\"2022-04-22T00:00:00.000000000\",\"2022-04-23T00:00:00.000000000\",\"2022-04-24T00:00:00.000000000\",\"2022-04-25T00:00:00.000000000\",\"2022-04-26T00:00:00.000000000\",\"2022-04-27T00:00:00.000000000\",\"2022-04-28T00:00:00.000000000\",\"2022-04-29T00:00:00.000000000\",\"2022-04-30T00:00:00.000000000\",\"2022-05-01T00:00:00.000000000\"],\"y\":[-190.51894518940708,-4.953147657872023,70.57660954597009,-177.69958062277374,-106.83811772567628,438.05755120183903,500.3599170787826,488.21943428431325,603.9923118668377,250.57308402201522,330.20272901671024,165.56401843053789,-296.2488915828535,-305.02720483897497,-162.62549774464685,-363.1640159552661,-161.3682338026606,-56.73908342959555,-103.44083854030168,142.90232009082536,-93.18811158935318,-74.69249508132907,7.451614181376044,120.63962331232005,299.6956352568495,211.2358826227918,152.43097402003116,90.61117623662074,182.25535957956959,91.73902857046426,53.019391915893266,133.81286243528461,158.69464188173538,116.68796838318019,230.8288008399486,330.3053257412972,-25.059223927318612,58.704649657995674,-25.290206639801113,-134.0299325274966,-45.30180246704401,-24.717790418575703,-85.17809695308176,-65.2794836316994,35.718955379959255,82.86474155562917,77.1769124621307,-76.0063716755252,-78.9316452612685,-61.23252416074308,103.48912166467073,33.34393162117476,102.50279028528837,54.16459070010944,109.80107284809276,117.96608140373019,86.79901995974149,233.39723974911033,412.180110101144,521.3936431250019,705.4244590719671,752.4947568121238,927.1385119584456,933.454789284754,801.2548101620728,1177.938061408134,1564.8066176468503,1729.0395320848543,1138.1275557808524,1393.2915059569125,1252.894592679604,1634.1934439300028,1926.1155469126463,2423.629764590597,2315.130801832511,2468.3946325458655,2741.9491692874562,3142.820470993519,3586.8155861612204,3661.067221655825,3998.414430284668,4201.124511229017,4238.7194429471765,4414.972915398358,4400.713599770566,4464.049680974891,4363.241428790476,4531.659478948105,4574.024583487569,4730.411240284791,4600.847830587302,4360.3174078932525,4660.244151404983,4586.651878196561,4488.8683662176245,4708.27563621183,4819.0606751535925,5171.957961682751,4935.390401980271,4955.782093246265,4881.287103237593,5155.144474559755,5018.9708437504005,4775.218409687164,5459.51502031984,5064.662069069882,5458.811201844759,5220.023357789438,5839.501198016378,5542.503516183793,5915.816930117902,5435.545190190087,5271.178870043874,5303.186476398869,5604.916300325579,5708.40659993486,5761.323962507659,5415.27269303444,6116.722940361431,5950.385927681837,6230.365016080183,6206.135213362794,6515.578379459764,6510.662480606403,6687.0897108859335,6588.430983123991,6686.66711930812,6580.456781363246,6520.508539727867,6199.41389969131,5669.138724479644,5785.232601799725,5820.549759145479,6128.223573084367,6169.084091093125,5939.251722556036,5823.906816697756,6042.763430764948,6034.07763549563,6051.787899848308,6229.755802922649,5641.116634609543,5449.871416269492,5643.086123237907,5756.927958432339,5253.228214760368,5174.592634386369,5035.244731583004,5444.31510787323,5617.020952810109,5551.79258001453,5629.603594939985,5910.706504383417,5048.526407449344,4521.056835962898,4140.764873211367,4108.329703451074,3897.6686102720923,4351.720234956999,4307.686377009912,4452.721081461127,4360.5679219133235,4357.651093746407,4809.484307130103,4728.33754225379,5243.33535586327,5175.435414395746,4753.481809943218,4637.390720690244,4815.965240095717,4436.44320768232,4448.904373213786,3802.0096958713743,3599.3986401402817,3944.772678285063,3843.1897671129573],\"type\":\"scatter\"},{\"hovertemplate\":\"%{y:.0f}\",\"legendgroup\":\"nowcast\",\"line\":{\"color\":\"#41ACDD\",\"width\":2.5},\"mode\":\"lines\",\"name\":\"Nowcast\",\"x\":[\"2021-11-07T00:00:00.000000000\",\"2021-11-08T00:00:00.000000000\",\"2021-11-09T00:00:00.000000000\",\"2021-11-10T00:00:00.000000000\",\"2021-11-11T00:00:00.000000000\",\"2021-11-12T00:00:00.000000000\",\"2021-11-13T00:00:00.000000000\",\"2021-11-14T00:00:00.000000000\",\"2021-11-15T00:00:00.000000000\",\"2021-11-16T00:00:00.000000000\",\"2021-11-17T00:00:00.000000000\",\"2021-11-18T00:00:00.000000000\",\"2021-11-19T00:00:00.000000000\",\"2021-11-20T00:00:00.000000000\",\"2021-11-21T00:00:00.000000000\",\"2021-11-22T00:00:00.000000000\",\"2021-11-23T00:00:00.000000000\",\"2021-11-24T00:00:00.000000000\",\"2021-11-25T00:00:00.000000000\",\"2021-11-26T00:00:00.000000000\",\"2021-11-27T00:00:00.000000000\",\"2021-11-28T00:00:00.000000000\",\"2021-11-29T00:00:00.000000000\",\"2021-11-30T00:00:00.000000000\",\"2021-12-01T00:00:00.000000000\",\"2021-12-02T00:00:00.000000000\",\"2021-12-03T00:00:00.000000000\",\"2021-12-04T00:00:00.000000000\",\"2021-12-05T00:00:00.000000000\",\"2021-12-06T00:00:00.000000000\",\"2021-12-07T00:00:00.000000000\",\"2021-12-08T00:00:00.000000000\",\"2021-12-09T00:00:00.000000000\",\"2021-12-10T00:00:00.000000000\",\"2021-12-11T00:00:00.000000000\",\"2021-12-12T00:00:00.000000000\",\"2021-12-13T00:00:00.000000000\",\"2021-12-14T00:00:00.000000000\",\"2021-12-15T00:00:00.000000000\",\"2021-12-16T00:00:00.000000000\",\"2021-12-17T00:00:00.000000000\",\"2021-12-18T00:00:00.000000000\",\"2021-12-19T00:00:00.000000000\",\"2021-12-20T00:00:00.000000000\",\"2021-12-21T00:00:00.000000000\",\"2021-12-22T00:00:00.000000000\",\"2021-12-23T00:00:00.000000000\",\"2021-12-24T00:00:00.000000000\",\"2021-12-25T00:00:00.000000000\",\"2021-12-26T00:00:00.000000000\",\"2021-12-27T00:00:00.000000000\",\"2021-12-28T00:00:00.000000000\",\"2021-12-29T00:00:00.000000000\",\"2021-12-30T00:00:00.000000000\",\"2021-12-31T00:00:00.000000000\",\"2022-01-01T00:00:00.000000000\",\"2022-01-02T00:00:00.000000000\",\"2022-01-03T00:00:00.000000000\",\"2022-01-04T00:00:00.000000000\",\"2022-01-05T00:00:00.000000000\",\"2022-01-06T00:00:00.000000000\",\"2022-01-07T00:00:00.000000000\",\"2022-01-08T00:00:00.000000000\",\"2022-01-09T00:00:00.000000000\",\"2022-01-10T00:00:00.000000000\",\"2022-01-11T00:00:00.000000000\",\"2022-01-12T00:00:00.000000000\",\"2022-01-13T00:00:00.000000000\",\"2022-01-14T00:00:00.000000000\",\"2022-01-15T00:00:00.000000000\",\"2022-01-16T00:00:00.000000000\",\"2022-01-17T00:00:00.000000000\",\"2022-01-18T00:00:00.000000000\",\"2022-01-19T00:00:00.000000000\",\"2022-01-20T00:00:00.000000000\",\"2022-01-21T00:00:00.000000000\",\"2022-01-22T00:00:00.000000000\",\"2022-01-23T00:00:00.000000000\",\"2022-01-24T00:00:00.000000000\",\"2022-01-25T00:00:00.000000000\",\"2022-01-26T00:00:00.000000000\",\"2022-01-27T00:00:00.000000000\",\"2022-01-28T00:00:00.000000000\",\"2022-01-29T00:00:00.000000000\",\"2022-01-30T00:00:00.000000000\",\"2022-01-31T00:00:00.000000000\",\"2022-02-01T00:00:00.000000000\",\"2022-02-02T00:00:00.000000000\",\"2022-02-03T00:00:00.000000000\",\"2022-02-04T00:00:00.000000000\",\"2022-02-05T00:00:00.000000000\",\"2022-02-06T00:00:00.000000000\",\"2022-02-07T00:00:00.000000000\",\"2022-02-08T00:00:00.000000000\",\"2022-02-09T00:00:00.000000000\",\"2022-02-10T00:00:00.000000000\",\"2022-02-11T00:00:00.000000000\",\"2022-02-12T00:00:00.000000000\",\"2022-02-13T00:00:00.000000000\",\"2022-02-14T00:00:00.000000000\",\"2022-02-15T00:00:00.000000000\",\"2022-02-16T00:00:00.000000000\",\"2022-02-17T00:00:00.000000000\",\"2022-02-18T00:00:00.000000000\",\"2022-02-19T00:00:00.000000000\",\"2022-02-20T00:00:00.000000000\",\"2022-02-21T00:00:00.000000000\",\"2022-02-22T00:00:00.000000000\",\"2022-02-23T00:00:00.000000000\",\"2022-02-24T00:00:00.000000000\",\"2022-02-25T00:00:00.000000000\",\"2022-02-26T00:00:00.000000000\",\"2022-02-27T00:00:00.000000000\",\"2022-02-28T00:00:00.000000000\",\"2022-03-01T00:00:00.000000000\",\"2022-03-02T00:00:00.000000000\",\"2022-03-03T00:00:00.000000000\",\"2022-03-04T00:00:00.000000000\",\"2022-03-05T00:00:00.000000000\",\"2022-03-06T00:00:00.000000000\",\"2022-03-07T00:00:00.000000000\",\"2022-03-08T00:00:00.000000000\",\"2022-03-09T00:00:00.000000000\",\"2022-03-10T00:00:00.000000000\",\"2022-03-11T00:00:00.000000000\",\"2022-03-12T00:00:00.000000000\",\"2022-03-13T00:00:00.000000000\",\"2022-03-14T00:00:00.000000000\",\"2022-03-15T00:00:00.000000000\",\"2022-03-16T00:00:00.000000000\",\"2022-03-17T00:00:00.000000000\",\"2022-03-18T00:00:00.000000000\",\"2022-03-19T00:00:00.000000000\",\"2022-03-20T00:00:00.000000000\",\"2022-03-21T00:00:00.000000000\",\"2022-03-22T00:00:00.000000000\",\"2022-03-23T00:00:00.000000000\",\"2022-03-24T00:00:00.000000000\",\"2022-03-25T00:00:00.000000000\",\"2022-03-26T00:00:00.000000000\",\"2022-03-27T00:00:00.000000000\",\"2022-03-28T00:00:00.000000000\",\"2022-03-29T00:00:00.000000000\",\"2022-03-30T00:00:00.000000000\",\"2022-03-31T00:00:00.000000000\",\"2022-04-01T00:00:00.000000000\",\"2022-04-02T00:00:00.000000000\",\"2022-04-03T00:00:00.000000000\",\"2022-04-04T00:00:00.000000000\",\"2022-04-05T00:00:00.000000000\",\"2022-04-06T00:00:00.000000000\",\"2022-04-07T00:00:00.000000000\",\"2022-04-08T00:00:00.000000000\",\"2022-04-09T00:00:00.000000000\",\"2022-04-10T00:00:00.000000000\",\"2022-04-11T00:00:00.000000000\",\"2022-04-12T00:00:00.000000000\",\"2022-04-13T00:00:00.000000000\",\"2022-04-14T00:00:00.000000000\",\"2022-04-15T00:00:00.000000000\",\"2022-04-16T00:00:00.000000000\",\"2022-04-17T00:00:00.000000000\",\"2022-04-18T00:00:00.000000000\",\"2022-04-19T00:00:00.000000000\",\"2022-04-20T00:00:00.000000000\",\"2022-04-21T00:00:00.000000000\",\"2022-04-22T00:00:00.000000000\",\"2022-04-23T00:00:00.000000000\",\"2022-04-24T00:00:00.000000000\",\"2022-04-25T00:00:00.000000000\",\"2022-04-26T00:00:00.000000000\",\"2022-04-27T00:00:00.000000000\",\"2022-04-28T00:00:00.000000000\",\"2022-04-29T00:00:00.000000000\",\"2022-04-30T00:00:00.000000000\"],\"y\":[1637.5652550337054,1668.7570823931812,1751.957954102855,1637.0868452246755,1439.4865287265006,1552.7857108518258,1450.0657303816558,1307.5668545868343,1221.3638917996498,1065.5449377980237,997.4666593956572,926.6381608739255,705.8987006078465,673.4167069393436,622.7644557055883,589.2629947629622,559.8235228441291,598.70636156303,869.6903451968144,1021.5437752520563,1021.1572342819927,1139.8635656659385,1140.6126916308774,1191.8757561761247,1154.3625637760413,981.7487131321099,900.0638064574183,918.9317000793468,882.7169699959688,964.9143713190597,866.8794019094927,867.9721557390592,862.6251712649166,823.1650785406075,755.1820457863312,735.640595903533,636.7755548025593,675.0534836766793,598.6621100240179,504.9674430636518,483.0879764261739,447.4579920766661,363.8449158494775,316.4341747751922,310.7277391632641,354.00424370411844,410.0499057162166,442.3354106458154,522.4598359899788,581.8569042529366,622.1931158840628,673.2227122937493,681.0720479425438,701.2555530756322,796.521787058649,859.1134985352453,924.6693829417785,1000.5446304084619,1051.7621923600843,1252.2254017746193,1487.8778893850658,1668.0230477715838,2126.484531494422,2348.2707550897103,2565.6101207084894,2727.946473276614,2838.1922584357985,2806.1745691642545,2828.044272304527,2739.9120505597093,3000.699926175376,3264.487598002966,3636.4058877543284,3978.62417158432,4281.7419837703,4321.428137418201,4608.275445215359,4848.242227720418,5131.655787734985,5304.777060507337,5439.541654374337,5667.066149479995,5915.370347695147,6011.7658263337125,6051.953895866165,5943.911352084513,6056.118379337882,5958.91157383293,5878.98296019414,5818.2824838994,5596.87330798223,5759.801152970618,5855.246493105833,5699.614101726801,5854.306341193996,6034.48918714027,6244.724231931699,6466.197732552656,6205.2587190686745,6279.785701363541,6457.5460894082435,6426.930388433926,6409.729106179866,6300.9368576561865,6438.047483647104,6750.669020283427,6839.051180608648,6760.05170920124,7038.271969600222,6842.345007369307,7060.956897929085,6834.361325891482,6845.157404072891,6847.468739412672,6829.174515298485,6940.439981153742,7203.884073119736,7254.936091610301,7487.784271382817,7763.053811601853,7925.370024603896,8285.948717173806,8290.85330285239,8500.582191939706,8607.633485155025,8836.872175543947,8764.13039242536,8628.559766648099,8655.775859998965,8304.901908560905,7931.427177304424,7822.046315852474,7436.5716638404465,7310.784565799875,7560.251236907036,7381.4846955033045,7679.306583586964,7765.636813357725,7743.05000941636,7722.34554507912,7619.365146412827,7316.689696886247,7296.500168475133,7301.824869045743,7361.150714530444,7238.498947598159,7284.890081163052,7296.004419562285,7366.511986209314,7403.152988267773,7302.6216229263155,7132.991514212973,6983.473677565542,6810.168076016899,6551.639667452392,6324.341464756518,5976.188012029373,5721.9752666504555,5775.87195077164,6027.997146529628,6230.799136688712,6428.875267291112,6430.051836514799,6605.984973631674,6852.037258111338,6877.696726664077,6846.965196448122,6631.592956945463,6308.445980583904,6318.711345239373,6104.680059830821,5824.4827174908805,5677.070222130429,5553.267075718684,5874.469799681748],\"type\":\"scatter\"},{\"hovertemplate\":\"%{y:.0f}\",\"legendgroup\":\"nowcast\",\"line\":{\"color\":\"red\",\"width\":2.5},\"mode\":\"lines\",\"name\":\"questionnaire incidence\",\"x\":[\"2021-11-09T00:00:00.000000000\",\"2021-11-10T00:00:00.000000000\",\"2021-11-11T00:00:00.000000000\",\"2021-11-12T00:00:00.000000000\",\"2021-11-13T00:00:00.000000000\",\"2021-11-14T00:00:00.000000000\",\"2021-11-15T00:00:00.000000000\",\"2021-11-16T00:00:00.000000000\",\"2021-11-17T00:00:00.000000000\",\"2021-11-18T00:00:00.000000000\",\"2021-11-19T00:00:00.000000000\",\"2021-11-20T00:00:00.000000000\",\"2021-11-21T00:00:00.000000000\",\"2021-11-22T00:00:00.000000000\",\"2021-11-23T00:00:00.000000000\",\"2021-11-24T00:00:00.000000000\",\"2021-11-25T00:00:00.000000000\",\"2021-11-26T00:00:00.000000000\",\"2021-11-27T00:00:00.000000000\",\"2021-11-28T00:00:00.000000000\",\"2021-11-29T00:00:00.000000000\",\"2021-11-30T00:00:00.000000000\",\"2021-12-01T00:00:00.000000000\",\"2021-12-02T00:00:00.000000000\",\"2021-12-03T00:00:00.000000000\",\"2021-12-04T00:00:00.000000000\",\"2021-12-05T00:00:00.000000000\",\"2021-12-06T00:00:00.000000000\",\"2021-12-07T00:00:00.000000000\",\"2021-12-08T00:00:00.000000000\",\"2021-12-09T00:00:00.000000000\",\"2021-12-10T00:00:00.000000000\",\"2021-12-11T00:00:00.000000000\",\"2021-12-12T00:00:00.000000000\",\"2021-12-13T00:00:00.000000000\",\"2021-12-14T00:00:00.000000000\",\"2021-12-15T00:00:00.000000000\",\"2021-12-16T00:00:00.000000000\",\"2021-12-17T00:00:00.000000000\",\"2021-12-18T00:00:00.000000000\",\"2021-12-19T00:00:00.000000000\",\"2021-12-20T00:00:00.000000000\",\"2021-12-21T00:00:00.000000000\",\"2021-12-22T00:00:00.000000000\",\"2021-12-23T00:00:00.000000000\",\"2021-12-24T00:00:00.000000000\",\"2021-12-25T00:00:00.000000000\",\"2021-12-26T00:00:00.000000000\",\"2021-12-27T00:00:00.000000000\",\"2021-12-28T00:00:00.000000000\",\"2021-12-29T00:00:00.000000000\",\"2021-12-30T00:00:00.000000000\",\"2021-12-31T00:00:00.000000000\",\"2022-01-01T00:00:00.000000000\",\"2022-01-02T00:00:00.000000000\",\"2022-01-03T00:00:00.000000000\",\"2022-01-04T00:00:00.000000000\",\"2022-01-05T00:00:00.000000000\",\"2022-01-06T00:00:00.000000000\",\"2022-01-07T00:00:00.000000000\",\"2022-01-08T00:00:00.000000000\",\"2022-01-09T00:00:00.000000000\",\"2022-01-10T00:00:00.000000000\",\"2022-01-11T00:00:00.000000000\",\"2022-01-12T00:00:00.000000000\",\"2022-01-13T00:00:00.000000000\",\"2022-01-14T00:00:00.000000000\",\"2022-01-15T00:00:00.000000000\",\"2022-01-16T00:00:00.000000000\",\"2022-01-17T00:00:00.000000000\",\"2022-01-18T00:00:00.000000000\",\"2022-01-19T00:00:00.000000000\",\"2022-01-20T00:00:00.000000000\",\"2022-01-21T00:00:00.000000000\",\"2022-01-22T00:00:00.000000000\",\"2022-01-23T00:00:00.000000000\",\"2022-01-24T00:00:00.000000000\",\"2022-01-25T00:00:00.000000000\",\"2022-01-26T00:00:00.000000000\",\"2022-01-27T00:00:00.000000000\",\"2022-01-28T00:00:00.000000000\",\"2022-01-29T00:00:00.000000000\",\"2022-01-30T00:00:00.000000000\",\"2022-01-31T00:00:00.000000000\",\"2022-02-01T00:00:00.000000000\",\"2022-02-02T00:00:00.000000000\",\"2022-02-03T00:00:00.000000000\",\"2022-02-04T00:00:00.000000000\",\"2022-02-05T00:00:00.000000000\",\"2022-02-06T00:00:00.000000000\",\"2022-02-07T00:00:00.000000000\",\"2022-02-08T00:00:00.000000000\",\"2022-02-09T00:00:00.000000000\",\"2022-02-10T00:00:00.000000000\",\"2022-02-11T00:00:00.000000000\",\"2022-02-12T00:00:00.000000000\",\"2022-02-13T00:00:00.000000000\",\"2022-02-14T00:00:00.000000000\",\"2022-02-15T00:00:00.000000000\",\"2022-02-16T00:00:00.000000000\",\"2022-02-17T00:00:00.000000000\",\"2022-02-18T00:00:00.000000000\",\"2022-02-19T00:00:00.000000000\",\"2022-02-20T00:00:00.000000000\",\"2022-02-21T00:00:00.000000000\",\"2022-02-22T00:00:00.000000000\",\"2022-02-23T00:00:00.000000000\",\"2022-02-24T00:00:00.000000000\",\"2022-02-25T00:00:00.000000000\",\"2022-02-26T00:00:00.000000000\",\"2022-02-27T00:00:00.000000000\",\"2022-02-28T00:00:00.000000000\",\"2022-03-01T00:00:00.000000000\",\"2022-03-02T00:00:00.000000000\",\"2022-03-03T00:00:00.000000000\",\"2022-03-04T00:00:00.000000000\",\"2022-03-05T00:00:00.000000000\",\"2022-03-06T00:00:00.000000000\",\"2022-03-07T00:00:00.000000000\",\"2022-03-08T00:00:00.000000000\",\"2022-03-09T00:00:00.000000000\",\"2022-03-10T00:00:00.000000000\",\"2022-03-11T00:00:00.000000000\",\"2022-03-12T00:00:00.000000000\",\"2022-03-13T00:00:00.000000000\",\"2022-03-14T00:00:00.000000000\",\"2022-03-15T00:00:00.000000000\",\"2022-03-16T00:00:00.000000000\",\"2022-03-17T00:00:00.000000000\",\"2022-03-18T00:00:00.000000000\",\"2022-03-19T00:00:00.000000000\",\"2022-03-20T00:00:00.000000000\",\"2022-03-21T00:00:00.000000000\",\"2022-03-22T00:00:00.000000000\",\"2022-03-23T00:00:00.000000000\",\"2022-03-24T00:00:00.000000000\",\"2022-03-25T00:00:00.000000000\",\"2022-03-26T00:00:00.000000000\",\"2022-03-27T00:00:00.000000000\",\"2022-03-28T00:00:00.000000000\",\"2022-03-29T00:00:00.000000000\",\"2022-03-30T00:00:00.000000000\",\"2022-03-31T00:00:00.000000000\",\"2022-04-01T00:00:00.000000000\",\"2022-04-02T00:00:00.000000000\",\"2022-04-03T00:00:00.000000000\",\"2022-04-04T00:00:00.000000000\",\"2022-04-05T00:00:00.000000000\",\"2022-04-06T00:00:00.000000000\",\"2022-04-07T00:00:00.000000000\",\"2022-04-08T00:00:00.000000000\",\"2022-04-09T00:00:00.000000000\",\"2022-04-10T00:00:00.000000000\",\"2022-04-11T00:00:00.000000000\",\"2022-04-12T00:00:00.000000000\",\"2022-04-13T00:00:00.000000000\",\"2022-04-14T00:00:00.000000000\",\"2022-04-15T00:00:00.000000000\",\"2022-04-16T00:00:00.000000000\",\"2022-04-17T00:00:00.000000000\",\"2022-04-18T00:00:00.000000000\",\"2022-04-19T00:00:00.000000000\",\"2022-04-20T00:00:00.000000000\",\"2022-04-21T00:00:00.000000000\",\"2022-04-22T00:00:00.000000000\",\"2022-04-23T00:00:00.000000000\",\"2022-04-24T00:00:00.000000000\",\"2022-04-25T00:00:00.000000000\",\"2022-04-26T00:00:00.000000000\",\"2022-04-27T00:00:00.000000000\",\"2022-04-28T00:00:00.000000000\",\"2022-04-29T00:00:00.000000000\",\"2022-04-30T00:00:00.000000000\",\"2022-05-01T00:00:00.000000000\"],\"y\":[813.0081300813009,406.50406504065046,654.1444724792077,689.0210527721041,698.2756657470951,734.8015868993376,629.8299316280037,605.2610046200523,1365.1394240729396,1272.7233205669038,1262.8643044967077,1157.822287689985,1026.7606887384777,1026.7606887384777,1059.9516607940789,413.0037890543475,504.48158620335784,400.96191746629785,462.2739959457584,462.2739959457584,541.2005942093732,473.1238729823088,409.96933323331365,571.3793517861893,683.4241697133601,670.2121393339478,670.2121393339479,641.4108543535411,584.721511949913,534.9455039857517,480.5404495806972,421.4056845635793,373.30563646353124,373.30563646353124,323.18032318032317,414.7554147554148,507.519793234079,319.58793383247894,357.66969165945966,441.4568722208338,519.7347587178983,519.7347587178983,467.1916733879278,407.6498862713898,361.5696334882889,318.03866755429266,274.95152769295925,196.67364119589467,241.59727102518488,202.56526478006387,197.46415823233585,227.03878487356053,179.57794007052306,180.77148965116942,285.3011063759081,240.37747654661788,357.79430629221474,359.8751772615677,467.7288884097194,631.3057695438525,589.4121792631655,484.8825625384267,484.8825625384267,367.46573279282995,478.7060927092203,388.07607523959007,377.2875821879628,619.4183327932896,619.4183327932896,619.4183327932896,619.4183327932896,1027.4261665436977,1346.1554024240963,1842.71766369224,1747.2574909689902,2233.579679418838,2788.7240169465954,3218.618196840775,3384.884795973105,3514.6605434814114,3376.6553719191925,3511.9396812551613,3638.957641029182,4095.8802556228734,4609.976006502765,4215.888447842158,4638.829054135953,4750.407164387388,4946.517519014112,4992.155953986289,4301.63241022497,3899.734316185593,4070.7155637017427,3538.451356275435,3383.91184317702,3153.2182772753554,3514.6478573446147,3982.1409938349852,4011.4777285288615,4058.4352364141796,4028.074824986731,3942.685771110005,4488.9648888176935,4476.048329789019,4353.678451605188,4445.889419121779,4847.879515356479,4827.059580037079,5048.186804885642,4929.451646780406,4556.051799350937,4834.763283944774,4834.54700904207,4667.806969420675,4861.721206918447,5295.804941071602,5333.300254157466,5333.457968809079,5080.499642621461,5099.152922724511,5242.131807299836,6584.005945227825,6412.651560168316,7231.969276744772,7635.687573655295,7734.9194218461735,8547.525257694915,8925.409034305467,8064.65663957113,8549.156395915546,7857.763865161451,7860.141186870813,7778.044858923982,7849.443456775415,8422.193689876704,8221.247414463644,7771.421721919504,8155.575383384091,8551.36030086401,9414.237207136233,9345.852081825113,8405.429784476042,8628.373352999977,8605.067834707988,8486.568822199759,8105.242758690711,7909.298602339644,7599.540611516931,8124.916936994857,7786.472846666534,7886.072882635929,7617.953904839532,7319.21840488073,7119.2008978779295,7020.851413890052,6393.229921081163,6823.003513547603,6533.256731558398,6578.209966073067,6452.393622822676,6162.262972022209,6307.242495532807,6580.379762889728,6145.433097666758,6641.469710810764,6661.31343049397,7108.572626143033,6866.260791752701,6584.073842899086,6507.937508102244,6310.936410942668,5553.26563571263,5271.714888323373,4908.489306119688],\"type\":\"scatter\"},{\"hovertemplate\":\"%{y:.0f}\",\"marker\":{\"color\":\"white\",\"line\":{\"color\":\"red\",\"width\":2.0},\"size\":8},\"mode\":\"markers\",\"name\":\"With booster 18-59 years\",\"x\":[\"2021-10-25T00:00:00.000000000\",\"2021-11-01T00:00:00.000000000\",\"2021-11-08T00:00:00.000000000\",\"2021-11-15T00:00:00.000000000\",\"2021-11-22T00:00:00.000000000\",\"2021-11-29T00:00:00.000000000\",\"2021-12-06T00:00:00.000000000\",\"2021-12-13T00:00:00.000000000\",\"2021-12-20T00:00:00.000000000\",\"2021-12-27T00:00:00.000000000\",\"2022-01-03T00:00:00.000000000\",\"2022-01-10T00:00:00.000000000\",\"2022-01-17T00:00:00.000000000\",\"2022-01-24T00:00:00.000000000\",\"2022-01-31T00:00:00.000000000\",\"2022-02-07T00:00:00.000000000\",\"2022-02-14T00:00:00.000000000\",\"2022-02-21T00:00:00.000000000\",\"2022-02-28T00:00:00.000000000\",\"2022-03-07T00:00:00.000000000\",\"2022-03-14T00:00:00.000000000\",\"2022-03-21T00:00:00.000000000\"],\"y\":[44.69987106323242,44.9690055847168,59.339778900146484,63.65250778198242,64.3028335571289,49.186248779296875,39.174015045166016,29.440858840942383,28.509872436523438,47.3933219909668,92.1321029663086,96.41244506835938,112.92941284179688,118.46305084228516,122.54711151123047,141.0689239501953,140.08016967773438,135.97560119628906,157.38577270507812,172.02052307128906,155.20498657226562,131.6641082763672],\"type\":\"scatter\"},{\"hovertemplate\":\"%{y:.0f}\",\"marker\":{\"color\":\"red\",\"size\":9},\"mode\":\"markers\",\"name\":\"Vaccinated  18-59 years\",\"x\":[\"2021-10-25T00:00:00.000000000\",\"2021-11-01T00:00:00.000000000\",\"2021-11-08T00:00:00.000000000\",\"2021-11-15T00:00:00.000000000\",\"2021-11-22T00:00:00.000000000\",\"2021-11-29T00:00:00.000000000\",\"2021-12-06T00:00:00.000000000\",\"2021-12-13T00:00:00.000000000\",\"2021-12-20T00:00:00.000000000\",\"2021-12-27T00:00:00.000000000\",\"2022-01-03T00:00:00.000000000\",\"2022-01-10T00:00:00.000000000\",\"2022-01-17T00:00:00.000000000\",\"2022-01-24T00:00:00.000000000\",\"2022-01-31T00:00:00.000000000\",\"2022-02-07T00:00:00.000000000\",\"2022-02-14T00:00:00.000000000\",\"2022-02-21T00:00:00.000000000\",\"2022-02-28T00:00:00.000000000\",\"2022-03-07T00:00:00.000000000\",\"2022-03-14T00:00:00.000000000\",\"2022-03-21T00:00:00.000000000\"],\"y\":[77.39703369140625,95.13253784179688,120.78118896484375,144.43963623046875,143.8603515625,129.8462677001953,112.61207580566406,96.0655288696289,79.3442611694336,114.44139862060547,187.83407592773438,190.16102600097656,209.570556640625,211.75428771972656,211.25323486328125,227.93902587890625,206.24375915527344,175.56805419921875,176.67901611328125,181.1172332763672,156.8287811279297,122.65164184570312],\"type\":\"scatter\"},{\"hovertemplate\":\"%{y:.0f}\",\"marker\":{\"color\":\"#455266\",\"size\":9},\"mode\":\"markers\",\"name\":\"Unvaccinated 18-59 years\",\"x\":[\"2021-10-25T00:00:00.000000000\",\"2021-11-01T00:00:00.000000000\",\"2021-11-08T00:00:00.000000000\",\"2021-11-15T00:00:00.000000000\",\"2021-11-22T00:00:00.000000000\",\"2021-11-29T00:00:00.000000000\",\"2021-12-06T00:00:00.000000000\",\"2021-12-13T00:00:00.000000000\",\"2021-12-20T00:00:00.000000000\",\"2021-12-27T00:00:00.000000000\",\"2022-01-03T00:00:00.000000000\",\"2022-01-10T00:00:00.000000000\",\"2022-01-17T00:00:00.000000000\",\"2022-01-24T00:00:00.000000000\",\"2022-01-31T00:00:00.000000000\",\"2022-02-07T00:00:00.000000000\",\"2022-02-14T00:00:00.000000000\",\"2022-02-21T00:00:00.000000000\",\"2022-02-28T00:00:00.000000000\",\"2022-03-07T00:00:00.000000000\",\"2022-03-14T00:00:00.000000000\",\"2022-03-21T00:00:00.000000000\"],\"y\":[228.24722290039062,268.3832702636719,329.8192138671875,359.59881591796875,384.30523681640625,349.98968505859375,305.02093505859375,252.1339569091797,170.08798217773438,175.22637939453125,196.48655700683594,187.15966796875,225.6997528076172,255.2126007080078,269.998291015625,259.24334716796875,225.4832763671875,202.1089324951172,171.49378967285156,169.29322814941406,140.27223205566406,141.96604919433594],\"type\":\"scatter\"}],                        {\"template\":{\"data\":{\"barpolar\":[{\"marker\":{\"line\":{\"color\":\"white\",\"width\":0.5},\"pattern\":{\"fillmode\":\"overlay\",\"size\":10,\"solidity\":0.2}},\"type\":\"barpolar\"}],\"bar\":[{\"error_x\":{\"color\":\"#2a3f5f\"},\"error_y\":{\"color\":\"#2a3f5f\"},\"marker\":{\"line\":{\"color\":\"white\",\"width\":0.5},\"pattern\":{\"fillmode\":\"overlay\",\"size\":10,\"solidity\":0.2}},\"type\":\"bar\"}],\"carpet\":[{\"aaxis\":{\"endlinecolor\":\"#2a3f5f\",\"gridcolor\":\"#C8D4E3\",\"linecolor\":\"#C8D4E3\",\"minorgridcolor\":\"#C8D4E3\",\"startlinecolor\":\"#2a3f5f\"},\"baxis\":{\"endlinecolor\":\"#2a3f5f\",\"gridcolor\":\"#C8D4E3\",\"linecolor\":\"#C8D4E3\",\"minorgridcolor\":\"#C8D4E3\",\"startlinecolor\":\"#2a3f5f\"},\"type\":\"carpet\"}],\"choropleth\":[{\"colorbar\":{\"outlinewidth\":0,\"ticks\":\"\"},\"type\":\"choropleth\"}],\"contourcarpet\":[{\"colorbar\":{\"outlinewidth\":0,\"ticks\":\"\"},\"type\":\"contourcarpet\"}],\"contour\":[{\"colorbar\":{\"outlinewidth\":0,\"ticks\":\"\"},\"colorscale\":[[0.0,\"#0d0887\"],[0.1111111111111111,\"#46039f\"],[0.2222222222222222,\"#7201a8\"],[0.3333333333333333,\"#9c179e\"],[0.4444444444444444,\"#bd3786\"],[0.5555555555555556,\"#d8576b\"],[0.6666666666666666,\"#ed7953\"],[0.7777777777777778,\"#fb9f3a\"],[0.8888888888888888,\"#fdca26\"],[1.0,\"#f0f921\"]],\"type\":\"contour\"}],\"heatmapgl\":[{\"colorbar\":{\"outlinewidth\":0,\"ticks\":\"\"},\"colorscale\":[[0.0,\"#0d0887\"],[0.1111111111111111,\"#46039f\"],[0.2222222222222222,\"#7201a8\"],[0.3333333333333333,\"#9c179e\"],[0.4444444444444444,\"#bd3786\"],[0.5555555555555556,\"#d8576b\"],[0.6666666666666666,\"#ed7953\"],[0.7777777777777778,\"#fb9f3a\"],[0.8888888888888888,\"#fdca26\"],[1.0,\"#f0f921\"]],\"type\":\"heatmapgl\"}],\"heatmap\":[{\"colorbar\":{\"outlinewidth\":0,\"ticks\":\"\"},\"colorscale\":[[0.0,\"#0d0887\"],[0.1111111111111111,\"#46039f\"],[0.2222222222222222,\"#7201a8\"],[0.3333333333333333,\"#9c179e\"],[0.4444444444444444,\"#bd3786\"],[0.5555555555555556,\"#d8576b\"],[0.6666666666666666,\"#ed7953\"],[0.7777777777777778,\"#fb9f3a\"],[0.8888888888888888,\"#fdca26\"],[1.0,\"#f0f921\"]],\"type\":\"heatmap\"}],\"histogram2dcontour\":[{\"colorbar\":{\"outlinewidth\":0,\"ticks\":\"\"},\"colorscale\":[[0.0,\"#0d0887\"],[0.1111111111111111,\"#46039f\"],[0.2222222222222222,\"#7201a8\"],[0.3333333333333333,\"#9c179e\"],[0.4444444444444444,\"#bd3786\"],[0.5555555555555556,\"#d8576b\"],[0.6666666666666666,\"#ed7953\"],[0.7777777777777778,\"#fb9f3a\"],[0.8888888888888888,\"#fdca26\"],[1.0,\"#f0f921\"]],\"type\":\"histogram2dcontour\"}],\"histogram2d\":[{\"colorbar\":{\"outlinewidth\":0,\"ticks\":\"\"},\"colorscale\":[[0.0,\"#0d0887\"],[0.1111111111111111,\"#46039f\"],[0.2222222222222222,\"#7201a8\"],[0.3333333333333333,\"#9c179e\"],[0.4444444444444444,\"#bd3786\"],[0.5555555555555556,\"#d8576b\"],[0.6666666666666666,\"#ed7953\"],[0.7777777777777778,\"#fb9f3a\"],[0.8888888888888888,\"#fdca26\"],[1.0,\"#f0f921\"]],\"type\":\"histogram2d\"}],\"histogram\":[{\"marker\":{\"pattern\":{\"fillmode\":\"overlay\",\"size\":10,\"solidity\":0.2}},\"type\":\"histogram\"}],\"mesh3d\":[{\"colorbar\":{\"outlinewidth\":0,\"ticks\":\"\"},\"type\":\"mesh3d\"}],\"parcoords\":[{\"line\":{\"colorbar\":{\"outlinewidth\":0,\"ticks\":\"\"}},\"type\":\"parcoords\"}],\"pie\":[{\"automargin\":true,\"type\":\"pie\"}],\"scatter3d\":[{\"line\":{\"colorbar\":{\"outlinewidth\":0,\"ticks\":\"\"}},\"marker\":{\"colorbar\":{\"outlinewidth\":0,\"ticks\":\"\"}},\"type\":\"scatter3d\"}],\"scattercarpet\":[{\"marker\":{\"colorbar\":{\"outlinewidth\":0,\"ticks\":\"\"}},\"type\":\"scattercarpet\"}],\"scattergeo\":[{\"marker\":{\"colorbar\":{\"outlinewidth\":0,\"ticks\":\"\"}},\"type\":\"scattergeo\"}],\"scattergl\":[{\"marker\":{\"colorbar\":{\"outlinewidth\":0,\"ticks\":\"\"}},\"type\":\"scattergl\"}],\"scattermapbox\":[{\"marker\":{\"colorbar\":{\"outlinewidth\":0,\"ticks\":\"\"}},\"type\":\"scattermapbox\"}],\"scatterpolargl\":[{\"marker\":{\"colorbar\":{\"outlinewidth\":0,\"ticks\":\"\"}},\"type\":\"scatterpolargl\"}],\"scatterpolar\":[{\"marker\":{\"colorbar\":{\"outlinewidth\":0,\"ticks\":\"\"}},\"type\":\"scatterpolar\"}],\"scatter\":[{\"fillpattern\":{\"fillmode\":\"overlay\",\"size\":10,\"solidity\":0.2},\"type\":\"scatter\"}],\"scatterternary\":[{\"marker\":{\"colorbar\":{\"outlinewidth\":0,\"ticks\":\"\"}},\"type\":\"scatterternary\"}],\"surface\":[{\"colorbar\":{\"outlinewidth\":0,\"ticks\":\"\"},\"colorscale\":[[0.0,\"#0d0887\"],[0.1111111111111111,\"#46039f\"],[0.2222222222222222,\"#7201a8\"],[0.3333333333333333,\"#9c179e\"],[0.4444444444444444,\"#bd3786\"],[0.5555555555555556,\"#d8576b\"],[0.6666666666666666,\"#ed7953\"],[0.7777777777777778,\"#fb9f3a\"],[0.8888888888888888,\"#fdca26\"],[1.0,\"#f0f921\"]],\"type\":\"surface\"}],\"table\":[{\"cells\":{\"fill\":{\"color\":\"#EBF0F8\"},\"line\":{\"color\":\"white\"}},\"header\":{\"fill\":{\"color\":\"#C8D4E3\"},\"line\":{\"color\":\"white\"}},\"type\":\"table\"}]},\"layout\":{\"annotationdefaults\":{\"arrowcolor\":\"#2a3f5f\",\"arrowhead\":0,\"arrowwidth\":1},\"autotypenumbers\":\"strict\",\"coloraxis\":{\"colorbar\":{\"outlinewidth\":0,\"ticks\":\"\"}},\"colorscale\":{\"diverging\":[[0,\"#8e0152\"],[0.1,\"#c51b7d\"],[0.2,\"#de77ae\"],[0.3,\"#f1b6da\"],[0.4,\"#fde0ef\"],[0.5,\"#f7f7f7\"],[0.6,\"#e6f5d0\"],[0.7,\"#b8e186\"],[0.8,\"#7fbc41\"],[0.9,\"#4d9221\"],[1,\"#276419\"]],\"sequential\":[[0.0,\"#0d0887\"],[0.1111111111111111,\"#46039f\"],[0.2222222222222222,\"#7201a8\"],[0.3333333333333333,\"#9c179e\"],[0.4444444444444444,\"#bd3786\"],[0.5555555555555556,\"#d8576b\"],[0.6666666666666666,\"#ed7953\"],[0.7777777777777778,\"#fb9f3a\"],[0.8888888888888888,\"#fdca26\"],[1.0,\"#f0f921\"]],\"sequentialminus\":[[0.0,\"#0d0887\"],[0.1111111111111111,\"#46039f\"],[0.2222222222222222,\"#7201a8\"],[0.3333333333333333,\"#9c179e\"],[0.4444444444444444,\"#bd3786\"],[0.5555555555555556,\"#d8576b\"],[0.6666666666666666,\"#ed7953\"],[0.7777777777777778,\"#fb9f3a\"],[0.8888888888888888,\"#fdca26\"],[1.0,\"#f0f921\"]]},\"colorway\":[\"#636efa\",\"#EF553B\",\"#00cc96\",\"#ab63fa\",\"#FFA15A\",\"#19d3f3\",\"#FF6692\",\"#B6E880\",\"#FF97FF\",\"#FECB52\"],\"font\":{\"color\":\"#2a3f5f\"},\"geo\":{\"bgcolor\":\"white\",\"lakecolor\":\"white\",\"landcolor\":\"white\",\"showlakes\":true,\"showland\":true,\"subunitcolor\":\"#C8D4E3\"},\"hoverlabel\":{\"align\":\"left\"},\"hovermode\":\"closest\",\"mapbox\":{\"style\":\"light\"},\"paper_bgcolor\":\"white\",\"plot_bgcolor\":\"white\",\"polar\":{\"angularaxis\":{\"gridcolor\":\"#EBF0F8\",\"linecolor\":\"#EBF0F8\",\"ticks\":\"\"},\"bgcolor\":\"white\",\"radialaxis\":{\"gridcolor\":\"#EBF0F8\",\"linecolor\":\"#EBF0F8\",\"ticks\":\"\"}},\"scene\":{\"xaxis\":{\"backgroundcolor\":\"white\",\"gridcolor\":\"#DFE8F3\",\"gridwidth\":2,\"linecolor\":\"#EBF0F8\",\"showbackground\":true,\"ticks\":\"\",\"zerolinecolor\":\"#EBF0F8\"},\"yaxis\":{\"backgroundcolor\":\"white\",\"gridcolor\":\"#DFE8F3\",\"gridwidth\":2,\"linecolor\":\"#EBF0F8\",\"showbackground\":true,\"ticks\":\"\",\"zerolinecolor\":\"#EBF0F8\"},\"zaxis\":{\"backgroundcolor\":\"white\",\"gridcolor\":\"#DFE8F3\",\"gridwidth\":2,\"linecolor\":\"#EBF0F8\",\"showbackground\":true,\"ticks\":\"\",\"zerolinecolor\":\"#EBF0F8\"}},\"shapedefaults\":{\"line\":{\"color\":\"#2a3f5f\"}},\"ternary\":{\"aaxis\":{\"gridcolor\":\"#DFE8F3\",\"linecolor\":\"#A2B1C6\",\"ticks\":\"\"},\"baxis\":{\"gridcolor\":\"#DFE8F3\",\"linecolor\":\"#A2B1C6\",\"ticks\":\"\"},\"bgcolor\":\"white\",\"caxis\":{\"gridcolor\":\"#DFE8F3\",\"linecolor\":\"#A2B1C6\",\"ticks\":\"\"}},\"title\":{\"x\":0.05},\"xaxis\":{\"automargin\":true,\"gridcolor\":\"#EBF0F8\",\"linecolor\":\"#EBF0F8\",\"ticks\":\"\",\"title\":{\"standoff\":15},\"zerolinecolor\":\"#EBF0F8\",\"zerolinewidth\":2},\"yaxis\":{\"automargin\":true,\"gridcolor\":\"#EBF0F8\",\"linecolor\":\"#EBF0F8\",\"ticks\":\"\",\"title\":{\"standoff\":15},\"zerolinecolor\":\"#EBF0F8\",\"zerolinewidth\":2}}},\"title\":{\"y\":0.97,\"x\":0.5,\"xanchor\":\"center\",\"yanchor\":\"top\",\"text\":\"Reported Incidence vs. Machine Learning Nowcast\"},\"font\":{\"size\":12},\"margin\":{\"l\":60,\"r\":30,\"b\":75,\"t\":80,\"pad\":0},\"legend\":{\"font\":{\"size\":11},\"x\":0,\"y\":1,\"itemclick\":\"toggleothers\",\"itemdoubleclick\":\"toggle\",\"tracegroupgap\":2},\"hoverlabel\":{\"font\":{\"color\":\"black\"},\"namelength\":-1},\"xaxis\":{\"showline\":true,\"linewidth\":1.5,\"linecolor\":\"#455266\",\"ticks\":\"outside\",\"tickwidth\":1.5,\"rangemode\":\"nonnegative\"},\"yaxis\":{\"showline\":true,\"linewidth\":1.5,\"linecolor\":\"#455266\",\"ticks\":\"outside\",\"tickwidth\":1.5,\"rangemode\":\"nonnegative\",\"title\":{\"text\":\"Incidence\"}},\"autosize\":true,\"height\":600,\"hovermode\":\"x unified\",\"showlegend\":true},                        {\"responsive\": true}                    ).then(function(){\n                            \nvar gd = document.getElementById('45734abd-6ba7-4ead-8dec-87719e571ef0');\nvar x = new MutationObserver(function (mutations, observer) {{\n        var display = window.getComputedStyle(gd).display;\n        if (!display || display === 'none') {{\n            console.log([gd, 'removed!']);\n            Plotly.purge(gd);\n            observer.disconnect();\n        }}\n}});\n\n// Listen for the removal of the full notebook cells\nvar notebookContainer = gd.closest('#notebook-container');\nif (notebookContainer) {{\n    x.observe(notebookContainer, {childList: true});\n}}\n\n// Listen for the clearing of the current output cell\nvar outputEl = gd.closest('.output');\nif (outputEl) {{\n    x.observe(outputEl, {childList: true});\n}}\n\n                        })                };                });            </script>        </div>"
     },
     "metadata": {},
     "output_type": "display_data"
    }
   ],
   "source": [
    "import plotly.graph_objects as go\n",
    "from datetime import date\n",
    "\n",
    "SKIP_DAYS = 5\n",
    "\n",
    "#Delta\n",
    "# threshold=0.5\n",
    "# after = cleaned_feature_data[['date']] > pd.to_datetime(date(year=2021, month=11, day=1))\n",
    "# before = cleaned_feature_data[['date']] < pd.to_datetime(date(year=2022, month=1, day=1))\n",
    "\n",
    "#Omicron\n",
    "# threshold = 0.5\n",
    "# after = cleaned_feature_data[['date']] > pd.to_datetime(date(year=2022, month=2, day=1))\n",
    "# before = cleaned_feature_data[['date']] < pd.to_datetime(datetime.now().date())\n",
    "\n",
    "# Omicron BA1\n",
    "# threshold = 0.5\n",
    "# after = cleaned_feature_data[['date']] > pd.to_datetime(date(year=2022, month=1, day=1))\n",
    "# before = cleaned_feature_data[['date']] < pd.to_datetime(date(year=2022, month=3, day=1))\n",
    "\n",
    "# Omicron BA2\n",
    "# threshold = 0.32\n",
    "# after = cleaned_feature_data[['date']] > pd.to_datetime(date(year=2022, month=3, day=1))\n",
    "# before = cleaned_feature_data[['date']] < pd.to_datetime(datetime.now().date())\n",
    "\n",
    "# All\n",
    "threshold=0.6\n",
    "after = cleaned_feature_data[['date']] > pd.to_datetime(date(year=2021, month=11, day=1))\n",
    "before = cleaned_feature_data[['date']] < pd.to_datetime(datetime.now().date())\n",
    "\n",
    "working_data = cleaned_feature_data[(before & after).values]\n",
    "\n",
    "questionnaire_incidence = calculate_questionnaire_incidence(working_data)\n",
    "predicted_incidence_plot_data = predict_incidence_runs(working_data, feature_names, threshold)\n",
    "\n",
    "default_layout = {\n",
    "    \"title\": {\"y\": 0.97, \"x\": 0.5, \"xanchor\": \"center\", \"yanchor\": \"top\"},\n",
    "    \"font_size\": 12,\n",
    "    \"autosize\": True,\n",
    "    \"height\": 600,\n",
    "    \"margin\": dict(l=60, r=30, b=75, t=80, pad=0),\n",
    "    \"template\": \"plotly_white\",\n",
    "    \"hovermode\": \"x\",\n",
    "    \"legend\": {\n",
    "        \"font_size\": 11,\n",
    "        'x': 0,\n",
    "        'y': 1,\n",
    "        \"itemclick\": \"toggleothers\",\n",
    "        \"itemdoubleclick\": \"toggle\",\n",
    "        \"tracegroupgap\": 2,\n",
    "    },\n",
    "    \"hoverlabel\": {\"font_color\": \"white\", \"namelength\": -1},\n",
    "    \"xaxis\": {\n",
    "        \"showline\": True,\n",
    "        \"linewidth\": 1.5,\n",
    "        \"linecolor\": \"#455266\",\n",
    "        \"ticks\": \"outside\",\n",
    "        \"tickwidth\": 1.5,\n",
    "        \"rangemode\": \"nonnegative\",\n",
    "    },\n",
    "    \"yaxis\": {\n",
    "        \"showline\": True,\n",
    "        \"linewidth\": 1.5,\n",
    "        \"linecolor\": \"#455266\",\n",
    "        \"ticks\": \"outside\",\n",
    "        \"tickwidth\": 1.5,\n",
    "        \"rangemode\": \"nonnegative\",\n",
    "    },\n",
    "    \"showlegend\": True,\n",
    "}\n",
    "\n",
    "i18n = {\n",
    "    'de': {\n",
    "    'booster': 'Mit Auffrischimpfung 18-59 Jahre',\n",
    "    'base': 'Grundimmunisierte  18-59 Jahre',\n",
    "    'unvax': 'Ungeimpfte 18-59 Jahre',\n",
    "    'title': 'Gemeldete Inzidenz vs. Machine Learning Nowcast',\n",
    "    'y_axis_title': 'Inzidenz',\n",
    "    'nowcast': 'Nowcast',\n",
    "    'insecurity': 'Modell Unsicherheit'\n",
    "    },\n",
    "    'en': {\n",
    "    'booster': 'With booster 18-59 years',\n",
    "    'base': 'Vaccinated  18-59 years',\n",
    "    'unvax': 'Unvaccinated 18-59 years',\n",
    "    'title': 'Reported Incidence vs. Machine Learning Nowcast',\n",
    "    'y_axis_title': 'Incidence',\n",
    "    'nowcast': 'Nowcast',\n",
    "    'insecurity': 'Confidence interval'\n",
    "    }\n",
    "}\n",
    "\n",
    "for language, translation in i18n.items():\n",
    "    fig = go.Figure()\n",
    "\n",
    "    fig.add_trace(go.Scatter(\n",
    "        y=predicted_incidence_plot_data['mean'].values[SKIP_DAYS:] + 2 * predicted_incidence_plot_data['std'].values[\n",
    "                                                                         SKIP_DAYS:],\n",
    "        x=predicted_incidence_plot_data['date'].values[SKIP_DAYS:],\n",
    "        showlegend=False,\n",
    "        legendgroup='nowcast',\n",
    "        mode='lines',\n",
    "        marker=dict(color=\"#444\"),\n",
    "        line=dict(width=0),\n",
    "        hoverinfo='skip'\n",
    "    ))\n",
    "    fig.add_trace(go.Scatter(\n",
    "        name=translation['insecurity'],\n",
    "        y=predicted_incidence_plot_data['mean'].values[SKIP_DAYS:] - 2 * predicted_incidence_plot_data['std'].values[\n",
    "                                                                         SKIP_DAYS:],\n",
    "        x=predicted_incidence_plot_data['date'].values[SKIP_DAYS:],\n",
    "        showlegend=False,\n",
    "        legendgroup='nowcast',\n",
    "        marker=dict(color=\"#444\"),\n",
    "        line=dict(width=0),\n",
    "        mode='lines',\n",
    "        fillcolor='rgba(65, 172, 221, 0.3)',  #'rgba(68, 68, 68, 0.3)'\n",
    "        fill='tonexty',\n",
    "        hoverinfo='skip'\n",
    "    ))\n",
    "\n",
    "    fig.add_trace(go.Scatter(\n",
    "        y=predicted_incidence_plot_data['mean'].values[SKIP_DAYS:-1],\n",
    "        x=predicted_incidence_plot_data['date'].values[SKIP_DAYS:-1],\n",
    "        name=translation['nowcast'],\n",
    "        legendgroup='nowcast',\n",
    "        mode='lines',\n",
    "        hovertemplate=\"%{y:.0f}\",\n",
    "        line=dict(width=2.5,\n",
    "                  color='#41ACDD'  #455266\n",
    "                  )))\n",
    "\n",
    "    fig.add_trace(go.Scatter(\n",
    "        y=questionnaire_incidence['incidence'].values[:-1],\n",
    "        x=questionnaire_incidence['date'].values[:-1],\n",
    "        name='questionnaire incidence',\n",
    "        legendgroup='nowcast',\n",
    "        mode='lines',\n",
    "        hovertemplate=\"%{y:.0f}\",\n",
    "        line=dict(width=2.5,\n",
    "                  color='red'  #455266\n",
    "                  )))\n",
    "\n",
    "    fig.add_trace(go.Scatter(\n",
    "        y=reported_incidence['Mit Auffrischimpfung 18-59 Jahre'].values[1:],\n",
    "        x=reported_incidence['date'].values[1:],\n",
    "        name=translation['booster'],\n",
    "        mode='markers',\n",
    "        hovertemplate=\"%{y:.0f}\",\n",
    "        marker=dict(size=8,\n",
    "                    color='white',  #41ACDD\n",
    "                    line=dict(width=2., color='red')  #DarkSlateGrey\n",
    "                    )))\n",
    "\n",
    "    fig.add_trace(go.Scatter(\n",
    "        y=reported_incidence['Grundimmunisierte  18-59 Jahre'].values[1:],\n",
    "        x=reported_incidence['date'].values[1:],\n",
    "        name=translation['base'],\n",
    "        mode='markers',\n",
    "        hovertemplate=\"%{y:.0f}\",\n",
    "        marker=dict(size=9,\n",
    "                    color='red',  #455266\n",
    "                    # line=dict(width=1.5, color='DarkSlateGrey')\n",
    "                    )\n",
    "    ))\n",
    "\n",
    "    fig.add_trace(go.Scatter(\n",
    "        y=reported_incidence['Ungeimpfte 18-59 Jahre'].values[1:],\n",
    "        x=reported_incidence['date'].values[1:],\n",
    "        name=translation['unvax'],\n",
    "        mode='markers',\n",
    "        hovertemplate=\"%{y:.0f}\",\n",
    "        marker=dict(size=9,\n",
    "                    color='#455266',  #red\n",
    "                    # line=dict(width=1.5, color='DarkSlateGrey')\n",
    "                    )))\n",
    "\n",
    "    layout = dict(\n",
    "        title_text=translation['title'],\n",
    "        yaxis_title=translation['y_axis_title'],\n",
    "        hovermode='x unified',\n",
    "        hoverlabel={'font': {\n",
    "            'color': 'black',\n",
    "        }},\n",
    "    )\n",
    "    fig.update_layout(default_layout)\n",
    "    fig.update_layout(layout)\n",
    "    fig.write_html(f'incidence_nowcast_{language}.html', include_plotlyjs='cdn', full_html=False,\n",
    "                   config={'responsive': 'true', 'displayModeBar': False})\n",
    "\n",
    "fig.write_image(f\"incidence_nowcast.png\")\n",
    "fig.show()"
   ],
   "metadata": {
    "collapsed": false,
    "pycharm": {
     "name": "#%%\n"
    }
   }
  },
  {
   "cell_type": "code",
   "execution_count": null,
   "outputs": [],
   "source": [],
   "metadata": {
    "collapsed": false,
    "pycharm": {
     "name": "#%%\n"
    }
   }
  }
 ],
 "metadata": {
  "kernelspec": {
   "display_name": "Python 3",
   "language": "python",
   "name": "python3"
  },
  "language_info": {
   "codemirror_mode": {
    "name": "ipython",
    "version": 3
   },
   "file_extension": ".py",
   "mimetype": "text/x-python",
   "name": "python",
   "nbconvert_exporter": "python",
   "pygments_lexer": "ipython3",
   "version": "3.8.10"
  }
 },
 "nbformat": 4,
 "nbformat_minor": 5
}