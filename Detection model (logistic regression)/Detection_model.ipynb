{
 "cells": [
  {
   "cell_type": "code",
   "execution_count": 1,
   "outputs": [
    {
     "name": "stdout",
     "output_type": "stream",
     "text": [
      "cached\n"
     ]
    },
    {
     "name": "stderr",
     "output_type": "stream",
     "text": [
      "/home/kolb/code/rki/ml-nowcasting/Detection model (logistic regression)/load_data.py:164: FutureWarning: The frame.append method is deprecated and will be removed from pandas in a future version. Use pandas.concat instead.\n",
      "  variant_data = variant_data.append(\n"
     ]
    },
    {
     "name": "stdout",
     "output_type": "stream",
     "text": [
      "293550 records from 7276 users present. \n",
      "63516 of which are complete.\n"
     ]
    },
    {
     "data": {
      "text/plain": "     test_week_start  omicronba1_share  omicronba2_share  delta_share  \\\n2018      2021-10-10               0.0               0.0    99.985714   \n2031      2021-10-11               0.0               0.0   100.000000   \n2063      2021-10-11               0.0               0.0   100.000000   \n2147      2021-10-12               0.0               0.0   100.000000   \n2166      2021-10-13               0.0               0.0   100.000000   \n\n       user_id  rhr_metric  steps_metric  sleep_duration_metric  \\\n2018  188847.0    0.000000      0.672339               0.338319   \n2031   95626.0    0.592305      0.354416               0.763862   \n2063  471186.0    2.088224      0.150060               0.793670   \n2147  830573.0    0.250712     -0.043135               0.638991   \n2166   12565.0    0.718733      0.016276              -0.173173   \n\n      vaccination_status  days_since_last_dose  ...  cough   cold diarrhea  \\\n2018                 2.0                 192.0  ...  False  False    False   \n2031                 2.0                  40.0  ...  False  False    False   \n2063                 2.0                 102.0  ...  False  False    False   \n2147                 2.0                 164.0  ...  False  False    False   \n2166                 2.0                 104.0  ...  False  False    False   \n\n     sore_throat asymptomatic test_result fittness    sex    age       date  \n2018       False         True       False    376.0  773.0  813.0 2021-10-10  \n2031       False         True       False    381.0  774.0  813.0 2021-10-11  \n2063       False         True       False    376.0  774.0  813.0 2021-10-11  \n2147        True        False       False    379.0  773.0  815.0 2021-10-12  \n2166       False        False       False    380.0  774.0  816.0 2021-10-13  \n\n[5 rows x 24 columns]",
      "text/html": "<div>\n<style scoped>\n    .dataframe tbody tr th:only-of-type {\n        vertical-align: middle;\n    }\n\n    .dataframe tbody tr th {\n        vertical-align: top;\n    }\n\n    .dataframe thead th {\n        text-align: right;\n    }\n</style>\n<table border=\"1\" class=\"dataframe\">\n  <thead>\n    <tr style=\"text-align: right;\">\n      <th></th>\n      <th>test_week_start</th>\n      <th>omicronba1_share</th>\n      <th>omicronba2_share</th>\n      <th>delta_share</th>\n      <th>user_id</th>\n      <th>rhr_metric</th>\n      <th>steps_metric</th>\n      <th>sleep_duration_metric</th>\n      <th>vaccination_status</th>\n      <th>days_since_last_dose</th>\n      <th>...</th>\n      <th>cough</th>\n      <th>cold</th>\n      <th>diarrhea</th>\n      <th>sore_throat</th>\n      <th>asymptomatic</th>\n      <th>test_result</th>\n      <th>fittness</th>\n      <th>sex</th>\n      <th>age</th>\n      <th>date</th>\n    </tr>\n  </thead>\n  <tbody>\n    <tr>\n      <th>2018</th>\n      <td>2021-10-10</td>\n      <td>0.0</td>\n      <td>0.0</td>\n      <td>99.985714</td>\n      <td>188847.0</td>\n      <td>0.000000</td>\n      <td>0.672339</td>\n      <td>0.338319</td>\n      <td>2.0</td>\n      <td>192.0</td>\n      <td>...</td>\n      <td>False</td>\n      <td>False</td>\n      <td>False</td>\n      <td>False</td>\n      <td>True</td>\n      <td>False</td>\n      <td>376.0</td>\n      <td>773.0</td>\n      <td>813.0</td>\n      <td>2021-10-10</td>\n    </tr>\n    <tr>\n      <th>2031</th>\n      <td>2021-10-11</td>\n      <td>0.0</td>\n      <td>0.0</td>\n      <td>100.000000</td>\n      <td>95626.0</td>\n      <td>0.592305</td>\n      <td>0.354416</td>\n      <td>0.763862</td>\n      <td>2.0</td>\n      <td>40.0</td>\n      <td>...</td>\n      <td>False</td>\n      <td>False</td>\n      <td>False</td>\n      <td>False</td>\n      <td>True</td>\n      <td>False</td>\n      <td>381.0</td>\n      <td>774.0</td>\n      <td>813.0</td>\n      <td>2021-10-11</td>\n    </tr>\n    <tr>\n      <th>2063</th>\n      <td>2021-10-11</td>\n      <td>0.0</td>\n      <td>0.0</td>\n      <td>100.000000</td>\n      <td>471186.0</td>\n      <td>2.088224</td>\n      <td>0.150060</td>\n      <td>0.793670</td>\n      <td>2.0</td>\n      <td>102.0</td>\n      <td>...</td>\n      <td>False</td>\n      <td>False</td>\n      <td>False</td>\n      <td>False</td>\n      <td>True</td>\n      <td>False</td>\n      <td>376.0</td>\n      <td>774.0</td>\n      <td>813.0</td>\n      <td>2021-10-11</td>\n    </tr>\n    <tr>\n      <th>2147</th>\n      <td>2021-10-12</td>\n      <td>0.0</td>\n      <td>0.0</td>\n      <td>100.000000</td>\n      <td>830573.0</td>\n      <td>0.250712</td>\n      <td>-0.043135</td>\n      <td>0.638991</td>\n      <td>2.0</td>\n      <td>164.0</td>\n      <td>...</td>\n      <td>False</td>\n      <td>False</td>\n      <td>False</td>\n      <td>True</td>\n      <td>False</td>\n      <td>False</td>\n      <td>379.0</td>\n      <td>773.0</td>\n      <td>815.0</td>\n      <td>2021-10-12</td>\n    </tr>\n    <tr>\n      <th>2166</th>\n      <td>2021-10-13</td>\n      <td>0.0</td>\n      <td>0.0</td>\n      <td>100.000000</td>\n      <td>12565.0</td>\n      <td>0.718733</td>\n      <td>0.016276</td>\n      <td>-0.173173</td>\n      <td>2.0</td>\n      <td>104.0</td>\n      <td>...</td>\n      <td>False</td>\n      <td>False</td>\n      <td>False</td>\n      <td>False</td>\n      <td>False</td>\n      <td>False</td>\n      <td>380.0</td>\n      <td>774.0</td>\n      <td>816.0</td>\n      <td>2021-10-13</td>\n    </tr>\n  </tbody>\n</table>\n<p>5 rows × 24 columns</p>\n</div>"
     },
     "execution_count": 1,
     "metadata": {},
     "output_type": "execute_result"
    }
   ],
   "source": [
    "from load_data import loading_and_pre_processing_pipeline\n",
    "\n",
    "feature_data = loading_and_pre_processing_pipeline()\n",
    "cleaned_feature_data = feature_data.dropna(axis=0)\n",
    "\n",
    "print(f'{len(feature_data)} records from {len(set(cleaned_feature_data[\"user_id\"].values))} users present. ')\n",
    "print(f'{len(cleaned_feature_data)} of which are complete.')\n",
    "cleaned_feature_data.head()"
   ],
   "metadata": {
    "collapsed": false,
    "pycharm": {
     "name": "#%%\n"
    }
   }
  },
  {
   "cell_type": "code",
   "execution_count": 2,
   "outputs": [
    {
     "name": "stdout",
     "output_type": "stream",
     "text": [
      "<class 'pandas.core.frame.DataFrame'>\n",
      "Int64Index: 293550 entries, 0 to 293549\n",
      "Data columns (total 24 columns):\n",
      " #   Column                   Non-Null Count   Dtype         \n",
      "---  ------                   --------------   -----         \n",
      " 0   test_week_start          293550 non-null  datetime64[ns]\n",
      " 1   omicronba1_share         290159 non-null  float64       \n",
      " 2   omicronba2_share         290159 non-null  float64       \n",
      " 3   delta_share              290159 non-null  float64       \n",
      " 4   user_id                  293310 non-null  float64       \n",
      " 5   rhr_metric               253716 non-null  float64       \n",
      " 6   steps_metric             263105 non-null  float64       \n",
      " 7   sleep_duration_metric    165160 non-null  float64       \n",
      " 8   vaccination_status       224961 non-null  float64       \n",
      " 9   days_since_last_dose     220038 non-null  float64       \n",
      " 10  chills                   286384 non-null  object        \n",
      " 11  body_pain                286384 non-null  object        \n",
      " 12  loss_of_taste_and_smell  286384 non-null  object        \n",
      " 13  fatigue                  285305 non-null  object        \n",
      " 14  cough                    286384 non-null  object        \n",
      " 15  cold                     286384 non-null  object        \n",
      " 16  diarrhea                 286384 non-null  object        \n",
      " 17  sore_throat              286384 non-null  object        \n",
      " 18  asymptomatic             286384 non-null  object        \n",
      " 19  test_result              162690 non-null  object        \n",
      " 20  fittness                 270719 non-null  float64       \n",
      " 21  sex                      271264 non-null  float64       \n",
      " 22  age                      271263 non-null  float64       \n",
      " 23  date                     293310 non-null  datetime64[ns]\n",
      "dtypes: datetime64[ns](2), float64(12), object(10)\n",
      "memory usage: 56.0+ MB\n"
     ]
    }
   ],
   "source": [
    "feature_data.info()"
   ],
   "metadata": {
    "collapsed": false,
    "pycharm": {
     "name": "#%%\n"
    }
   }
  },
  {
   "cell_type": "code",
   "execution_count": 10,
   "outputs": [],
   "source": [
    "\n",
    "import pandas as pd\n",
    "from sklearn.model_selection import GroupShuffleSplit\n",
    "\n",
    "from sklearn.linear_model import LogisticRegression\n",
    "from typing import List\n",
    "\n",
    "from sklearn.compose import make_column_transformer\n",
    "from sklearn.compose import make_column_selector as selector\n",
    "\n",
    "from imblearn.pipeline import make_pipeline as make_pipeline_with_sampler\n",
    "\n",
    "from sklearn.impute import SimpleImputer\n",
    "from sklearn.preprocessing import StandardScaler, OrdinalEncoder, PolynomialFeatures\n",
    "from sklearn.pipeline import make_pipeline\n",
    "\n",
    "num_pipe = make_pipeline(\n",
    "    StandardScaler(), SimpleImputer(strategy=\"mean\", add_indicator=True)\n",
    ")\n",
    "cat_pipe = make_pipeline(\n",
    "    SimpleImputer(strategy=\"constant\", fill_value=False),\n",
    "    OrdinalEncoder(),\n",
    ")\n",
    "\n",
    "preprocessor_linear = make_column_transformer(\n",
    "    [num_pipe, selector(dtype_include=\"number\")],\n",
    "    [cat_pipe, selector(dtype_include=\"object\")],\n",
    "    n_jobs=2,\n",
    ")\n",
    "\n",
    "lr_clf = make_pipeline_with_sampler(\n",
    "    preprocessor_linear,\n",
    "    PolynomialFeatures(interaction_only=True),\n",
    "    LogisticRegression(max_iter=1000, class_weight='balanced'),\n",
    ")\n",
    "\n",
    "\n",
    "def train_model(features: List[str], target: str, data: pd.DataFrame, random_state=42):\n",
    "\n",
    "    working_data = data.dropna(axis=0, subset=features + [target])\n",
    "\n",
    "    gsp = GroupShuffleSplit(test_size=.33, n_splits=1, random_state=random_state)\n",
    "    split = gsp.split(working_data, groups=working_data['user_id'])\n",
    "    train, test = next(split)\n",
    "\n",
    "    training_data = working_data.iloc[train]\n",
    "    testing_data = working_data.iloc[test]\n",
    "\n",
    "    X = training_data[features]\n",
    "    y = training_data[target].astype(int)\n",
    "\n",
    "    # pipe = make_pipeline(StandardScaler(), LogisticRegression())\n",
    "    pipe = lr_clf\n",
    "    pipe.fit(X, y)\n",
    "\n",
    "    return pipe, testing_data[features], testing_data[target].astype(int), test"
   ],
   "metadata": {
    "collapsed": false,
    "pycharm": {
     "name": "#%%\n"
    }
   }
  },
  {
   "cell_type": "code",
   "execution_count": 11,
   "outputs": [
    {
     "name": "stderr",
     "output_type": "stream",
     "text": [
      "/home/kolb/.cache/pypoetry/virtualenvs/ml-nowcasting-jKKypzXv-py3.8/lib/python3.8/site-packages/sklearn/utils/deprecation.py:87: FutureWarning:\n",
      "\n",
      "Function plot_roc_curve is deprecated; Function :func:`plot_roc_curve` is deprecated in 1.0 and will be removed in 1.2. Use one of the class methods: :meth:`sklearn.metric.RocCurveDisplay.from_predictions` or :meth:`sklearn.metric.RocCurveDisplay.from_estimator`.\n",
      "\n"
     ]
    },
    {
     "name": "stdout",
     "output_type": "stream",
     "text": [
      "Text(0, 0, '17916')\n"
     ]
    },
    {
     "data": {
      "text/plain": "<Figure size 800x400 with 3 Axes>",
      "image/png": "[encoded data removed]"
     },
     "metadata": {
      "needs_background": "light"
     },
     "output_type": "display_data"
    }
   ],
   "source": [
    "from analysis_plots import plot_analysis\n",
    "\n",
    "feature_names = [\n",
    "    \"rhr_metric\",\n",
    "    \"steps_metric\",\n",
    "    \"sleep_duration_metric\",\n",
    "    \"days_since_last_dose\",\n",
    "    \"vaccination_status\",\n",
    "    \"fittness\",\n",
    "    \"sex\",\n",
    "    \"age\",\n",
    "    'omicronba1_share',\n",
    "    'omicronba2_share',\n",
    "    'delta_share',\n",
    "    \"chills\",\n",
    "    \"body_pain\",\n",
    "    \"loss_of_taste_and_smell\",\n",
    "    \"fatigue\",\n",
    "    \"cough\",\n",
    "    \"cold\",\n",
    "    \"diarrhea\",\n",
    "    \"sore_throat\"\n",
    "]\n",
    "target = 'test_result'\n",
    "\n",
    "pipeline, X_test, y_test, _ = train_model(feature_names, target, cleaned_feature_data)\n",
    "\n",
    "fig = plot_analysis(pipeline, X_test, y_test, feature_names, 0.5)\n",
    "\n",
    "fig.savefig('model_metrics.png', dpi=300)"
   ],
   "metadata": {
    "collapsed": false,
    "pycharm": {
     "name": "#%%\n"
    }
   }
  },
  {
   "cell_type": "code",
   "execution_count": 12,
   "outputs": [],
   "source": [
    "import ramda as R\n",
    "from datetime import timedelta\n",
    "from numpy import random\n",
    "MEAN_DAYS = 7\n",
    "\n",
    "\n",
    "@R.curry\n",
    "def predicted_incidence(classifier, feature_data, threshold):\n",
    "    data = feature_data.set_index(['user_id', 'date'])\n",
    "\n",
    "    proba_infected = classifier.predict_proba(data[feature_names]).T[1].T\n",
    "\n",
    "    p = pd.DataFrame(\n",
    "        data=proba_infected, index=data.index, columns=[\"probability\"]\n",
    "    )\n",
    "\n",
    "    colname = f\"{MEAN_DAYS}d rolling mean detections\"\n",
    "\n",
    "    p[colname] = p[\"probability\"] > threshold\n",
    "\n",
    "    p['all'] = p['probability'] > 0\n",
    "\n",
    "    # if individuals are detected as infected in more than one week, take only the first detection\n",
    "    only_first_positive_detections = (p[p[colname] == True]\n",
    "                                      .reset_index()\n",
    "                                      .sort_values(['user_id', 'date'])\n",
    "                                      .groupby(['user_id'])\n",
    "                                      .agg({colname: 'first', 'all': 'first', 'date': lambda x: list(x)[0]})\n",
    "                                      .reset_index()\n",
    "                                      )\n",
    "    all_negative_detections = p[p[colname] == False].reset_index()\n",
    "\n",
    "    detected_infections = pd.concat([only_first_positive_detections, all_negative_detections])\n",
    "\n",
    "    detected_infections['date'] = detected_infections['date'].apply(\n",
    "        lambda d: d + timedelta(days=int(random.randint(0, 7, 1))))\n",
    "\n",
    "    rolling_mean_detections = (\n",
    "        detected_infections\n",
    "            .groupby(\"date\")\n",
    "            .sum()\n",
    "            .rolling(f'{MEAN_DAYS}D').mean()\n",
    "            .drop(columns=[\"probability\", \"user_id\"])\n",
    "    )\n",
    "\n",
    "    rolling_mean_detections[colname] = rolling_mean_detections[colname].div(rolling_mean_detections['all'], axis=0) * 100_000\n",
    "\n",
    "    return rolling_mean_detections.reset_index(), colname\n",
    "\n",
    "\n",
    "def predict_incidence_runs(cleaned_feature_data: pd.DataFrame, feature_names, threshold=0.2) -> pd.DataFrame:\n",
    "    runs = []\n",
    "    for i in range(10):\n",
    "        predictor, _, __, test_indices = train_model(feature_names, target, cleaned_feature_data, random_state=i)\n",
    "\n",
    "        nowcasted_incidence, predicted_incidence_column = predicted_incidence(predictor,\n",
    "                                                                              cleaned_feature_data.iloc[test_indices],\n",
    "                                                                              threshold)\n",
    "        nowcasted_incidence['run_id'] = i\n",
    "        runs.append(\n",
    "            nowcasted_incidence[[predicted_incidence_column, 'run_id', 'date']])\n",
    "\n",
    "    predicted_incidence_runs = pd.concat(runs).reset_index().sort_values('date')\n",
    "\n",
    "    predicted_incidence_plot_data = predicted_incidence_runs.groupby('date').agg(\n",
    "        {predicted_incidence_column: ['mean', 'std']}).reset_index()\n",
    "\n",
    "    predicted_incidence_plot_data.columns = ['date', 'mean', 'std']\n",
    "    return predicted_incidence_plot_data"
   ],
   "metadata": {
    "collapsed": false,
    "pycharm": {
     "name": "#%%\n"
    }
   }
  },
  {
   "cell_type": "code",
   "execution_count": 13,
   "outputs": [],
   "source": [
    "def calculate_questionnaire_incidence(cleaned_feature_data: pd.DataFrame) -> pd.DataFrame:\n",
    "\n",
    "    res1 = cleaned_feature_data.replace({True: 1, False: 0, None: 0, float('nan'): 0}).reset_index()[\n",
    "        ['test_result', 'date', 'user_id']]\n",
    "\n",
    "    res2 = res1.groupby('date').agg({'test_result': ['sum', 'count']})\n",
    "\n",
    "    res2.columns = res2.columns.droplevel(0)\n",
    "\n",
    "    res2['rate'] = res2['sum'].div(res2['count'])\n",
    "\n",
    "    res2['incidence'] = res2.rolling('7D')['rate'].mean() * 100_000\n",
    "\n",
    "    questionnaire_incidence = res2.reset_index().dropna(axis=0)[['incidence', 'date']]\n",
    "    questionnaire_incidence['date'] = questionnaire_incidence['date'] + timedelta(days=7)\n",
    "    return questionnaire_incidence"
   ],
   "metadata": {
    "collapsed": false,
    "pycharm": {
     "name": "#%%\n"
    }
   }
  },
  {
   "cell_type": "code",
   "execution_count": 14,
   "outputs": [],
   "source": [
    "import plotly.graph_objects as go\n",
    "from datetime import date, datetime\n",
    "\n",
    "SKIP_DAYS = 5\n",
    "\n",
    "# All\n",
    "threshold=0.6\n",
    "after = cleaned_feature_data[['date']] > pd.to_datetime(date(year=2021, month=11, day=1))\n",
    "before = cleaned_feature_data[['date']] < pd.to_datetime(datetime.now().date() - timedelta(days=1))\n",
    "\n",
    "working_data = cleaned_feature_data[(before & after).values]\n",
    "\n",
    "questionnaire_incidence = calculate_questionnaire_incidence(working_data)\n",
    "predicted_incidence_plot_data = predict_incidence_runs(working_data, feature_names, threshold)\n",
    "\n"
   ],
   "metadata": {
    "collapsed": false,
    "pycharm": {
     "name": "#%%\n"
    }
   }
  },
  {
   "cell_type": "code",
   "execution_count": 15,
   "outputs": [
    {
     "data": {
      "application/vnd.plotly.v1+json": {
       "data": [
        {
         "hoverinfo": "skip",
         "legendgroup": "nowcast",
         "line": {
          "width": 0
         },
         "marker": {
          "color": "#444"
         },
         "mode": "lines",
         "showlegend": false,
         "x": [
          "2021-11-07T00:00:00.000000000",
          "2021-11-08T00:00:00.000000000",
          "2021-11-09T00:00:00.000000000",
          "2021-11-10T00:00:00.000000000",
          "2021-11-11T00:00:00.000000000",
          "2021-11-12T00:00:00.000000000",
          "2021-11-13T00:00:00.000000000",
          "2021-11-14T00:00:00.000000000",
          "2021-11-15T00:00:00.000000000",
          "2021-11-16T00:00:00.000000000",
          "2021-11-17T00:00:00.000000000",
          "2021-11-18T00:00:00.000000000",
          "2021-11-19T00:00:00.000000000",
          "2021-11-20T00:00:00.000000000",
          "2021-11-21T00:00:00.000000000",
          "2021-11-22T00:00:00.000000000",
          "2021-11-23T00:00:00.000000000",
          "2021-11-24T00:00:00.000000000",
          "2021-11-25T00:00:00.000000000",
          "2021-11-26T00:00:00.000000000",
          "2021-11-27T00:00:00.000000000",
          "2021-11-28T00:00:00.000000000",
          "2021-11-29T00:00:00.000000000",
          "2021-11-30T00:00:00.000000000",
          "2021-12-01T00:00:00.000000000",
          "2021-12-02T00:00:00.000000000",
          "2021-12-03T00:00:00.000000000",
          "2021-12-04T00:00:00.000000000",
          "2021-12-05T00:00:00.000000000",
          "2021-12-06T00:00:00.000000000",
          "2021-12-07T00:00:00.000000000",
          "2021-12-08T00:00:00.000000000",
          "2021-12-09T00:00:00.000000000",
          "2021-12-10T00:00:00.000000000",
          "2021-12-11T00:00:00.000000000",
          "2021-12-12T00:00:00.000000000",
          "2021-12-13T00:00:00.000000000",
          "2021-12-14T00:00:00.000000000",
          "2021-12-15T00:00:00.000000000",
          "2021-12-16T00:00:00.000000000",
          "2021-12-17T00:00:00.000000000",
          "2021-12-18T00:00:00.000000000",
          "2021-12-19T00:00:00.000000000",
          "2021-12-20T00:00:00.000000000",
          "2021-12-21T00:00:00.000000000",
          "2021-12-22T00:00:00.000000000",
          "2021-12-23T00:00:00.000000000",
          "2021-12-24T00:00:00.000000000",
          "2021-12-25T00:00:00.000000000",
          "2021-12-26T00:00:00.000000000",
          "2021-12-27T00:00:00.000000000",
          "2021-12-28T00:00:00.000000000",
          "2021-12-29T00:00:00.000000000",
          "2021-12-30T00:00:00.000000000",
          "2021-12-31T00:00:00.000000000",
          "2022-01-01T00:00:00.000000000",
          "2022-01-02T00:00:00.000000000",
          "2022-01-03T00:00:00.000000000",
          "2022-01-04T00:00:00.000000000",
          "2022-01-05T00:00:00.000000000",
          "2022-01-06T00:00:00.000000000",
          "2022-01-07T00:00:00.000000000",
          "2022-01-08T00:00:00.000000000",
          "2022-01-09T00:00:00.000000000",
          "2022-01-10T00:00:00.000000000",
          "2022-01-11T00:00:00.000000000",
          "2022-01-12T00:00:00.000000000",
          "2022-01-13T00:00:00.000000000",
          "2022-01-14T00:00:00.000000000",
          "2022-01-15T00:00:00.000000000",
          "2022-01-16T00:00:00.000000000",
          "2022-01-17T00:00:00.000000000",
          "2022-01-18T00:00:00.000000000",
          "2022-01-19T00:00:00.000000000",
          "2022-01-20T00:00:00.000000000",
          "2022-01-21T00:00:00.000000000",
          "2022-01-22T00:00:00.000000000",
          "2022-01-23T00:00:00.000000000",
          "2022-01-24T00:00:00.000000000",
          "2022-01-25T00:00:00.000000000",
          "2022-01-26T00:00:00.000000000",
          "2022-01-27T00:00:00.000000000",
          "2022-01-28T00:00:00.000000000",
          "2022-01-29T00:00:00.000000000",
          "2022-01-30T00:00:00.000000000",
          "2022-01-31T00:00:00.000000000",
          "2022-02-01T00:00:00.000000000",
          "2022-02-02T00:00:00.000000000",
          "2022-02-03T00:00:00.000000000",
          "2022-02-04T00:00:00.000000000",
          "2022-02-05T00:00:00.000000000",
          "2022-02-06T00:00:00.000000000",
          "2022-02-07T00:00:00.000000000",
          "2022-02-08T00:00:00.000000000",
          "2022-02-09T00:00:00.000000000",
          "2022-02-10T00:00:00.000000000",
          "2022-02-11T00:00:00.000000000",
          "2022-02-12T00:00:00.000000000",
          "2022-02-13T00:00:00.000000000",
          "2022-02-14T00:00:00.000000000",
          "2022-02-15T00:00:00.000000000",
          "2022-02-16T00:00:00.000000000",
          "2022-02-17T00:00:00.000000000",
          "2022-02-18T00:00:00.000000000",
          "2022-02-19T00:00:00.000000000",
          "2022-02-20T00:00:00.000000000",
          "2022-02-21T00:00:00.000000000",
          "2022-02-22T00:00:00.000000000",
          "2022-02-23T00:00:00.000000000",
          "2022-02-24T00:00:00.000000000",
          "2022-02-25T00:00:00.000000000",
          "2022-02-26T00:00:00.000000000",
          "2022-02-27T00:00:00.000000000",
          "2022-02-28T00:00:00.000000000",
          "2022-03-01T00:00:00.000000000",
          "2022-03-02T00:00:00.000000000",
          "2022-03-03T00:00:00.000000000",
          "2022-03-04T00:00:00.000000000",
          "2022-03-05T00:00:00.000000000",
          "2022-03-06T00:00:00.000000000",
          "2022-03-07T00:00:00.000000000",
          "2022-03-08T00:00:00.000000000",
          "2022-03-09T00:00:00.000000000",
          "2022-03-10T00:00:00.000000000",
          "2022-03-11T00:00:00.000000000",
          "2022-03-12T00:00:00.000000000",
          "2022-03-13T00:00:00.000000000",
          "2022-03-14T00:00:00.000000000",
          "2022-03-15T00:00:00.000000000",
          "2022-03-16T00:00:00.000000000",
          "2022-03-17T00:00:00.000000000",
          "2022-03-18T00:00:00.000000000",
          "2022-03-19T00:00:00.000000000",
          "2022-03-20T00:00:00.000000000",
          "2022-03-21T00:00:00.000000000",
          "2022-03-22T00:00:00.000000000",
          "2022-03-23T00:00:00.000000000",
          "2022-03-24T00:00:00.000000000",
          "2022-03-25T00:00:00.000000000",
          "2022-03-26T00:00:00.000000000",
          "2022-03-27T00:00:00.000000000",
          "2022-03-28T00:00:00.000000000",
          "2022-03-29T00:00:00.000000000",
          "2022-03-30T00:00:00.000000000",
          "2022-03-31T00:00:00.000000000",
          "2022-04-01T00:00:00.000000000",
          "2022-04-02T00:00:00.000000000",
          "2022-04-03T00:00:00.000000000",
          "2022-04-04T00:00:00.000000000",
          "2022-04-05T00:00:00.000000000",
          "2022-04-06T00:00:00.000000000",
          "2022-04-07T00:00:00.000000000",
          "2022-04-08T00:00:00.000000000",
          "2022-04-09T00:00:00.000000000",
          "2022-04-10T00:00:00.000000000",
          "2022-04-11T00:00:00.000000000",
          "2022-04-12T00:00:00.000000000",
          "2022-04-13T00:00:00.000000000",
          "2022-04-14T00:00:00.000000000",
          "2022-04-15T00:00:00.000000000",
          "2022-04-16T00:00:00.000000000",
          "2022-04-17T00:00:00.000000000",
          "2022-04-18T00:00:00.000000000",
          "2022-04-19T00:00:00.000000000",
          "2022-04-20T00:00:00.000000000",
          "2022-04-21T00:00:00.000000000",
          "2022-04-22T00:00:00.000000000",
          "2022-04-23T00:00:00.000000000",
          "2022-04-24T00:00:00.000000000",
          "2022-04-25T00:00:00.000000000",
          "2022-04-26T00:00:00.000000000",
          "2022-04-27T00:00:00.000000000",
          "2022-04-28T00:00:00.000000000",
          "2022-04-29T00:00:00.000000000",
          "2022-04-30T00:00:00.000000000",
          "2022-05-01T00:00:00.000000000",
          "2022-05-02T00:00:00.000000000",
          "2022-05-03T00:00:00.000000000",
          "2022-05-04T00:00:00.000000000",
          "2022-05-05T00:00:00.000000000",
          "2022-05-06T00:00:00.000000000",
          "2022-05-07T00:00:00.000000000",
          "2022-05-08T00:00:00.000000000",
          "2022-05-09T00:00:00.000000000",
          "2022-05-10T00:00:00.000000000",
          "2022-05-11T00:00:00.000000000",
          "2022-05-12T00:00:00.000000000",
          "2022-05-13T00:00:00.000000000",
          "2022-05-14T00:00:00.000000000"
         ],
         "y": [
          5866.186549094016,
          5687.472748741204,
          5334.825263731776,
          4323.672706084008,
          4052.26922847465,
          4253.386150095301,
          4023.656600114182,
          3679.086665729395,
          3540.316013423113,
          2986.649672458553,
          2838.925412979019,
          2440.431632372809,
          2341.3380566361584,
          2007.5882706582588,
          1688.6946435269567,
          1655.4415234132643,
          1441.942351498335,
          1446.8869866785885,
          1463.840024038961,
          1558.812613807458,
          1634.7315697820056,
          1766.6816884973505,
          2118.6648817651662,
          2083.6483831883197,
          2339.085069232675,
          2374.372634455047,
          2018.3799156323862,
          1759.2731151112434,
          1854.7884869377533,
          1756.6906674827878,
          1760.5760656302568,
          1751.7290816091383,
          1667.4954759632683,
          1464.509687737096,
          1543.8084359968125,
          1343.5450284918998,
          1297.0267214263154,
          1088.2078781430023,
          1115.953174353061,
          1063.9203966892628,
          1104.9738448240228,
          883.7720278523675,
          928.3933117718462,
          805.9719455461118,
          743.9600486449394,
          695.1640689928049,
          769.3729188499052,
          826.3362406237695,
          968.507081890544,
          1137.3909235884933,
          1062.0634599395612,
          1170.473031177908,
          1420.6621452462255,
          1523.3656342608738,
          1371.619009715278,
          1367.431336210972,
          1320.5509754041361,
          1716.645540152497,
          1758.2350738217785,
          1968.0690828472839,
          2163.0900757515587,
          2381.84410770142,
          2715.7956128280675,
          3433.0101156900673,
          3059.108680122148,
          3918.892927675047,
          4375.149084454786,
          4356.474395299181,
          4293.171033820154,
          3965.4051667573212,
          4134.284687278653,
          4285.470268336236,
          4609.968719999868,
          5235.783151454061,
          5280.088838584422,
          5790.106727425224,
          5712.858285678315,
          5960.609096751156,
          6501.047605851837,
          6492.863162257117,
          6812.538018813576,
          6979.0803930774,
          7214.745885520594,
          8066.593384560063,
          7669.204337220822,
          7425.4870994189305,
          7227.804981915833,
          6973.297300814744,
          7066.718978839913,
          7303.688999360356,
          6978.442499471646,
          7149.499213252819,
          7618.372200208332,
          7431.9148320225395,
          7290.740945461601,
          7016.394927557315,
          6825.092872746613,
          7088.353394877366,
          7104.188697316274,
          7266.520543089268,
          6977.326105126282,
          7593.81722085941,
          8055.509751012307,
          7849.866160511599,
          7726.352756026222,
          7520.534030250372,
          7761.558775067342,
          7837.966926052132,
          7865.315708544169,
          8171.25438297799,
          8523.248457518057,
          8276.022076074478,
          8549.740284479023,
          8492.443386306522,
          8814.432680503558,
          8746.31150621016,
          8758.781023030206,
          8607.999602759719,
          8617.068702935827,
          8679.031964919677,
          8582.665167665627,
          8707.845856252696,
          9661.96795280668,
          9282.026999736323,
          9153.825669009457,
          9530.005975776086,
          9650.90582513583,
          10265.011481614081,
          9969.69889186371,
          9883.25271381343,
          9719.298474858922,
          9650.121503321037,
          9472.96252596095,
          9064.847598225764,
          8850.792488899411,
          9396.224650525704,
          9263.786135985998,
          9370.777654868309,
          10056.683246595781,
          9784.413743315044,
          9705.755992657221,
          9105.2806071033,
          8857.487398451663,
          7857.959929912439,
          8294.349295307613,
          7758.932164300624,
          7880.458789831765,
          7489.172773803246,
          7872.528659582974,
          8247.384037698728,
          8583.618909163939,
          8458.57839033365,
          8487.209790564028,
          8625.812884332969,
          8316.172969061134,
          8125.505879245643,
          8052.180886712753,
          8170.070431589915,
          7833.459284122895,
          7092.624746685608,
          6907.024061170492,
          6854.979059451642,
          7373.672764855904,
          7544.068540358988,
          7531.989413219812,
          7834.376187942333,
          7598.307277524266,
          7548.527363938505,
          7328.90500458357,
          7277.85282213722,
          7046.255043220095,
          6853.450020574512,
          6540.811673811881,
          6265.174226217687,
          6942.43433404618,
          7015.425039480705,
          6574.964452527446,
          6866.5795011302325,
          7095.807547852314,
          7683.100172482151,
          8326.723961951251,
          8537.199324841999,
          9979.032254707316,
          11941.362421314865,
          10624.655754278647,
          14443.150830794058,
          11129.172970162526,
          12142.448033639455,
          27345.908033901353
         ],
         "type": "scatter"
        },
        {
         "fill": "tonexty",
         "fillcolor": "rgba(65, 172, 221, 0.3)",
         "hoverinfo": "skip",
         "legendgroup": "nowcast",
         "line": {
          "width": 0
         },
         "marker": {
          "color": "#444"
         },
         "mode": "lines",
         "name": "Confidence interval",
         "showlegend": false,
         "x": [
          "2021-11-07T00:00:00.000000000",
          "2021-11-08T00:00:00.000000000",
          "2021-11-09T00:00:00.000000000",
          "2021-11-10T00:00:00.000000000",
          "2021-11-11T00:00:00.000000000",
          "2021-11-12T00:00:00.000000000",
          "2021-11-13T00:00:00.000000000",
          "2021-11-14T00:00:00.000000000",
          "2021-11-15T00:00:00.000000000",
          "2021-11-16T00:00:00.000000000",
          "2021-11-17T00:00:00.000000000",
          "2021-11-18T00:00:00.000000000",
          "2021-11-19T00:00:00.000000000",
          "2021-11-20T00:00:00.000000000",
          "2021-11-21T00:00:00.000000000",
          "2021-11-22T00:00:00.000000000",
          "2021-11-23T00:00:00.000000000",
          "2021-11-24T00:00:00.000000000",
          "2021-11-25T00:00:00.000000000",
          "2021-11-26T00:00:00.000000000",
          "2021-11-27T00:00:00.000000000",
          "2021-11-28T00:00:00.000000000",
          "2021-11-29T00:00:00.000000000",
          "2021-11-30T00:00:00.000000000",
          "2021-12-01T00:00:00.000000000",
          "2021-12-02T00:00:00.000000000",
          "2021-12-03T00:00:00.000000000",
          "2021-12-04T00:00:00.000000000",
          "2021-12-05T00:00:00.000000000",
          "2021-12-06T00:00:00.000000000",
          "2021-12-07T00:00:00.000000000",
          "2021-12-08T00:00:00.000000000",
          "2021-12-09T00:00:00.000000000",
          "2021-12-10T00:00:00.000000000",
          "2021-12-11T00:00:00.000000000",
          "2021-12-12T00:00:00.000000000",
          "2021-12-13T00:00:00.000000000",
          "2021-12-14T00:00:00.000000000",
          "2021-12-15T00:00:00.000000000",
          "2021-12-16T00:00:00.000000000",
          "2021-12-17T00:00:00.000000000",
          "2021-12-18T00:00:00.000000000",
          "2021-12-19T00:00:00.000000000",
          "2021-12-20T00:00:00.000000000",
          "2021-12-21T00:00:00.000000000",
          "2021-12-22T00:00:00.000000000",
          "2021-12-23T00:00:00.000000000",
          "2021-12-24T00:00:00.000000000",
          "2021-12-25T00:00:00.000000000",
          "2021-12-26T00:00:00.000000000",
          "2021-12-27T00:00:00.000000000",
          "2021-12-28T00:00:00.000000000",
          "2021-12-29T00:00:00.000000000",
          "2021-12-30T00:00:00.000000000",
          "2021-12-31T00:00:00.000000000",
          "2022-01-01T00:00:00.000000000",
          "2022-01-02T00:00:00.000000000",
          "2022-01-03T00:00:00.000000000",
          "2022-01-04T00:00:00.000000000",
          "2022-01-05T00:00:00.000000000",
          "2022-01-06T00:00:00.000000000",
          "2022-01-07T00:00:00.000000000",
          "2022-01-08T00:00:00.000000000",
          "2022-01-09T00:00:00.000000000",
          "2022-01-10T00:00:00.000000000",
          "2022-01-11T00:00:00.000000000",
          "2022-01-12T00:00:00.000000000",
          "2022-01-13T00:00:00.000000000",
          "2022-01-14T00:00:00.000000000",
          "2022-01-15T00:00:00.000000000",
          "2022-01-16T00:00:00.000000000",
          "2022-01-17T00:00:00.000000000",
          "2022-01-18T00:00:00.000000000",
          "2022-01-19T00:00:00.000000000",
          "2022-01-20T00:00:00.000000000",
          "2022-01-21T00:00:00.000000000",
          "2022-01-22T00:00:00.000000000",
          "2022-01-23T00:00:00.000000000",
          "2022-01-24T00:00:00.000000000",
          "2022-01-25T00:00:00.000000000",
          "2022-01-26T00:00:00.000000000",
          "2022-01-27T00:00:00.000000000",
          "2022-01-28T00:00:00.000000000",
          "2022-01-29T00:00:00.000000000",
          "2022-01-30T00:00:00.000000000",
          "2022-01-31T00:00:00.000000000",
          "2022-02-01T00:00:00.000000000",
          "2022-02-02T00:00:00.000000000",
          "2022-02-03T00:00:00.000000000",
          "2022-02-04T00:00:00.000000000",
          "2022-02-05T00:00:00.000000000",
          "2022-02-06T00:00:00.000000000",
          "2022-02-07T00:00:00.000000000",
          "2022-02-08T00:00:00.000000000",
          "2022-02-09T00:00:00.000000000",
          "2022-02-10T00:00:00.000000000",
          "2022-02-11T00:00:00.000000000",
          "2022-02-12T00:00:00.000000000",
          "2022-02-13T00:00:00.000000000",
          "2022-02-14T00:00:00.000000000",
          "2022-02-15T00:00:00.000000000",
          "2022-02-16T00:00:00.000000000",
          "2022-02-17T00:00:00.000000000",
          "2022-02-18T00:00:00.000000000",
          "2022-02-19T00:00:00.000000000",
          "2022-02-20T00:00:00.000000000",
          "2022-02-21T00:00:00.000000000",
          "2022-02-22T00:00:00.000000000",
          "2022-02-23T00:00:00.000000000",
          "2022-02-24T00:00:00.000000000",
          "2022-02-25T00:00:00.000000000",
          "2022-02-26T00:00:00.000000000",
          "2022-02-27T00:00:00.000000000",
          "2022-02-28T00:00:00.000000000",
          "2022-03-01T00:00:00.000000000",
          "2022-03-02T00:00:00.000000000",
          "2022-03-03T00:00:00.000000000",
          "2022-03-04T00:00:00.000000000",
          "2022-03-05T00:00:00.000000000",
          "2022-03-06T00:00:00.000000000",
          "2022-03-07T00:00:00.000000000",
          "2022-03-08T00:00:00.000000000",
          "2022-03-09T00:00:00.000000000",
          "2022-03-10T00:00:00.000000000",
          "2022-03-11T00:00:00.000000000",
          "2022-03-12T00:00:00.000000000",
          "2022-03-13T00:00:00.000000000",
          "2022-03-14T00:00:00.000000000",
          "2022-03-15T00:00:00.000000000",
          "2022-03-16T00:00:00.000000000",
          "2022-03-17T00:00:00.000000000",
          "2022-03-18T00:00:00.000000000",
          "2022-03-19T00:00:00.000000000",
          "2022-03-20T00:00:00.000000000",
          "2022-03-21T00:00:00.000000000",
          "2022-03-22T00:00:00.000000000",
          "2022-03-23T00:00:00.000000000",
          "2022-03-24T00:00:00.000000000",
          "2022-03-25T00:00:00.000000000",
          "2022-03-26T00:00:00.000000000",
          "2022-03-27T00:00:00.000000000",
          "2022-03-28T00:00:00.000000000",
          "2022-03-29T00:00:00.000000000",
          "2022-03-30T00:00:00.000000000",
          "2022-03-31T00:00:00.000000000",
          "2022-04-01T00:00:00.000000000",
          "2022-04-02T00:00:00.000000000",
          "2022-04-03T00:00:00.000000000",
          "2022-04-04T00:00:00.000000000",
          "2022-04-05T00:00:00.000000000",
          "2022-04-06T00:00:00.000000000",
          "2022-04-07T00:00:00.000000000",
          "2022-04-08T00:00:00.000000000",
          "2022-04-09T00:00:00.000000000",
          "2022-04-10T00:00:00.000000000",
          "2022-04-11T00:00:00.000000000",
          "2022-04-12T00:00:00.000000000",
          "2022-04-13T00:00:00.000000000",
          "2022-04-14T00:00:00.000000000",
          "2022-04-15T00:00:00.000000000",
          "2022-04-16T00:00:00.000000000",
          "2022-04-17T00:00:00.000000000",
          "2022-04-18T00:00:00.000000000",
          "2022-04-19T00:00:00.000000000",
          "2022-04-20T00:00:00.000000000",
          "2022-04-21T00:00:00.000000000",
          "2022-04-22T00:00:00.000000000",
          "2022-04-23T00:00:00.000000000",
          "2022-04-24T00:00:00.000000000",
          "2022-04-25T00:00:00.000000000",
          "2022-04-26T00:00:00.000000000",
          "2022-04-27T00:00:00.000000000",
          "2022-04-28T00:00:00.000000000",
          "2022-04-29T00:00:00.000000000",
          "2022-04-30T00:00:00.000000000",
          "2022-05-01T00:00:00.000000000",
          "2022-05-02T00:00:00.000000000",
          "2022-05-03T00:00:00.000000000",
          "2022-05-04T00:00:00.000000000",
          "2022-05-05T00:00:00.000000000",
          "2022-05-06T00:00:00.000000000",
          "2022-05-07T00:00:00.000000000",
          "2022-05-08T00:00:00.000000000",
          "2022-05-09T00:00:00.000000000",
          "2022-05-10T00:00:00.000000000",
          "2022-05-11T00:00:00.000000000",
          "2022-05-12T00:00:00.000000000",
          "2022-05-13T00:00:00.000000000",
          "2022-05-14T00:00:00.000000000"
         ],
         "y": [
          -1446.146591122772,
          -1634.3463810196656,
          -1103.3283619224567,
          -276.3701919060179,
          -380.5646130526327,
          -625.4671221559829,
          -533.3467833432787,
          -311.0401067730222,
          -262.0323197780922,
          -62.60837912714351,
          -45.875814992182995,
          167.7837365155981,
          139.26120066371027,
          252.09643378926933,
          278.97691314700046,
          144.001529048164,
          277.1023635937232,
          110.06590484805918,
          178.96984086703344,
          212.57595895576173,
          305.15016224319334,
          327.7498453902757,
          200.05043052097471,
          266.17411444844026,
          -42.61886652913563,
          -224.00468075494678,
          16.176201397337536,
          112.5971082194917,
          -5.354772846430706,
          -1.870079535004379,
          81.61428675309719,
          108.9178199678397,
          216.98312747562318,
          216.66273738104428,
          175.37749624224682,
          125.04403743574437,
          33.58065388159878,
          34.58188519972589,
          -63.39785544465178,
          -98.45233123384907,
          -121.14814874202455,
          26.50463023614674,
          19.466900250188928,
          134.00792360561235,
          228.92261405013846,
          219.1230679530855,
          101.92005486089215,
          147.72087345813225,
          14.66217307966133,
          30.894262077525582,
          189.87147141905353,
          135.20332014348799,
          -15.528522180696768,
          71.8110768460948,
          398.8108417419233,
          614.3875366215116,
          631.8866194620971,
          480.9254731488984,
          627.3330490933988,
          618.4524558687482,
          899.0006136807815,
          855.9131881066397,
          694.9588024993465,
          750.2468827373834,
          1273.8558538095158,
          1032.1668070790774,
          1024.5657720230886,
          732.4803045854635,
          1328.5248594642833,
          2124.4719560582043,
          2107.8076242487014,
          2547.126034108718,
          2755.7989145344654,
          2968.1885504603088,
          3581.1998060491633,
          3369.2257197083823,
          3278.632870412098,
          3681.3900896048226,
          3293.816413846841,
          3189.9205157774322,
          3192.3005902956293,
          3362.6054842229005,
          3413.5213200105,
          3302.4763874737914,
          3728.997101400312,
          4137.309938576617,
          4905.9898812614065,
          5100.412975393421,
          4798.70115346621,
          4475.778605179767,
          4141.670984349936,
          4125.866439343479,
          3610.6823272542856,
          3711.891583748451,
          3636.2378342857064,
          4198.161952338362,
          4519.82065244811,
          4926.905155940183,
          5074.263123664009,
          4888.783750165278,
          5329.610578695423,
          4949.309224062044,
          4556.1137614942,
          4724.926589378027,
          4921.446229901937,
          5118.8537433969395,
          5301.263291183124,
          5104.241821252895,
          5673.277399170405,
          5248.300763589319,
          5283.104665994663,
          5537.1415072181735,
          5422.647979388926,
          5728.102926246374,
          5654.415107992978,
          5468.342021384225,
          5643.036077508443,
          5284.060212085256,
          5260.559328004156,
          5444.808819873762,
          5612.044285664146,
          5695.526920703034,
          5413.087587721425,
          5949.820408471806,
          6871.310664401094,
          6902.050100104264,
          6706.434854723875,
          6298.928999608201,
          6699.761001848092,
          6266.507647203301,
          6223.340411028297,
          5992.475032661949,
          5910.546142686746,
          6293.473392992046,
          6442.49899259994,
          6327.44754917333,
          6608.173116494303,
          6778.128817498282,
          6370.00250096335,
          6688.475081498271,
          5985.376939701299,
          5875.281499590974,
          5515.077274636138,
          5997.99220590843,
          5556.456108061565,
          5778.571252103304,
          5274.995627997626,
          5753.83797663987,
          6030.8319837725985,
          5477.203128365899,
          5479.5264351957985,
          5508.890786729514,
          5585.9592645198545,
          5247.156248472862,
          5349.115259093176,
          4703.730393175977,
          4493.546704218916,
          4103.361159029477,
          3957.9986183570095,
          4393.183145543727,
          4579.226735759532,
          4867.278443194489,
          4810.9205267221,
          4839.750246647397,
          4814.063318934189,
          4815.172114717912,
          4913.666856709347,
          4990.304726731563,
          4857.155840644804,
          4392.772476668502,
          4208.744565680792,
          4196.744994415005,
          3935.484847437463,
          4077.139454180882,
          3794.3919271151303,
          4197.664713326515,
          4928.340150840681,
          4812.381616144561,
          4555.356781346473,
          4561.453728345772,
          4222.335177371615,
          3755.7305055393294,
          993.9377295939494,
          1.1550509171765952,
          -884.5883143491765,
          -3053.7119890442937,
          -1622.261752724994,
          -3253.5591447505667,
          -13060.19374818707
         ],
         "type": "scatter"
        },
        {
         "hovertemplate": "%{y:.0f}",
         "legendgroup": "nowcast",
         "line": {
          "color": "#41ACDD",
          "width": 2.5
         },
         "mode": "lines",
         "name": "Nowcast",
         "x": [
          "2021-11-07T00:00:00.000000000",
          "2021-11-08T00:00:00.000000000",
          "2021-11-09T00:00:00.000000000",
          "2021-11-10T00:00:00.000000000",
          "2021-11-11T00:00:00.000000000",
          "2021-11-12T00:00:00.000000000",
          "2021-11-13T00:00:00.000000000",
          "2021-11-14T00:00:00.000000000",
          "2021-11-15T00:00:00.000000000",
          "2021-11-16T00:00:00.000000000",
          "2021-11-17T00:00:00.000000000",
          "2021-11-18T00:00:00.000000000",
          "2021-11-19T00:00:00.000000000",
          "2021-11-20T00:00:00.000000000",
          "2021-11-21T00:00:00.000000000",
          "2021-11-22T00:00:00.000000000",
          "2021-11-23T00:00:00.000000000",
          "2021-11-24T00:00:00.000000000",
          "2021-11-25T00:00:00.000000000",
          "2021-11-26T00:00:00.000000000",
          "2021-11-27T00:00:00.000000000",
          "2021-11-28T00:00:00.000000000",
          "2021-11-29T00:00:00.000000000",
          "2021-11-30T00:00:00.000000000",
          "2021-12-01T00:00:00.000000000",
          "2021-12-02T00:00:00.000000000",
          "2021-12-03T00:00:00.000000000",
          "2021-12-04T00:00:00.000000000",
          "2021-12-05T00:00:00.000000000",
          "2021-12-06T00:00:00.000000000",
          "2021-12-07T00:00:00.000000000",
          "2021-12-08T00:00:00.000000000",
          "2021-12-09T00:00:00.000000000",
          "2021-12-10T00:00:00.000000000",
          "2021-12-11T00:00:00.000000000",
          "2021-12-12T00:00:00.000000000",
          "2021-12-13T00:00:00.000000000",
          "2021-12-14T00:00:00.000000000",
          "2021-12-15T00:00:00.000000000",
          "2021-12-16T00:00:00.000000000",
          "2021-12-17T00:00:00.000000000",
          "2021-12-18T00:00:00.000000000",
          "2021-12-19T00:00:00.000000000",
          "2021-12-20T00:00:00.000000000",
          "2021-12-21T00:00:00.000000000",
          "2021-12-22T00:00:00.000000000",
          "2021-12-23T00:00:00.000000000",
          "2021-12-24T00:00:00.000000000",
          "2021-12-25T00:00:00.000000000",
          "2021-12-26T00:00:00.000000000",
          "2021-12-27T00:00:00.000000000",
          "2021-12-28T00:00:00.000000000",
          "2021-12-29T00:00:00.000000000",
          "2021-12-30T00:00:00.000000000",
          "2021-12-31T00:00:00.000000000",
          "2022-01-01T00:00:00.000000000",
          "2022-01-02T00:00:00.000000000",
          "2022-01-03T00:00:00.000000000",
          "2022-01-04T00:00:00.000000000",
          "2022-01-05T00:00:00.000000000",
          "2022-01-06T00:00:00.000000000",
          "2022-01-07T00:00:00.000000000",
          "2022-01-08T00:00:00.000000000",
          "2022-01-09T00:00:00.000000000",
          "2022-01-10T00:00:00.000000000",
          "2022-01-11T00:00:00.000000000",
          "2022-01-12T00:00:00.000000000",
          "2022-01-13T00:00:00.000000000",
          "2022-01-14T00:00:00.000000000",
          "2022-01-15T00:00:00.000000000",
          "2022-01-16T00:00:00.000000000",
          "2022-01-17T00:00:00.000000000",
          "2022-01-18T00:00:00.000000000",
          "2022-01-19T00:00:00.000000000",
          "2022-01-20T00:00:00.000000000",
          "2022-01-21T00:00:00.000000000",
          "2022-01-22T00:00:00.000000000",
          "2022-01-23T00:00:00.000000000",
          "2022-01-24T00:00:00.000000000",
          "2022-01-25T00:00:00.000000000",
          "2022-01-26T00:00:00.000000000",
          "2022-01-27T00:00:00.000000000",
          "2022-01-28T00:00:00.000000000",
          "2022-01-29T00:00:00.000000000",
          "2022-01-30T00:00:00.000000000",
          "2022-01-31T00:00:00.000000000",
          "2022-02-01T00:00:00.000000000",
          "2022-02-02T00:00:00.000000000",
          "2022-02-03T00:00:00.000000000",
          "2022-02-04T00:00:00.000000000",
          "2022-02-05T00:00:00.000000000",
          "2022-02-06T00:00:00.000000000",
          "2022-02-07T00:00:00.000000000",
          "2022-02-08T00:00:00.000000000",
          "2022-02-09T00:00:00.000000000",
          "2022-02-10T00:00:00.000000000",
          "2022-02-11T00:00:00.000000000",
          "2022-02-12T00:00:00.000000000",
          "2022-02-13T00:00:00.000000000",
          "2022-02-14T00:00:00.000000000",
          "2022-02-15T00:00:00.000000000",
          "2022-02-16T00:00:00.000000000",
          "2022-02-17T00:00:00.000000000",
          "2022-02-18T00:00:00.000000000",
          "2022-02-19T00:00:00.000000000",
          "2022-02-20T00:00:00.000000000",
          "2022-02-21T00:00:00.000000000",
          "2022-02-22T00:00:00.000000000",
          "2022-02-23T00:00:00.000000000",
          "2022-02-24T00:00:00.000000000",
          "2022-02-25T00:00:00.000000000",
          "2022-02-26T00:00:00.000000000",
          "2022-02-27T00:00:00.000000000",
          "2022-02-28T00:00:00.000000000",
          "2022-03-01T00:00:00.000000000",
          "2022-03-02T00:00:00.000000000",
          "2022-03-03T00:00:00.000000000",
          "2022-03-04T00:00:00.000000000",
          "2022-03-05T00:00:00.000000000",
          "2022-03-06T00:00:00.000000000",
          "2022-03-07T00:00:00.000000000",
          "2022-03-08T00:00:00.000000000",
          "2022-03-09T00:00:00.000000000",
          "2022-03-10T00:00:00.000000000",
          "2022-03-11T00:00:00.000000000",
          "2022-03-12T00:00:00.000000000",
          "2022-03-13T00:00:00.000000000",
          "2022-03-14T00:00:00.000000000",
          "2022-03-15T00:00:00.000000000",
          "2022-03-16T00:00:00.000000000",
          "2022-03-17T00:00:00.000000000",
          "2022-03-18T00:00:00.000000000",
          "2022-03-19T00:00:00.000000000",
          "2022-03-20T00:00:00.000000000",
          "2022-03-21T00:00:00.000000000",
          "2022-03-22T00:00:00.000000000",
          "2022-03-23T00:00:00.000000000",
          "2022-03-24T00:00:00.000000000",
          "2022-03-25T00:00:00.000000000",
          "2022-03-26T00:00:00.000000000",
          "2022-03-27T00:00:00.000000000",
          "2022-03-28T00:00:00.000000000",
          "2022-03-29T00:00:00.000000000",
          "2022-03-30T00:00:00.000000000",
          "2022-03-31T00:00:00.000000000",
          "2022-04-01T00:00:00.000000000",
          "2022-04-02T00:00:00.000000000",
          "2022-04-03T00:00:00.000000000",
          "2022-04-04T00:00:00.000000000",
          "2022-04-05T00:00:00.000000000",
          "2022-04-06T00:00:00.000000000",
          "2022-04-07T00:00:00.000000000",
          "2022-04-08T00:00:00.000000000",
          "2022-04-09T00:00:00.000000000",
          "2022-04-10T00:00:00.000000000",
          "2022-04-11T00:00:00.000000000",
          "2022-04-12T00:00:00.000000000",
          "2022-04-13T00:00:00.000000000",
          "2022-04-14T00:00:00.000000000",
          "2022-04-15T00:00:00.000000000",
          "2022-04-16T00:00:00.000000000",
          "2022-04-17T00:00:00.000000000",
          "2022-04-18T00:00:00.000000000",
          "2022-04-19T00:00:00.000000000",
          "2022-04-20T00:00:00.000000000",
          "2022-04-21T00:00:00.000000000",
          "2022-04-22T00:00:00.000000000",
          "2022-04-23T00:00:00.000000000",
          "2022-04-24T00:00:00.000000000",
          "2022-04-25T00:00:00.000000000",
          "2022-04-26T00:00:00.000000000",
          "2022-04-27T00:00:00.000000000",
          "2022-04-28T00:00:00.000000000",
          "2022-04-29T00:00:00.000000000",
          "2022-04-30T00:00:00.000000000",
          "2022-05-01T00:00:00.000000000",
          "2022-05-02T00:00:00.000000000",
          "2022-05-03T00:00:00.000000000",
          "2022-05-04T00:00:00.000000000",
          "2022-05-05T00:00:00.000000000",
          "2022-05-06T00:00:00.000000000",
          "2022-05-07T00:00:00.000000000",
          "2022-05-08T00:00:00.000000000",
          "2022-05-09T00:00:00.000000000",
          "2022-05-10T00:00:00.000000000",
          "2022-05-11T00:00:00.000000000",
          "2022-05-12T00:00:00.000000000",
          "2022-05-13T00:00:00.000000000"
         ],
         "y": [
          2210.0199789856224,
          2026.563183860769,
          2115.74845090466,
          2023.6512570889947,
          1835.8523077110087,
          1813.959513969659,
          1745.1549083854516,
          1684.0232794781864,
          1639.1418468225104,
          1462.0206466657048,
          1396.524798993418,
          1304.1076844442036,
          1240.2996286499342,
          1129.842352223764,
          983.8357783369786,
          899.7215262307142,
          859.5223575460292,
          778.4764457633238,
          821.4049324529972,
          885.6942863816099,
          969.9408660125995,
          1047.2157669438132,
          1159.3576561430705,
          1174.91124881838,
          1148.2331013517696,
          1075.1839768500502,
          1017.2780585148619,
          935.9351116653676,
          924.7168570456613,
          877.4102939738917,
          921.0951761916771,
          930.323450788489,
          942.2393017194457,
          840.5862125590702,
          859.5929661195296,
          734.294532963822,
          665.3036876539571,
          561.394881671364,
          526.2776594542046,
          482.73403272770685,
          491.91284804099905,
          455.13832904425715,
          473.9301060110176,
          469.98993457586204,
          486.44133134753895,
          457.1435684729452,
          435.6464868553987,
          487.0285570409509,
          491.58462748510266,
          584.1425928330094,
          625.9674656793073,
          652.838175660698,
          702.5668115327644,
          797.5883555534843,
          885.2149257286006,
          990.9094364162418,
          976.2187974331166,
          1098.7855066506977,
          1192.7840614575887,
          1293.260769358016,
          1531.0453447161701,
          1618.8786479040298,
          1705.377207663707,
          2091.6284992137253,
          2166.482266965832,
          2475.529867377062,
          2699.8574282389372,
          2544.4773499423222,
          2810.8479466422186,
          3044.938561407763,
          3121.0461557636772,
          3416.298151222477,
          3682.8838172671667,
          4101.985850957185,
          4430.644322316793,
          4579.666223566803,
          4495.7455780452065,
          4820.9995931779895,
          4897.432009849339,
          4841.391839017275,
          5002.419304554603,
          5170.84293865015,
          5314.133602765547,
          5684.534886016927,
          5699.100719310567,
          5781.398518997774,
          6066.89743158862,
          6036.8551381040825,
          5932.710066153061,
          5889.7338022700615,
          5560.056741910791,
          5637.682826298149,
          5614.527263731309,
          5571.903207885495,
          5463.489389873654,
          5607.278439947839,
          5672.456762597361,
          6007.629275408774,
          6089.225910490141,
          6077.652146627273,
          6153.468341910852,
          6271.563222460727,
          6305.811756253253,
          6287.396374944813,
          6323.899492964079,
          6319.693886823656,
          6531.411033125233,
          6471.1043736525135,
          6769.296553857287,
          6709.777573283654,
          6903.176561756361,
          6906.581791646326,
          6986.194131933975,
          7110.273156276448,
          7234.423894248268,
          7107.326763797193,
          7200.908550269324,
          6946.029907422488,
          6938.814015469991,
          7061.92039239672,
          7097.354726664887,
          7201.686388477865,
          7537.527770264052,
          7615.923704104064,
          8012.568166705275,
          8216.028037940176,
          8178.670339929852,
          8281.970240611141,
          8334.729946855901,
          8074.880180508366,
          7971.31944294361,
          7821.298267991493,
          7691.754334323848,
          7679.160495608905,
          7646.6457407496755,
          7861.836099849517,
          7935.9796262401505,
          8074.453236183295,
          8213.342873779566,
          8236.444412406658,
          7845.56646617926,
          7490.281053347137,
          7186.282336543901,
          6927.976067910435,
          6925.4027016845885,
          6768.751708201964,
          6577.727208914695,
          6621.505375221558,
          6951.680321677786,
          6862.293583032314,
          7031.572672179868,
          6983.734588531583,
          7036.5845275419415,
          6936.484566402915,
          6832.644114077155,
          6414.61813621081,
          6272.863795465834,
          6136.715795309696,
          5895.728951239952,
          5742.903946114668,
          5743.125398465012,
          5861.128751323065,
          6092.296645789002,
          6191.909393503192,
          6173.026366077001,
          6324.774151330123,
          6255.987067116806,
          6269.416045335034,
          6093.030422614187,
          5835.312649402861,
          5627.499804450444,
          5525.097507494758,
          5238.148260624672,
          5171.1568401992845,
          5368.413130580655,
          5606.54487640361,
          5751.652301684064,
          5839.480558637397,
          5825.582164599394,
          6122.2769504139615,
          6274.529569661433,
          6146.464915190664,
          5486.484992150633,
          5971.258736116021,
          4870.033719964736,
          5694.719420874882,
          4753.455608718767,
          4444.444444444444
         ],
         "type": "scatter"
        },
        {
         "hovertemplate": "%{y:.0f}",
         "legendgroup": "nowcast",
         "line": {
          "color": "red",
          "width": 2.5
         },
         "mode": "lines",
         "name": "questionnaire incidence",
         "x": [
          "2021-11-09T00:00:00.000000000",
          "2021-11-10T00:00:00.000000000",
          "2021-11-11T00:00:00.000000000",
          "2021-11-12T00:00:00.000000000",
          "2021-11-13T00:00:00.000000000",
          "2021-11-14T00:00:00.000000000",
          "2021-11-15T00:00:00.000000000",
          "2021-11-16T00:00:00.000000000",
          "2021-11-17T00:00:00.000000000",
          "2021-11-18T00:00:00.000000000",
          "2021-11-19T00:00:00.000000000",
          "2021-11-20T00:00:00.000000000",
          "2021-11-21T00:00:00.000000000",
          "2021-11-22T00:00:00.000000000",
          "2021-11-23T00:00:00.000000000",
          "2021-11-24T00:00:00.000000000",
          "2021-11-25T00:00:00.000000000",
          "2021-11-26T00:00:00.000000000",
          "2021-11-27T00:00:00.000000000",
          "2021-11-28T00:00:00.000000000",
          "2021-11-29T00:00:00.000000000",
          "2021-11-30T00:00:00.000000000",
          "2021-12-01T00:00:00.000000000",
          "2021-12-02T00:00:00.000000000",
          "2021-12-03T00:00:00.000000000",
          "2021-12-04T00:00:00.000000000",
          "2021-12-05T00:00:00.000000000",
          "2021-12-06T00:00:00.000000000",
          "2021-12-07T00:00:00.000000000",
          "2021-12-08T00:00:00.000000000",
          "2021-12-09T00:00:00.000000000",
          "2021-12-10T00:00:00.000000000",
          "2021-12-11T00:00:00.000000000",
          "2021-12-12T00:00:00.000000000",
          "2021-12-13T00:00:00.000000000",
          "2021-12-14T00:00:00.000000000",
          "2021-12-15T00:00:00.000000000",
          "2021-12-16T00:00:00.000000000",
          "2021-12-17T00:00:00.000000000",
          "2021-12-18T00:00:00.000000000",
          "2021-12-19T00:00:00.000000000",
          "2021-12-20T00:00:00.000000000",
          "2021-12-21T00:00:00.000000000",
          "2021-12-22T00:00:00.000000000",
          "2021-12-23T00:00:00.000000000",
          "2021-12-24T00:00:00.000000000",
          "2021-12-25T00:00:00.000000000",
          "2021-12-26T00:00:00.000000000",
          "2021-12-27T00:00:00.000000000",
          "2021-12-28T00:00:00.000000000",
          "2021-12-29T00:00:00.000000000",
          "2021-12-30T00:00:00.000000000",
          "2021-12-31T00:00:00.000000000",
          "2022-01-01T00:00:00.000000000",
          "2022-01-02T00:00:00.000000000",
          "2022-01-03T00:00:00.000000000",
          "2022-01-04T00:00:00.000000000",
          "2022-01-05T00:00:00.000000000",
          "2022-01-06T00:00:00.000000000",
          "2022-01-07T00:00:00.000000000",
          "2022-01-08T00:00:00.000000000",
          "2022-01-09T00:00:00.000000000",
          "2022-01-10T00:00:00.000000000",
          "2022-01-11T00:00:00.000000000",
          "2022-01-12T00:00:00.000000000",
          "2022-01-13T00:00:00.000000000",
          "2022-01-14T00:00:00.000000000",
          "2022-01-15T00:00:00.000000000",
          "2022-01-16T00:00:00.000000000",
          "2022-01-17T00:00:00.000000000",
          "2022-01-18T00:00:00.000000000",
          "2022-01-19T00:00:00.000000000",
          "2022-01-20T00:00:00.000000000",
          "2022-01-21T00:00:00.000000000",
          "2022-01-22T00:00:00.000000000",
          "2022-01-23T00:00:00.000000000",
          "2022-01-24T00:00:00.000000000",
          "2022-01-25T00:00:00.000000000",
          "2022-01-26T00:00:00.000000000",
          "2022-01-27T00:00:00.000000000",
          "2022-01-28T00:00:00.000000000",
          "2022-01-29T00:00:00.000000000",
          "2022-01-30T00:00:00.000000000",
          "2022-01-31T00:00:00.000000000",
          "2022-02-01T00:00:00.000000000",
          "2022-02-02T00:00:00.000000000",
          "2022-02-03T00:00:00.000000000",
          "2022-02-04T00:00:00.000000000",
          "2022-02-05T00:00:00.000000000",
          "2022-02-06T00:00:00.000000000",
          "2022-02-07T00:00:00.000000000",
          "2022-02-08T00:00:00.000000000",
          "2022-02-09T00:00:00.000000000",
          "2022-02-10T00:00:00.000000000",
          "2022-02-11T00:00:00.000000000",
          "2022-02-12T00:00:00.000000000",
          "2022-02-13T00:00:00.000000000",
          "2022-02-14T00:00:00.000000000",
          "2022-02-15T00:00:00.000000000",
          "2022-02-16T00:00:00.000000000",
          "2022-02-17T00:00:00.000000000",
          "2022-02-18T00:00:00.000000000",
          "2022-02-19T00:00:00.000000000",
          "2022-02-20T00:00:00.000000000",
          "2022-02-21T00:00:00.000000000",
          "2022-02-22T00:00:00.000000000",
          "2022-02-23T00:00:00.000000000",
          "2022-02-24T00:00:00.000000000",
          "2022-02-25T00:00:00.000000000",
          "2022-02-26T00:00:00.000000000",
          "2022-02-27T00:00:00.000000000",
          "2022-02-28T00:00:00.000000000",
          "2022-03-01T00:00:00.000000000",
          "2022-03-02T00:00:00.000000000",
          "2022-03-03T00:00:00.000000000",
          "2022-03-04T00:00:00.000000000",
          "2022-03-05T00:00:00.000000000",
          "2022-03-06T00:00:00.000000000",
          "2022-03-07T00:00:00.000000000",
          "2022-03-08T00:00:00.000000000",
          "2022-03-09T00:00:00.000000000",
          "2022-03-10T00:00:00.000000000",
          "2022-03-11T00:00:00.000000000",
          "2022-03-12T00:00:00.000000000",
          "2022-03-13T00:00:00.000000000",
          "2022-03-14T00:00:00.000000000",
          "2022-03-15T00:00:00.000000000",
          "2022-03-16T00:00:00.000000000",
          "2022-03-17T00:00:00.000000000",
          "2022-03-18T00:00:00.000000000",
          "2022-03-19T00:00:00.000000000",
          "2022-03-20T00:00:00.000000000",
          "2022-03-21T00:00:00.000000000",
          "2022-03-22T00:00:00.000000000",
          "2022-03-23T00:00:00.000000000",
          "2022-03-24T00:00:00.000000000",
          "2022-03-25T00:00:00.000000000",
          "2022-03-26T00:00:00.000000000",
          "2022-03-27T00:00:00.000000000",
          "2022-03-28T00:00:00.000000000",
          "2022-03-29T00:00:00.000000000",
          "2022-03-30T00:00:00.000000000",
          "2022-03-31T00:00:00.000000000",
          "2022-04-01T00:00:00.000000000",
          "2022-04-02T00:00:00.000000000",
          "2022-04-03T00:00:00.000000000",
          "2022-04-04T00:00:00.000000000",
          "2022-04-05T00:00:00.000000000",
          "2022-04-06T00:00:00.000000000",
          "2022-04-07T00:00:00.000000000",
          "2022-04-08T00:00:00.000000000",
          "2022-04-09T00:00:00.000000000",
          "2022-04-10T00:00:00.000000000",
          "2022-04-11T00:00:00.000000000",
          "2022-04-12T00:00:00.000000000",
          "2022-04-13T00:00:00.000000000",
          "2022-04-14T00:00:00.000000000",
          "2022-04-15T00:00:00.000000000",
          "2022-04-16T00:00:00.000000000",
          "2022-04-17T00:00:00.000000000",
          "2022-04-18T00:00:00.000000000",
          "2022-04-19T00:00:00.000000000",
          "2022-04-20T00:00:00.000000000",
          "2022-04-21T00:00:00.000000000",
          "2022-04-22T00:00:00.000000000",
          "2022-04-23T00:00:00.000000000",
          "2022-04-24T00:00:00.000000000",
          "2022-04-25T00:00:00.000000000",
          "2022-04-26T00:00:00.000000000",
          "2022-04-27T00:00:00.000000000",
          "2022-04-28T00:00:00.000000000",
          "2022-04-29T00:00:00.000000000",
          "2022-04-30T00:00:00.000000000",
          "2022-05-01T00:00:00.000000000",
          "2022-05-02T00:00:00.000000000",
          "2022-05-03T00:00:00.000000000",
          "2022-05-04T00:00:00.000000000",
          "2022-05-05T00:00:00.000000000",
          "2022-05-06T00:00:00.000000000",
          "2022-05-07T00:00:00.000000000",
          "2022-05-08T00:00:00.000000000",
          "2022-05-09T00:00:00.000000000",
          "2022-05-10T00:00:00.000000000",
          "2022-05-11T00:00:00.000000000",
          "2022-05-12T00:00:00.000000000",
          "2022-05-14T00:00:00.000000000",
          "2022-05-15T00:00:00.000000000"
         ],
         "y": [
          813.0081300813009,
          406.50406504065046,
          654.1444724792077,
          689.0210527721041,
          698.2756657470951,
          734.8015868993376,
          629.8299316280037,
          605.2610046200523,
          1365.1394240729396,
          1272.7233205669038,
          1262.8643044967077,
          1157.822287689985,
          1026.7606887384777,
          1026.7606887384777,
          1059.9516607940789,
          413.0037890543475,
          504.48158620335784,
          400.96191746629785,
          462.2739959457584,
          462.2739959457584,
          541.2005942093732,
          473.1238729823088,
          409.96933323331365,
          571.3793517861893,
          683.4241697133601,
          670.2121393339478,
          670.2121393339479,
          641.4108543535411,
          584.721511949913,
          534.9455039857517,
          480.5404495806972,
          421.4056845635793,
          373.30563646353124,
          373.30563646353124,
          323.18032318032317,
          414.7554147554148,
          507.519793234079,
          319.58793383247894,
          357.66969165945966,
          441.4568722208338,
          519.7347587178983,
          519.7347587178983,
          467.1916733879278,
          407.6498862713898,
          361.5696334882889,
          318.03866755429266,
          274.95152769295925,
          196.67364119589467,
          241.59727102518488,
          202.56526478006387,
          197.46415823233585,
          227.03878487356053,
          179.57794007052306,
          180.77148965116942,
          285.3011063759081,
          240.37747654661788,
          357.79430629221474,
          359.8751772615677,
          467.7288884097194,
          631.3057695438525,
          589.4121792631655,
          484.8825625384267,
          484.8825625384267,
          367.46573279282995,
          478.7060927092203,
          388.07607523959007,
          377.2875821879628,
          619.4183327932896,
          619.4183327932896,
          619.4183327932896,
          619.4183327932896,
          1027.4261665436977,
          1346.1554024240963,
          1842.71766369224,
          1747.2574909689902,
          2233.579679418838,
          2788.7240169465954,
          3218.618196840775,
          3384.884795973105,
          3514.6605434814114,
          3376.6553719191925,
          3511.9396812551613,
          3638.957641029182,
          4095.8802556228734,
          4609.976006502765,
          4215.888447842158,
          4638.829054135953,
          4750.407164387388,
          4946.517519014112,
          4992.155953986289,
          4301.63241022497,
          3899.734316185593,
          4070.7155637017427,
          3538.451356275435,
          3383.91184317702,
          3153.2182772753554,
          3514.6478573446147,
          3982.1409938349852,
          4011.4777285288615,
          4058.4352364141796,
          4028.074824986731,
          3942.685771110005,
          4488.9648888176935,
          4476.048329789019,
          4353.678451605188,
          4445.889419121779,
          4847.879515356479,
          4827.059580037079,
          5048.186804885642,
          4929.451646780406,
          4556.051799350937,
          4834.763283944774,
          4834.54700904207,
          4667.806969420675,
          4861.721206918447,
          5295.804941071602,
          5333.300254157466,
          5333.457968809079,
          5080.499642621461,
          5099.152922724511,
          5242.131807299836,
          6584.005945227825,
          6412.651560168316,
          7231.969276744772,
          7635.687573655295,
          7734.9194218461735,
          8547.525257694915,
          8925.409034305467,
          8064.65663957113,
          8549.156395915546,
          7857.763865161451,
          7860.141186870813,
          7778.044858923982,
          7849.443456775415,
          8422.193689876704,
          8221.247414463644,
          7771.421721919504,
          8155.575383384091,
          8551.36030086401,
          9414.237207136233,
          9345.852081825113,
          8405.429784476042,
          8628.373352999977,
          8605.067834707988,
          8486.568822199759,
          8105.242758690711,
          7909.298602339644,
          7599.540611516931,
          8124.916936994857,
          7786.472846666534,
          7886.072882635929,
          7617.953904839532,
          7319.21840488073,
          7119.2008978779295,
          7020.851413890052,
          6393.229921081163,
          6823.003513547603,
          6533.256731558398,
          6578.209966073067,
          6452.393622822676,
          6162.262972022209,
          6307.242495532807,
          6580.379762889728,
          6145.433097666758,
          6641.469710810764,
          6661.31343049397,
          7108.572626143033,
          6866.260791752701,
          6584.073842899086,
          6507.937508102244,
          6310.936410942668,
          5553.26563571263,
          5271.714888323373,
          4908.489306119688,
          4869.393729831823,
          4923.048994754694,
          4318.217361349526,
          4561.848729980894,
          5224.997875295484,
          5727.475368491101,
          5013.189654205387,
          4408.257127448755,
          3402.2209101449325,
          5365.240160398225,
          6181.437851595917,
          4629.6296296296305,
          4629.6296296296305
         ],
         "type": "scatter"
        }
       ],
       "layout": {
        "template": {
         "data": {
          "barpolar": [
           {
            "marker": {
             "line": {
              "color": "white",
              "width": 0.5
             },
             "pattern": {
              "fillmode": "overlay",
              "size": 10,
              "solidity": 0.2
             }
            },
            "type": "barpolar"
           }
          ],
          "bar": [
           {
            "error_x": {
             "color": "#2a3f5f"
            },
            "error_y": {
             "color": "#2a3f5f"
            },
            "marker": {
             "line": {
              "color": "white",
              "width": 0.5
             },
             "pattern": {
              "fillmode": "overlay",
              "size": 10,
              "solidity": 0.2
             }
            },
            "type": "bar"
           }
          ],
          "carpet": [
           {
            "aaxis": {
             "endlinecolor": "#2a3f5f",
             "gridcolor": "#C8D4E3",
             "linecolor": "#C8D4E3",
             "minorgridcolor": "#C8D4E3",
             "startlinecolor": "#2a3f5f"
            },
            "baxis": {
             "endlinecolor": "#2a3f5f",
             "gridcolor": "#C8D4E3",
             "linecolor": "#C8D4E3",
             "minorgridcolor": "#C8D4E3",
             "startlinecolor": "#2a3f5f"
            },
            "type": "carpet"
           }
          ],
          "choropleth": [
           {
            "colorbar": {
             "outlinewidth": 0,
             "ticks": ""
            },
            "type": "choropleth"
           }
          ],
          "contourcarpet": [
           {
            "colorbar": {
             "outlinewidth": 0,
             "ticks": ""
            },
            "type": "contourcarpet"
           }
          ],
          "contour": [
           {
            "colorbar": {
             "outlinewidth": 0,
             "ticks": ""
            },
            "colorscale": [
             [
              0.0,
              "#0d0887"
             ],
             [
              0.1111111111111111,
              "#46039f"
             ],
             [
              0.2222222222222222,
              "#7201a8"
             ],
             [
              0.3333333333333333,
              "#9c179e"
             ],
             [
              0.4444444444444444,
              "#bd3786"
             ],
             [
              0.5555555555555556,
              "#d8576b"
             ],
             [
              0.6666666666666666,
              "#ed7953"
             ],
             [
              0.7777777777777778,
              "#fb9f3a"
             ],
             [
              0.8888888888888888,
              "#fdca26"
             ],
             [
              1.0,
              "#f0f921"
             ]
            ],
            "type": "contour"
           }
          ],
          "heatmapgl": [
           {
            "colorbar": {
             "outlinewidth": 0,
             "ticks": ""
            },
            "colorscale": [
             [
              0.0,
              "#0d0887"
             ],
             [
              0.1111111111111111,
              "#46039f"
             ],
             [
              0.2222222222222222,
              "#7201a8"
             ],
             [
              0.3333333333333333,
              "#9c179e"
             ],
             [
              0.4444444444444444,
              "#bd3786"
             ],
             [
              0.5555555555555556,
              "#d8576b"
             ],
             [
              0.6666666666666666,
              "#ed7953"
             ],
             [
              0.7777777777777778,
              "#fb9f3a"
             ],
             [
              0.8888888888888888,
              "#fdca26"
             ],
             [
              1.0,
              "#f0f921"
             ]
            ],
            "type": "heatmapgl"
           }
          ],
          "heatmap": [
           {
            "colorbar": {
             "outlinewidth": 0,
             "ticks": ""
            },
            "colorscale": [
             [
              0.0,
              "#0d0887"
             ],
             [
              0.1111111111111111,
              "#46039f"
             ],
             [
              0.2222222222222222,
              "#7201a8"
             ],
             [
              0.3333333333333333,
              "#9c179e"
             ],
             [
              0.4444444444444444,
              "#bd3786"
             ],
             [
              0.5555555555555556,
              "#d8576b"
             ],
             [
              0.6666666666666666,
              "#ed7953"
             ],
             [
              0.7777777777777778,
              "#fb9f3a"
             ],
             [
              0.8888888888888888,
              "#fdca26"
             ],
             [
              1.0,
              "#f0f921"
             ]
            ],
            "type": "heatmap"
           }
          ],
          "histogram2dcontour": [
           {
            "colorbar": {
             "outlinewidth": 0,
             "ticks": ""
            },
            "colorscale": [
             [
              0.0,
              "#0d0887"
             ],
             [
              0.1111111111111111,
              "#46039f"
             ],
             [
              0.2222222222222222,
              "#7201a8"
             ],
             [
              0.3333333333333333,
              "#9c179e"
             ],
             [
              0.4444444444444444,
              "#bd3786"
             ],
             [
              0.5555555555555556,
              "#d8576b"
             ],
             [
              0.6666666666666666,
              "#ed7953"
             ],
             [
              0.7777777777777778,
              "#fb9f3a"
             ],
             [
              0.8888888888888888,
              "#fdca26"
             ],
             [
              1.0,
              "#f0f921"
             ]
            ],
            "type": "histogram2dcontour"
           }
          ],
          "histogram2d": [
           {
            "colorbar": {
             "outlinewidth": 0,
             "ticks": ""
            },
            "colorscale": [
             [
              0.0,
              "#0d0887"
             ],
             [
              0.1111111111111111,
              "#46039f"
             ],
             [
              0.2222222222222222,
              "#7201a8"
             ],
             [
              0.3333333333333333,
              "#9c179e"
             ],
             [
              0.4444444444444444,
              "#bd3786"
             ],
             [
              0.5555555555555556,
              "#d8576b"
             ],
             [
              0.6666666666666666,
              "#ed7953"
             ],
             [
              0.7777777777777778,
              "#fb9f3a"
             ],
             [
              0.8888888888888888,
              "#fdca26"
             ],
             [
              1.0,
              "#f0f921"
             ]
            ],
            "type": "histogram2d"
           }
          ],
          "histogram": [
           {
            "marker": {
             "pattern": {
              "fillmode": "overlay",
              "size": 10,
              "solidity": 0.2
             }
            },
            "type": "histogram"
           }
          ],
          "mesh3d": [
           {
            "colorbar": {
             "outlinewidth": 0,
             "ticks": ""
            },
            "type": "mesh3d"
           }
          ],
          "parcoords": [
           {
            "line": {
             "colorbar": {
              "outlinewidth": 0,
              "ticks": ""
             }
            },
            "type": "parcoords"
           }
          ],
          "pie": [
           {
            "automargin": true,
            "type": "pie"
           }
          ],
          "scatter3d": [
           {
            "line": {
             "colorbar": {
              "outlinewidth": 0,
              "ticks": ""
             }
            },
            "marker": {
             "colorbar": {
              "outlinewidth": 0,
              "ticks": ""
             }
            },
            "type": "scatter3d"
           }
          ],
          "scattercarpet": [
           {
            "marker": {
             "colorbar": {
              "outlinewidth": 0,
              "ticks": ""
             }
            },
            "type": "scattercarpet"
           }
          ],
          "scattergeo": [
           {
            "marker": {
             "colorbar": {
              "outlinewidth": 0,
              "ticks": ""
             }
            },
            "type": "scattergeo"
           }
          ],
          "scattergl": [
           {
            "marker": {
             "colorbar": {
              "outlinewidth": 0,
              "ticks": ""
             }
            },
            "type": "scattergl"
           }
          ],
          "scattermapbox": [
           {
            "marker": {
             "colorbar": {
              "outlinewidth": 0,
              "ticks": ""
             }
            },
            "type": "scattermapbox"
           }
          ],
          "scatterpolargl": [
           {
            "marker": {
             "colorbar": {
              "outlinewidth": 0,
              "ticks": ""
             }
            },
            "type": "scatterpolargl"
           }
          ],
          "scatterpolar": [
           {
            "marker": {
             "colorbar": {
              "outlinewidth": 0,
              "ticks": ""
             }
            },
            "type": "scatterpolar"
           }
          ],
          "scatter": [
           {
            "fillpattern": {
             "fillmode": "overlay",
             "size": 10,
             "solidity": 0.2
            },
            "type": "scatter"
           }
          ],
          "scatterternary": [
           {
            "marker": {
             "colorbar": {
              "outlinewidth": 0,
              "ticks": ""
             }
            },
            "type": "scatterternary"
           }
          ],
          "surface": [
           {
            "colorbar": {
             "outlinewidth": 0,
             "ticks": ""
            },
            "colorscale": [
             [
              0.0,
              "#0d0887"
             ],
             [
              0.1111111111111111,
              "#46039f"
             ],
             [
              0.2222222222222222,
              "#7201a8"
             ],
             [
              0.3333333333333333,
              "#9c179e"
             ],
             [
              0.4444444444444444,
              "#bd3786"
             ],
             [
              0.5555555555555556,
              "#d8576b"
             ],
             [
              0.6666666666666666,
              "#ed7953"
             ],
             [
              0.7777777777777778,
              "#fb9f3a"
             ],
             [
              0.8888888888888888,
              "#fdca26"
             ],
             [
              1.0,
              "#f0f921"
             ]
            ],
            "type": "surface"
           }
          ],
          "table": [
           {
            "cells": {
             "fill": {
              "color": "#EBF0F8"
             },
             "line": {
              "color": "white"
             }
            },
            "header": {
             "fill": {
              "color": "#C8D4E3"
             },
             "line": {
              "color": "white"
             }
            },
            "type": "table"
           }
          ]
         },
         "layout": {
          "annotationdefaults": {
           "arrowcolor": "#2a3f5f",
           "arrowhead": 0,
           "arrowwidth": 1
          },
          "autotypenumbers": "strict",
          "coloraxis": {
           "colorbar": {
            "outlinewidth": 0,
            "ticks": ""
           }
          },
          "colorscale": {
           "diverging": [
            [
             0,
             "#8e0152"
            ],
            [
             0.1,
             "#c51b7d"
            ],
            [
             0.2,
             "#de77ae"
            ],
            [
             0.3,
             "#f1b6da"
            ],
            [
             0.4,
             "#fde0ef"
            ],
            [
             0.5,
             "#f7f7f7"
            ],
            [
             0.6,
             "#e6f5d0"
            ],
            [
             0.7,
             "#b8e186"
            ],
            [
             0.8,
             "#7fbc41"
            ],
            [
             0.9,
             "#4d9221"
            ],
            [
             1,
             "#276419"
            ]
           ],
           "sequential": [
            [
             0.0,
             "#0d0887"
            ],
            [
             0.1111111111111111,
             "#46039f"
            ],
            [
             0.2222222222222222,
             "#7201a8"
            ],
            [
             0.3333333333333333,
             "#9c179e"
            ],
            [
             0.4444444444444444,
             "#bd3786"
            ],
            [
             0.5555555555555556,
             "#d8576b"
            ],
            [
             0.6666666666666666,
             "#ed7953"
            ],
            [
             0.7777777777777778,
             "#fb9f3a"
            ],
            [
             0.8888888888888888,
             "#fdca26"
            ],
            [
             1.0,
             "#f0f921"
            ]
           ],
           "sequentialminus": [
            [
             0.0,
             "#0d0887"
            ],
            [
             0.1111111111111111,
             "#46039f"
            ],
            [
             0.2222222222222222,
             "#7201a8"
            ],
            [
             0.3333333333333333,
             "#9c179e"
            ],
            [
             0.4444444444444444,
             "#bd3786"
            ],
            [
             0.5555555555555556,
             "#d8576b"
            ],
            [
             0.6666666666666666,
             "#ed7953"
            ],
            [
             0.7777777777777778,
             "#fb9f3a"
            ],
            [
             0.8888888888888888,
             "#fdca26"
            ],
            [
             1.0,
             "#f0f921"
            ]
           ]
          },
          "colorway": [
           "#636efa",
           "#EF553B",
           "#00cc96",
           "#ab63fa",
           "#FFA15A",
           "#19d3f3",
           "#FF6692",
           "#B6E880",
           "#FF97FF",
           "#FECB52"
          ],
          "font": {
           "color": "#2a3f5f"
          },
          "geo": {
           "bgcolor": "white",
           "lakecolor": "white",
           "landcolor": "white",
           "showlakes": true,
           "showland": true,
           "subunitcolor": "#C8D4E3"
          },
          "hoverlabel": {
           "align": "left"
          },
          "hovermode": "closest",
          "mapbox": {
           "style": "light"
          },
          "paper_bgcolor": "white",
          "plot_bgcolor": "white",
          "polar": {
           "angularaxis": {
            "gridcolor": "#EBF0F8",
            "linecolor": "#EBF0F8",
            "ticks": ""
           },
           "bgcolor": "white",
           "radialaxis": {
            "gridcolor": "#EBF0F8",
            "linecolor": "#EBF0F8",
            "ticks": ""
           }
          },
          "scene": {
           "xaxis": {
            "backgroundcolor": "white",
            "gridcolor": "#DFE8F3",
            "gridwidth": 2,
            "linecolor": "#EBF0F8",
            "showbackground": true,
            "ticks": "",
            "zerolinecolor": "#EBF0F8"
           },
           "yaxis": {
            "backgroundcolor": "white",
            "gridcolor": "#DFE8F3",
            "gridwidth": 2,
            "linecolor": "#EBF0F8",
            "showbackground": true,
            "ticks": "",
            "zerolinecolor": "#EBF0F8"
           },
           "zaxis": {
            "backgroundcolor": "white",
            "gridcolor": "#DFE8F3",
            "gridwidth": 2,
            "linecolor": "#EBF0F8",
            "showbackground": true,
            "ticks": "",
            "zerolinecolor": "#EBF0F8"
           }
          },
          "shapedefaults": {
           "line": {
            "color": "#2a3f5f"
           }
          },
          "ternary": {
           "aaxis": {
            "gridcolor": "#DFE8F3",
            "linecolor": "#A2B1C6",
            "ticks": ""
           },
           "baxis": {
            "gridcolor": "#DFE8F3",
            "linecolor": "#A2B1C6",
            "ticks": ""
           },
           "bgcolor": "white",
           "caxis": {
            "gridcolor": "#DFE8F3",
            "linecolor": "#A2B1C6",
            "ticks": ""
           }
          },
          "title": {
           "x": 0.05
          },
          "xaxis": {
           "automargin": true,
           "gridcolor": "#EBF0F8",
           "linecolor": "#EBF0F8",
           "ticks": "",
           "title": {
            "standoff": 15
           },
           "zerolinecolor": "#EBF0F8",
           "zerolinewidth": 2
          },
          "yaxis": {
           "automargin": true,
           "gridcolor": "#EBF0F8",
           "linecolor": "#EBF0F8",
           "ticks": "",
           "title": {
            "standoff": 15
           },
           "zerolinecolor": "#EBF0F8",
           "zerolinewidth": 2
          }
         }
        },
        "title": {
         "y": 0.97,
         "x": 0.5,
         "xanchor": "center",
         "yanchor": "top",
         "text": "Reported Incidence vs. Machine Learning Nowcast"
        },
        "font": {
         "size": 12
        },
        "margin": {
         "l": 60,
         "r": 30,
         "b": 75,
         "t": 80,
         "pad": 0
        },
        "legend": {
         "font": {
          "size": 11
         },
         "x": 0,
         "y": 1,
         "itemclick": "toggleothers",
         "itemdoubleclick": "toggle",
         "tracegroupgap": 2
        },
        "hoverlabel": {
         "font": {
          "color": "black"
         },
         "namelength": -1
        },
        "xaxis": {
         "showline": true,
         "linewidth": 1.5,
         "linecolor": "#455266",
         "ticks": "outside",
         "tickwidth": 1.5,
         "rangemode": "nonnegative"
        },
        "yaxis": {
         "showline": true,
         "linewidth": 1.5,
         "linecolor": "#455266",
         "ticks": "outside",
         "tickwidth": 1.5,
         "rangemode": "nonnegative",
         "range": [
          0,
          12000
         ],
         "title": {
          "text": "Incidence"
         }
        },
        "autosize": true,
        "height": 600,
        "hovermode": "x unified",
        "showlegend": true
       },
       "config": {
        "plotlyServerURL": "https://plot.ly"
       }
      },
      "text/html": "<div>                            <div id=\"6c2aed8d-970a-48ff-b579-42ce9d63ef9c\" class=\"plotly-graph-div\" style=\"height:600px; width:100%;\"></div>            <script type=\"text/javascript\">                require([\"plotly\"], function(Plotly) {                    window.PLOTLYENV=window.PLOTLYENV || {};                                    if (document.getElementById(\"6c2aed8d-970a-48ff-b579-42ce9d63ef9c\")) {                    Plotly.newPlot(                        \"6c2aed8d-970a-48ff-b579-42ce9d63ef9c\",                        [{\"hoverinfo\":\"skip\",\"legendgroup\":\"nowcast\",\"line\":{\"width\":0},\"marker\":{\"color\":\"#444\"},\"mode\":\"lines\",\"showlegend\":false,\"x\":[\"2021-11-07T00:00:00.000000000\",\"2021-11-08T00:00:00.000000000\",\"2021-11-09T00:00:00.000000000\",\"2021-11-10T00:00:00.000000000\",\"2021-11-11T00:00:00.000000000\",\"2021-11-12T00:00:00.000000000\",\"2021-11-13T00:00:00.000000000\",\"2021-11-14T00:00:00.000000000\",\"2021-11-15T00:00:00.000000000\",\"2021-11-16T00:00:00.000000000\",\"2021-11-17T00:00:00.000000000\",\"2021-11-18T00:00:00.000000000\",\"2021-11-19T00:00:00.000000000\",\"2021-11-20T00:00:00.000000000\",\"2021-11-21T00:00:00.000000000\",\"2021-11-22T00:00:00.000000000\",\"2021-11-23T00:00:00.000000000\",\"2021-11-24T00:00:00.000000000\",\"2021-11-25T00:00:00.000000000\",\"2021-11-26T00:00:00.000000000\",\"2021-11-27T00:00:00.000000000\",\"2021-11-28T00:00:00.000000000\",\"2021-11-29T00:00:00.000000000\",\"2021-11-30T00:00:00.000000000\",\"2021-12-01T00:00:00.000000000\",\"2021-12-02T00:00:00.000000000\",\"2021-12-03T00:00:00.000000000\",\"2021-12-04T00:00:00.000000000\",\"2021-12-05T00:00:00.000000000\",\"2021-12-06T00:00:00.000000000\",\"2021-12-07T00:00:00.000000000\",\"2021-12-08T00:00:00.000000000\",\"2021-12-09T00:00:00.000000000\",\"2021-12-10T00:00:00.000000000\",\"2021-12-11T00:00:00.000000000\",\"2021-12-12T00:00:00.000000000\",\"2021-12-13T00:00:00.000000000\",\"2021-12-14T00:00:00.000000000\",\"2021-12-15T00:00:00.000000000\",\"2021-12-16T00:00:00.000000000\",\"2021-12-17T00:00:00.000000000\",\"2021-12-18T00:00:00.000000000\",\"2021-12-19T00:00:00.000000000\",\"2021-12-20T00:00:00.000000000\",\"2021-12-21T00:00:00.000000000\",\"2021-12-22T00:00:00.000000000\",\"2021-12-23T00:00:00.000000000\",\"2021-12-24T00:00:00.000000000\",\"2021-12-25T00:00:00.000000000\",\"2021-12-26T00:00:00.000000000\",\"2021-12-27T00:00:00.000000000\",\"2021-12-28T00:00:00.000000000\",\"2021-12-29T00:00:00.000000000\",\"2021-12-30T00:00:00.000000000\",\"2021-12-31T00:00:00.000000000\",\"2022-01-01T00:00:00.000000000\",\"2022-01-02T00:00:00.000000000\",\"2022-01-03T00:00:00.000000000\",\"2022-01-04T00:00:00.000000000\",\"2022-01-05T00:00:00.000000000\",\"2022-01-06T00:00:00.000000000\",\"2022-01-07T00:00:00.000000000\",\"2022-01-08T00:00:00.000000000\",\"2022-01-09T00:00:00.000000000\",\"2022-01-10T00:00:00.000000000\",\"2022-01-11T00:00:00.000000000\",\"2022-01-12T00:00:00.000000000\",\"2022-01-13T00:00:00.000000000\",\"2022-01-14T00:00:00.000000000\",\"2022-01-15T00:00:00.000000000\",\"2022-01-16T00:00:00.000000000\",\"2022-01-17T00:00:00.000000000\",\"2022-01-18T00:00:00.000000000\",\"2022-01-19T00:00:00.000000000\",\"2022-01-20T00:00:00.000000000\",\"2022-01-21T00:00:00.000000000\",\"2022-01-22T00:00:00.000000000\",\"2022-01-23T00:00:00.000000000\",\"2022-01-24T00:00:00.000000000\",\"2022-01-25T00:00:00.000000000\",\"2022-01-26T00:00:00.000000000\",\"2022-01-27T00:00:00.000000000\",\"2022-01-28T00:00:00.000000000\",\"2022-01-29T00:00:00.000000000\",\"2022-01-30T00:00:00.000000000\",\"2022-01-31T00:00:00.000000000\",\"2022-02-01T00:00:00.000000000\",\"2022-02-02T00:00:00.000000000\",\"2022-02-03T00:00:00.000000000\",\"2022-02-04T00:00:00.000000000\",\"2022-02-05T00:00:00.000000000\",\"2022-02-06T00:00:00.000000000\",\"2022-02-07T00:00:00.000000000\",\"2022-02-08T00:00:00.000000000\",\"2022-02-09T00:00:00.000000000\",\"2022-02-10T00:00:00.000000000\",\"2022-02-11T00:00:00.000000000\",\"2022-02-12T00:00:00.000000000\",\"2022-02-13T00:00:00.000000000\",\"2022-02-14T00:00:00.000000000\",\"2022-02-15T00:00:00.000000000\",\"2022-02-16T00:00:00.000000000\",\"2022-02-17T00:00:00.000000000\",\"2022-02-18T00:00:00.000000000\",\"2022-02-19T00:00:00.000000000\",\"2022-02-20T00:00:00.000000000\",\"2022-02-21T00:00:00.000000000\",\"2022-02-22T00:00:00.000000000\",\"2022-02-23T00:00:00.000000000\",\"2022-02-24T00:00:00.000000000\",\"2022-02-25T00:00:00.000000000\",\"2022-02-26T00:00:00.000000000\",\"2022-02-27T00:00:00.000000000\",\"2022-02-28T00:00:00.000000000\",\"2022-03-01T00:00:00.000000000\",\"2022-03-02T00:00:00.000000000\",\"2022-03-03T00:00:00.000000000\",\"2022-03-04T00:00:00.000000000\",\"2022-03-05T00:00:00.000000000\",\"2022-03-06T00:00:00.000000000\",\"2022-03-07T00:00:00.000000000\",\"2022-03-08T00:00:00.000000000\",\"2022-03-09T00:00:00.000000000\",\"2022-03-10T00:00:00.000000000\",\"2022-03-11T00:00:00.000000000\",\"2022-03-12T00:00:00.000000000\",\"2022-03-13T00:00:00.000000000\",\"2022-03-14T00:00:00.000000000\",\"2022-03-15T00:00:00.000000000\",\"2022-03-16T00:00:00.000000000\",\"2022-03-17T00:00:00.000000000\",\"2022-03-18T00:00:00.000000000\",\"2022-03-19T00:00:00.000000000\",\"2022-03-20T00:00:00.000000000\",\"2022-03-21T00:00:00.000000000\",\"2022-03-22T00:00:00.000000000\",\"2022-03-23T00:00:00.000000000\",\"2022-03-24T00:00:00.000000000\",\"2022-03-25T00:00:00.000000000\",\"2022-03-26T00:00:00.000000000\",\"2022-03-27T00:00:00.000000000\",\"2022-03-28T00:00:00.000000000\",\"2022-03-29T00:00:00.000000000\",\"2022-03-30T00:00:00.000000000\",\"2022-03-31T00:00:00.000000000\",\"2022-04-01T00:00:00.000000000\",\"2022-04-02T00:00:00.000000000\",\"2022-04-03T00:00:00.000000000\",\"2022-04-04T00:00:00.000000000\",\"2022-04-05T00:00:00.000000000\",\"2022-04-06T00:00:00.000000000\",\"2022-04-07T00:00:00.000000000\",\"2022-04-08T00:00:00.000000000\",\"2022-04-09T00:00:00.000000000\",\"2022-04-10T00:00:00.000000000\",\"2022-04-11T00:00:00.000000000\",\"2022-04-12T00:00:00.000000000\",\"2022-04-13T00:00:00.000000000\",\"2022-04-14T00:00:00.000000000\",\"2022-04-15T00:00:00.000000000\",\"2022-04-16T00:00:00.000000000\",\"2022-04-17T00:00:00.000000000\",\"2022-04-18T00:00:00.000000000\",\"2022-04-19T00:00:00.000000000\",\"2022-04-20T00:00:00.000000000\",\"2022-04-21T00:00:00.000000000\",\"2022-04-22T00:00:00.000000000\",\"2022-04-23T00:00:00.000000000\",\"2022-04-24T00:00:00.000000000\",\"2022-04-25T00:00:00.000000000\",\"2022-04-26T00:00:00.000000000\",\"2022-04-27T00:00:00.000000000\",\"2022-04-28T00:00:00.000000000\",\"2022-04-29T00:00:00.000000000\",\"2022-04-30T00:00:00.000000000\",\"2022-05-01T00:00:00.000000000\",\"2022-05-02T00:00:00.000000000\",\"2022-05-03T00:00:00.000000000\",\"2022-05-04T00:00:00.000000000\",\"2022-05-05T00:00:00.000000000\",\"2022-05-06T00:00:00.000000000\",\"2022-05-07T00:00:00.000000000\",\"2022-05-08T00:00:00.000000000\",\"2022-05-09T00:00:00.000000000\",\"2022-05-10T00:00:00.000000000\",\"2022-05-11T00:00:00.000000000\",\"2022-05-12T00:00:00.000000000\",\"2022-05-13T00:00:00.000000000\",\"2022-05-14T00:00:00.000000000\"],\"y\":[5866.186549094016,5687.472748741204,5334.825263731776,4323.672706084008,4052.26922847465,4253.386150095301,4023.656600114182,3679.086665729395,3540.316013423113,2986.649672458553,2838.925412979019,2440.431632372809,2341.3380566361584,2007.5882706582588,1688.6946435269567,1655.4415234132643,1441.942351498335,1446.8869866785885,1463.840024038961,1558.812613807458,1634.7315697820056,1766.6816884973505,2118.6648817651662,2083.6483831883197,2339.085069232675,2374.372634455047,2018.3799156323862,1759.2731151112434,1854.7884869377533,1756.6906674827878,1760.5760656302568,1751.7290816091383,1667.4954759632683,1464.509687737096,1543.8084359968125,1343.5450284918998,1297.0267214263154,1088.2078781430023,1115.953174353061,1063.9203966892628,1104.9738448240228,883.7720278523675,928.3933117718462,805.9719455461118,743.9600486449394,695.1640689928049,769.3729188499052,826.3362406237695,968.507081890544,1137.3909235884933,1062.0634599395612,1170.473031177908,1420.6621452462255,1523.3656342608738,1371.619009715278,1367.431336210972,1320.5509754041361,1716.645540152497,1758.2350738217785,1968.0690828472839,2163.0900757515587,2381.84410770142,2715.7956128280675,3433.0101156900673,3059.108680122148,3918.892927675047,4375.149084454786,4356.474395299181,4293.171033820154,3965.4051667573212,4134.284687278653,4285.470268336236,4609.968719999868,5235.783151454061,5280.088838584422,5790.106727425224,5712.858285678315,5960.609096751156,6501.047605851837,6492.863162257117,6812.538018813576,6979.0803930774,7214.745885520594,8066.593384560063,7669.204337220822,7425.4870994189305,7227.804981915833,6973.297300814744,7066.718978839913,7303.688999360356,6978.442499471646,7149.499213252819,7618.372200208332,7431.9148320225395,7290.740945461601,7016.394927557315,6825.092872746613,7088.353394877366,7104.188697316274,7266.520543089268,6977.326105126282,7593.81722085941,8055.509751012307,7849.866160511599,7726.352756026222,7520.534030250372,7761.558775067342,7837.966926052132,7865.315708544169,8171.25438297799,8523.248457518057,8276.022076074478,8549.740284479023,8492.443386306522,8814.432680503558,8746.31150621016,8758.781023030206,8607.999602759719,8617.068702935827,8679.031964919677,8582.665167665627,8707.845856252696,9661.96795280668,9282.026999736323,9153.825669009457,9530.005975776086,9650.90582513583,10265.011481614081,9969.69889186371,9883.25271381343,9719.298474858922,9650.121503321037,9472.96252596095,9064.847598225764,8850.792488899411,9396.224650525704,9263.786135985998,9370.777654868309,10056.683246595781,9784.413743315044,9705.755992657221,9105.2806071033,8857.487398451663,7857.959929912439,8294.349295307613,7758.932164300624,7880.458789831765,7489.172773803246,7872.528659582974,8247.384037698728,8583.618909163939,8458.57839033365,8487.209790564028,8625.812884332969,8316.172969061134,8125.505879245643,8052.180886712753,8170.070431589915,7833.459284122895,7092.624746685608,6907.024061170492,6854.979059451642,7373.672764855904,7544.068540358988,7531.989413219812,7834.376187942333,7598.307277524266,7548.527363938505,7328.90500458357,7277.85282213722,7046.255043220095,6853.450020574512,6540.811673811881,6265.174226217687,6942.43433404618,7015.425039480705,6574.964452527446,6866.5795011302325,7095.807547852314,7683.100172482151,8326.723961951251,8537.199324841999,9979.032254707316,11941.362421314865,10624.655754278647,14443.150830794058,11129.172970162526,12142.448033639455,27345.908033901353],\"type\":\"scatter\"},{\"fill\":\"tonexty\",\"fillcolor\":\"rgba(65, 172, 221, 0.3)\",\"hoverinfo\":\"skip\",\"legendgroup\":\"nowcast\",\"line\":{\"width\":0},\"marker\":{\"color\":\"#444\"},\"mode\":\"lines\",\"name\":\"Confidence interval\",\"showlegend\":false,\"x\":[\"2021-11-07T00:00:00.000000000\",\"2021-11-08T00:00:00.000000000\",\"2021-11-09T00:00:00.000000000\",\"2021-11-10T00:00:00.000000000\",\"2021-11-11T00:00:00.000000000\",\"2021-11-12T00:00:00.000000000\",\"2021-11-13T00:00:00.000000000\",\"2021-11-14T00:00:00.000000000\",\"2021-11-15T00:00:00.000000000\",\"2021-11-16T00:00:00.000000000\",\"2021-11-17T00:00:00.000000000\",\"2021-11-18T00:00:00.000000000\",\"2021-11-19T00:00:00.000000000\",\"2021-11-20T00:00:00.000000000\",\"2021-11-21T00:00:00.000000000\",\"2021-11-22T00:00:00.000000000\",\"2021-11-23T00:00:00.000000000\",\"2021-11-24T00:00:00.000000000\",\"2021-11-25T00:00:00.000000000\",\"2021-11-26T00:00:00.000000000\",\"2021-11-27T00:00:00.000000000\",\"2021-11-28T00:00:00.000000000\",\"2021-11-29T00:00:00.000000000\",\"2021-11-30T00:00:00.000000000\",\"2021-12-01T00:00:00.000000000\",\"2021-12-02T00:00:00.000000000\",\"2021-12-03T00:00:00.000000000\",\"2021-12-04T00:00:00.000000000\",\"2021-12-05T00:00:00.000000000\",\"2021-12-06T00:00:00.000000000\",\"2021-12-07T00:00:00.000000000\",\"2021-12-08T00:00:00.000000000\",\"2021-12-09T00:00:00.000000000\",\"2021-12-10T00:00:00.000000000\",\"2021-12-11T00:00:00.000000000\",\"2021-12-12T00:00:00.000000000\",\"2021-12-13T00:00:00.000000000\",\"2021-12-14T00:00:00.000000000\",\"2021-12-15T00:00:00.000000000\",\"2021-12-16T00:00:00.000000000\",\"2021-12-17T00:00:00.000000000\",\"2021-12-18T00:00:00.000000000\",\"2021-12-19T00:00:00.000000000\",\"2021-12-20T00:00:00.000000000\",\"2021-12-21T00:00:00.000000000\",\"2021-12-22T00:00:00.000000000\",\"2021-12-23T00:00:00.000000000\",\"2021-12-24T00:00:00.000000000\",\"2021-12-25T00:00:00.000000000\",\"2021-12-26T00:00:00.000000000\",\"2021-12-27T00:00:00.000000000\",\"2021-12-28T00:00:00.000000000\",\"2021-12-29T00:00:00.000000000\",\"2021-12-30T00:00:00.000000000\",\"2021-12-31T00:00:00.000000000\",\"2022-01-01T00:00:00.000000000\",\"2022-01-02T00:00:00.000000000\",\"2022-01-03T00:00:00.000000000\",\"2022-01-04T00:00:00.000000000\",\"2022-01-05T00:00:00.000000000\",\"2022-01-06T00:00:00.000000000\",\"2022-01-07T00:00:00.000000000\",\"2022-01-08T00:00:00.000000000\",\"2022-01-09T00:00:00.000000000\",\"2022-01-10T00:00:00.000000000\",\"2022-01-11T00:00:00.000000000\",\"2022-01-12T00:00:00.000000000\",\"2022-01-13T00:00:00.000000000\",\"2022-01-14T00:00:00.000000000\",\"2022-01-15T00:00:00.000000000\",\"2022-01-16T00:00:00.000000000\",\"2022-01-17T00:00:00.000000000\",\"2022-01-18T00:00:00.000000000\",\"2022-01-19T00:00:00.000000000\",\"2022-01-20T00:00:00.000000000\",\"2022-01-21T00:00:00.000000000\",\"2022-01-22T00:00:00.000000000\",\"2022-01-23T00:00:00.000000000\",\"2022-01-24T00:00:00.000000000\",\"2022-01-25T00:00:00.000000000\",\"2022-01-26T00:00:00.000000000\",\"2022-01-27T00:00:00.000000000\",\"2022-01-28T00:00:00.000000000\",\"2022-01-29T00:00:00.000000000\",\"2022-01-30T00:00:00.000000000\",\"2022-01-31T00:00:00.000000000\",\"2022-02-01T00:00:00.000000000\",\"2022-02-02T00:00:00.000000000\",\"2022-02-03T00:00:00.000000000\",\"2022-02-04T00:00:00.000000000\",\"2022-02-05T00:00:00.000000000\",\"2022-02-06T00:00:00.000000000\",\"2022-02-07T00:00:00.000000000\",\"2022-02-08T00:00:00.000000000\",\"2022-02-09T00:00:00.000000000\",\"2022-02-10T00:00:00.000000000\",\"2022-02-11T00:00:00.000000000\",\"2022-02-12T00:00:00.000000000\",\"2022-02-13T00:00:00.000000000\",\"2022-02-14T00:00:00.000000000\",\"2022-02-15T00:00:00.000000000\",\"2022-02-16T00:00:00.000000000\",\"2022-02-17T00:00:00.000000000\",\"2022-02-18T00:00:00.000000000\",\"2022-02-19T00:00:00.000000000\",\"2022-02-20T00:00:00.000000000\",\"2022-02-21T00:00:00.000000000\",\"2022-02-22T00:00:00.000000000\",\"2022-02-23T00:00:00.000000000\",\"2022-02-24T00:00:00.000000000\",\"2022-02-25T00:00:00.000000000\",\"2022-02-26T00:00:00.000000000\",\"2022-02-27T00:00:00.000000000\",\"2022-02-28T00:00:00.000000000\",\"2022-03-01T00:00:00.000000000\",\"2022-03-02T00:00:00.000000000\",\"2022-03-03T00:00:00.000000000\",\"2022-03-04T00:00:00.000000000\",\"2022-03-05T00:00:00.000000000\",\"2022-03-06T00:00:00.000000000\",\"2022-03-07T00:00:00.000000000\",\"2022-03-08T00:00:00.000000000\",\"2022-03-09T00:00:00.000000000\",\"2022-03-10T00:00:00.000000000\",\"2022-03-11T00:00:00.000000000\",\"2022-03-12T00:00:00.000000000\",\"2022-03-13T00:00:00.000000000\",\"2022-03-14T00:00:00.000000000\",\"2022-03-15T00:00:00.000000000\",\"2022-03-16T00:00:00.000000000\",\"2022-03-17T00:00:00.000000000\",\"2022-03-18T00:00:00.000000000\",\"2022-03-19T00:00:00.000000000\",\"2022-03-20T00:00:00.000000000\",\"2022-03-21T00:00:00.000000000\",\"2022-03-22T00:00:00.000000000\",\"2022-03-23T00:00:00.000000000\",\"2022-03-24T00:00:00.000000000\",\"2022-03-25T00:00:00.000000000\",\"2022-03-26T00:00:00.000000000\",\"2022-03-27T00:00:00.000000000\",\"2022-03-28T00:00:00.000000000\",\"2022-03-29T00:00:00.000000000\",\"2022-03-30T00:00:00.000000000\",\"2022-03-31T00:00:00.000000000\",\"2022-04-01T00:00:00.000000000\",\"2022-04-02T00:00:00.000000000\",\"2022-04-03T00:00:00.000000000\",\"2022-04-04T00:00:00.000000000\",\"2022-04-05T00:00:00.000000000\",\"2022-04-06T00:00:00.000000000\",\"2022-04-07T00:00:00.000000000\",\"2022-04-08T00:00:00.000000000\",\"2022-04-09T00:00:00.000000000\",\"2022-04-10T00:00:00.000000000\",\"2022-04-11T00:00:00.000000000\",\"2022-04-12T00:00:00.000000000\",\"2022-04-13T00:00:00.000000000\",\"2022-04-14T00:00:00.000000000\",\"2022-04-15T00:00:00.000000000\",\"2022-04-16T00:00:00.000000000\",\"2022-04-17T00:00:00.000000000\",\"2022-04-18T00:00:00.000000000\",\"2022-04-19T00:00:00.000000000\",\"2022-04-20T00:00:00.000000000\",\"2022-04-21T00:00:00.000000000\",\"2022-04-22T00:00:00.000000000\",\"2022-04-23T00:00:00.000000000\",\"2022-04-24T00:00:00.000000000\",\"2022-04-25T00:00:00.000000000\",\"2022-04-26T00:00:00.000000000\",\"2022-04-27T00:00:00.000000000\",\"2022-04-28T00:00:00.000000000\",\"2022-04-29T00:00:00.000000000\",\"2022-04-30T00:00:00.000000000\",\"2022-05-01T00:00:00.000000000\",\"2022-05-02T00:00:00.000000000\",\"2022-05-03T00:00:00.000000000\",\"2022-05-04T00:00:00.000000000\",\"2022-05-05T00:00:00.000000000\",\"2022-05-06T00:00:00.000000000\",\"2022-05-07T00:00:00.000000000\",\"2022-05-08T00:00:00.000000000\",\"2022-05-09T00:00:00.000000000\",\"2022-05-10T00:00:00.000000000\",\"2022-05-11T00:00:00.000000000\",\"2022-05-12T00:00:00.000000000\",\"2022-05-13T00:00:00.000000000\",\"2022-05-14T00:00:00.000000000\"],\"y\":[-1446.146591122772,-1634.3463810196656,-1103.3283619224567,-276.3701919060179,-380.5646130526327,-625.4671221559829,-533.3467833432787,-311.0401067730222,-262.0323197780922,-62.60837912714351,-45.875814992182995,167.7837365155981,139.26120066371027,252.09643378926933,278.97691314700046,144.001529048164,277.1023635937232,110.06590484805918,178.96984086703344,212.57595895576173,305.15016224319334,327.7498453902757,200.05043052097471,266.17411444844026,-42.61886652913563,-224.00468075494678,16.176201397337536,112.5971082194917,-5.354772846430706,-1.870079535004379,81.61428675309719,108.9178199678397,216.98312747562318,216.66273738104428,175.37749624224682,125.04403743574437,33.58065388159878,34.58188519972589,-63.39785544465178,-98.45233123384907,-121.14814874202455,26.50463023614674,19.466900250188928,134.00792360561235,228.92261405013846,219.1230679530855,101.92005486089215,147.72087345813225,14.66217307966133,30.894262077525582,189.87147141905353,135.20332014348799,-15.528522180696768,71.8110768460948,398.8108417419233,614.3875366215116,631.8866194620971,480.9254731488984,627.3330490933988,618.4524558687482,899.0006136807815,855.9131881066397,694.9588024993465,750.2468827373834,1273.8558538095158,1032.1668070790774,1024.5657720230886,732.4803045854635,1328.5248594642833,2124.4719560582043,2107.8076242487014,2547.126034108718,2755.7989145344654,2968.1885504603088,3581.1998060491633,3369.2257197083823,3278.632870412098,3681.3900896048226,3293.816413846841,3189.9205157774322,3192.3005902956293,3362.6054842229005,3413.5213200105,3302.4763874737914,3728.997101400312,4137.309938576617,4905.9898812614065,5100.412975393421,4798.70115346621,4475.778605179767,4141.670984349936,4125.866439343479,3610.6823272542856,3711.891583748451,3636.2378342857064,4198.161952338362,4519.82065244811,4926.905155940183,5074.263123664009,4888.783750165278,5329.610578695423,4949.309224062044,4556.1137614942,4724.926589378027,4921.446229901937,5118.8537433969395,5301.263291183124,5104.241821252895,5673.277399170405,5248.300763589319,5283.104665994663,5537.1415072181735,5422.647979388926,5728.102926246374,5654.415107992978,5468.342021384225,5643.036077508443,5284.060212085256,5260.559328004156,5444.808819873762,5612.044285664146,5695.526920703034,5413.087587721425,5949.820408471806,6871.310664401094,6902.050100104264,6706.434854723875,6298.928999608201,6699.761001848092,6266.507647203301,6223.340411028297,5992.475032661949,5910.546142686746,6293.473392992046,6442.49899259994,6327.44754917333,6608.173116494303,6778.128817498282,6370.00250096335,6688.475081498271,5985.376939701299,5875.281499590974,5515.077274636138,5997.99220590843,5556.456108061565,5778.571252103304,5274.995627997626,5753.83797663987,6030.8319837725985,5477.203128365899,5479.5264351957985,5508.890786729514,5585.9592645198545,5247.156248472862,5349.115259093176,4703.730393175977,4493.546704218916,4103.361159029477,3957.9986183570095,4393.183145543727,4579.226735759532,4867.278443194489,4810.9205267221,4839.750246647397,4814.063318934189,4815.172114717912,4913.666856709347,4990.304726731563,4857.155840644804,4392.772476668502,4208.744565680792,4196.744994415005,3935.484847437463,4077.139454180882,3794.3919271151303,4197.664713326515,4928.340150840681,4812.381616144561,4555.356781346473,4561.453728345772,4222.335177371615,3755.7305055393294,993.9377295939494,1.1550509171765952,-884.5883143491765,-3053.7119890442937,-1622.261752724994,-3253.5591447505667,-13060.19374818707],\"type\":\"scatter\"},{\"hovertemplate\":\"%{y:.0f}\",\"legendgroup\":\"nowcast\",\"line\":{\"color\":\"#41ACDD\",\"width\":2.5},\"mode\":\"lines\",\"name\":\"Nowcast\",\"x\":[\"2021-11-07T00:00:00.000000000\",\"2021-11-08T00:00:00.000000000\",\"2021-11-09T00:00:00.000000000\",\"2021-11-10T00:00:00.000000000\",\"2021-11-11T00:00:00.000000000\",\"2021-11-12T00:00:00.000000000\",\"2021-11-13T00:00:00.000000000\",\"2021-11-14T00:00:00.000000000\",\"2021-11-15T00:00:00.000000000\",\"2021-11-16T00:00:00.000000000\",\"2021-11-17T00:00:00.000000000\",\"2021-11-18T00:00:00.000000000\",\"2021-11-19T00:00:00.000000000\",\"2021-11-20T00:00:00.000000000\",\"2021-11-21T00:00:00.000000000\",\"2021-11-22T00:00:00.000000000\",\"2021-11-23T00:00:00.000000000\",\"2021-11-24T00:00:00.000000000\",\"2021-11-25T00:00:00.000000000\",\"2021-11-26T00:00:00.000000000\",\"2021-11-27T00:00:00.000000000\",\"2021-11-28T00:00:00.000000000\",\"2021-11-29T00:00:00.000000000\",\"2021-11-30T00:00:00.000000000\",\"2021-12-01T00:00:00.000000000\",\"2021-12-02T00:00:00.000000000\",\"2021-12-03T00:00:00.000000000\",\"2021-12-04T00:00:00.000000000\",\"2021-12-05T00:00:00.000000000\",\"2021-12-06T00:00:00.000000000\",\"2021-12-07T00:00:00.000000000\",\"2021-12-08T00:00:00.000000000\",\"2021-12-09T00:00:00.000000000\",\"2021-12-10T00:00:00.000000000\",\"2021-12-11T00:00:00.000000000\",\"2021-12-12T00:00:00.000000000\",\"2021-12-13T00:00:00.000000000\",\"2021-12-14T00:00:00.000000000\",\"2021-12-15T00:00:00.000000000\",\"2021-12-16T00:00:00.000000000\",\"2021-12-17T00:00:00.000000000\",\"2021-12-18T00:00:00.000000000\",\"2021-12-19T00:00:00.000000000\",\"2021-12-20T00:00:00.000000000\",\"2021-12-21T00:00:00.000000000\",\"2021-12-22T00:00:00.000000000\",\"2021-12-23T00:00:00.000000000\",\"2021-12-24T00:00:00.000000000\",\"2021-12-25T00:00:00.000000000\",\"2021-12-26T00:00:00.000000000\",\"2021-12-27T00:00:00.000000000\",\"2021-12-28T00:00:00.000000000\",\"2021-12-29T00:00:00.000000000\",\"2021-12-30T00:00:00.000000000\",\"2021-12-31T00:00:00.000000000\",\"2022-01-01T00:00:00.000000000\",\"2022-01-02T00:00:00.000000000\",\"2022-01-03T00:00:00.000000000\",\"2022-01-04T00:00:00.000000000\",\"2022-01-05T00:00:00.000000000\",\"2022-01-06T00:00:00.000000000\",\"2022-01-07T00:00:00.000000000\",\"2022-01-08T00:00:00.000000000\",\"2022-01-09T00:00:00.000000000\",\"2022-01-10T00:00:00.000000000\",\"2022-01-11T00:00:00.000000000\",\"2022-01-12T00:00:00.000000000\",\"2022-01-13T00:00:00.000000000\",\"2022-01-14T00:00:00.000000000\",\"2022-01-15T00:00:00.000000000\",\"2022-01-16T00:00:00.000000000\",\"2022-01-17T00:00:00.000000000\",\"2022-01-18T00:00:00.000000000\",\"2022-01-19T00:00:00.000000000\",\"2022-01-20T00:00:00.000000000\",\"2022-01-21T00:00:00.000000000\",\"2022-01-22T00:00:00.000000000\",\"2022-01-23T00:00:00.000000000\",\"2022-01-24T00:00:00.000000000\",\"2022-01-25T00:00:00.000000000\",\"2022-01-26T00:00:00.000000000\",\"2022-01-27T00:00:00.000000000\",\"2022-01-28T00:00:00.000000000\",\"2022-01-29T00:00:00.000000000\",\"2022-01-30T00:00:00.000000000\",\"2022-01-31T00:00:00.000000000\",\"2022-02-01T00:00:00.000000000\",\"2022-02-02T00:00:00.000000000\",\"2022-02-03T00:00:00.000000000\",\"2022-02-04T00:00:00.000000000\",\"2022-02-05T00:00:00.000000000\",\"2022-02-06T00:00:00.000000000\",\"2022-02-07T00:00:00.000000000\",\"2022-02-08T00:00:00.000000000\",\"2022-02-09T00:00:00.000000000\",\"2022-02-10T00:00:00.000000000\",\"2022-02-11T00:00:00.000000000\",\"2022-02-12T00:00:00.000000000\",\"2022-02-13T00:00:00.000000000\",\"2022-02-14T00:00:00.000000000\",\"2022-02-15T00:00:00.000000000\",\"2022-02-16T00:00:00.000000000\",\"2022-02-17T00:00:00.000000000\",\"2022-02-18T00:00:00.000000000\",\"2022-02-19T00:00:00.000000000\",\"2022-02-20T00:00:00.000000000\",\"2022-02-21T00:00:00.000000000\",\"2022-02-22T00:00:00.000000000\",\"2022-02-23T00:00:00.000000000\",\"2022-02-24T00:00:00.000000000\",\"2022-02-25T00:00:00.000000000\",\"2022-02-26T00:00:00.000000000\",\"2022-02-27T00:00:00.000000000\",\"2022-02-28T00:00:00.000000000\",\"2022-03-01T00:00:00.000000000\",\"2022-03-02T00:00:00.000000000\",\"2022-03-03T00:00:00.000000000\",\"2022-03-04T00:00:00.000000000\",\"2022-03-05T00:00:00.000000000\",\"2022-03-06T00:00:00.000000000\",\"2022-03-07T00:00:00.000000000\",\"2022-03-08T00:00:00.000000000\",\"2022-03-09T00:00:00.000000000\",\"2022-03-10T00:00:00.000000000\",\"2022-03-11T00:00:00.000000000\",\"2022-03-12T00:00:00.000000000\",\"2022-03-13T00:00:00.000000000\",\"2022-03-14T00:00:00.000000000\",\"2022-03-15T00:00:00.000000000\",\"2022-03-16T00:00:00.000000000\",\"2022-03-17T00:00:00.000000000\",\"2022-03-18T00:00:00.000000000\",\"2022-03-19T00:00:00.000000000\",\"2022-03-20T00:00:00.000000000\",\"2022-03-21T00:00:00.000000000\",\"2022-03-22T00:00:00.000000000\",\"2022-03-23T00:00:00.000000000\",\"2022-03-24T00:00:00.000000000\",\"2022-03-25T00:00:00.000000000\",\"2022-03-26T00:00:00.000000000\",\"2022-03-27T00:00:00.000000000\",\"2022-03-28T00:00:00.000000000\",\"2022-03-29T00:00:00.000000000\",\"2022-03-30T00:00:00.000000000\",\"2022-03-31T00:00:00.000000000\",\"2022-04-01T00:00:00.000000000\",\"2022-04-02T00:00:00.000000000\",\"2022-04-03T00:00:00.000000000\",\"2022-04-04T00:00:00.000000000\",\"2022-04-05T00:00:00.000000000\",\"2022-04-06T00:00:00.000000000\",\"2022-04-07T00:00:00.000000000\",\"2022-04-08T00:00:00.000000000\",\"2022-04-09T00:00:00.000000000\",\"2022-04-10T00:00:00.000000000\",\"2022-04-11T00:00:00.000000000\",\"2022-04-12T00:00:00.000000000\",\"2022-04-13T00:00:00.000000000\",\"2022-04-14T00:00:00.000000000\",\"2022-04-15T00:00:00.000000000\",\"2022-04-16T00:00:00.000000000\",\"2022-04-17T00:00:00.000000000\",\"2022-04-18T00:00:00.000000000\",\"2022-04-19T00:00:00.000000000\",\"2022-04-20T00:00:00.000000000\",\"2022-04-21T00:00:00.000000000\",\"2022-04-22T00:00:00.000000000\",\"2022-04-23T00:00:00.000000000\",\"2022-04-24T00:00:00.000000000\",\"2022-04-25T00:00:00.000000000\",\"2022-04-26T00:00:00.000000000\",\"2022-04-27T00:00:00.000000000\",\"2022-04-28T00:00:00.000000000\",\"2022-04-29T00:00:00.000000000\",\"2022-04-30T00:00:00.000000000\",\"2022-05-01T00:00:00.000000000\",\"2022-05-02T00:00:00.000000000\",\"2022-05-03T00:00:00.000000000\",\"2022-05-04T00:00:00.000000000\",\"2022-05-05T00:00:00.000000000\",\"2022-05-06T00:00:00.000000000\",\"2022-05-07T00:00:00.000000000\",\"2022-05-08T00:00:00.000000000\",\"2022-05-09T00:00:00.000000000\",\"2022-05-10T00:00:00.000000000\",\"2022-05-11T00:00:00.000000000\",\"2022-05-12T00:00:00.000000000\",\"2022-05-13T00:00:00.000000000\"],\"y\":[2210.0199789856224,2026.563183860769,2115.74845090466,2023.6512570889947,1835.8523077110087,1813.959513969659,1745.1549083854516,1684.0232794781864,1639.1418468225104,1462.0206466657048,1396.524798993418,1304.1076844442036,1240.2996286499342,1129.842352223764,983.8357783369786,899.7215262307142,859.5223575460292,778.4764457633238,821.4049324529972,885.6942863816099,969.9408660125995,1047.2157669438132,1159.3576561430705,1174.91124881838,1148.2331013517696,1075.1839768500502,1017.2780585148619,935.9351116653676,924.7168570456613,877.4102939738917,921.0951761916771,930.323450788489,942.2393017194457,840.5862125590702,859.5929661195296,734.294532963822,665.3036876539571,561.394881671364,526.2776594542046,482.73403272770685,491.91284804099905,455.13832904425715,473.9301060110176,469.98993457586204,486.44133134753895,457.1435684729452,435.6464868553987,487.0285570409509,491.58462748510266,584.1425928330094,625.9674656793073,652.838175660698,702.5668115327644,797.5883555534843,885.2149257286006,990.9094364162418,976.2187974331166,1098.7855066506977,1192.7840614575887,1293.260769358016,1531.0453447161701,1618.8786479040298,1705.377207663707,2091.6284992137253,2166.482266965832,2475.529867377062,2699.8574282389372,2544.4773499423222,2810.8479466422186,3044.938561407763,3121.0461557636772,3416.298151222477,3682.8838172671667,4101.985850957185,4430.644322316793,4579.666223566803,4495.7455780452065,4820.9995931779895,4897.432009849339,4841.391839017275,5002.419304554603,5170.84293865015,5314.133602765547,5684.534886016927,5699.100719310567,5781.398518997774,6066.89743158862,6036.8551381040825,5932.710066153061,5889.7338022700615,5560.056741910791,5637.682826298149,5614.527263731309,5571.903207885495,5463.489389873654,5607.278439947839,5672.456762597361,6007.629275408774,6089.225910490141,6077.652146627273,6153.468341910852,6271.563222460727,6305.811756253253,6287.396374944813,6323.899492964079,6319.693886823656,6531.411033125233,6471.1043736525135,6769.296553857287,6709.777573283654,6903.176561756361,6906.581791646326,6986.194131933975,7110.273156276448,7234.423894248268,7107.326763797193,7200.908550269324,6946.029907422488,6938.814015469991,7061.92039239672,7097.354726664887,7201.686388477865,7537.527770264052,7615.923704104064,8012.568166705275,8216.028037940176,8178.670339929852,8281.970240611141,8334.729946855901,8074.880180508366,7971.31944294361,7821.298267991493,7691.754334323848,7679.160495608905,7646.6457407496755,7861.836099849517,7935.9796262401505,8074.453236183295,8213.342873779566,8236.444412406658,7845.56646617926,7490.281053347137,7186.282336543901,6927.976067910435,6925.4027016845885,6768.751708201964,6577.727208914695,6621.505375221558,6951.680321677786,6862.293583032314,7031.572672179868,6983.734588531583,7036.5845275419415,6936.484566402915,6832.644114077155,6414.61813621081,6272.863795465834,6136.715795309696,5895.728951239952,5742.903946114668,5743.125398465012,5861.128751323065,6092.296645789002,6191.909393503192,6173.026366077001,6324.774151330123,6255.987067116806,6269.416045335034,6093.030422614187,5835.312649402861,5627.499804450444,5525.097507494758,5238.148260624672,5171.1568401992845,5368.413130580655,5606.54487640361,5751.652301684064,5839.480558637397,5825.582164599394,6122.2769504139615,6274.529569661433,6146.464915190664,5486.484992150633,5971.258736116021,4870.033719964736,5694.719420874882,4753.455608718767,4444.444444444444],\"type\":\"scatter\"},{\"hovertemplate\":\"%{y:.0f}\",\"legendgroup\":\"nowcast\",\"line\":{\"color\":\"red\",\"width\":2.5},\"mode\":\"lines\",\"name\":\"questionnaire incidence\",\"x\":[\"2021-11-09T00:00:00.000000000\",\"2021-11-10T00:00:00.000000000\",\"2021-11-11T00:00:00.000000000\",\"2021-11-12T00:00:00.000000000\",\"2021-11-13T00:00:00.000000000\",\"2021-11-14T00:00:00.000000000\",\"2021-11-15T00:00:00.000000000\",\"2021-11-16T00:00:00.000000000\",\"2021-11-17T00:00:00.000000000\",\"2021-11-18T00:00:00.000000000\",\"2021-11-19T00:00:00.000000000\",\"2021-11-20T00:00:00.000000000\",\"2021-11-21T00:00:00.000000000\",\"2021-11-22T00:00:00.000000000\",\"2021-11-23T00:00:00.000000000\",\"2021-11-24T00:00:00.000000000\",\"2021-11-25T00:00:00.000000000\",\"2021-11-26T00:00:00.000000000\",\"2021-11-27T00:00:00.000000000\",\"2021-11-28T00:00:00.000000000\",\"2021-11-29T00:00:00.000000000\",\"2021-11-30T00:00:00.000000000\",\"2021-12-01T00:00:00.000000000\",\"2021-12-02T00:00:00.000000000\",\"2021-12-03T00:00:00.000000000\",\"2021-12-04T00:00:00.000000000\",\"2021-12-05T00:00:00.000000000\",\"2021-12-06T00:00:00.000000000\",\"2021-12-07T00:00:00.000000000\",\"2021-12-08T00:00:00.000000000\",\"2021-12-09T00:00:00.000000000\",\"2021-12-10T00:00:00.000000000\",\"2021-12-11T00:00:00.000000000\",\"2021-12-12T00:00:00.000000000\",\"2021-12-13T00:00:00.000000000\",\"2021-12-14T00:00:00.000000000\",\"2021-12-15T00:00:00.000000000\",\"2021-12-16T00:00:00.000000000\",\"2021-12-17T00:00:00.000000000\",\"2021-12-18T00:00:00.000000000\",\"2021-12-19T00:00:00.000000000\",\"2021-12-20T00:00:00.000000000\",\"2021-12-21T00:00:00.000000000\",\"2021-12-22T00:00:00.000000000\",\"2021-12-23T00:00:00.000000000\",\"2021-12-24T00:00:00.000000000\",\"2021-12-25T00:00:00.000000000\",\"2021-12-26T00:00:00.000000000\",\"2021-12-27T00:00:00.000000000\",\"2021-12-28T00:00:00.000000000\",\"2021-12-29T00:00:00.000000000\",\"2021-12-30T00:00:00.000000000\",\"2021-12-31T00:00:00.000000000\",\"2022-01-01T00:00:00.000000000\",\"2022-01-02T00:00:00.000000000\",\"2022-01-03T00:00:00.000000000\",\"2022-01-04T00:00:00.000000000\",\"2022-01-05T00:00:00.000000000\",\"2022-01-06T00:00:00.000000000\",\"2022-01-07T00:00:00.000000000\",\"2022-01-08T00:00:00.000000000\",\"2022-01-09T00:00:00.000000000\",\"2022-01-10T00:00:00.000000000\",\"2022-01-11T00:00:00.000000000\",\"2022-01-12T00:00:00.000000000\",\"2022-01-13T00:00:00.000000000\",\"2022-01-14T00:00:00.000000000\",\"2022-01-15T00:00:00.000000000\",\"2022-01-16T00:00:00.000000000\",\"2022-01-17T00:00:00.000000000\",\"2022-01-18T00:00:00.000000000\",\"2022-01-19T00:00:00.000000000\",\"2022-01-20T00:00:00.000000000\",\"2022-01-21T00:00:00.000000000\",\"2022-01-22T00:00:00.000000000\",\"2022-01-23T00:00:00.000000000\",\"2022-01-24T00:00:00.000000000\",\"2022-01-25T00:00:00.000000000\",\"2022-01-26T00:00:00.000000000\",\"2022-01-27T00:00:00.000000000\",\"2022-01-28T00:00:00.000000000\",\"2022-01-29T00:00:00.000000000\",\"2022-01-30T00:00:00.000000000\",\"2022-01-31T00:00:00.000000000\",\"2022-02-01T00:00:00.000000000\",\"2022-02-02T00:00:00.000000000\",\"2022-02-03T00:00:00.000000000\",\"2022-02-04T00:00:00.000000000\",\"2022-02-05T00:00:00.000000000\",\"2022-02-06T00:00:00.000000000\",\"2022-02-07T00:00:00.000000000\",\"2022-02-08T00:00:00.000000000\",\"2022-02-09T00:00:00.000000000\",\"2022-02-10T00:00:00.000000000\",\"2022-02-11T00:00:00.000000000\",\"2022-02-12T00:00:00.000000000\",\"2022-02-13T00:00:00.000000000\",\"2022-02-14T00:00:00.000000000\",\"2022-02-15T00:00:00.000000000\",\"2022-02-16T00:00:00.000000000\",\"2022-02-17T00:00:00.000000000\",\"2022-02-18T00:00:00.000000000\",\"2022-02-19T00:00:00.000000000\",\"2022-02-20T00:00:00.000000000\",\"2022-02-21T00:00:00.000000000\",\"2022-02-22T00:00:00.000000000\",\"2022-02-23T00:00:00.000000000\",\"2022-02-24T00:00:00.000000000\",\"2022-02-25T00:00:00.000000000\",\"2022-02-26T00:00:00.000000000\",\"2022-02-27T00:00:00.000000000\",\"2022-02-28T00:00:00.000000000\",\"2022-03-01T00:00:00.000000000\",\"2022-03-02T00:00:00.000000000\",\"2022-03-03T00:00:00.000000000\",\"2022-03-04T00:00:00.000000000\",\"2022-03-05T00:00:00.000000000\",\"2022-03-06T00:00:00.000000000\",\"2022-03-07T00:00:00.000000000\",\"2022-03-08T00:00:00.000000000\",\"2022-03-09T00:00:00.000000000\",\"2022-03-10T00:00:00.000000000\",\"2022-03-11T00:00:00.000000000\",\"2022-03-12T00:00:00.000000000\",\"2022-03-13T00:00:00.000000000\",\"2022-03-14T00:00:00.000000000\",\"2022-03-15T00:00:00.000000000\",\"2022-03-16T00:00:00.000000000\",\"2022-03-17T00:00:00.000000000\",\"2022-03-18T00:00:00.000000000\",\"2022-03-19T00:00:00.000000000\",\"2022-03-20T00:00:00.000000000\",\"2022-03-21T00:00:00.000000000\",\"2022-03-22T00:00:00.000000000\",\"2022-03-23T00:00:00.000000000\",\"2022-03-24T00:00:00.000000000\",\"2022-03-25T00:00:00.000000000\",\"2022-03-26T00:00:00.000000000\",\"2022-03-27T00:00:00.000000000\",\"2022-03-28T00:00:00.000000000\",\"2022-03-29T00:00:00.000000000\",\"2022-03-30T00:00:00.000000000\",\"2022-03-31T00:00:00.000000000\",\"2022-04-01T00:00:00.000000000\",\"2022-04-02T00:00:00.000000000\",\"2022-04-03T00:00:00.000000000\",\"2022-04-04T00:00:00.000000000\",\"2022-04-05T00:00:00.000000000\",\"2022-04-06T00:00:00.000000000\",\"2022-04-07T00:00:00.000000000\",\"2022-04-08T00:00:00.000000000\",\"2022-04-09T00:00:00.000000000\",\"2022-04-10T00:00:00.000000000\",\"2022-04-11T00:00:00.000000000\",\"2022-04-12T00:00:00.000000000\",\"2022-04-13T00:00:00.000000000\",\"2022-04-14T00:00:00.000000000\",\"2022-04-15T00:00:00.000000000\",\"2022-04-16T00:00:00.000000000\",\"2022-04-17T00:00:00.000000000\",\"2022-04-18T00:00:00.000000000\",\"2022-04-19T00:00:00.000000000\",\"2022-04-20T00:00:00.000000000\",\"2022-04-21T00:00:00.000000000\",\"2022-04-22T00:00:00.000000000\",\"2022-04-23T00:00:00.000000000\",\"2022-04-24T00:00:00.000000000\",\"2022-04-25T00:00:00.000000000\",\"2022-04-26T00:00:00.000000000\",\"2022-04-27T00:00:00.000000000\",\"2022-04-28T00:00:00.000000000\",\"2022-04-29T00:00:00.000000000\",\"2022-04-30T00:00:00.000000000\",\"2022-05-01T00:00:00.000000000\",\"2022-05-02T00:00:00.000000000\",\"2022-05-03T00:00:00.000000000\",\"2022-05-04T00:00:00.000000000\",\"2022-05-05T00:00:00.000000000\",\"2022-05-06T00:00:00.000000000\",\"2022-05-07T00:00:00.000000000\",\"2022-05-08T00:00:00.000000000\",\"2022-05-09T00:00:00.000000000\",\"2022-05-10T00:00:00.000000000\",\"2022-05-11T00:00:00.000000000\",\"2022-05-12T00:00:00.000000000\",\"2022-05-14T00:00:00.000000000\",\"2022-05-15T00:00:00.000000000\"],\"y\":[813.0081300813009,406.50406504065046,654.1444724792077,689.0210527721041,698.2756657470951,734.8015868993376,629.8299316280037,605.2610046200523,1365.1394240729396,1272.7233205669038,1262.8643044967077,1157.822287689985,1026.7606887384777,1026.7606887384777,1059.9516607940789,413.0037890543475,504.48158620335784,400.96191746629785,462.2739959457584,462.2739959457584,541.2005942093732,473.1238729823088,409.96933323331365,571.3793517861893,683.4241697133601,670.2121393339478,670.2121393339479,641.4108543535411,584.721511949913,534.9455039857517,480.5404495806972,421.4056845635793,373.30563646353124,373.30563646353124,323.18032318032317,414.7554147554148,507.519793234079,319.58793383247894,357.66969165945966,441.4568722208338,519.7347587178983,519.7347587178983,467.1916733879278,407.6498862713898,361.5696334882889,318.03866755429266,274.95152769295925,196.67364119589467,241.59727102518488,202.56526478006387,197.46415823233585,227.03878487356053,179.57794007052306,180.77148965116942,285.3011063759081,240.37747654661788,357.79430629221474,359.8751772615677,467.7288884097194,631.3057695438525,589.4121792631655,484.8825625384267,484.8825625384267,367.46573279282995,478.7060927092203,388.07607523959007,377.2875821879628,619.4183327932896,619.4183327932896,619.4183327932896,619.4183327932896,1027.4261665436977,1346.1554024240963,1842.71766369224,1747.2574909689902,2233.579679418838,2788.7240169465954,3218.618196840775,3384.884795973105,3514.6605434814114,3376.6553719191925,3511.9396812551613,3638.957641029182,4095.8802556228734,4609.976006502765,4215.888447842158,4638.829054135953,4750.407164387388,4946.517519014112,4992.155953986289,4301.63241022497,3899.734316185593,4070.7155637017427,3538.451356275435,3383.91184317702,3153.2182772753554,3514.6478573446147,3982.1409938349852,4011.4777285288615,4058.4352364141796,4028.074824986731,3942.685771110005,4488.9648888176935,4476.048329789019,4353.678451605188,4445.889419121779,4847.879515356479,4827.059580037079,5048.186804885642,4929.451646780406,4556.051799350937,4834.763283944774,4834.54700904207,4667.806969420675,4861.721206918447,5295.804941071602,5333.300254157466,5333.457968809079,5080.499642621461,5099.152922724511,5242.131807299836,6584.005945227825,6412.651560168316,7231.969276744772,7635.687573655295,7734.9194218461735,8547.525257694915,8925.409034305467,8064.65663957113,8549.156395915546,7857.763865161451,7860.141186870813,7778.044858923982,7849.443456775415,8422.193689876704,8221.247414463644,7771.421721919504,8155.575383384091,8551.36030086401,9414.237207136233,9345.852081825113,8405.429784476042,8628.373352999977,8605.067834707988,8486.568822199759,8105.242758690711,7909.298602339644,7599.540611516931,8124.916936994857,7786.472846666534,7886.072882635929,7617.953904839532,7319.21840488073,7119.2008978779295,7020.851413890052,6393.229921081163,6823.003513547603,6533.256731558398,6578.209966073067,6452.393622822676,6162.262972022209,6307.242495532807,6580.379762889728,6145.433097666758,6641.469710810764,6661.31343049397,7108.572626143033,6866.260791752701,6584.073842899086,6507.937508102244,6310.936410942668,5553.26563571263,5271.714888323373,4908.489306119688,4869.393729831823,4923.048994754694,4318.217361349526,4561.848729980894,5224.997875295484,5727.475368491101,5013.189654205387,4408.257127448755,3402.2209101449325,5365.240160398225,6181.437851595917,4629.6296296296305,4629.6296296296305],\"type\":\"scatter\"}],                        {\"template\":{\"data\":{\"barpolar\":[{\"marker\":{\"line\":{\"color\":\"white\",\"width\":0.5},\"pattern\":{\"fillmode\":\"overlay\",\"size\":10,\"solidity\":0.2}},\"type\":\"barpolar\"}],\"bar\":[{\"error_x\":{\"color\":\"#2a3f5f\"},\"error_y\":{\"color\":\"#2a3f5f\"},\"marker\":{\"line\":{\"color\":\"white\",\"width\":0.5},\"pattern\":{\"fillmode\":\"overlay\",\"size\":10,\"solidity\":0.2}},\"type\":\"bar\"}],\"carpet\":[{\"aaxis\":{\"endlinecolor\":\"#2a3f5f\",\"gridcolor\":\"#C8D4E3\",\"linecolor\":\"#C8D4E3\",\"minorgridcolor\":\"#C8D4E3\",\"startlinecolor\":\"#2a3f5f\"},\"baxis\":{\"endlinecolor\":\"#2a3f5f\",\"gridcolor\":\"#C8D4E3\",\"linecolor\":\"#C8D4E3\",\"minorgridcolor\":\"#C8D4E3\",\"startlinecolor\":\"#2a3f5f\"},\"type\":\"carpet\"}],\"choropleth\":[{\"colorbar\":{\"outlinewidth\":0,\"ticks\":\"\"},\"type\":\"choropleth\"}],\"contourcarpet\":[{\"colorbar\":{\"outlinewidth\":0,\"ticks\":\"\"},\"type\":\"contourcarpet\"}],\"contour\":[{\"colorbar\":{\"outlinewidth\":0,\"ticks\":\"\"},\"colorscale\":[[0.0,\"#0d0887\"],[0.1111111111111111,\"#46039f\"],[0.2222222222222222,\"#7201a8\"],[0.3333333333333333,\"#9c179e\"],[0.4444444444444444,\"#bd3786\"],[0.5555555555555556,\"#d8576b\"],[0.6666666666666666,\"#ed7953\"],[0.7777777777777778,\"#fb9f3a\"],[0.8888888888888888,\"#fdca26\"],[1.0,\"#f0f921\"]],\"type\":\"contour\"}],\"heatmapgl\":[{\"colorbar\":{\"outlinewidth\":0,\"ticks\":\"\"},\"colorscale\":[[0.0,\"#0d0887\"],[0.1111111111111111,\"#46039f\"],[0.2222222222222222,\"#7201a8\"],[0.3333333333333333,\"#9c179e\"],[0.4444444444444444,\"#bd3786\"],[0.5555555555555556,\"#d8576b\"],[0.6666666666666666,\"#ed7953\"],[0.7777777777777778,\"#fb9f3a\"],[0.8888888888888888,\"#fdca26\"],[1.0,\"#f0f921\"]],\"type\":\"heatmapgl\"}],\"heatmap\":[{\"colorbar\":{\"outlinewidth\":0,\"ticks\":\"\"},\"colorscale\":[[0.0,\"#0d0887\"],[0.1111111111111111,\"#46039f\"],[0.2222222222222222,\"#7201a8\"],[0.3333333333333333,\"#9c179e\"],[0.4444444444444444,\"#bd3786\"],[0.5555555555555556,\"#d8576b\"],[0.6666666666666666,\"#ed7953\"],[0.7777777777777778,\"#fb9f3a\"],[0.8888888888888888,\"#fdca26\"],[1.0,\"#f0f921\"]],\"type\":\"heatmap\"}],\"histogram2dcontour\":[{\"colorbar\":{\"outlinewidth\":0,\"ticks\":\"\"},\"colorscale\":[[0.0,\"#0d0887\"],[0.1111111111111111,\"#46039f\"],[0.2222222222222222,\"#7201a8\"],[0.3333333333333333,\"#9c179e\"],[0.4444444444444444,\"#bd3786\"],[0.5555555555555556,\"#d8576b\"],[0.6666666666666666,\"#ed7953\"],[0.7777777777777778,\"#fb9f3a\"],[0.8888888888888888,\"#fdca26\"],[1.0,\"#f0f921\"]],\"type\":\"histogram2dcontour\"}],\"histogram2d\":[{\"colorbar\":{\"outlinewidth\":0,\"ticks\":\"\"},\"colorscale\":[[0.0,\"#0d0887\"],[0.1111111111111111,\"#46039f\"],[0.2222222222222222,\"#7201a8\"],[0.3333333333333333,\"#9c179e\"],[0.4444444444444444,\"#bd3786\"],[0.5555555555555556,\"#d8576b\"],[0.6666666666666666,\"#ed7953\"],[0.7777777777777778,\"#fb9f3a\"],[0.8888888888888888,\"#fdca26\"],[1.0,\"#f0f921\"]],\"type\":\"histogram2d\"}],\"histogram\":[{\"marker\":{\"pattern\":{\"fillmode\":\"overlay\",\"size\":10,\"solidity\":0.2}},\"type\":\"histogram\"}],\"mesh3d\":[{\"colorbar\":{\"outlinewidth\":0,\"ticks\":\"\"},\"type\":\"mesh3d\"}],\"parcoords\":[{\"line\":{\"colorbar\":{\"outlinewidth\":0,\"ticks\":\"\"}},\"type\":\"parcoords\"}],\"pie\":[{\"automargin\":true,\"type\":\"pie\"}],\"scatter3d\":[{\"line\":{\"colorbar\":{\"outlinewidth\":0,\"ticks\":\"\"}},\"marker\":{\"colorbar\":{\"outlinewidth\":0,\"ticks\":\"\"}},\"type\":\"scatter3d\"}],\"scattercarpet\":[{\"marker\":{\"colorbar\":{\"outlinewidth\":0,\"ticks\":\"\"}},\"type\":\"scattercarpet\"}],\"scattergeo\":[{\"marker\":{\"colorbar\":{\"outlinewidth\":0,\"ticks\":\"\"}},\"type\":\"scattergeo\"}],\"scattergl\":[{\"marker\":{\"colorbar\":{\"outlinewidth\":0,\"ticks\":\"\"}},\"type\":\"scattergl\"}],\"scattermapbox\":[{\"marker\":{\"colorbar\":{\"outlinewidth\":0,\"ticks\":\"\"}},\"type\":\"scattermapbox\"}],\"scatterpolargl\":[{\"marker\":{\"colorbar\":{\"outlinewidth\":0,\"ticks\":\"\"}},\"type\":\"scatterpolargl\"}],\"scatterpolar\":[{\"marker\":{\"colorbar\":{\"outlinewidth\":0,\"ticks\":\"\"}},\"type\":\"scatterpolar\"}],\"scatter\":[{\"fillpattern\":{\"fillmode\":\"overlay\",\"size\":10,\"solidity\":0.2},\"type\":\"scatter\"}],\"scatterternary\":[{\"marker\":{\"colorbar\":{\"outlinewidth\":0,\"ticks\":\"\"}},\"type\":\"scatterternary\"}],\"surface\":[{\"colorbar\":{\"outlinewidth\":0,\"ticks\":\"\"},\"colorscale\":[[0.0,\"#0d0887\"],[0.1111111111111111,\"#46039f\"],[0.2222222222222222,\"#7201a8\"],[0.3333333333333333,\"#9c179e\"],[0.4444444444444444,\"#bd3786\"],[0.5555555555555556,\"#d8576b\"],[0.6666666666666666,\"#ed7953\"],[0.7777777777777778,\"#fb9f3a\"],[0.8888888888888888,\"#fdca26\"],[1.0,\"#f0f921\"]],\"type\":\"surface\"}],\"table\":[{\"cells\":{\"fill\":{\"color\":\"#EBF0F8\"},\"line\":{\"color\":\"white\"}},\"header\":{\"fill\":{\"color\":\"#C8D4E3\"},\"line\":{\"color\":\"white\"}},\"type\":\"table\"}]},\"layout\":{\"annotationdefaults\":{\"arrowcolor\":\"#2a3f5f\",\"arrowhead\":0,\"arrowwidth\":1},\"autotypenumbers\":\"strict\",\"coloraxis\":{\"colorbar\":{\"outlinewidth\":0,\"ticks\":\"\"}},\"colorscale\":{\"diverging\":[[0,\"#8e0152\"],[0.1,\"#c51b7d\"],[0.2,\"#de77ae\"],[0.3,\"#f1b6da\"],[0.4,\"#fde0ef\"],[0.5,\"#f7f7f7\"],[0.6,\"#e6f5d0\"],[0.7,\"#b8e186\"],[0.8,\"#7fbc41\"],[0.9,\"#4d9221\"],[1,\"#276419\"]],\"sequential\":[[0.0,\"#0d0887\"],[0.1111111111111111,\"#46039f\"],[0.2222222222222222,\"#7201a8\"],[0.3333333333333333,\"#9c179e\"],[0.4444444444444444,\"#bd3786\"],[0.5555555555555556,\"#d8576b\"],[0.6666666666666666,\"#ed7953\"],[0.7777777777777778,\"#fb9f3a\"],[0.8888888888888888,\"#fdca26\"],[1.0,\"#f0f921\"]],\"sequentialminus\":[[0.0,\"#0d0887\"],[0.1111111111111111,\"#46039f\"],[0.2222222222222222,\"#7201a8\"],[0.3333333333333333,\"#9c179e\"],[0.4444444444444444,\"#bd3786\"],[0.5555555555555556,\"#d8576b\"],[0.6666666666666666,\"#ed7953\"],[0.7777777777777778,\"#fb9f3a\"],[0.8888888888888888,\"#fdca26\"],[1.0,\"#f0f921\"]]},\"colorway\":[\"#636efa\",\"#EF553B\",\"#00cc96\",\"#ab63fa\",\"#FFA15A\",\"#19d3f3\",\"#FF6692\",\"#B6E880\",\"#FF97FF\",\"#FECB52\"],\"font\":{\"color\":\"#2a3f5f\"},\"geo\":{\"bgcolor\":\"white\",\"lakecolor\":\"white\",\"landcolor\":\"white\",\"showlakes\":true,\"showland\":true,\"subunitcolor\":\"#C8D4E3\"},\"hoverlabel\":{\"align\":\"left\"},\"hovermode\":\"closest\",\"mapbox\":{\"style\":\"light\"},\"paper_bgcolor\":\"white\",\"plot_bgcolor\":\"white\",\"polar\":{\"angularaxis\":{\"gridcolor\":\"#EBF0F8\",\"linecolor\":\"#EBF0F8\",\"ticks\":\"\"},\"bgcolor\":\"white\",\"radialaxis\":{\"gridcolor\":\"#EBF0F8\",\"linecolor\":\"#EBF0F8\",\"ticks\":\"\"}},\"scene\":{\"xaxis\":{\"backgroundcolor\":\"white\",\"gridcolor\":\"#DFE8F3\",\"gridwidth\":2,\"linecolor\":\"#EBF0F8\",\"showbackground\":true,\"ticks\":\"\",\"zerolinecolor\":\"#EBF0F8\"},\"yaxis\":{\"backgroundcolor\":\"white\",\"gridcolor\":\"#DFE8F3\",\"gridwidth\":2,\"linecolor\":\"#EBF0F8\",\"showbackground\":true,\"ticks\":\"\",\"zerolinecolor\":\"#EBF0F8\"},\"zaxis\":{\"backgroundcolor\":\"white\",\"gridcolor\":\"#DFE8F3\",\"gridwidth\":2,\"linecolor\":\"#EBF0F8\",\"showbackground\":true,\"ticks\":\"\",\"zerolinecolor\":\"#EBF0F8\"}},\"shapedefaults\":{\"line\":{\"color\":\"#2a3f5f\"}},\"ternary\":{\"aaxis\":{\"gridcolor\":\"#DFE8F3\",\"linecolor\":\"#A2B1C6\",\"ticks\":\"\"},\"baxis\":{\"gridcolor\":\"#DFE8F3\",\"linecolor\":\"#A2B1C6\",\"ticks\":\"\"},\"bgcolor\":\"white\",\"caxis\":{\"gridcolor\":\"#DFE8F3\",\"linecolor\":\"#A2B1C6\",\"ticks\":\"\"}},\"title\":{\"x\":0.05},\"xaxis\":{\"automargin\":true,\"gridcolor\":\"#EBF0F8\",\"linecolor\":\"#EBF0F8\",\"ticks\":\"\",\"title\":{\"standoff\":15},\"zerolinecolor\":\"#EBF0F8\",\"zerolinewidth\":2},\"yaxis\":{\"automargin\":true,\"gridcolor\":\"#EBF0F8\",\"linecolor\":\"#EBF0F8\",\"ticks\":\"\",\"title\":{\"standoff\":15},\"zerolinecolor\":\"#EBF0F8\",\"zerolinewidth\":2}}},\"title\":{\"y\":0.97,\"x\":0.5,\"xanchor\":\"center\",\"yanchor\":\"top\",\"text\":\"Reported Incidence vs. Machine Learning Nowcast\"},\"font\":{\"size\":12},\"margin\":{\"l\":60,\"r\":30,\"b\":75,\"t\":80,\"pad\":0},\"legend\":{\"font\":{\"size\":11},\"x\":0,\"y\":1,\"itemclick\":\"toggleothers\",\"itemdoubleclick\":\"toggle\",\"tracegroupgap\":2},\"hoverlabel\":{\"font\":{\"color\":\"black\"},\"namelength\":-1},\"xaxis\":{\"showline\":true,\"linewidth\":1.5,\"linecolor\":\"#455266\",\"ticks\":\"outside\",\"tickwidth\":1.5,\"rangemode\":\"nonnegative\"},\"yaxis\":{\"showline\":true,\"linewidth\":1.5,\"linecolor\":\"#455266\",\"ticks\":\"outside\",\"tickwidth\":1.5,\"rangemode\":\"nonnegative\",\"range\":[0,12000],\"title\":{\"text\":\"Incidence\"}},\"autosize\":true,\"height\":600,\"hovermode\":\"x unified\",\"showlegend\":true},                        {\"responsive\": true}                    ).then(function(){\n                            \nvar gd = document.getElementById('6c2aed8d-970a-48ff-b579-42ce9d63ef9c');\nvar x = new MutationObserver(function (mutations, observer) {{\n        var display = window.getComputedStyle(gd).display;\n        if (!display || display === 'none') {{\n            console.log([gd, 'removed!']);\n            Plotly.purge(gd);\n            observer.disconnect();\n        }}\n}});\n\n// Listen for the removal of the full notebook cells\nvar notebookContainer = gd.closest('#notebook-container');\nif (notebookContainer) {{\n    x.observe(notebookContainer, {childList: true});\n}}\n\n// Listen for the clearing of the current output cell\nvar outputEl = gd.closest('.output');\nif (outputEl) {{\n    x.observe(outputEl, {childList: true});\n}}\n\n                        })                };                });            </script>        </div>"
     },
     "metadata": {},
     "output_type": "display_data"
    }
   ],
   "source": [
    "default_layout = {\n",
    "    \"title\": {\"y\": 0.97, \"x\": 0.5, \"xanchor\": \"center\", \"yanchor\": \"top\"},\n",
    "    \"font_size\": 12,\n",
    "    \"autosize\": True,\n",
    "    \"height\": 600,\n",
    "    \"margin\": dict(l=60, r=30, b=75, t=80, pad=0),\n",
    "    \"template\": \"plotly_white\",\n",
    "    \"hovermode\": \"x\",\n",
    "    \"legend\": {\n",
    "        \"font_size\": 11,\n",
    "        'x': 0,\n",
    "        'y': 1,\n",
    "        \"itemclick\": \"toggleothers\",\n",
    "        \"itemdoubleclick\": \"toggle\",\n",
    "        \"tracegroupgap\": 2,\n",
    "    },\n",
    "    \"hoverlabel\": {\"font_color\": \"white\", \"namelength\": -1},\n",
    "    \"xaxis\": {\n",
    "        \"showline\": True,\n",
    "        \"linewidth\": 1.5,\n",
    "        \"linecolor\": \"#455266\",\n",
    "        \"ticks\": \"outside\",\n",
    "        \"tickwidth\": 1.5,\n",
    "        \"rangemode\": \"nonnegative\",\n",
    "    },\n",
    "    \"yaxis\": {\n",
    "        \"showline\": True,\n",
    "        \"linewidth\": 1.5,\n",
    "        \"linecolor\": \"#455266\",\n",
    "        \"ticks\": \"outside\",\n",
    "        \"tickwidth\": 1.5,\n",
    "        \"rangemode\": \"nonnegative\",\n",
    "        'range': [0, 12_000]\n",
    "    },\n",
    "    \"showlegend\": True,\n",
    "}\n",
    "\n",
    "i18n = {\n",
    "    'de': {\n",
    "    'booster': 'Mit Auffrischimpfung 18-59 Jahre',\n",
    "    'base': 'Grundimmunisierte  18-59 Jahre',\n",
    "    'unvax': 'Ungeimpfte 18-59 Jahre',\n",
    "    'title': 'Gemeldete Inzidenz vs. Machine Learning Nowcast',\n",
    "    'y_axis_title': 'Inzidenz',\n",
    "    'nowcast': 'Nowcast',\n",
    "    'insecurity': 'Modell Unsicherheit'\n",
    "    },\n",
    "    'en': {\n",
    "    'booster': 'With booster 18-59 years',\n",
    "    'base': 'Vaccinated  18-59 years',\n",
    "    'unvax': 'Unvaccinated 18-59 years',\n",
    "    'title': 'Reported Incidence vs. Machine Learning Nowcast',\n",
    "    'y_axis_title': 'Incidence',\n",
    "    'nowcast': 'Nowcast',\n",
    "    'insecurity': 'Confidence interval'\n",
    "    }\n",
    "}\n",
    "\n",
    "for language, translation in i18n.items():\n",
    "    fig = go.Figure()\n",
    "\n",
    "    fig.add_trace(go.Scatter(\n",
    "        y=predicted_incidence_plot_data['mean'].values[SKIP_DAYS:] + 2 * predicted_incidence_plot_data['std'].values[\n",
    "                                                                         SKIP_DAYS:],\n",
    "        x=predicted_incidence_plot_data['date'].values[SKIP_DAYS:],\n",
    "        showlegend=False,\n",
    "        legendgroup='nowcast',\n",
    "        mode='lines',\n",
    "        marker=dict(color=\"#444\"),\n",
    "        line=dict(width=0),\n",
    "        hoverinfo='skip'\n",
    "    ))\n",
    "    fig.add_trace(go.Scatter(\n",
    "        name=translation['insecurity'],\n",
    "        y=predicted_incidence_plot_data['mean'].values[SKIP_DAYS:] - 2 * predicted_incidence_plot_data['std'].values[\n",
    "                                                                         SKIP_DAYS:],\n",
    "        x=predicted_incidence_plot_data['date'].values[SKIP_DAYS:],\n",
    "        showlegend=False,\n",
    "        legendgroup='nowcast',\n",
    "        marker=dict(color=\"#444\"),\n",
    "        line=dict(width=0),\n",
    "        mode='lines',\n",
    "        fillcolor='rgba(65, 172, 221, 0.3)',  #'rgba(68, 68, 68, 0.3)'\n",
    "        fill='tonexty',\n",
    "        hoverinfo='skip'\n",
    "    ))\n",
    "\n",
    "    fig.add_trace(go.Scatter(\n",
    "        y=predicted_incidence_plot_data['mean'].values[SKIP_DAYS:-1],\n",
    "        x=predicted_incidence_plot_data['date'].values[SKIP_DAYS:-1],\n",
    "        name=translation['nowcast'],\n",
    "        legendgroup='nowcast',\n",
    "        mode='lines',\n",
    "        hovertemplate=\"%{y:.0f}\",\n",
    "        line=dict(width=2.5,\n",
    "                  color='#41ACDD'  #455266\n",
    "                  )))\n",
    "\n",
    "    fig.add_trace(go.Scatter(\n",
    "        y=questionnaire_incidence['incidence'].values[:-1],\n",
    "        x=questionnaire_incidence['date'].values[:-1],\n",
    "        name='questionnaire incidence',\n",
    "        legendgroup='nowcast',\n",
    "        mode='lines',\n",
    "        hovertemplate=\"%{y:.0f}\",\n",
    "        line=dict(width=2.5,\n",
    "                  color='red'  #455266\n",
    "                  )))\n",
    "    layout = dict(\n",
    "        title_text=translation['title'],\n",
    "        yaxis_title=translation['y_axis_title'],\n",
    "        hovermode='x unified',\n",
    "        hoverlabel={'font': {\n",
    "            'color': 'black',\n",
    "        }},\n",
    "    )\n",
    "    fig.update_layout(default_layout)\n",
    "    fig.update_layout(layout)\n",
    "    fig.write_html(f'incidence_nowcast_{language}.html', include_plotlyjs='cdn', full_html=False,\n",
    "                   config={'responsive': 'true', 'displayModeBar': False})\n",
    "\n",
    "fig.write_image(f\"incidence_nowcast.png\")\n",
    "fig.show()"
   ],
   "metadata": {
    "collapsed": false,
    "pycharm": {
     "name": "#%%\n"
    }
   }
  },
  {
   "cell_type": "code",
   "execution_count": 8,
   "outputs": [],
   "source": [
    "\n"
   ],
   "metadata": {
    "collapsed": false,
    "pycharm": {
     "name": "#%%\n"
    }
   }
  }
 ],
 "metadata": {
  "kernelspec": {
   "display_name": "Python 3",
   "language": "python",
   "name": "python3"
  },
  "language_info": {
   "codemirror_mode": {
    "name": "ipython",
    "version": 3
   },
   "file_extension": ".py",
   "mimetype": "text/x-python",
   "name": "python",
   "nbconvert_exporter": "python",
   "pygments_lexer": "ipython3",
   "version": "3.8.10"
  }
 },
 "nbformat": 4,
 "nbformat_minor": 5
}