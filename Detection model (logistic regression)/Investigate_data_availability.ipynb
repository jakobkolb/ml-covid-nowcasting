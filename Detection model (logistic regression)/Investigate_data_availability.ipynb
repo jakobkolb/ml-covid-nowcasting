{
 "cells": [
  {
   "cell_type": "code",
   "execution_count": null,
   "metadata": {
    "pycharm": {
     "name": "#%%\n"
    }
   },
   "outputs": [],
   "source": [
    "from load_data import load_standardized_vitals, load_test_results_symptoms_sex_age\n",
    "\n",
    "rhr_metric = load_standardized_vitals(\n",
    "    \"rhr\",\n",
    ").set_index([\"user_id\", \"test_week_start\"])\n",
    "\n",
    "steps_metric = load_standardized_vitals(\n",
    "    \"steps\",\n",
    ").set_index([\"user_id\", \"test_week_start\"])\n",
    "\n",
    "test_results = load_test_results_symptoms_sex_age().set_index(\n",
    "    [\"user_id\", \"test_week_start\"]\n",
    ")"
   ]
  },
  {
   "cell_type": "code",
   "execution_count": null,
   "metadata": {
    "pycharm": {
     "name": "#%%\n"
    }
   },
   "outputs": [],
   "source": [
    "import plotly.express as px\n",
    "import pandas as pd\n",
    "\n",
    "\n",
    "def count_vitals(vital_type: str, df: pd.DataFrame) -> pd.DataFrame:\n",
    "    tmp = (\n",
    "        df.reset_index()\n",
    "        .dropna()\n",
    "        .groupby(\"test_week_start\")[vital_type]\n",
    "        .count()\n",
    "        .reset_index()\n",
    "    )\n",
    "    tmp[\"test_week_start\"] = tmp[\"test_week_start\"].apply(pd.to_datetime)\n",
    "    tmp = tmp.rename(columns={vital_type: \"vitals\"})\n",
    "    print(tmp.columns)\n",
    "    tmp[\"type\"] = vital_type\n",
    "    return tmp\n",
    "\n",
    "\n",
    "rhr = count_vitals(\"rhr_metric\", rhr_metric)\n",
    "steps = count_vitals(\"steps_metric\", steps_metric)\n",
    "symptoms = count_vitals(\"cough\", test_results)\n",
    "\n",
    "all_vital_counts = pd.concat([rhr, steps, symptoms]).query(\"test_week_start > 20211001\")\n",
    "\n",
    "px.line(all_vital_counts, x=\"test_week_start\", y=\"vitals\", color=\"type\").show()"
   ]
  },
  {
   "cell_type": "code",
   "execution_count": null,
   "metadata": {
    "pycharm": {
     "is_executing": true,
     "name": "#%%\n"
    }
   },
   "outputs": [],
   "source": [
    "from psycopg2.sql import SQL\n",
    "from load_data import pull_from_postgres\n",
    "\n",
    "df = pull_from_postgres(\n",
    "    SQL(\n",
    "        \"\"\"\n",
    "    SELECT created_at FROM datenspende.vitaldata WHERE type = 9;\n",
    "    \"\"\"\n",
    "    )\n",
    ")\n",
    "df"
   ]
  },
  {
   "cell_type": "code",
   "execution_count": null,
   "metadata": {
    "pycharm": {
     "is_executing": true,
     "name": "#%%\n"
    }
   },
   "outputs": [],
   "source": [
    "test_results"
   ]
  },
  {
   "cell_type": "code",
   "execution_count": null,
   "metadata": {
    "pycharm": {
     "is_executing": true,
     "name": "#%%\n"
    }
   },
   "outputs": [],
   "source": [
    "from load_data import pull_from_postgres\n",
    "from psycopg2.sql import SQL\n",
    "\n",
    "VITAL_TYPE = 9\n",
    "\n",
    "vital_features = (\n",
    "    pull_from_postgres(\n",
    "        SQL(\n",
    "            \"\"\"\n",
    "        SELECT\n",
    "            *\n",
    "        FROM\n",
    "            jakob.ml_vital_features;\n",
    "        \"\"\"\n",
    "        )\n",
    "    )\n",
    "    .groupby([\"test_week_start\", \"type\"])\n",
    "    .count()\n",
    "    .reset_index()\n",
    ")"
   ]
  },
  {
   "cell_type": "code",
   "execution_count": null,
   "metadata": {
    "pycharm": {
     "is_executing": true,
     "name": "#%%\n"
    }
   },
   "outputs": [],
   "source": [
    "vital_features"
   ]
  },
  {
   "cell_type": "code",
   "execution_count": null,
   "metadata": {
    "pycharm": {
     "is_executing": true,
     "name": "#%%\n"
    }
   },
   "outputs": [],
   "source": [
    "px.line(vital_features, x=\"test_week_start\", y=\"signal\", color=\"type\").show()"
   ]
  },
  {
   "cell_type": "code",
   "execution_count": null,
   "metadata": {
    "pycharm": {
     "is_executing": true,
     "name": "#%%\n"
    }
   },
   "outputs": [],
   "source": []
  }
 ],
 "metadata": {
  "kernelspec": {
   "display_name": "Python 3",
   "language": "python",
   "name": "python3"
  },
  "language_info": {
   "codemirror_mode": {
    "name": "ipython",
    "version": 2
   },
   "file_extension": ".py",
   "mimetype": "text/x-python",
   "name": "python",
   "nbconvert_exporter": "python",
   "pygments_lexer": "ipython2",
   "version": "2.7.6"
  }
 },
 "nbformat": 4,
 "nbformat_minor": 0
}
