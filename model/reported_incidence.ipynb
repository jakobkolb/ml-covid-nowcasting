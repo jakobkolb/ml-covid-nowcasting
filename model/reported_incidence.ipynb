{
 "cells": [
  {
   "cell_type": "code",
   "execution_count": null,
   "metadata": {
    "pycharm": {
     "name": "#%%\n"
    }
   },
   "outputs": [],
   "source": [
    "from load_data import pull_from_postgres\n",
    "from psycopg2.sql import SQL\n",
    "import pandas as pd\n",
    "\n",
    "def age(answer_id):\n",
    "    return 85 - (answer_id - 807) * 5\n",
    "\n",
    "# pull covid test results and test types from postgres\n",
    "test_data = pull_from_postgres(SQL(\"\"\"\n",
    "    SELECT\n",
    "        features.f10 test_result, features.f133 age, features.f127 sex, features.test_week_start, features.user_id, answers.element test_type\n",
    "    FROM\n",
    "        datenspende_derivatives.homogenized_features features, datenspende.answers answers\n",
    "    WHERE\n",
    "        features.test_week_start >= '2021-10-01' AND features.questionnaire_session = answers.questionnaire_session AND answers.question = 91\n",
    "    \"\"\")).replace(\n",
    "    {\n",
    "        'test_type': {547: 'PCR', 548: 'Antigen', 549: 'Antibody', 550: 'Unknown', 1436: 'PCR'},\n",
    "        'sex': {773: 'Female', 774: 'Male', 775: 'Divers', None: 'Unknown', float('nan'): 'Unknown'},\n",
    "        'age': {float(answer_id): age(answer_id) for answer_id in list(range(807,822))}\n",
    "    })\n",
    "\n",
    "# convert date to pandas datetime\n",
    "test_data['date'] = pd.to_datetime(test_data['test_week_start'])\n",
    "test_data.drop(columns=['test_week_start'], inplace=True)\n",
    "print(f\"{len(test_data['user_id'].unique())} unique users\")\n",
    "print(f\"{test_data['test_result'].sum()} positive test results\")\n",
    "# print number of negative test results\n",
    "print(f\"{test_data[test_data['test_result']==0]['test_result'].count() - test_data['test_result'].sum()} negative test results\")\n",
    "test_data"
   ]
  },
  {
   "cell_type": "code",
   "execution_count": null,
   "metadata": {
    "pycharm": {
     "name": "#%%\n"
    }
   },
   "outputs": [],
   "source": [
    "# shares of sexesb\n",
    "sex = test_data.groupby('user_id').first().groupby('sex').count()[['test_result']].rename(columns={'test_result': 'count'})\n",
    "sex['share'] = sex['count'] / sex['count'].sum()\n",
    "sex['share']"
   ]
  },
  {
   "cell_type": "code",
   "execution_count": null,
   "metadata": {
    "pycharm": {
     "name": "#%%\n"
    }
   },
   "outputs": [],
   "source": [
    "# average age\n",
    "test_data.groupby('user_id').first()['age'].mean()"
   ]
  },
  {
   "cell_type": "code",
   "execution_count": null,
   "metadata": {
    "pycharm": {
     "name": "#%%\n"
    }
   },
   "outputs": [],
   "source": [
    "# count first positive test in a row as infection\n",
    "infections = test_data.sort_values(['user_id', 'date']).ffill()\n",
    "infections['infection'] = infections.replace({True: 1, False: 0}).groupby(['user_id'])['test_result'].diff()\n",
    "infections['infection'] = infections['infection'].fillna(0).replace({-1: 0})"
   ]
  },
  {
   "cell_type": "code",
   "execution_count": null,
   "metadata": {
    "pycharm": {
     "name": "#%%\n"
    }
   },
   "outputs": [],
   "source": [
    "# count reinfections (users with more than one sequence of positive tests)\n",
    "df = infections.groupby(['user_id']).sum()['infection']\n",
    "print(f'we have {df[df > 1].count()} reinfections in our data')"
   ]
  },
  {
   "cell_type": "code",
   "execution_count": null,
   "metadata": {
    "pycharm": {
     "name": "#%%\n"
    }
   },
   "outputs": [],
   "source": [
    "infections['infection'].sum()"
   ]
  },
  {
   "cell_type": "code",
   "execution_count": null,
   "metadata": {
    "pycharm": {
     "name": "#%%\n"
    }
   },
   "outputs": [],
   "source": [
    "# aggregate by user_id\n",
    "df = infections.groupby(['test_type', 'date']).agg({'infection': ['sum', 'count']}).reset_index().sort_values(['date', 'test_type'])\n",
    "df.columns = ['test_type', 'date', 'sum', 'count']\n",
    "\n",
    "# count all reports (with or without test) for a given day\n",
    "all_tests = df.groupby(['date']).agg({'sum': 'sum', 'count': 'sum'}).reset_index()\n",
    "all_tests['test_type'] = 'all'\n",
    "sum_of_daily_tests = pd.concat([df, all_tests]).reset_index(drop=True).sort_values(['date', 'test_type'])\n",
    "sum_of_daily_tests"
   ]
  },
  {
   "cell_type": "code",
   "execution_count": null,
   "metadata": {
    "pycharm": {
     "name": "#%%\n"
    }
   },
   "outputs": [],
   "source": [
    "# generate dataframe with sum of positive tests per type per day\n",
    "positive_tests = sum_of_daily_tests[['test_type', 'sum', 'date']].rename(columns={'sum': 'positive_tests'}).set_index(['date', 'test_type']).unstack('test_type')\n",
    "positive_tests.columns = positive_tests.columns.droplevel(0)\n",
    "\n",
    "# generate dataframe with sum of all reports per day\n",
    "all_daily_reports = sum_of_daily_tests[['test_type', 'count', 'date']].rename(columns={'count': 'all_daily_reports'}).set_index(['date', 'test_type']).unstack('test_type')\n",
    "all_daily_reports.columns = all_daily_reports.columns.droplevel(0)\n",
    "all_daily_reports = all_daily_reports[['all']].rename(columns={'all': 'all_daily_reports'})\n",
    "\n",
    "daily_aggregate_test_data = positive_tests.merge(all_daily_reports, on='date', how='outer')\n",
    "daily_aggregate_test_data"
   ]
  },
  {
   "cell_type": "code",
   "execution_count": null,
   "metadata": {
    "pycharm": {
     "name": "#%%\n"
    }
   },
   "outputs": [],
   "source": [
    "import matplotlib.pyplot as plt\n",
    "\n",
    "all_daily_reports = sum_of_daily_tests[['test_type', 'count', 'date']].rename(columns={'count': 'all_daily_reports'}).set_index(['date', 'test_type']).unstack('test_type')\n",
    "all_daily_reports.columns = all_daily_reports.columns.droplevel(0)\n",
    "\n",
    "# normalize by all daily reports\n",
    "for column in all_daily_reports.columns:\n",
    "    all_daily_reports[column] = all_daily_reports[column] / all_daily_reports['all']\n",
    "\n",
    "fig, ax = plt.subplots(figsize=(10, 6))\n",
    "\n",
    "# plot relative share of test types among all reported tests per day\n",
    "all_daily_reports[['Antibody', 'Antigen', 'PCR', 'Unknown']].plot.area(ax=ax)\n",
    "ax.set_ylabel('Relative share of test types')\n",
    "ax.set_xlabel('Date')\n",
    "ax.set_title('Relative share of test types among all reported tests per day')\n",
    "ax.set_xlim(pd.to_datetime('2021-10-01'), pd.to_datetime('2022-07-2'))\n",
    "ax.set_ylim(0, 1)\n",
    "\n",
    "all_daily_reports.to_csv('all_daily_reports.csv')"
   ]
  },
  {
   "cell_type": "code",
   "execution_count": null,
   "metadata": {
    "pycharm": {
     "name": "#%%\n"
    }
   },
   "outputs": [],
   "source": [
    "import matplotlib.pyplot as plt\n",
    "\n",
    "df = daily_aggregate_test_data.copy()\n",
    "\n",
    "# divide by all\n",
    "for column in df.columns:\n",
    "    df[column] = df[column] / df['all']\n",
    "\n",
    "df.dropna(subset=['all'], inplace=True)\n",
    "\n",
    "# take 7 day rolling mean\n",
    "df = df.rolling(7).mean()\n",
    "\n",
    "fig, ax = plt.subplots(figsize=(10, 5))\n",
    "\n",
    "# plot relative share of antibody, antigen, PCR, unknown tests\n",
    "df[['PCR', 'Antigen']].plot.area(ax=ax)\n",
    "ax.set_xlabel('Date')\n",
    "ax.set_ylabel('Relative share of tests')\n",
    "ax.legend(loc='lower left')\n",
    "ax.set_title('Relative share of test types among positive tests per day')\n",
    "ax.set_xlim(pd.to_datetime('2021-10-20'), pd.to_datetime('2022-07-2'))\n",
    "ax.set_ylim(0, 1)\n",
    "# ax.text(0.92, 0.95, 'A)', transform=ax.transAxes, fontsize=24, verticalalignment='top')\n",
    "fig.savefig('relative_shares_of_test_type_among_positive_tests_per_day.png')\n",
    "\n",
    "df.to_csv('relative_shares_of_test_type_among_positive_tests_per_day.csv')"
   ]
  },
  {
   "cell_type": "code",
   "execution_count": null,
   "metadata": {
    "pycharm": {
     "name": "#%%\n"
    }
   },
   "outputs": [],
   "source": [
    "# plot test positivity rate for each test type per day\n",
    "sum_of_daily_tests['rate'] = sum_of_daily_tests['sum'] / sum_of_daily_tests['count']\n",
    "\n",
    "df = sum_of_daily_tests[['rate', 'date', 'test_type']].set_index(['date', 'test_type']).unstack('test_type')\n",
    "df.columns = df.columns.droplevel(0)\n",
    "df = df.rolling(7).mean()\n",
    "\n",
    "fig, ax = plt.subplots(figsize=(10, 8))\n",
    "df[['PCR', 'Antigen', 'all']].plot(ax=ax)\n",
    "\n",
    "ax.set_xlabel('Date')\n",
    "ax.set_ylabel('Test positivity rate')\n",
    "ax.legend(loc='upper left')\n",
    "ax.set_title('Test positivity rate per day per test type')\n",
    "plt.show()"
   ]
  },
  {
   "cell_type": "code",
   "execution_count": null,
   "metadata": {
    "pycharm": {
     "name": "#%%\n"
    }
   },
   "outputs": [],
   "source": [
    "daily_aggregate_test_data"
   ]
  },
  {
   "cell_type": "code",
   "execution_count": null,
   "metadata": {
    "pycharm": {
     "name": "#%%\n"
    }
   },
   "outputs": [],
   "source": [
    "# calcualte 7 day incidence per test type\n",
    "\n",
    "df = daily_aggregate_test_data.copy()\n",
    "incidence = pd.DataFrame()\n",
    "for column in df.columns:\n",
    "    print(column, type(column))\n",
    "    incidence[column + ' incidence'] = df[column] / df['all_daily_reports'] * 100_000\n",
    "\n",
    "incidence = incidence[['Antigen incidence', 'PCR incidence', 'all incidence']].dropna().rolling('7D').mean()\n",
    "\n",
    "fig, ax = plt.subplots(figsize=(10, 8))\n",
    "incidence.plot(ax=ax)"
   ]
  },
  {
   "cell_type": "code",
   "execution_count": null,
   "metadata": {
    "pycharm": {
     "name": "#%%\n"
    }
   },
   "outputs": [],
   "source": [
    "incidence_official = pull_from_postgres(SQL(\n",
    "    \"\"\"\n",
    "    SELECT date_of_report date, incidence_7d_per_100k official_incidence FROM coronacases.german_counties_incidence WHERE location_level = 0;\n",
    "    \"\"\"))\n",
    "incidence_official"
   ]
  },
  {
   "cell_type": "code",
   "execution_count": null,
   "metadata": {
    "pycharm": {
     "name": "#%%\n"
    }
   },
   "outputs": [],
   "source": [
    "import matplotlib.pyplot as plt\n",
    "from matplotlib.lines import Line2D\n",
    "\n",
    "columns = incidence.columns.drop('all incidence')\n",
    "\n",
    "df = incidence_official.merge(incidence, on='date').sort_values(by=\"date\").reset_index(drop=True).query('date>20220101').drop(columns=['all incidence'])\n",
    "\n",
    "fig, ax = plt.subplots(figsize=(12, 6))\n",
    "axb = ax.twinx()\n",
    "\n",
    "ax1 = df.plot(x=\"date\", y=\"official_incidence\", ax=ax, label=\"incidence as officially reported\", color='blue', legend=False)\n",
    "ax1 = df.plot(x=\"date\", y=\"official_incidence\", ax=ax, label=\"incidence as officially reported\", color='blue', legend=False)\n",
    "\n",
    "colors = ['red', 'green', 'black']\n",
    "incidence_lines = []\n",
    "for column, color in zip(columns, colors):\n",
    "    incidence_lines.append(Line2D([0], [0], color=color, label=column))\n",
    "    ax2 = df.plot(x=\"date\", y=column, ax=axb, label=\"incidence from surveys\", color=color, legend=False)\n",
    "\n",
    "# create legend manually\n",
    "labels = ['incidence as officially reported', *incidence.columns.values]\n",
    "blue_line = Line2D([0], [0], color='blue', label='official incidence')\n",
    "red_line = Line2D([0], [0], color='red', label='self reported incidence')\n",
    "ax.legend([blue_line, *incidence_lines], labels, loc='upper left')\n",
    "\n",
    "# label axes\n",
    "ax.set_xlabel('Date')\n",
    "ax.set_ylabel('Incidence calculated from surveys as 7 day average per 100000')\n",
    "axb.set_ylabel('Incidence as officially reported')\n",
    "\n",
    "# label plot as B)\n",
    "ax.text(0.92, 0.95, 'B)', transform=ax.transAxes, fontsize=24, verticalalignment='top')\n",
    "\n",
    "fig.savefig('incidence_pcr_vs_antigen_vs_reported.png')"
   ]
  },
  {
   "cell_type": "code",
   "execution_count": null,
   "metadata": {
    "pycharm": {
     "name": "#%%\n"
    }
   },
   "outputs": [],
   "source": [
    "import matplotlib.pyplot as plt\n",
    "from matplotlib.lines import Line2D\n",
    "\n",
    "columns = incidence.columns\n",
    "\n",
    "df = incidence_official.merge(incidence, on='date').sort_values(by=\"date\").reset_index(drop=True).query('date>20220101')\n",
    "\n",
    "fig, ax = plt.subplots(figsize=(12, 6))\n",
    "axb = ax.twinx()\n",
    "\n",
    "ax1 = df.plot(x=\"date\", y=\"official_incidence\", ax=ax, label=\"incidence as officially reported\", color='blue', legend=False)\n",
    "ax1 = df.plot(x=\"date\", y=\"official_incidence\", ax=ax, label=\"incidence as officially reported\", color='blue', legend=False)\n",
    "\n",
    "colors = ['red', 'green', 'black']\n",
    "incidence_lines = []\n",
    "for column, color in zip(columns, colors):\n",
    "    incidence_lines.append(Line2D([0], [0], color=color, label=column))\n",
    "    ax2 = df.plot(x=\"date\", y=column, ax=axb, label=\"incidence from surveys\", color=color, legend=False)\n",
    "\n",
    "# create legend manually\n",
    "labels = ['incidence as officially reported', *incidence.columns.values]\n",
    "blue_line = Line2D([0], [0], color='blue', label='official incidence')\n",
    "red_line = Line2D([0], [0], color='red', label='self reported incidence')\n",
    "ax.legend([blue_line, *incidence_lines], labels, loc='upper left')\n",
    "\n",
    "# label axes\n",
    "ax.set_xlabel('Date')\n",
    "ax.set_ylabel('Incidence calculated from surveys as 7 day average per 100000')\n",
    "axb.set_ylabel('Incidence as officially reported')\n",
    "\n",
    "\n",
    "ax.text(0.9, 0.95, 'C)', transform=ax.transAxes, fontsize=24, verticalalignment='top')\n",
    "\n",
    "fig.savefig('incidence_all.png')"
   ]
  },
  {
   "cell_type": "code",
   "execution_count": null,
   "metadata": {
    "pycharm": {
     "name": "#%%\n"
    }
   },
   "outputs": [],
   "source": [
    "columns = incidence.columns.drop('all incidence')\n",
    "\n",
    "df = incidence_official.merge(incidence, on='date').sort_values(by=\"date\").reset_index(drop=True).query('date>20220101').drop(columns=['all incidence'])\n",
    "\n",
    "fig, ax = plt.subplots(figsize=(12, 6))\n",
    "\n",
    "ax1 = df.plot(x=\"date\", y=\"official_incidence\", ax=ax, label=\"incidence as officially reported\", color='blue', legend=False)\n",
    "\n",
    "colors = ['red', 'green', 'black']\n",
    "incidence_lines = []\n",
    "for column, color in zip(columns, colors):\n",
    "    incidence_lines.append(Line2D([0], [0], color=color, label=column))\n",
    "    ax2 = df.plot(x=\"date\", y=column, ax=ax, label=\"incidence from surveys\", color=color, legend=False)\n",
    "\n",
    "# create legend manually\n",
    "labels = ['incidence as officially reported', *incidence.columns.values]\n",
    "blue_line = Line2D([0], [0], color='blue', label='official incidence')\n",
    "red_line = Line2D([0], [0], color='red', label='self reported incidence')\n",
    "ax.legend([blue_line, *incidence_lines], labels, loc='upper left')\n",
    "\n",
    "# label axes\n",
    "ax.set_xlabel('Date')\n",
    "ax.set_ylabel('Incidence as 7 day average per 100000')\n",
    "axb.set_ylabel('Incidence as officially reported')\n",
    "\n",
    "ax.text(0.92, 0.95, 'D)', transform=ax.transAxes, fontsize=24, verticalalignment='top')\n",
    "\n",
    "fig.savefig('incidence_pcr_vs_antigen_vs_reported_on_same_ax.png')"
   ]
  },
  {
   "cell_type": "code",
   "execution_count": null,
   "metadata": {
    "pycharm": {
     "name": "#%%\n"
    }
   },
   "outputs": [],
   "source": [
    "columns = incidence.columns.drop(['PCR incidence', 'Antigen incidence'])\n",
    "\n",
    "df = incidence_official.merge(incidence, on='date').sort_values(by=\"date\").reset_index(drop=True).query('date>20220101').drop(columns=['PCR incidence', 'Antigen incidence'])\n",
    "\n",
    "fig, ax = plt.subplots(figsize=(7, 5))\n",
    "\n",
    "axb = ax.twinx()\n",
    "\n",
    "ax1 = df.plot(x=\"date\", y=\"official_incidence\", ax=ax, label=\"incidence as officially reported\", color='blue', legend=False)\n",
    "\n",
    "colors = ['red', 'green', 'black']\n",
    "incidence_lines = []\n",
    "for column, color in zip(columns, colors):\n",
    "    print(column)\n",
    "    incidence_lines.append(Line2D([0], [0], color=color, label=column))\n",
    "    ax2 = df.plot(x=\"date\", y=column, ax=axb, label=\"incidence from surveys\", color=color, legend=False)\n",
    "\n",
    "# create legend manually\n",
    "labels = ['incidence as officially reported', 'incidence from self reported test results']\n",
    "blue_line = Line2D([0], [0], color='blue', label='official incidence')\n",
    "red_line = Line2D([0], [0], color='red', label='self reported incidence')\n",
    "ax.legend([blue_line, *incidence_lines], labels, loc='upper left')\n",
    "\n",
    "# label axes\n",
    "ax.set_xlabel('Date')\n",
    "axb.set_ylabel('Incidence as 7 day average per 100000')\n",
    "ax.set_ylabel('Incidence as officially reported')\n",
    "ax.set_ylim(0, ax.get_ylim()[1])\n",
    "axb.set_ylim(0, axb.get_ylim()[1])\n",
    "\n",
    "ax.text(0.92, 0.95, 'A)', transform=ax.transAxes, fontsize=24, verticalalignment='top')\n",
    "\n",
    "fig.savefig('official_vs_reported_on_different_ax.png')"
   ]
  },
  {
   "cell_type": "code",
   "execution_count": null,
   "metadata": {
    "pycharm": {
     "name": "#%%\n"
    }
   },
   "outputs": [],
   "source": [
    "# divide official incidence by initial value\n",
    "df = incidence_official.merge(incidence, on='date').sort_values(by=\"date\").reset_index(drop=True).query('date>20211115').drop(columns=['PCR incidence', 'Antigen incidence'])\n",
    "df['official_incidence'] = df['official_incidence'] / df['official_incidence'].iloc[0]\n",
    "df['all incidence'] = df['all incidence'] / df['all incidence'].iloc[0]\n",
    "df"
   ]
  },
  {
   "cell_type": "code",
   "execution_count": null,
   "metadata": {
    "pycharm": {
     "name": "#%%\n"
    }
   },
   "outputs": [],
   "source": [
    "fig, ax = plt.subplots(figsize=(12, 6))\n",
    "\n",
    "ax1 = df.plot(x=\"date\", y=\"official_incidence\", ax=ax, label=\"incidence as officially reported\", color='blue', legend=False)\n",
    "\n",
    "colors = ['red', 'green', 'black']\n",
    "incidence_lines = []\n",
    "for column, color in zip(columns, colors):\n",
    "    print(column)\n",
    "    incidence_lines.append(Line2D([0], [0], color=color, label=column))\n",
    "    ax2 = df.plot(x=\"date\", y=column, ax=ax, label=\"incidence from surveys\", color=color, legend=False)\n",
    "\n",
    "# create legend manually\n",
    "labels = ['incidence as officially reported', 'incidence from self reported test results']\n",
    "blue_line = Line2D([0], [0], color='blue', label='official incidence')\n",
    "red_line = Line2D([0], [0], color='red', label='self reported incidence')\n",
    "ax.legend([blue_line, *incidence_lines], labels, loc='upper left')\n",
    "\n",
    "# label axes\n",
    "ax.set_xlabel('Date')\n",
    "ax.set_ylabel('Incidence divided by initial value')\n",
    "ax.set_ylim(0, ax.get_ylim()[1])\n",
    "axb.set_ylim(0, axb.get_ylim()[1])\n",
    "\n",
    "ax.text(0.92, 0.95, 'B)', transform=ax.transAxes, fontsize=24, verticalalignment='top')\n",
    "fig.savefig('incidence_divided_by_initial_value.png')"
   ]
  },
  {
   "cell_type": "code",
   "execution_count": null,
   "metadata": {
    "pycharm": {
     "name": "#%%\n"
    }
   },
   "outputs": [],
   "source": [
    "# plot all incidence divided by official incidence\n",
    "df['self_reported_incidence_ratio'] =df['all incidence'] / df['official_incidence']\n",
    "\n",
    "fig, ax = plt.subplots(figsize=(12, 6))\n",
    "df.plot(x=\"date\", y=\"self_reported_incidence_ratio\", ax=ax, label=\"incidence as officially reported divided by self reported incidence\", color='blue', legend=False)\n",
    "\n",
    "ax.set_xlabel('Date')\n",
    "ax.set_ylabel('Self reported incidence divided by official incidence')\n",
    "ax.text(0.92, 0.95, 'C)', transform=ax.transAxes, fontsize=24, verticalalignment='top')\n",
    "fig.savefig('incidence_ratio.png')"
   ]
  },
  {
   "cell_type": "code",
   "execution_count": null,
   "metadata": {
    "pycharm": {
     "name": "#%%\n"
    }
   },
   "outputs": [],
   "source": [
    "df = incidence_official.merge(incidence, on='date').sort_values(by=\"date\").reset_index(drop=True).query('date>20220101').drop(columns=['PCR incidence', 'Antigen incidence'])\n",
    "df['official R_t'] = df['official_incidence'].shift(-4) / df['official_incidence']\n",
    "df['self reported R_t'] = df['all incidence'].shift(-4) / df['all incidence']\n",
    "# set type of date to pandas datetime\n",
    "df['date'] = pd.to_datetime(df['date'])\n",
    "df = df.rolling(7, on='date', win_type='triang', center=True).mean()\n",
    "df"
   ]
  },
  {
   "cell_type": "code",
   "execution_count": null,
   "metadata": {
    "pycharm": {
     "name": "#%%\n"
    }
   },
   "outputs": [],
   "source": [
    "fig, ax = plt.subplots(figsize=(12, 6))\n",
    "\n",
    "ax1 = df.plot(x=\"date\", y=\"official R_t\", ax=ax, label=\"R estimated from officially reported incidence\", color='blue', legend=False)\n",
    "ax2 = df.plot(x='date', y='self reported R_t', ax=ax, label=\"R estimated from self reported incidence\", color='red', legend=False)\n",
    "\n",
    "# create legend manually\n",
    "labels = ['R estimated from officially reported incidence', 'R estimated from self reported test results']\n",
    "blue_line = Line2D([0], [0], color='blue', label='official incidence')\n",
    "red_line = Line2D([0], [0], color='red', label='self reported incidence')\n",
    "ax.legend([blue_line, *incidence_lines], labels, loc='upper left')\n",
    "\n",
    "# label axes\n",
    "ax.set_xlabel('Date')\n",
    "ax.set_ylabel('R value')\n",
    "\n",
    "ax.text(0.92, 0.95, 'D)', transform=ax.transAxes, fontsize=24, verticalalignment='top')\n",
    "\n",
    "fig.savefig('R_estimated_from_official_vs_reported.png')"
   ]
  },
  {
   "cell_type": "code",
   "execution_count": null,
   "metadata": {
    "pycharm": {
     "name": "#%%\n"
    }
   },
   "outputs": [],
   "source": [
    "df = incidence_official.merge(incidence, on='date').sort_values(by=\"date\").reset_index(drop=True).query('date>20220101').drop(columns=['PCR incidence', 'Antigen incidence'])\n",
    "df['split'] = 'before May 2022'\n",
    "df['split'][df['date'] > pd.to_datetime('20220501')] = 'after May 2022'\n",
    "\n",
    "import seaborn as sns\n",
    "# scatterplot of official vs self reported incidence with split by date\n",
    "fig, ax = plt.subplots(figsize=(4, 4))\n",
    "sns.scatterplot(x='official_incidence', y='all incidence', hue='split', data=df, ax=ax, alpha=0.5)\n",
    "\n",
    "# plot line from (0, 0) to (5000, 5000)\n",
    "factor = 4\n",
    "length = 2000\n",
    "ax.plot([0, length], [0, length * factor], color='black', alpha=0.5)\n",
    "ax.plot([0, length], [0, length], color='black', alpha=0.5)\n",
    "ax.fill_between([0, length], [0, length * factor], [0, length], color='black', alpha=0.2)\n",
    "ax.set_xlim(0, length)\n",
    "ax.set_ylim(0, length * factor)\n",
    "\n",
    "ax.set_ylabel('Self reported incidence')\n",
    "ax.set_xlabel('Official incidence')\n",
    "\n",
    "# annotate with E in upper left corner\n",
    "ax.text(0.05, 0.95, 'E)', transform=ax.transAxes, fontsize=24, verticalalignment='top')\n",
    "fig.savefig('official_vs_self_reported_incidence_with_split.png')"
   ]
  },
  {
   "cell_type": "code",
   "execution_count": null,
   "metadata": {
    "pycharm": {
     "name": "#%%\n"
    }
   },
   "outputs": [],
   "source": [
    "from typing import TypedDict\n",
    "from datetime import timedelta\n",
    "\n",
    "Date = TypedDict('Date', {'date': pd.Timestamp, 'name': str})\n",
    "\n",
    "def plot_official_vs_self_reported_incidence(ax, legend_location, split_date: Date, df):\n",
    "    axb = ax.twinx()\n",
    "\n",
    "    df.plot(x=\"date\", y=\"official_incidence\", ax=ax, label=\"incidence as officially reported\", color='blue', legend=False)\n",
    "\n",
    "    colors = ['red']\n",
    "    incidence_lines = []\n",
    "    for column, color in zip(columns, colors):\n",
    "        print(column)\n",
    "        incidence_lines.append(Line2D([0], [0], color=color, label=column))\n",
    "        df.plot(x=\"date\", y=column, ax=axb, label=\"incidence from surveys\", color=color, legend=False)\n",
    "\n",
    "    # plot vertical line at split_date date and label with split date name\n",
    "    ax.axvline(split_date['date'], color='black', alpha=0.5)\n",
    "    ax.text(split_date['date'] + timedelta(days=5), ax.get_ylim()[1]*0.95 , split_date['name'], fontsize=12, verticalalignment='top', rotation=90)\n",
    "\n",
    "    # create legend manually\n",
    "    labels = ['incidence as officially \\nreported', 'incidence from self \\nreported test results']\n",
    "    blue_line = Line2D([0], [0], color='blue', label='official incidence')\n",
    "    ax.legend([blue_line, *incidence_lines], labels, bbox_to_anchor=legend_location)\n",
    "\n",
    "    # label plot with A) in upper left corner\n",
    "    axb.text(0.05, 0.95, 'A)', transform=ax.transAxes, fontsize=24, verticalalignment='top')\n",
    "\n",
    "    # label axes\n",
    "    ax.set_xlabel('Date')\n",
    "    axb.set_ylabel('Self reported incidence')\n",
    "    ax.set_ylabel('Official incidence')\n",
    "    ax.set_ylim(0, ax.get_ylim()[1])\n",
    "    axb.set_ylim(0, axb.get_ylim()[1])\n",
    "\n",
    "\n",
    "def scatter_plot_with_split(ax, legend_location, split_date_1: Date, split_date_2: Date, df):\n",
    "\n",
    "    df['split'] = f'before {split_date_1[\"name\"]}'\n",
    "    df['split'][df['date'] > split_date_1['date']] = f'after {split_date_1[\"name\"]}'\n",
    "    df['split'][df['date'] > split_date_2['date']] = f'after {split_date_2[\"name\"]}'\n",
    "\n",
    "    import seaborn as sns\n",
    "    # scatterplot of official vs self reported incidence with split by date\n",
    "    sns.scatterplot(x='official_incidence', y='all incidence', hue='split', data=df, ax=ax, alpha=0.5)\n",
    "\n",
    "    # plot line from (0, 0) to (5000, 5000)\n",
    "    factor = 4\n",
    "    length = 2000\n",
    "\n",
    "    ax.plot([0, length], [0, length * factor], label='x=5y', color='black', alpha=0.5)\n",
    "    ax.plot([0, length], [0, length * 2], '-.', label='x=2y', color='black', alpha=0.5)\n",
    "    ax.plot([0, length], [0, length], '--', label='x=y', color='black', alpha=0.5)\n",
    "\n",
    "    ax.fill_between([0, length], [0, length * factor], [0, length], color='black', alpha=0.2)\n",
    "    ax.set_xlim(0, length)\n",
    "    ax.set_ylim(0, length * factor)\n",
    "\n",
    "    # set legend position outside of plot on lower right\n",
    "    ax.legend(loc='upper left', bbox_to_anchor=legend_location)\n",
    "\n",
    "    # remove axis tics\n",
    "    ax.tick_params(axis='both', which='both', length=0)\n",
    "    # remove axis labels\n",
    "    # ax.set_xticklabels([])\n",
    "    # ax.set_yticklabels([])\n",
    "\n",
    "    ax.set_ylabel('Self reported incidence')\n",
    "    ax.set_xlabel('Official incidence')\n",
    "\n",
    "    # label plot with B) in upper left corner\n",
    "    ax.text(0.05, 0.95, 'B)', transform=ax.transAxes, fontsize=24, verticalalignment='top')\n",
    "\n",
    "gridspecs = dict(width_ratios=[1, .9], height_ratios=[1, 1])\n",
    "fig, axs = plt.subplot_mosaic([['upper left', 'upper right'],\n",
    "                               ['lower', 'lower']], gridspec_kw=gridspecs, figsize=(7, 7))\n",
    "# delete upper left subplot\n",
    "axs['upper left'].remove()\n",
    "\n",
    "df = incidence_official.merge(incidence, on='date').sort_values(by=\"date\").reset_index(drop=True).query('date>20211115').drop(columns=['PCR incidence', 'Antigen incidence'])\n",
    "\n",
    "scatter_plot_with_split(\n",
    "    ax=axs['upper right'],\n",
    "    legend_location=(-1.23, 0.93),\n",
    "    split_date_1=dict(date=pd.to_datetime('20220101'), name='January 2022'),\n",
    "    split_date_2=dict(date=pd.to_datetime('20220501'), name='May 2022'),\n",
    "    df=df\n",
    ")\n",
    "\n",
    "plot_official_vs_self_reported_incidence(\n",
    "    ax=axs['lower'],\n",
    "    legend_location=(.4, 1.48),\n",
    "    split_date=dict(date=pd.to_datetime('20220501'), name='May 2022'),\n",
    "    df=df)\n",
    "fig.savefig('official_vs_self_reported_incidence_with_scatter_subplot.png')"
   ]
  },
  {
   "cell_type": "code",
   "execution_count": null,
   "metadata": {
    "pycharm": {
     "name": "#%%\n"
    }
   },
   "outputs": [],
   "source": []
  }
 ],
 "metadata": {
  "kernelspec": {
   "display_name": "Python 3",
   "language": "python",
   "name": "python3"
  },
  "language_info": {
   "codemirror_mode": {
    "name": "ipython",
    "version": 2
   },
   "file_extension": ".py",
   "mimetype": "text/x-python",
   "name": "python",
   "nbconvert_exporter": "python",
   "pygments_lexer": "ipython2",
   "version": "2.7.6"
  }
 },
 "nbformat": 4,
 "nbformat_minor": 0
}
