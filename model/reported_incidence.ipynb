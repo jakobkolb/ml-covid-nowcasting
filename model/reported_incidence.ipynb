{
 "cells": [
  {
   "cell_type": "code",
   "execution_count": null,
   "metadata": {
    "pycharm": {
     "name": "#%%\n"
    }
   },
   "outputs": [],
   "source": [
    "from load_data import pull_from_postgres\n",
    "from psycopg2.sql import SQL\n",
    "import pandas as pd\n",
    "\n",
    "test_data = pull_from_postgres(SQL(\"\"\"\n",
    "    SELECT\n",
    "        f10 test_result, test_week_start, user_id\n",
    "    FROM\n",
    "        datenspende_derivatives.homogenized_features\n",
    "    WHERE\n",
    "        test_week_start >= '2021-10-01'\n",
    "    \"\"\"))\n",
    "\n",
    "test_data['date'] = pd.to_datetime(test_data['test_week_start'])\n",
    "test_data.drop(columns=['test_week_start'], inplace=True)"
   ]
  },
  {
   "cell_type": "code",
   "execution_count": null,
   "metadata": {
    "pycharm": {
     "name": "#%%\n"
    }
   },
   "outputs": [],
   "source": [
    "from datetime import timedelta\n",
    "\n",
    "def calculate_incidence(cases_column: str, cases_data: pd.DataFrame):\n",
    "\n",
    "    res2 = cases_data.groupby(\"date\").agg({cases_column: [\"sum\", \"count\"]})\n",
    "\n",
    "    res2.columns = res2.columns.droplevel(0)\n",
    "\n",
    "    res2[\"rate\"] = res2[\"sum\"].div(res2[\"count\"])\n",
    "\n",
    "    res2[\"incidence\"] = res2.rolling(\"7D\")[\"rate\"].mean() * 100_000\n",
    "\n",
    "    incidence = res2.reset_index().dropna(axis=0)[[\"incidence\", \"date\"]]\n",
    "    incidence[\"date\"] = incidence[\"date\"] + timedelta(days=7)\n",
    "    return incidence\n",
    "\n",
    "\n",
    "def calculate_questionnaire_incidence(\n",
    "        feature_data: pd.DataFrame,\n",
    ") -> pd.DataFrame:\n",
    "\n",
    "    res1 = feature_data.replace(\n",
    "        {True: 1, False: 0, None: 0, float(\"nan\"): 0}\n",
    "    ).reset_index()[[\"test_result\", \"date\", \"user_id\"]]\n",
    "\n",
    "    only_first_positive_detections = (\n",
    "        feature_data[feature_data[\"test_result\"] == True]\n",
    "        .reset_index()\n",
    "        .sort_values([\"user_id\", \"date\"])\n",
    "        .groupby([\"user_id\"])\n",
    "        .agg({\"test_result\": \"first\", \"date\": lambda x: list(x)[0]})\n",
    "        .reset_index()\n",
    "    )\n",
    "    all_negative_detections = feature_data[feature_data[\"test_result\"] == False].reset_index()\n",
    "\n",
    "    detected_infections = pd.concat(\n",
    "        [only_first_positive_detections, all_negative_detections]\n",
    "    )\n",
    "\n",
    "\n",
    "    return calculate_incidence(\"test_result\", detected_infections)\n",
    "\n",
    "questionnaire_incidence = calculate_questionnaire_incidence(test_data)"
   ]
  },
  {
   "cell_type": "code",
   "execution_count": null,
   "metadata": {
    "pycharm": {
     "name": "#%%\n"
    }
   },
   "outputs": [],
   "source": [
    "ax = questionnaire_incidence.plot(x=\"date\", y=\"incidence\")\n",
    "ax.set_xlabel(\"Date\")\n",
    "ax.set_ylabel(\"Incidence as 7 day average per 100000\")\n",
    "ax.set_title(\"Incidence of self reported positive test results\")"
   ]
  },
  {
   "cell_type": "code",
   "execution_count": null,
   "metadata": {
    "pycharm": {
     "name": "#%%\n"
    }
   },
   "outputs": [],
   "source": [
    "test_labels = test_data.replace(\n",
    "    {True: 'positive', False: 'negative', None: 'no test', float(\"nan\"): 'no test'}\n",
    ").reset_index()[[\"test_result\", \"date\", \"user_id\"]]\n",
    "test_labels"
   ]
  },
  {
   "cell_type": "code",
   "execution_count": null,
   "metadata": {
    "pycharm": {
     "name": "#%%\n"
    }
   },
   "outputs": [],
   "source": [
    "df = test_labels[['test_result', 'date']].groupby('date')['test_result'].value_counts().unstack('test_result')\n",
    "\n",
    "ax = df.div(df.sum(axis=1), axis=0).plot(kind='area', stacked=True)\n",
    "ax.set_title('Relative shares of positive, negative and no tests')"
   ]
  },
  {
   "cell_type": "code",
   "execution_count": null,
   "metadata": {
    "pycharm": {
     "name": "#%%\n"
    }
   },
   "outputs": [],
   "source": [
    "incidence = pull_from_postgres(SQL(\\\n",
    "    \"\"\"\n",
    "    SELECT date_of_report date, incidence_7d_per_100k official_incidence FROM coronacases.german_counties_incidence WHERE location_level = 0;\n",
    "    \"\"\"))\n",
    "incidence"
   ]
  },
  {
   "cell_type": "code",
   "execution_count": null,
   "metadata": {
    "pycharm": {
     "name": "#%%\n"
    }
   },
   "outputs": [],
   "source": [
    "import matplotlib.pyplot as plt\n",
    "from matplotlib.lines import Line2D\n",
    "\n",
    "df = questionnaire_incidence.merge(incidence, on='date').sort_values(by=\"date\").reset_index(drop=True).query('date>20220101')\n",
    "\n",
    "fig, ax = plt.subplots(figsize=(12, 6))\n",
    "axb = ax.twinx()\n",
    "\n",
    "ax1 = df.plot(x=\"date\", y=\"official_incidence\", ax=ax, label=\"incidence as officially reported\", color='blue', legend=False)\n",
    "ax1 = df.plot(x=\"date\", y=\"official_incidence\", ax=ax, label=\"incidence as officially reported\", color='blue', legend=False)\n",
    "\n",
    "ax2 = df.plot(x=\"date\", y=\"incidence\", ax=axb, label=\"incidence from surveys\", color=\"red\", legend=False)\n",
    "\n",
    "# create legend manually\n",
    "labels = ['incidence as officially reported', 'incidence as officially reported']\n",
    "blue_line = Line2D([0], [0], color='blue', label='official incidence')\n",
    "red_line = Line2D([0], [0], color='red', label='self reported incidence')\n",
    "ax.legend([blue_line, red_line], labels, loc='upper left')\n",
    "\n",
    "# label axes\n",
    "ax.set_xlabel('Date')\n",
    "ax.set_ylabel('Incidence calculated from surveys as 7 day average per 100000')\n",
    "axb.set_ylabel('Incidence as officially reported')\n",
    "\n",
    "fig.savefig('incidence.png')"
   ]
  },
  {
   "cell_type": "code",
   "execution_count": null,
   "metadata": {
    "pycharm": {
     "name": "#%%\n"
    }
   },
   "outputs": [],
   "source": []
  }
 ],
 "metadata": {
  "kernelspec": {
   "display_name": "Python 3",
   "language": "python",
   "name": "python3"
  },
  "language_info": {
   "codemirror_mode": {
    "name": "ipython",
    "version": 2
   },
   "file_extension": ".py",
   "mimetype": "text/x-python",
   "name": "python",
   "nbconvert_exporter": "python",
   "pygments_lexer": "ipython2",
   "version": "2.7.6"
  }
 },
 "nbformat": 4,
 "nbformat_minor": 0
}
