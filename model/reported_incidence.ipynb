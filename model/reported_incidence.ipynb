{
 "cells": [
  {
   "cell_type": "code",
   "execution_count": null,
   "metadata": {
    "pycharm": {
     "name": "#%%\n"
    }
   },
   "outputs": [],
   "source": [
    "from load_data import pull_from_postgres\n",
    "from psycopg2.sql import SQL\n",
    "import pandas as pd\n",
    "\n",
    "# pull covid test results and test types from postgres\n",
    "test_data = pull_from_postgres(SQL(\"\"\"\n",
    "    SELECT\n",
    "        features.f10 test_result, features.test_week_start, features.user_id, answers.element test_type\n",
    "    FROM\n",
    "        datenspende_derivatives.homogenized_features features, datenspende.answers answers\n",
    "    WHERE\n",
    "        features.test_week_start >= '2021-10-01' AND features.questionnaire_session = answers.questionnaire_session AND answers.question = 91\n",
    "    \"\"\")).replace({'test_type': {547: 'PCR', 548: 'Antigen', 549: 'Antibody', 550: 'Unknown'}})\n",
    "\n",
    "# convert date to pandas datetime\n",
    "test_data['date'] = pd.to_datetime(test_data['test_week_start'])\n",
    "test_data.drop(columns=['test_week_start'], inplace=True)\n",
    "len(test_data['user_id'].unique())"
   ]
  },
  {
   "cell_type": "code",
   "execution_count": null,
   "metadata": {
    "pycharm": {
     "name": "#%%\n"
    }
   },
   "outputs": [],
   "source": [
    "# count missing tests as negative\n",
    "res1 = test_data.replace(\n",
    "    {True: 1, False: 0, None: 0, float(\"nan\"): 0}\n",
    ").reset_index()[[\"test_result\", \"date\", \"user_id\", 'test_type']]\n",
    "\n",
    "# count only first positive test to avoid counting active infections again.\n",
    "# TODO: consider reinfections\n",
    "only_first_positive_tests = (\n",
    "    res1[res1[\"test_result\"] == 1]\n",
    "    .reset_index()\n",
    "    .sort_values([\"user_id\", \"date\"])\n",
    "    .groupby([\"user_id\"])\n",
    "    .agg({\"test_result\": \"first\", 'test_type': \"first\", \"date\": lambda x: list(x)[0]})\n",
    "    .reset_index()\n",
    ")\n",
    "all_negative_tests = res1[res1[\"test_result\"] == 0].reset_index()\n",
    "\n",
    "infections = pd.concat(\n",
    "    [only_first_positive_tests, all_negative_tests]\n",
    ").drop(columns=['index'])\n",
    "\n",
    "infections.sort_values('date')"
   ]
  },
  {
   "cell_type": "code",
   "execution_count": null,
   "metadata": {
    "pycharm": {
     "name": "#%%\n"
    }
   },
   "outputs": [],
   "source": [
    "# aggregate by user_id\n",
    "df = infections.groupby(['test_type', 'date']).agg({'test_result': ['sum', 'count']}).reset_index().sort_values(['date', 'test_type'])\n",
    "df.columns = ['test_type', 'date', 'sum', 'count']\n",
    "\n",
    "# count all reports (with or without test) for a given day\n",
    "all_tests = df.groupby(['date']).agg({'sum': 'sum', 'count': 'sum'}).reset_index()\n",
    "all_tests['test_type'] = 'all'\n",
    "sum_of_daily_tests = pd.concat([df, all_tests]).reset_index(drop=True).sort_values(['date', 'test_type'])\n",
    "sum_of_daily_tests"
   ]
  },
  {
   "cell_type": "code",
   "execution_count": null,
   "metadata": {
    "pycharm": {
     "name": "#%%\n"
    }
   },
   "outputs": [],
   "source": [
    "# generate dataframe with sum of positive tests per type per day\n",
    "positive_tests = sum_of_daily_tests[['test_type', 'sum', 'date']].rename(columns={'sum': 'positive_tests'}).set_index(['date', 'test_type']).unstack('test_type')\n",
    "positive_tests.columns = positive_tests.columns.droplevel(0)\n",
    "\n",
    "# generate dataframe with sum of all reports per day\n",
    "all_daily_reports = sum_of_daily_tests[['test_type', 'count', 'date']].rename(columns={'count': 'all_daily_reports'}).set_index(['date', 'test_type']).unstack('test_type')\n",
    "all_daily_reports.columns = all_daily_reports.columns.droplevel(0)\n",
    "all_daily_reports = all_daily_reports[['all']].rename(columns={'all': 'all_daily_reports'})\n",
    "\n",
    "daily_aggregate_test_data = positive_tests.merge(all_daily_reports, on='date', how='outer')\n",
    "daily_aggregate_test_data"
   ]
  },
  {
   "cell_type": "code",
   "execution_count": null,
   "metadata": {
    "pycharm": {
     "name": "#%%\n"
    }
   },
   "outputs": [],
   "source": [
    "import matplotlib.pyplot as plt\n",
    "\n",
    "all_daily_reports = sum_of_daily_tests[['test_type', 'count', 'date']].rename(columns={'count': 'all_daily_reports'}).set_index(['date', 'test_type']).unstack('test_type')\n",
    "all_daily_reports.columns = all_daily_reports.columns.droplevel(0)\n",
    "\n",
    "# normalize by all daily reports\n",
    "for column in all_daily_reports.columns:\n",
    "    all_daily_reports[column] = all_daily_reports[column] / all_daily_reports['all']\n",
    "\n",
    "fig, ax = plt.subplots(figsize=(10, 6))\n",
    "\n",
    "# plot relative share of test types among all reported tests per day\n",
    "all_daily_reports[['Antibody', 'Antigen', 'PCR', 'Unknown']].plot.area(ax=ax)\n",
    "ax.set_ylabel('Relative share of test types')\n",
    "ax.set_xlabel('Date')\n",
    "ax.set_title('Relative share of test types among all reported tests per day')\n",
    "ax.set_xlim(pd.to_datetime('2021-10-01'), pd.to_datetime('2022-07-2'))\n",
    "ax.set_ylim(0, 1)\n",
    "\n",
    "all_daily_reports.to_csv('all_daily_reports.csv')"
   ]
  },
  {
   "cell_type": "code",
   "execution_count": null,
   "metadata": {
    "pycharm": {
     "name": "#%%\n"
    }
   },
   "outputs": [],
   "source": [
    "import matplotlib.pyplot as plt\n",
    "\n",
    "df = daily_aggregate_test_data.copy()\n",
    "\n",
    "# divide by all\n",
    "for column in df.columns:\n",
    "    df[column] = df[column] / df['all']\n",
    "\n",
    "df.dropna(subset=['all'], inplace=True)\n",
    "\n",
    "# take 7 day rolling mean\n",
    "df = df.rolling(7).mean()\n",
    "\n",
    "fig, ax = plt.subplots(figsize=(10, 5))\n",
    "\n",
    "# plot relative share of antibody, antigen, PCR, unknown tests\n",
    "df[['Antibody', 'Antigen', 'PCR', 'Unknown']].plot.area(ax=ax)\n",
    "ax.set_xlabel('Date')\n",
    "ax.set_ylabel('Relative share of tests')\n",
    "ax.legend(loc='upper left')\n",
    "ax.set_title('Relative share of test types among positive tests per day')\n",
    "ax.set_xlim(pd.to_datetime('2021-10-20'), pd.to_datetime('2022-07-2'))\n",
    "ax.set_ylim(0, 1)\n",
    "ax.text(0.92, 0.95, 'A)', transform=ax.transAxes, fontsize=24, verticalalignment='top')\n",
    "fig.savefig('relative_shares_of_test_type_among_positive_tests_per_day.png')\n",
    "\n",
    "df.to_csv('relative_shares_of_test_type_among_positive_tests_per_day.csv')"
   ]
  },
  {
   "cell_type": "code",
   "execution_count": null,
   "metadata": {
    "pycharm": {
     "name": "#%%\n"
    }
   },
   "outputs": [],
   "source": [
    "# plot test positivity rate for each test type per day\n",
    "sum_of_daily_tests['rate'] = sum_of_daily_tests['sum'] / sum_of_daily_tests['count']\n",
    "\n",
    "df = sum_of_daily_tests[['rate', 'date', 'test_type']].set_index(['date', 'test_type']).unstack('test_type')\n",
    "df.columns = df.columns.droplevel(0)\n",
    "df = df.rolling(7).mean()\n",
    "\n",
    "fig, ax = plt.subplots(figsize=(10, 8))\n",
    "df[['PCR', 'Antigen', 'all']].plot(ax=ax)\n",
    "\n",
    "ax.set_xlabel('Date')\n",
    "ax.set_ylabel('Test positivity rate')\n",
    "ax.legend(loc='upper left')\n",
    "ax.set_title('Test positivity rate per day per test type')\n",
    "plt.show()"
   ]
  },
  {
   "cell_type": "code",
   "execution_count": null,
   "metadata": {
    "pycharm": {
     "name": "#%%\n"
    }
   },
   "outputs": [],
   "source": [
    "# calcualte 7 day incidence per test type\n",
    "\n",
    "df = daily_aggregate_test_data.copy()\n",
    "incidence = pd.DataFrame()\n",
    "for column in df.columns:\n",
    "    incidence[column + ' incidence'] = df[column] / df['all_daily_reports'] * 100_000\n",
    "\n",
    "incidence = incidence[['Antigen incidence', 'PCR incidence', 'all incidence']].dropna().rolling('7D').mean()\n",
    "\n",
    "fig, ax = plt.subplots(figsize=(10, 8))\n",
    "incidence.plot(ax=ax)"
   ]
  },
  {
   "cell_type": "code",
   "execution_count": null,
   "metadata": {
    "pycharm": {
     "name": "#%%\n"
    }
   },
   "outputs": [],
   "source": [
    "incidence_official = pull_from_postgres(SQL(\n",
    "    \"\"\"\n",
    "    SELECT date_of_report date, incidence_7d_per_100k official_incidence FROM coronacases.german_counties_incidence WHERE location_level = 0;\n",
    "    \"\"\"))\n",
    "incidence_official"
   ]
  },
  {
   "cell_type": "code",
   "execution_count": null,
   "metadata": {
    "pycharm": {
     "name": "#%%\n"
    }
   },
   "outputs": [],
   "source": [
    "import matplotlib.pyplot as plt\n",
    "from matplotlib.lines import Line2D\n",
    "\n",
    "columns = incidence.columns.drop('all incidence')\n",
    "\n",
    "df = incidence_official.merge(incidence, on='date').sort_values(by=\"date\").reset_index(drop=True).query('date>20220101').drop(columns=['all incidence'])\n",
    "\n",
    "fig, ax = plt.subplots(figsize=(12, 6))\n",
    "axb = ax.twinx()\n",
    "\n",
    "ax1 = df.plot(x=\"date\", y=\"official_incidence\", ax=ax, label=\"incidence as officially reported\", color='blue', legend=False)\n",
    "ax1 = df.plot(x=\"date\", y=\"official_incidence\", ax=ax, label=\"incidence as officially reported\", color='blue', legend=False)\n",
    "\n",
    "colors = ['red', 'green', 'black']\n",
    "incidence_lines = []\n",
    "for column, color in zip(columns, colors):\n",
    "    incidence_lines.append(Line2D([0], [0], color=color, label=column))\n",
    "    ax2 = df.plot(x=\"date\", y=column, ax=axb, label=\"incidence from surveys\", color=color, legend=False)\n",
    "\n",
    "# create legend manually\n",
    "labels = ['incidence as officially reported', *incidence.columns.values]\n",
    "blue_line = Line2D([0], [0], color='blue', label='official incidence')\n",
    "red_line = Line2D([0], [0], color='red', label='self reported incidence')\n",
    "ax.legend([blue_line, *incidence_lines], labels, loc='upper left')\n",
    "\n",
    "# label axes\n",
    "ax.set_xlabel('Date')\n",
    "ax.set_ylabel('Incidence calculated from surveys as 7 day average per 100000')\n",
    "axb.set_ylabel('Incidence as officially reported')\n",
    "\n",
    "# label plot as B)\n",
    "ax.text(0.92, 0.95, 'B)', transform=ax.transAxes, fontsize=24, verticalalignment='top')\n",
    "\n",
    "fig.savefig('incidence_pcr_vs_antigen_vs_reported.png')"
   ]
  },
  {
   "cell_type": "code",
   "execution_count": null,
   "metadata": {
    "pycharm": {
     "name": "#%%\n"
    }
   },
   "outputs": [],
   "source": [
    "import matplotlib.pyplot as plt\n",
    "from matplotlib.lines import Line2D\n",
    "\n",
    "columns = incidence.columns\n",
    "\n",
    "df = incidence_official.merge(incidence, on='date').sort_values(by=\"date\").reset_index(drop=True).query('date>20220101')\n",
    "\n",
    "fig, ax = plt.subplots(figsize=(12, 6))\n",
    "axb = ax.twinx()\n",
    "\n",
    "ax1 = df.plot(x=\"date\", y=\"official_incidence\", ax=ax, label=\"incidence as officially reported\", color='blue', legend=False)\n",
    "ax1 = df.plot(x=\"date\", y=\"official_incidence\", ax=ax, label=\"incidence as officially reported\", color='blue', legend=False)\n",
    "\n",
    "colors = ['red', 'green', 'black']\n",
    "incidence_lines = []\n",
    "for column, color in zip(columns, colors):\n",
    "    incidence_lines.append(Line2D([0], [0], color=color, label=column))\n",
    "    ax2 = df.plot(x=\"date\", y=column, ax=axb, label=\"incidence from surveys\", color=color, legend=False)\n",
    "\n",
    "# create legend manually\n",
    "labels = ['incidence as officially reported', *incidence.columns.values]\n",
    "blue_line = Line2D([0], [0], color='blue', label='official incidence')\n",
    "red_line = Line2D([0], [0], color='red', label='self reported incidence')\n",
    "ax.legend([blue_line, *incidence_lines], labels, loc='upper left')\n",
    "\n",
    "# label axes\n",
    "ax.set_xlabel('Date')\n",
    "ax.set_ylabel('Incidence calculated from surveys as 7 day average per 100000')\n",
    "axb.set_ylabel('Incidence as officially reported')\n",
    "\n",
    "\n",
    "ax.text(0.9, 0.95, 'C)', transform=ax.transAxes, fontsize=24, verticalalignment='top')\n",
    "\n",
    "fig.savefig('incidence_all.png')"
   ]
  },
  {
   "cell_type": "code",
   "execution_count": null,
   "metadata": {
    "pycharm": {
     "name": "#%%\n"
    }
   },
   "outputs": [],
   "source": [
    "columns = incidence.columns.drop('all incidence')\n",
    "\n",
    "df = incidence_official.merge(incidence, on='date').sort_values(by=\"date\").reset_index(drop=True).query('date>20220101').drop(columns=['all incidence'])\n",
    "\n",
    "fig, ax = plt.subplots(figsize=(12, 6))\n",
    "\n",
    "ax1 = df.plot(x=\"date\", y=\"official_incidence\", ax=ax, label=\"incidence as officially reported\", color='blue', legend=False)\n",
    "\n",
    "colors = ['red', 'green', 'black']\n",
    "incidence_lines = []\n",
    "for column, color in zip(columns, colors):\n",
    "    incidence_lines.append(Line2D([0], [0], color=color, label=column))\n",
    "    ax2 = df.plot(x=\"date\", y=column, ax=ax, label=\"incidence from surveys\", color=color, legend=False)\n",
    "\n",
    "# create legend manually\n",
    "labels = ['incidence as officially reported', *incidence.columns.values]\n",
    "blue_line = Line2D([0], [0], color='blue', label='official incidence')\n",
    "red_line = Line2D([0], [0], color='red', label='self reported incidence')\n",
    "ax.legend([blue_line, *incidence_lines], labels, loc='upper left')\n",
    "\n",
    "# label axes\n",
    "ax.set_xlabel('Date')\n",
    "ax.set_ylabel('Incidence as 7 day average per 100000')\n",
    "axb.set_ylabel('Incidence as officially reported')\n",
    "\n",
    "ax.text(0.92, 0.95, 'D)', transform=ax.transAxes, fontsize=24, verticalalignment='top')\n",
    "\n",
    "fig.savefig('incidence_pcr_vs_antigen_vs_reported_on_same_ax.png')"
   ]
  },
  {
   "cell_type": "code",
   "execution_count": null,
   "metadata": {
    "pycharm": {
     "name": "#%%\n"
    }
   },
   "outputs": [],
   "source": [
    "df"
   ]
  },
  {
   "cell_type": "code",
   "execution_count": null,
   "metadata": {
    "pycharm": {
     "name": "#%%\n"
    }
   },
   "outputs": [],
   "source": [
    "df.to_csv('incidence_pcr_vs_antigen_vs_reported.csv')"
   ]
  },
  {
   "cell_type": "code",
   "execution_count": null,
   "metadata": {
    "pycharm": {
     "name": "#%%\n"
    }
   },
   "outputs": [],
   "source": []
  }
 ],
 "metadata": {
  "kernelspec": {
   "display_name": "Python 3",
   "language": "python",
   "name": "python3"
  },
  "language_info": {
   "codemirror_mode": {
    "name": "ipython",
    "version": 2
   },
   "file_extension": ".py",
   "mimetype": "text/x-python",
   "name": "python",
   "nbconvert_exporter": "python",
   "pygments_lexer": "ipython2",
   "version": "2.7.6"
  }
 },
 "nbformat": 4,
 "nbformat_minor": 0
}
